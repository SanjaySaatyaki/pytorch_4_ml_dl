{
  "nbformat": 4,
  "nbformat_minor": 0,
  "metadata": {
    "colab": {
      "provenance": [],
      "authorship_tag": "ABX9TyNg342BKzfCCo7epoC7sMPq",
      "include_colab_link": true
    },
    "kernelspec": {
      "name": "python3",
      "display_name": "Python 3"
    },
    "language_info": {
      "name": "python"
    }
  },
  "cells": [
    {
      "cell_type": "markdown",
      "metadata": {
        "id": "view-in-github",
        "colab_type": "text"
      },
      "source": [
        "<a href=\"https://colab.research.google.com/github/SanjaySaatyaki/pytorch_4_ml_dl/blob/main/01_pytorch_workflow.ipynb\" target=\"_parent\"><img src=\"https://colab.research.google.com/assets/colab-badge.svg\" alt=\"Open In Colab\"/></a>"
      ]
    },
    {
      "cell_type": "code",
      "execution_count": 1,
      "metadata": {
        "id": "xPOYmXffIGh1",
        "colab": {
          "base_uri": "https://localhost:8080/",
          "height": 36
        },
        "outputId": "a6db408c-5dce-470a-8c32-06d2260c032b"
      },
      "outputs": [
        {
          "output_type": "execute_result",
          "data": {
            "text/plain": [
              "'2.6.0+cu124'"
            ],
            "application/vnd.google.colaboratory.intrinsic+json": {
              "type": "string"
            }
          },
          "metadata": {},
          "execution_count": 1
        }
      ],
      "source": [
        "import torch\n",
        "from torch import nn\n",
        "import matplotlib.pyplot as plt\n",
        "\n",
        "torch.__version__"
      ]
    },
    {
      "cell_type": "markdown",
      "source": [
        "Linear Regression to make straight line with known *parameter*"
      ],
      "metadata": {
        "id": "ypoOgTS7C8Rv"
      }
    },
    {
      "cell_type": "code",
      "source": [
        "weight = 0.7\n",
        "bias = 0.3\n"
      ],
      "metadata": {
        "id": "Qw48kZPxBJFC"
      },
      "execution_count": 2,
      "outputs": []
    },
    {
      "cell_type": "code",
      "source": [
        "start = 0\n",
        "end = 1\n",
        "step = 0.02\n",
        "X = torch.arange(start, end, step).unsqueeze(dim=1)\n",
        "y = weight*X + bias"
      ],
      "metadata": {
        "id": "prnl7jS8DLJV"
      },
      "execution_count": 3,
      "outputs": []
    },
    {
      "cell_type": "code",
      "source": [
        "X[:10], y[:10]"
      ],
      "metadata": {
        "colab": {
          "base_uri": "https://localhost:8080/"
        },
        "id": "CG9v9Wn4Dcb3",
        "outputId": "62615b48-a3d0-4519-a26c-336e2afae19b"
      },
      "execution_count": 4,
      "outputs": [
        {
          "output_type": "execute_result",
          "data": {
            "text/plain": [
              "(tensor([[0.0000],\n",
              "         [0.0200],\n",
              "         [0.0400],\n",
              "         [0.0600],\n",
              "         [0.0800],\n",
              "         [0.1000],\n",
              "         [0.1200],\n",
              "         [0.1400],\n",
              "         [0.1600],\n",
              "         [0.1800]]),\n",
              " tensor([[0.3000],\n",
              "         [0.3140],\n",
              "         [0.3280],\n",
              "         [0.3420],\n",
              "         [0.3560],\n",
              "         [0.3700],\n",
              "         [0.3840],\n",
              "         [0.3980],\n",
              "         [0.4120],\n",
              "         [0.4260]]))"
            ]
          },
          "metadata": {},
          "execution_count": 4
        }
      ]
    },
    {
      "cell_type": "code",
      "source": [
        "X.shape"
      ],
      "metadata": {
        "colab": {
          "base_uri": "https://localhost:8080/"
        },
        "id": "an5i_Xv6Dk6J",
        "outputId": "57a5de3c-871b-4159-897e-b675f02765b0"
      },
      "execution_count": 5,
      "outputs": [
        {
          "output_type": "execute_result",
          "data": {
            "text/plain": [
              "torch.Size([50, 1])"
            ]
          },
          "metadata": {},
          "execution_count": 5
        }
      ]
    },
    {
      "cell_type": "markdown",
      "source": [
        "- Traning 60-80\n",
        "- Validation 10-20\n",
        "- Testing 10-20"
      ],
      "metadata": {
        "id": "JklFnXaOFHn9"
      }
    },
    {
      "cell_type": "code",
      "source": [
        "#Create a train/test split\n",
        "train_split = int(0.8*len(X))\n",
        "train_split"
      ],
      "metadata": {
        "colab": {
          "base_uri": "https://localhost:8080/"
        },
        "id": "FYKhJaSMEKG_",
        "outputId": "24068c18-e7a2-4f6f-baf5-047b19aa611e"
      },
      "execution_count": 6,
      "outputs": [
        {
          "output_type": "execute_result",
          "data": {
            "text/plain": [
              "40"
            ]
          },
          "metadata": {},
          "execution_count": 6
        }
      ]
    },
    {
      "cell_type": "code",
      "source": [
        "X_train, y_train = X[:train_split], y[:train_split]\n",
        "X_test, y_test = X[train_split:], y[train_split:]"
      ],
      "metadata": {
        "id": "p4xtB4AEFYqE"
      },
      "execution_count": 7,
      "outputs": []
    },
    {
      "cell_type": "code",
      "source": [
        "len(X_train), len(y_train), len(X_test),len(y_test)"
      ],
      "metadata": {
        "colab": {
          "base_uri": "https://localhost:8080/"
        },
        "id": "W3ULkUiyFqHg",
        "outputId": "1e5ee2c3-4aac-436c-9e4c-bdb8f0d5abb2"
      },
      "execution_count": 8,
      "outputs": [
        {
          "output_type": "execute_result",
          "data": {
            "text/plain": [
              "(40, 40, 10, 10)"
            ]
          },
          "metadata": {},
          "execution_count": 8
        }
      ]
    },
    {
      "cell_type": "code",
      "source": [
        "X_train, y_train"
      ],
      "metadata": {
        "colab": {
          "base_uri": "https://localhost:8080/"
        },
        "id": "Pdr9Qh_JFvzS",
        "outputId": "2a632099-24bc-4add-9b2b-65673259a7f8"
      },
      "execution_count": 9,
      "outputs": [
        {
          "output_type": "execute_result",
          "data": {
            "text/plain": [
              "(tensor([[0.0000],\n",
              "         [0.0200],\n",
              "         [0.0400],\n",
              "         [0.0600],\n",
              "         [0.0800],\n",
              "         [0.1000],\n",
              "         [0.1200],\n",
              "         [0.1400],\n",
              "         [0.1600],\n",
              "         [0.1800],\n",
              "         [0.2000],\n",
              "         [0.2200],\n",
              "         [0.2400],\n",
              "         [0.2600],\n",
              "         [0.2800],\n",
              "         [0.3000],\n",
              "         [0.3200],\n",
              "         [0.3400],\n",
              "         [0.3600],\n",
              "         [0.3800],\n",
              "         [0.4000],\n",
              "         [0.4200],\n",
              "         [0.4400],\n",
              "         [0.4600],\n",
              "         [0.4800],\n",
              "         [0.5000],\n",
              "         [0.5200],\n",
              "         [0.5400],\n",
              "         [0.5600],\n",
              "         [0.5800],\n",
              "         [0.6000],\n",
              "         [0.6200],\n",
              "         [0.6400],\n",
              "         [0.6600],\n",
              "         [0.6800],\n",
              "         [0.7000],\n",
              "         [0.7200],\n",
              "         [0.7400],\n",
              "         [0.7600],\n",
              "         [0.7800]]),\n",
              " tensor([[0.3000],\n",
              "         [0.3140],\n",
              "         [0.3280],\n",
              "         [0.3420],\n",
              "         [0.3560],\n",
              "         [0.3700],\n",
              "         [0.3840],\n",
              "         [0.3980],\n",
              "         [0.4120],\n",
              "         [0.4260],\n",
              "         [0.4400],\n",
              "         [0.4540],\n",
              "         [0.4680],\n",
              "         [0.4820],\n",
              "         [0.4960],\n",
              "         [0.5100],\n",
              "         [0.5240],\n",
              "         [0.5380],\n",
              "         [0.5520],\n",
              "         [0.5660],\n",
              "         [0.5800],\n",
              "         [0.5940],\n",
              "         [0.6080],\n",
              "         [0.6220],\n",
              "         [0.6360],\n",
              "         [0.6500],\n",
              "         [0.6640],\n",
              "         [0.6780],\n",
              "         [0.6920],\n",
              "         [0.7060],\n",
              "         [0.7200],\n",
              "         [0.7340],\n",
              "         [0.7480],\n",
              "         [0.7620],\n",
              "         [0.7760],\n",
              "         [0.7900],\n",
              "         [0.8040],\n",
              "         [0.8180],\n",
              "         [0.8320],\n",
              "         [0.8460]]))"
            ]
          },
          "metadata": {},
          "execution_count": 9
        }
      ]
    },
    {
      "cell_type": "markdown",
      "source": [
        "# Visualize the data"
      ],
      "metadata": {
        "id": "IXh9B1MgF-J0"
      }
    },
    {
      "cell_type": "code",
      "source": [
        "def plot_prediction(train_data = X_train,train_labels =y_train,test_data = X_test, test_labels=y_test, predictions=None):\n",
        "  plt.figure(figsize=(10,7))\n",
        "  plt.scatter(train_data, train_labels,c=\"b\",s=4, label=\"Training data\")\n",
        "  plt.scatter(test_data,test_labels, c=\"y\",s=4, label=\"Testing data\")\n",
        "  if predictions is not None:\n",
        "    plt.scatter(test_data,predictions, c=\"r\",s=4, label=\"Predictions\")\n",
        "  plt.legend(prop={\"size\":14})"
      ],
      "metadata": {
        "id": "C49nuCBSF1sc"
      },
      "execution_count": 10,
      "outputs": []
    },
    {
      "cell_type": "code",
      "source": [
        "plot_prediction()"
      ],
      "metadata": {
        "colab": {
          "base_uri": "https://localhost:8080/",
          "height": 599
        },
        "id": "mkb9IJfyGbr1",
        "outputId": "341c2166-b35d-41df-e313-cc319113c9f0"
      },
      "execution_count": 11,
      "outputs": [
        {
          "output_type": "display_data",
          "data": {
            "text/plain": [
              "<Figure size 1000x700 with 1 Axes>"
            ],
            "image/png": "[encoded data removed]"
          },
          "metadata": {}
        }
      ]
    },
    {
      "cell_type": "markdown",
      "source": [
        "https://realpython.com/python-classes/\n",
        "3Blue 1 Brown - Videos"
      ],
      "metadata": {
        "id": "XtouGrj1IU-I"
      }
    },
    {
      "cell_type": "code",
      "source": [
        "# Create a linear regression model class\n",
        "class LinearRegressionModel(nn.Module): #<- almost everything inherit from nn.Module\n",
        "  def __init__(self):\n",
        "    super().__init__()\n",
        "    self.weights = nn.Parameter(torch.randn(1,requires_grad=True,dtype=torch.float))\n",
        "    self.bias = nn.Parameter(torch.rand(1,requires_grad=True,dtype=torch.float))\n",
        "\n",
        "  def forward(self, x:torch.Tensor) -> torch.Tensor:\n",
        "    return self.weights * x + self.bias"
      ],
      "metadata": {
        "id": "G-nIFO_bG_Ww"
      },
      "execution_count": 12,
      "outputs": []
    },
    {
      "cell_type": "markdown",
      "source": [
        "### Pytorch model building essentials\n",
        "* torch.nn - contains all of building for computational graphs\n",
        "* troch.Parameter - Parametere our model try to learn\n",
        "* torch.nn.Module - base class for all neural network if we subcalss it, mandatory implement forward()\n",
        "* torch.optim - this where optimizers in Pytorch live, help in optimizing gradiant discent\n",
        "https://pytorch.org/tutorials/beginner/ptcheat.html"
      ],
      "metadata": {
        "id": "4g2FAE49OxIq"
      }
    },
    {
      "cell_type": "code",
      "source": [
        "#Create a random seed\n",
        "torch.manual_seed(42)\n",
        "\n",
        "model_0 = LinearRegressionModel()"
      ],
      "metadata": {
        "id": "c87gd0qxJ5-r"
      },
      "execution_count": 26,
      "outputs": []
    },
    {
      "cell_type": "code",
      "source": [
        "list(model_0.parameters())"
      ],
      "metadata": {
        "colab": {
          "base_uri": "https://localhost:8080/"
        },
        "id": "tuD3-c_rRG1N",
        "outputId": "79690a22-8595-4581-8c38-75f0ac0c2f84"
      },
      "execution_count": 14,
      "outputs": [
        {
          "output_type": "execute_result",
          "data": {
            "text/plain": [
              "[Parameter containing:\n",
              " tensor([0.3367], requires_grad=True),\n",
              " Parameter containing:\n",
              " tensor([0.3904], requires_grad=True)]"
            ]
          },
          "metadata": {},
          "execution_count": 14
        }
      ]
    },
    {
      "cell_type": "code",
      "source": [
        "model_0.state_dict()"
      ],
      "metadata": {
        "colab": {
          "base_uri": "https://localhost:8080/"
        },
        "id": "6Tc6Gw62RPGh",
        "outputId": "0654ffd3-d5a6-44b6-e17c-49c9091d35f2"
      },
      "execution_count": 15,
      "outputs": [
        {
          "output_type": "execute_result",
          "data": {
            "text/plain": [
              "OrderedDict([('weights', tensor([0.3367])), ('bias', tensor([0.3904]))])"
            ]
          },
          "metadata": {},
          "execution_count": 15
        }
      ]
    },
    {
      "cell_type": "markdown",
      "source": [
        "Make predictions using torch.inference_mode()"
      ],
      "metadata": {
        "id": "Psx2hyTAUwFS"
      }
    },
    {
      "cell_type": "code",
      "source": [
        "X_test,y_test"
      ],
      "metadata": {
        "colab": {
          "base_uri": "https://localhost:8080/"
        },
        "id": "37zC0sq-U_m3",
        "outputId": "f3a78eb5-b566-4536-82f5-c7fcc7277cc6"
      },
      "execution_count": 16,
      "outputs": [
        {
          "output_type": "execute_result",
          "data": {
            "text/plain": [
              "(tensor([[0.8000],\n",
              "         [0.8200],\n",
              "         [0.8400],\n",
              "         [0.8600],\n",
              "         [0.8800],\n",
              "         [0.9000],\n",
              "         [0.9200],\n",
              "         [0.9400],\n",
              "         [0.9600],\n",
              "         [0.9800]]),\n",
              " tensor([[0.8600],\n",
              "         [0.8740],\n",
              "         [0.8880],\n",
              "         [0.9020],\n",
              "         [0.9160],\n",
              "         [0.9300],\n",
              "         [0.9440],\n",
              "         [0.9580],\n",
              "         [0.9720],\n",
              "         [0.9860]]))"
            ]
          },
          "metadata": {},
          "execution_count": 16
        }
      ]
    },
    {
      "cell_type": "code",
      "source": [
        "with torch.inference_mode():#turns of gradiant tracking\n",
        "  y_preds = model_0(X_test)\n",
        "\n",
        "#same as inference mode. Inference mode is prefered over no_grad\n",
        "# with torch.no_grad():\n",
        "#   y_preds = model_0(X_test)\n",
        "y_preds"
      ],
      "metadata": {
        "colab": {
          "base_uri": "https://localhost:8080/"
        },
        "id": "xgbB9qzER3dN",
        "outputId": "3b8736bf-a4a9-4425-d3b1-e542550a3f61"
      },
      "execution_count": 17,
      "outputs": [
        {
          "output_type": "execute_result",
          "data": {
            "text/plain": [
              "tensor([[0.6598],\n",
              "        [0.6665],\n",
              "        [0.6733],\n",
              "        [0.6800],\n",
              "        [0.6867],\n",
              "        [0.6935],\n",
              "        [0.7002],\n",
              "        [0.7069],\n",
              "        [0.7137],\n",
              "        [0.7204]])"
            ]
          },
          "metadata": {},
          "execution_count": 17
        }
      ]
    },
    {
      "cell_type": "code",
      "source": [
        "plot_prediction(predictions=y_preds)"
      ],
      "metadata": {
        "colab": {
          "base_uri": "https://localhost:8080/",
          "height": 599
        },
        "id": "-SXWT-viVCDP",
        "outputId": "7f9a6027-909e-49f7-ee47-87293e101452"
      },
      "execution_count": 18,
      "outputs": [
        {
          "output_type": "display_data",
          "data": {
            "text/plain": [
              "<Figure size 1000x700 with 1 Axes>"
            ],
            "image/png": "[encoded data removed]"
          },
          "metadata": {}
        }
      ]
    },
    {
      "cell_type": "markdown",
      "source": [
        "Loss Functions is how wrong the models prediction.\n",
        "Also calleds as cost function or cirterion\n",
        "\n",
        "- **Loss Function**: Lower is better\n",
        "- **Optimizer**: Takes into account the loss of a model and adjusts the model's parameter\n",
        "\n",
        "Specifically for PyTorch we need:\n",
        "- A Training Loop\n",
        "- A Testing loop"
      ],
      "metadata": {
        "id": "gYkWt2MOSsst"
      }
    },
    {
      "cell_type": "code",
      "source": [
        "list(model_0.parameters())"
      ],
      "metadata": {
        "colab": {
          "base_uri": "https://localhost:8080/"
        },
        "id": "n6zK3cAjVfz5",
        "outputId": "77dcdeb2-867c-410d-ac35-e6cb8de835aa"
      },
      "execution_count": 19,
      "outputs": [
        {
          "output_type": "execute_result",
          "data": {
            "text/plain": [
              "[Parameter containing:\n",
              " tensor([0.3367], requires_grad=True),\n",
              " Parameter containing:\n",
              " tensor([0.3904], requires_grad=True)]"
            ]
          },
          "metadata": {},
          "execution_count": 19
        }
      ]
    },
    {
      "cell_type": "code",
      "source": [
        "#Checkout our model's parameters(value that model sets)\n",
        "model_0.state_dict()"
      ],
      "metadata": {
        "id": "I0354gB7TaRs",
        "outputId": "3912b915-657a-4477-b27d-913c270face0",
        "colab": {
          "base_uri": "https://localhost:8080/"
        }
      },
      "execution_count": 20,
      "outputs": [
        {
          "output_type": "execute_result",
          "data": {
            "text/plain": [
              "OrderedDict([('weights', tensor([0.3367])), ('bias', tensor([0.3904]))])"
            ]
          },
          "metadata": {},
          "execution_count": 20
        }
      ]
    },
    {
      "cell_type": "code",
      "source": [
        "loss_fn = nn.L1Loss() # Measures how wrong our model is\n",
        "# Adjust model parameters to reduce loss\n",
        "optimizer = torch.optim.SGD(params=model_0.parameters(),\n",
        "                            lr=0.01)#lr- hyper parameter"
      ],
      "metadata": {
        "id": "85MvSg9JTe2x"
      },
      "execution_count": 27,
      "outputs": []
    },
    {
      "cell_type": "markdown",
      "source": [
        "# Building a training loop in pytorch\n",
        "0. Loop through the data\n",
        "1. Forward Pass / Propagation\n",
        "2. Calculate the loss (Compare frwd pass to ground truth labels)\n",
        "3. Optimizer zero grad\n",
        "4. Loss Backward / Backward propagation\n",
        "5. Optimizer step: use the optimier to adjust our model's parameters and try and imporve loss(**gradiant discent**)\n"
      ],
      "metadata": {
        "id": "OdrvB1b_P_2T"
      }
    },
    {
      "cell_type": "code",
      "source": [
        "epochs = 200 # No of loop through the data\n",
        "epoch_list = []\n",
        "loss_list = []\n",
        "test_loss_list = []\n",
        "for epoch in range(epochs):\n",
        "  # set model to traning mode\n",
        "  model_0.train() #set all parameters to require gradiants\n",
        "\n",
        "  # Forward pass\n",
        "  y_pred = model_0(X_train)\n",
        "\n",
        "  # Calculate loss\n",
        "  loss = loss_fn(y_pred, y_train)\n",
        "  # print(loss)\n",
        "\n",
        "  # Optimizer zero grad\n",
        "  optimizer.zero_grad()\n",
        "\n",
        "  # Perform backpropagation\n",
        "  loss.backward()\n",
        "\n",
        "  optimizer.step()\n",
        "\n",
        "  model_0.eval() #train off gradiant tracking\n",
        "  with torch.inference_mode():\n",
        "    test_pred = model_0(X_test)\n",
        "    test_loss = loss_fn(test_pred,y_test)\n",
        "  if epoch%10==0:\n",
        "    epoch_list.append(epoch)\n",
        "    loss_list.append(loss)\n",
        "    test_loss_list.append(test_loss)\n",
        "    print(f\"Epoch: {epoch} | Loss: {loss} | Test loss:{test_loss}\")\n",
        "    print(model_0.state_dict())"
      ],
      "metadata": {
        "id": "4uWFuKhDErTb",
        "outputId": "8112821f-e41f-4d9a-ed2c-ad3256b62949",
        "colab": {
          "base_uri": "https://localhost:8080/"
        }
      },
      "execution_count": 29,
      "outputs": [
        {
          "output_type": "stream",
          "name": "stdout",
          "text": [
            "Epoch: 0 | Loss: 0.07951223105192184 | Test loss:0.22095942497253418\n",
            "OrderedDict([('weights', tensor([0.3428])), ('bias', tensor([0.3969]))])\n",
            "Epoch: 10 | Loss: 0.06732632219791412 | Test loss:0.17762522399425507\n",
            "OrderedDict([('weights', tensor([0.3696])), ('bias', tensor([0.4164]))])\n",
            "Epoch: 20 | Loss: 0.062183927744627 | Test loss:0.15449030697345734\n",
            "OrderedDict([('weights', tensor([0.3911])), ('bias', tensor([0.4204]))])\n",
            "Epoch: 30 | Loss: 0.058442939072847366 | Test loss:0.14075824618339539\n",
            "OrderedDict([('weights', tensor([0.4099])), ('bias', tensor([0.4174]))])\n",
            "Epoch: 40 | Loss: 0.0549529492855072 | Test loss:0.12973818182945251\n",
            "OrderedDict([('weights', tensor([0.4279])), ('bias', tensor([0.4124]))])\n",
            "Epoch: 50 | Loss: 0.05147574469447136 | Test loss:0.11940500885248184\n",
            "OrderedDict([('weights', tensor([0.4457])), ('bias', tensor([0.4069]))])\n",
            "Epoch: 60 | Loss: 0.048041004687547684 | Test loss:0.111819326877594\n",
            "OrderedDict([('weights', tensor([0.4626])), ('bias', tensor([0.3994]))])\n",
            "Epoch: 70 | Loss: 0.04461093619465828 | Test loss:0.10354678332805634\n",
            "OrderedDict([('weights', tensor([0.4798])), ('bias', tensor([0.3924]))])\n",
            "Epoch: 80 | Loss: 0.041172128170728683 | Test loss:0.09527425467967987\n",
            "OrderedDict([('weights', tensor([0.4969])), ('bias', tensor([0.3854]))])\n",
            "Epoch: 90 | Loss: 0.03773907572031021 | Test loss:0.0876886174082756\n",
            "OrderedDict([('weights', tensor([0.5139])), ('bias', tensor([0.3779]))])\n",
            "Epoch: 100 | Loss: 0.034307319670915604 | Test loss:0.07941607385873795\n",
            "OrderedDict([('weights', tensor([0.5311])), ('bias', tensor([0.3709]))])\n",
            "Epoch: 110 | Loss: 0.03086850605905056 | Test loss:0.07114353030920029\n",
            "OrderedDict([('weights', tensor([0.5482])), ('bias', tensor([0.3639]))])\n",
            "Epoch: 120 | Loss: 0.02743714675307274 | Test loss:0.06355787068605423\n",
            "OrderedDict([('weights', tensor([0.5652])), ('bias', tensor([0.3564]))])\n",
            "Epoch: 130 | Loss: 0.02400369569659233 | Test loss:0.05528532713651657\n",
            "OrderedDict([('weights', tensor([0.5823])), ('bias', tensor([0.3494]))])\n",
            "Epoch: 140 | Loss: 0.020564889535307884 | Test loss:0.04701279476284981\n",
            "OrderedDict([('weights', tensor([0.5995])), ('bias', tensor([0.3424]))])\n",
            "Epoch: 150 | Loss: 0.01713521033525467 | Test loss:0.03942713141441345\n",
            "OrderedDict([('weights', tensor([0.6164])), ('bias', tensor([0.3349]))])\n",
            "Epoch: 160 | Loss: 0.013700077310204506 | Test loss:0.031154602766036987\n",
            "OrderedDict([('weights', tensor([0.6336])), ('bias', tensor([0.3279]))])\n",
            "Epoch: 170 | Loss: 0.01026171911507845 | Test loss:0.023568928241729736\n",
            "OrderedDict([('weights', tensor([0.6505])), ('bias', tensor([0.3204]))])\n",
            "Epoch: 180 | Loss: 0.006833276245743036 | Test loss:0.015296375378966331\n",
            "OrderedDict([('weights', tensor([0.6677])), ('bias', tensor([0.3134]))])\n",
            "Epoch: 190 | Loss: 0.003396458923816681 | Test loss:0.007023847196251154\n",
            "OrderedDict([('weights', tensor([0.6849])), ('bias', tensor([0.3064]))])\n"
          ]
        }
      ]
    },
    {
      "cell_type": "code",
      "source": [
        "model_0.state_dict()"
      ],
      "metadata": {
        "id": "vyL9UfrxTmAf",
        "outputId": "2dbe2807-eda8-4485-a4cd-71dd017501ba",
        "colab": {
          "base_uri": "https://localhost:8080/"
        }
      },
      "execution_count": 24,
      "outputs": [
        {
          "output_type": "execute_result",
          "data": {
            "text/plain": [
              "OrderedDict([('weights', tensor([0.6962])), ('bias', tensor([0.3064]))])"
            ]
          },
          "metadata": {},
          "execution_count": 24
        }
      ]
    },
    {
      "cell_type": "code",
      "source": [
        "plot_prediction(predictions=test_pred)"
      ],
      "metadata": {
        "id": "OvFFQ_rBLvh0",
        "outputId": "0ec368b9-4efa-47e6-f7c5-5d8d065bf5d1",
        "colab": {
          "base_uri": "https://localhost:8080/",
          "height": 599
        }
      },
      "execution_count": 30,
      "outputs": [
        {
          "output_type": "display_data",
          "data": {
            "text/plain": [
              "<Figure size 1000x700 with 1 Axes>"
            ],
            "image/png": "[encoded data removed]"
          },
          "metadata": {}
        }
      ]
    },
    {
      "cell_type": "code",
      "source": [
        "#Plot loss curest\n",
        "import numpy as np\n",
        "plt.plot(epoch_list,np.array(torch.tensor(loss_list).numpy()), label=\"train loss\")\n",
        "plt.plot(epoch_list,test_loss_list,label=\"Test loss\")\n",
        "plt.legend()"
      ],
      "metadata": {
        "id": "NO97ij3aO0V_",
        "outputId": "4fb0570f-bb9f-48a3-f326-31b1f380431c",
        "colab": {
          "base_uri": "https://localhost:8080/",
          "height": 448
        }
      },
      "execution_count": 36,
      "outputs": [
        {
          "output_type": "execute_result",
          "data": {
            "text/plain": [
              "<matplotlib.legend.Legend at 0x7ab848a08ad0>"
            ]
          },
          "metadata": {},
          "execution_count": 36
        },
        {
          "output_type": "display_data",
          "data": {
            "text/plain": [
              "<Figure size 640x480 with 1 Axes>"
            ],
            "image/png": "[encoded data removed]"
          },
          "metadata": {}
        }
      ]
    },
    {
      "cell_type": "code",
      "source": [],
      "metadata": {
        "id": "GWvgpEMmTFZb"
      },
      "execution_count": null,
      "outputs": []
    }
  ]
}