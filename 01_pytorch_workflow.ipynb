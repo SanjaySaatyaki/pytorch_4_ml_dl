{
  "nbformat": 4,
  "nbformat_minor": 0,
  "metadata": {
    "colab": {
      "provenance": [],
      "authorship_tag": "ABX9TyOWyFz3M+ECTZ3sBUCXlCvH",
      "include_colab_link": true
    },
    "kernelspec": {
      "name": "python3",
      "display_name": "Python 3"
    },
    "language_info": {
      "name": "python"
    }
  },
  "cells": [
    {
      "cell_type": "markdown",
      "metadata": {
        "id": "view-in-github",
        "colab_type": "text"
      },
      "source": [
        "<a href=\"https://colab.research.google.com/github/SanjaySaatyaki/pytorch_4_ml_dl/blob/main/01_pytorch_workflow.ipynb\" target=\"_parent\"><img src=\"https://colab.research.google.com/assets/colab-badge.svg\" alt=\"Open In Colab\"/></a>"
      ]
    },
    {
      "cell_type": "code",
      "execution_count": 1,
      "metadata": {
        "id": "xPOYmXffIGh1",
        "colab": {
          "base_uri": "https://localhost:8080/",
          "height": 36
        },
        "outputId": "b8d07035-5c03-4c07-9b23-8a09f6c15723"
      },
      "outputs": [
        {
          "output_type": "execute_result",
          "data": {
            "text/plain": [
              "'2.6.0+cu124'"
            ],
            "application/vnd.google.colaboratory.intrinsic+json": {
              "type": "string"
            }
          },
          "metadata": {},
          "execution_count": 1
        }
      ],
      "source": [
        "import torch\n",
        "from torch import nn\n",
        "import matplotlib.pyplot as plt\n",
        "\n",
        "torch.__version__"
      ]
    },
    {
      "cell_type": "markdown",
      "source": [
        "Linear Regression to make straight line with known *parameter*"
      ],
      "metadata": {
        "id": "ypoOgTS7C8Rv"
      }
    },
    {
      "cell_type": "code",
      "source": [
        "weight = 0.7\n",
        "bias = 0.3\n"
      ],
      "metadata": {
        "id": "Qw48kZPxBJFC"
      },
      "execution_count": 2,
      "outputs": []
    },
    {
      "cell_type": "code",
      "source": [
        "start = 0\n",
        "end = 1\n",
        "step = 0.02\n",
        "X = torch.arange(start, end, step).unsqueeze(dim=1)\n",
        "y = weight*X + bias"
      ],
      "metadata": {
        "id": "prnl7jS8DLJV"
      },
      "execution_count": 3,
      "outputs": []
    },
    {
      "cell_type": "code",
      "source": [
        "X[:10], y[:10]"
      ],
      "metadata": {
        "colab": {
          "base_uri": "https://localhost:8080/"
        },
        "id": "CG9v9Wn4Dcb3",
        "outputId": "6b4a7094-b8ed-459f-f26d-623223e28d3f"
      },
      "execution_count": 4,
      "outputs": [
        {
          "output_type": "execute_result",
          "data": {
            "text/plain": [
              "(tensor([[0.0000],\n",
              "         [0.0200],\n",
              "         [0.0400],\n",
              "         [0.0600],\n",
              "         [0.0800],\n",
              "         [0.1000],\n",
              "         [0.1200],\n",
              "         [0.1400],\n",
              "         [0.1600],\n",
              "         [0.1800]]),\n",
              " tensor([[0.3000],\n",
              "         [0.3140],\n",
              "         [0.3280],\n",
              "         [0.3420],\n",
              "         [0.3560],\n",
              "         [0.3700],\n",
              "         [0.3840],\n",
              "         [0.3980],\n",
              "         [0.4120],\n",
              "         [0.4260]]))"
            ]
          },
          "metadata": {},
          "execution_count": 4
        }
      ]
    },
    {
      "cell_type": "code",
      "source": [
        "X.shape"
      ],
      "metadata": {
        "colab": {
          "base_uri": "https://localhost:8080/"
        },
        "id": "an5i_Xv6Dk6J",
        "outputId": "ee488338-9a08-45f7-cf4e-ad32d1e6031d"
      },
      "execution_count": 5,
      "outputs": [
        {
          "output_type": "execute_result",
          "data": {
            "text/plain": [
              "torch.Size([50, 1])"
            ]
          },
          "metadata": {},
          "execution_count": 5
        }
      ]
    },
    {
      "cell_type": "markdown",
      "source": [
        "- Traning 60-80\n",
        "- Validation 10-20\n",
        "- Testing 10-20"
      ],
      "metadata": {
        "id": "JklFnXaOFHn9"
      }
    },
    {
      "cell_type": "code",
      "source": [
        "#Create a train/test split\n",
        "train_split = int(0.8*len(X))\n",
        "train_split"
      ],
      "metadata": {
        "colab": {
          "base_uri": "https://localhost:8080/"
        },
        "id": "FYKhJaSMEKG_",
        "outputId": "49999a9d-f9ff-488b-bd66-acbb0d5c1c91"
      },
      "execution_count": 6,
      "outputs": [
        {
          "output_type": "execute_result",
          "data": {
            "text/plain": [
              "40"
            ]
          },
          "metadata": {},
          "execution_count": 6
        }
      ]
    },
    {
      "cell_type": "code",
      "source": [
        "X_train, y_train = X[:train_split], y[:train_split]\n",
        "X_test, y_test = X[train_split:], y[train_split:]"
      ],
      "metadata": {
        "id": "p4xtB4AEFYqE"
      },
      "execution_count": 7,
      "outputs": []
    },
    {
      "cell_type": "code",
      "source": [
        "len(X_train), len(y_train), len(X_test),len(y_test)"
      ],
      "metadata": {
        "colab": {
          "base_uri": "https://localhost:8080/"
        },
        "id": "W3ULkUiyFqHg",
        "outputId": "1b641208-62dc-4e48-ad06-d10e4babeac4"
      },
      "execution_count": 8,
      "outputs": [
        {
          "output_type": "execute_result",
          "data": {
            "text/plain": [
              "(40, 40, 10, 10)"
            ]
          },
          "metadata": {},
          "execution_count": 8
        }
      ]
    },
    {
      "cell_type": "code",
      "source": [
        "X_train, y_train"
      ],
      "metadata": {
        "colab": {
          "base_uri": "https://localhost:8080/"
        },
        "id": "Pdr9Qh_JFvzS",
        "outputId": "923186f6-08cf-4e52-c754-a1cfedac77d4"
      },
      "execution_count": 9,
      "outputs": [
        {
          "output_type": "execute_result",
          "data": {
            "text/plain": [
              "(tensor([[0.0000],\n",
              "         [0.0200],\n",
              "         [0.0400],\n",
              "         [0.0600],\n",
              "         [0.0800],\n",
              "         [0.1000],\n",
              "         [0.1200],\n",
              "         [0.1400],\n",
              "         [0.1600],\n",
              "         [0.1800],\n",
              "         [0.2000],\n",
              "         [0.2200],\n",
              "         [0.2400],\n",
              "         [0.2600],\n",
              "         [0.2800],\n",
              "         [0.3000],\n",
              "         [0.3200],\n",
              "         [0.3400],\n",
              "         [0.3600],\n",
              "         [0.3800],\n",
              "         [0.4000],\n",
              "         [0.4200],\n",
              "         [0.4400],\n",
              "         [0.4600],\n",
              "         [0.4800],\n",
              "         [0.5000],\n",
              "         [0.5200],\n",
              "         [0.5400],\n",
              "         [0.5600],\n",
              "         [0.5800],\n",
              "         [0.6000],\n",
              "         [0.6200],\n",
              "         [0.6400],\n",
              "         [0.6600],\n",
              "         [0.6800],\n",
              "         [0.7000],\n",
              "         [0.7200],\n",
              "         [0.7400],\n",
              "         [0.7600],\n",
              "         [0.7800]]),\n",
              " tensor([[0.3000],\n",
              "         [0.3140],\n",
              "         [0.3280],\n",
              "         [0.3420],\n",
              "         [0.3560],\n",
              "         [0.3700],\n",
              "         [0.3840],\n",
              "         [0.3980],\n",
              "         [0.4120],\n",
              "         [0.4260],\n",
              "         [0.4400],\n",
              "         [0.4540],\n",
              "         [0.4680],\n",
              "         [0.4820],\n",
              "         [0.4960],\n",
              "         [0.5100],\n",
              "         [0.5240],\n",
              "         [0.5380],\n",
              "         [0.5520],\n",
              "         [0.5660],\n",
              "         [0.5800],\n",
              "         [0.5940],\n",
              "         [0.6080],\n",
              "         [0.6220],\n",
              "         [0.6360],\n",
              "         [0.6500],\n",
              "         [0.6640],\n",
              "         [0.6780],\n",
              "         [0.6920],\n",
              "         [0.7060],\n",
              "         [0.7200],\n",
              "         [0.7340],\n",
              "         [0.7480],\n",
              "         [0.7620],\n",
              "         [0.7760],\n",
              "         [0.7900],\n",
              "         [0.8040],\n",
              "         [0.8180],\n",
              "         [0.8320],\n",
              "         [0.8460]]))"
            ]
          },
          "metadata": {},
          "execution_count": 9
        }
      ]
    },
    {
      "cell_type": "markdown",
      "source": [
        "# Visualize the data"
      ],
      "metadata": {
        "id": "IXh9B1MgF-J0"
      }
    },
    {
      "cell_type": "code",
      "source": [
        "def plot_prediction(train_data = X_train,train_labels =y_train,test_data = X_test, test_labels=y_test, predictions=None):\n",
        "  plt.figure(figsize=(10,7))\n",
        "  plt.scatter(train_data, train_labels,c=\"b\",s=4, label=\"Training data\")\n",
        "  plt.scatter(test_data,test_labels, c=\"y\",s=4, label=\"Testing data\")\n",
        "  if predictions is not None:\n",
        "    plt.scatter(test_data,predictions, c=\"r\",s=4, label=\"Predictions\")\n",
        "  plt.legend(prop={\"size\":14})"
      ],
      "metadata": {
        "id": "C49nuCBSF1sc"
      },
      "execution_count": 10,
      "outputs": []
    },
    {
      "cell_type": "code",
      "source": [
        "plot_prediction()"
      ],
      "metadata": {
        "colab": {
          "base_uri": "https://localhost:8080/",
          "height": 599
        },
        "id": "mkb9IJfyGbr1",
        "outputId": "9f906b98-b959-4b6b-80a0-1b74a475cf04"
      },
      "execution_count": 11,
      "outputs": [
        {
          "output_type": "display_data",
          "data": {
            "text/plain": [
              "<Figure size 1000x700 with 1 Axes>"
            ],
            "image/png": "[encoded data removed]"
          },
          "metadata": {}
        }
      ]
    },
    {
      "cell_type": "markdown",
      "source": [
        "https://realpython.com/python-classes/\n",
        "3Blue 1 Brown - Videos"
      ],
      "metadata": {
        "id": "XtouGrj1IU-I"
      }
    },
    {
      "cell_type": "code",
      "source": [
        "# Create a linear regression model class\n",
        "class LinearRegressionModel(nn.Module): #<- almost everything inherit from nn.Module\n",
        "  def __init__(self):\n",
        "    super().__init__()\n",
        "    self.weights = nn.Parameter(torch.randn(1,requires_grad=True,dtype=torch.float))\n",
        "    self.bias = nn.Parameter(torch.rand(1,requires_grad=True,dtype=torch.float))\n",
        "\n",
        "  def forward(self, x:torch.Tensor) -> torch.Tensor:\n",
        "    return self.weights * x + self.bias"
      ],
      "metadata": {
        "id": "G-nIFO_bG_Ww"
      },
      "execution_count": 12,
      "outputs": []
    },
    {
      "cell_type": "markdown",
      "source": [
        "### Pytorch model building essentials\n",
        "* torch.nn - contains all of building for computational graphs\n",
        "* troch.Parameter - Parametere our model try to learn\n",
        "* torch.nn.Module - base class for all neural network if we subcalss it, mandatory implement forward()\n",
        "* torch.optim - this where optimizers in Pytorch live, help in optimizing gradiant discent\n",
        "https://pytorch.org/tutorials/beginner/ptcheat.html"
      ],
      "metadata": {
        "id": "4g2FAE49OxIq"
      }
    },
    {
      "cell_type": "code",
      "source": [
        "#Create a random seed\n",
        "torch.manual_seed(42)\n",
        "\n",
        "model_0 = LinearRegressionModel()"
      ],
      "metadata": {
        "id": "c87gd0qxJ5-r"
      },
      "execution_count": 13,
      "outputs": []
    },
    {
      "cell_type": "code",
      "source": [
        "list(model_0.parameters())"
      ],
      "metadata": {
        "colab": {
          "base_uri": "https://localhost:8080/"
        },
        "id": "tuD3-c_rRG1N",
        "outputId": "1ed54538-b703-4e98-d9ec-0bcb27558f45"
      },
      "execution_count": 14,
      "outputs": [
        {
          "output_type": "execute_result",
          "data": {
            "text/plain": [
              "[Parameter containing:\n",
              " tensor([0.3367], requires_grad=True),\n",
              " Parameter containing:\n",
              " tensor([0.3904], requires_grad=True)]"
            ]
          },
          "metadata": {},
          "execution_count": 14
        }
      ]
    },
    {
      "cell_type": "code",
      "source": [
        "model_0.state_dict()"
      ],
      "metadata": {
        "colab": {
          "base_uri": "https://localhost:8080/"
        },
        "id": "6Tc6Gw62RPGh",
        "outputId": "b880c8dd-4ffc-4de2-e6a2-fd512a64ee86"
      },
      "execution_count": 15,
      "outputs": [
        {
          "output_type": "execute_result",
          "data": {
            "text/plain": [
              "OrderedDict([('weights', tensor([0.3367])), ('bias', tensor([0.3904]))])"
            ]
          },
          "metadata": {},
          "execution_count": 15
        }
      ]
    },
    {
      "cell_type": "markdown",
      "source": [
        "Make predictions using torch.inference_mode()"
      ],
      "metadata": {
        "id": "Psx2hyTAUwFS"
      }
    },
    {
      "cell_type": "code",
      "source": [
        "X_test,y_test"
      ],
      "metadata": {
        "colab": {
          "base_uri": "https://localhost:8080/"
        },
        "id": "37zC0sq-U_m3",
        "outputId": "e58a82ea-497e-4c23-f4d1-e723e5443c77"
      },
      "execution_count": 16,
      "outputs": [
        {
          "output_type": "execute_result",
          "data": {
            "text/plain": [
              "(tensor([[0.8000],\n",
              "         [0.8200],\n",
              "         [0.8400],\n",
              "         [0.8600],\n",
              "         [0.8800],\n",
              "         [0.9000],\n",
              "         [0.9200],\n",
              "         [0.9400],\n",
              "         [0.9600],\n",
              "         [0.9800]]),\n",
              " tensor([[0.8600],\n",
              "         [0.8740],\n",
              "         [0.8880],\n",
              "         [0.9020],\n",
              "         [0.9160],\n",
              "         [0.9300],\n",
              "         [0.9440],\n",
              "         [0.9580],\n",
              "         [0.9720],\n",
              "         [0.9860]]))"
            ]
          },
          "metadata": {},
          "execution_count": 16
        }
      ]
    },
    {
      "cell_type": "code",
      "source": [
        "with torch.inference_mode():#turns of gradiant tracking\n",
        "  y_preds = model_0(X_test)\n",
        "\n",
        "#same as inference mode. Inference mode is prefered over no_grad\n",
        "# with torch.no_grad():\n",
        "#   y_preds = model_0(X_test)\n",
        "y_preds"
      ],
      "metadata": {
        "colab": {
          "base_uri": "https://localhost:8080/"
        },
        "id": "xgbB9qzER3dN",
        "outputId": "5390bb41-df76-4a23-9c7f-37b0e49e42a5"
      },
      "execution_count": 17,
      "outputs": [
        {
          "output_type": "execute_result",
          "data": {
            "text/plain": [
              "tensor([[0.6598],\n",
              "        [0.6665],\n",
              "        [0.6733],\n",
              "        [0.6800],\n",
              "        [0.6867],\n",
              "        [0.6935],\n",
              "        [0.7002],\n",
              "        [0.7069],\n",
              "        [0.7137],\n",
              "        [0.7204]])"
            ]
          },
          "metadata": {},
          "execution_count": 17
        }
      ]
    },
    {
      "cell_type": "code",
      "source": [
        "plot_prediction(predictions=y_preds)"
      ],
      "metadata": {
        "colab": {
          "base_uri": "https://localhost:8080/",
          "height": 599
        },
        "id": "-SXWT-viVCDP",
        "outputId": "773d707c-979e-4118-e5fd-008449248651"
      },
      "execution_count": 18,
      "outputs": [
        {
          "output_type": "display_data",
          "data": {
            "text/plain": [
              "<Figure size 1000x700 with 1 Axes>"
            ],
            "image/png": "[encoded data removed]"
          },
          "metadata": {}
        }
      ]
    },
    {
      "cell_type": "markdown",
      "source": [
        "Loss Functions is how wrong the models prediction.\n",
        "Also calleds as cost function or cirterion\n",
        "\n",
        "- **Loss Function**: Lower is better\n",
        "- **Optimizer**: Takes into account the loss of a model and adjusts the model's parameter\n",
        "\n",
        "Specifically for PyTorch we need:\n",
        "- A Training Loop\n",
        "- A Testing loop"
      ],
      "metadata": {
        "id": "gYkWt2MOSsst"
      }
    },
    {
      "cell_type": "code",
      "source": [
        "list(model_0.parameters())"
      ],
      "metadata": {
        "colab": {
          "base_uri": "https://localhost:8080/"
        },
        "id": "n6zK3cAjVfz5",
        "outputId": "5e8ac408-a7d1-4528-d090-c540a5ea858a"
      },
      "execution_count": 19,
      "outputs": [
        {
          "output_type": "execute_result",
          "data": {
            "text/plain": [
              "[Parameter containing:\n",
              " tensor([0.3367], requires_grad=True),\n",
              " Parameter containing:\n",
              " tensor([0.3904], requires_grad=True)]"
            ]
          },
          "metadata": {},
          "execution_count": 19
        }
      ]
    },
    {
      "cell_type": "code",
      "source": [
        "#Checkout our model's parameters(value that model sets)\n",
        "model_0.state_dict()"
      ],
      "metadata": {
        "id": "I0354gB7TaRs",
        "outputId": "76d473b9-9f36-48ad-eba0-6070e217d557",
        "colab": {
          "base_uri": "https://localhost:8080/"
        }
      },
      "execution_count": 20,
      "outputs": [
        {
          "output_type": "execute_result",
          "data": {
            "text/plain": [
              "OrderedDict([('weights', tensor([0.3367])), ('bias', tensor([0.3904]))])"
            ]
          },
          "metadata": {},
          "execution_count": 20
        }
      ]
    },
    {
      "cell_type": "code",
      "source": [
        "loss_fn = nn.L1Loss() # Measures how wrong our model is\n",
        "# Adjust model parameters to reduce loss\n",
        "optimizer = torch.optim.SGD(params=model_0.parameters(),\n",
        "                            lr=0.01)#lr- hyper parameter"
      ],
      "metadata": {
        "id": "85MvSg9JTe2x"
      },
      "execution_count": 21,
      "outputs": []
    },
    {
      "cell_type": "markdown",
      "source": [
        "# Building a training loop in pytorch\n",
        "0. Loop through the data\n",
        "1. Forward Pass / Propagation\n",
        "2. Calculate the loss (Compare frwd pass to ground truth labels)\n",
        "3. Optimizer zero grad\n",
        "4. Loss Backward / Backward propagation\n",
        "5. Optimizer step: use the optimier to adjust our model's parameters and try and imporve loss(**gradiant discent**)\n"
      ],
      "metadata": {
        "id": "OdrvB1b_P_2T"
      }
    },
    {
      "cell_type": "code",
      "source": [
        "epochs = 200 # No of loop through the data\n",
        "epoch_list = []\n",
        "loss_list = []\n",
        "test_loss_list = []\n",
        "for epoch in range(epochs):\n",
        "  # set model to traning mode\n",
        "  model_0.train() #set all parameters to require gradiants\n",
        "\n",
        "  # Forward pass\n",
        "  y_pred = model_0(X_train)\n",
        "\n",
        "  # Calculate loss\n",
        "  loss = loss_fn(y_pred, y_train)\n",
        "  # print(loss)\n",
        "\n",
        "  # Optimizer zero grad\n",
        "  optimizer.zero_grad()\n",
        "\n",
        "  # Perform backpropagation\n",
        "  loss.backward()\n",
        "\n",
        "  optimizer.step()\n",
        "\n",
        "  model_0.eval() #train off gradiant tracking\n",
        "  with torch.inference_mode():\n",
        "    test_pred = model_0(X_test)\n",
        "    test_loss = loss_fn(test_pred,y_test)\n",
        "  if epoch%10==0:\n",
        "    epoch_list.append(epoch)\n",
        "    loss_list.append(loss)\n",
        "    test_loss_list.append(test_loss)\n",
        "    print(f\"Epoch: {epoch} | Loss: {loss} | Test loss:{test_loss}\")\n",
        "    print(model_0.state_dict())"
      ],
      "metadata": {
        "id": "4uWFuKhDErTb",
        "outputId": "47ae04e1-f7da-4a3d-a72f-109f1ee9eb4b",
        "colab": {
          "base_uri": "https://localhost:8080/"
        }
      },
      "execution_count": 22,
      "outputs": [
        {
          "output_type": "stream",
          "name": "stdout",
          "text": [
            "Epoch: 0 | Loss: 0.08169572055339813 | Test loss:0.22662055492401123\n",
            "OrderedDict([('weights', tensor([0.3398])), ('bias', tensor([0.3939]))])\n",
            "Epoch: 10 | Loss: 0.06808149069547653 | Test loss:0.1807345449924469\n",
            "OrderedDict([('weights', tensor([0.3672])), ('bias', tensor([0.4154]))])\n",
            "Epoch: 20 | Loss: 0.06258393079042435 | Test loss:0.15627031028270721\n",
            "OrderedDict([('weights', tensor([0.3891])), ('bias', tensor([0.4204]))])\n",
            "Epoch: 30 | Loss: 0.05879194289445877 | Test loss:0.1418602615594864\n",
            "OrderedDict([('weights', tensor([0.4081])), ('bias', tensor([0.4179]))])\n",
            "Epoch: 40 | Loss: 0.05530194193124771 | Test loss:0.13084018230438232\n",
            "OrderedDict([('weights', tensor([0.4261])), ('bias', tensor([0.4129]))])\n",
            "Epoch: 50 | Loss: 0.051822252571582794 | Test loss:0.12050700187683105\n",
            "OrderedDict([('weights', tensor([0.4439])), ('bias', tensor([0.4074]))])\n",
            "Epoch: 60 | Loss: 0.04838593676686287 | Test loss:0.11223447322845459\n",
            "OrderedDict([('weights', tensor([0.4610])), ('bias', tensor([0.4004]))])\n",
            "Epoch: 70 | Loss: 0.044948760420084 | Test loss:0.10464880615472794\n",
            "OrderedDict([('weights', tensor([0.4780])), ('bias', tensor([0.3929]))])\n",
            "Epoch: 80 | Loss: 0.04152031987905502 | Test loss:0.09637625515460968\n",
            "OrderedDict([('weights', tensor([0.4951])), ('bias', tensor([0.3859]))])\n",
            "Epoch: 90 | Loss: 0.03808232396841049 | Test loss:0.08810374140739441\n",
            "OrderedDict([('weights', tensor([0.5123])), ('bias', tensor([0.3789]))])\n",
            "Epoch: 100 | Loss: 0.034646838903427124 | Test loss:0.08051808178424835\n",
            "OrderedDict([('weights', tensor([0.5293])), ('bias', tensor([0.3714]))])\n",
            "Epoch: 110 | Loss: 0.031217509880661964 | Test loss:0.0722455382347107\n",
            "OrderedDict([('weights', tensor([0.5464])), ('bias', tensor([0.3644]))])\n",
            "Epoch: 120 | Loss: 0.027778705582022667 | Test loss:0.06397300213575363\n",
            "OrderedDict([('weights', tensor([0.5636])), ('bias', tensor([0.3574]))])\n",
            "Epoch: 130 | Loss: 0.024344902485609055 | Test loss:0.05638733506202698\n",
            "OrderedDict([('weights', tensor([0.5805])), ('bias', tensor([0.3499]))])\n",
            "Epoch: 140 | Loss: 0.020913895219564438 | Test loss:0.04811479523777962\n",
            "OrderedDict([('weights', tensor([0.5977])), ('bias', tensor([0.3429]))])\n",
            "Epoch: 150 | Loss: 0.017475087195634842 | Test loss:0.03984225541353226\n",
            "OrderedDict([('weights', tensor([0.6148])), ('bias', tensor([0.3359]))])\n",
            "Epoch: 160 | Loss: 0.014042967930436134 | Test loss:0.0322565920650959\n",
            "OrderedDict([('weights', tensor([0.6318])), ('bias', tensor([0.3284]))])\n",
            "Epoch: 170 | Loss: 0.010610274039208889 | Test loss:0.02398405596613884\n",
            "OrderedDict([('weights', tensor([0.6490])), ('bias', tensor([0.3214]))])\n",
            "Epoch: 180 | Loss: 0.007171472068876028 | Test loss:0.015711510553956032\n",
            "OrderedDict([('weights', tensor([0.6661])), ('bias', tensor([0.3144]))])\n",
            "Epoch: 190 | Loss: 0.003741039428859949 | Test loss:0.008125847205519676\n",
            "OrderedDict([('weights', tensor([0.6831])), ('bias', tensor([0.3069]))])\n"
          ]
        }
      ]
    },
    {
      "cell_type": "code",
      "source": [
        "model_0.state_dict()"
      ],
      "metadata": {
        "id": "vyL9UfrxTmAf",
        "outputId": "96e944e2-de7d-4dbb-ad08-5f35ef677767",
        "colab": {
          "base_uri": "https://localhost:8080/"
        }
      },
      "execution_count": 23,
      "outputs": [
        {
          "output_type": "execute_result",
          "data": {
            "text/plain": [
              "OrderedDict([('weights', tensor([0.6962])), ('bias', tensor([0.3064]))])"
            ]
          },
          "metadata": {},
          "execution_count": 23
        }
      ]
    },
    {
      "cell_type": "code",
      "source": [
        "plot_prediction(predictions=test_pred)"
      ],
      "metadata": {
        "id": "OvFFQ_rBLvh0",
        "outputId": "b8cef972-b89c-4beb-9382-a99a4c46739e",
        "colab": {
          "base_uri": "https://localhost:8080/",
          "height": 599
        }
      },
      "execution_count": 24,
      "outputs": [
        {
          "output_type": "display_data",
          "data": {
            "text/plain": [
              "<Figure size 1000x700 with 1 Axes>"
            ],
            "image/png": "[encoded data removed]"
          },
          "metadata": {}
        }
      ]
    },
    {
      "cell_type": "code",
      "source": [
        "#Plot loss curest\n",
        "import numpy as np\n",
        "plt.plot(epoch_list,np.array(torch.tensor(loss_list).numpy()), label=\"train loss\")\n",
        "plt.plot(epoch_list,test_loss_list,label=\"Test loss\")\n",
        "plt.legend()"
      ],
      "metadata": {
        "id": "NO97ij3aO0V_",
        "outputId": "a6f7790a-c150-4304-a669-3c9c894b4959",
        "colab": {
          "base_uri": "https://localhost:8080/",
          "height": 448
        }
      },
      "execution_count": 25,
      "outputs": [
        {
          "output_type": "execute_result",
          "data": {
            "text/plain": [
              "<matplotlib.legend.Legend at 0x7e01bc903910>"
            ]
          },
          "metadata": {},
          "execution_count": 25
        },
        {
          "output_type": "display_data",
          "data": {
            "text/plain": [
              "<Figure size 640x480 with 1 Axes>"
            ],
            "image/png": "[encoded data removed]"
          },
          "metadata": {}
        }
      ]
    },
    {
      "cell_type": "code",
      "source": [
        "import torch\n",
        "from torch import nn\n",
        "import matplotlib.pyplot as plt\n"
      ],
      "metadata": {
        "id": "GWvgpEMmTFZb"
      },
      "execution_count": 26,
      "outputs": []
    },
    {
      "cell_type": "code",
      "source": [
        "#Create device agnostic code\n",
        "device = \"cuda\" if torch.cuda.is_available() == \"cuda\" else \"cpu\"\n",
        "device"
      ],
      "metadata": {
        "colab": {
          "base_uri": "https://localhost:8080/",
          "height": 36
        },
        "id": "bRupcdYAkfPJ",
        "outputId": "59d935d3-ff96-47ed-f8e4-664961eeb047"
      },
      "execution_count": 27,
      "outputs": [
        {
          "output_type": "execute_result",
          "data": {
            "text/plain": [
              "'cpu'"
            ],
            "application/vnd.google.colaboratory.intrinsic+json": {
              "type": "string"
            }
          },
          "metadata": {},
          "execution_count": 27
        }
      ]
    },
    {
      "cell_type": "code",
      "source": [
        "weight, bias = 0.8, 0.5"
      ],
      "metadata": {
        "id": "CIPGcDOGkt19"
      },
      "execution_count": 28,
      "outputs": []
    },
    {
      "cell_type": "code",
      "source": [
        "# Prepare Data\n",
        "X = torch.arange(0,1,0.02).unsqueeze(dim=1)"
      ],
      "metadata": {
        "id": "kUWmC_MBk33V"
      },
      "execution_count": 29,
      "outputs": []
    },
    {
      "cell_type": "code",
      "source": [
        "Y = X*weight+bias"
      ],
      "metadata": {
        "id": "PFg096cJlThA"
      },
      "execution_count": 30,
      "outputs": []
    },
    {
      "cell_type": "code",
      "source": [
        "X[:10],Y[:10]"
      ],
      "metadata": {
        "colab": {
          "base_uri": "https://localhost:8080/"
        },
        "id": "Hl8QW-Hulb3N",
        "outputId": "e7ac2365-6dd1-4188-f54b-82956510bd6f"
      },
      "execution_count": 31,
      "outputs": [
        {
          "output_type": "execute_result",
          "data": {
            "text/plain": [
              "(tensor([[0.0000],\n",
              "         [0.0200],\n",
              "         [0.0400],\n",
              "         [0.0600],\n",
              "         [0.0800],\n",
              "         [0.1000],\n",
              "         [0.1200],\n",
              "         [0.1400],\n",
              "         [0.1600],\n",
              "         [0.1800]]),\n",
              " tensor([[0.5000],\n",
              "         [0.5160],\n",
              "         [0.5320],\n",
              "         [0.5480],\n",
              "         [0.5640],\n",
              "         [0.5800],\n",
              "         [0.5960],\n",
              "         [0.6120],\n",
              "         [0.6280],\n",
              "         [0.6440]]))"
            ]
          },
          "metadata": {},
          "execution_count": 31
        }
      ]
    },
    {
      "cell_type": "code",
      "source": [
        "#Split data\n",
        "train_split = int(0.8*len(X))\n",
        "X_train, y_train = X[:train_split],Y[:train_split]\n",
        "X_text, y_test = X[train_split:],Y[train_split:]"
      ],
      "metadata": {
        "id": "-SLE401blcch"
      },
      "execution_count": 32,
      "outputs": []
    },
    {
      "cell_type": "code",
      "source": [
        "plot_prediction(X_train, y_train, X_test, y_test)"
      ],
      "metadata": {
        "colab": {
          "base_uri": "https://localhost:8080/",
          "height": 599
        },
        "id": "3dbXfrFwmU8O",
        "outputId": "6987cba5-23a4-4b73-8d53-b6fe21d0f766"
      },
      "execution_count": 33,
      "outputs": [
        {
          "output_type": "display_data",
          "data": {
            "text/plain": [
              "<Figure size 1000x700 with 1 Axes>"
            ],
            "image/png": "[encoded data removed]"
          },
          "metadata": {}
        }
      ]
    },
    {
      "cell_type": "code",
      "source": [
        "class LinearRegressionModelv2(nn.Module):\n",
        "  def __init__(self) -> None:\n",
        "    super().__init__()\n",
        "    # use nn.Linear() for creating model params\n",
        "    self.linear_layer = nn.Linear(in_features=1, out_features=1)\n",
        "\n",
        "  def forward(self, x:torch.tensor)->torch.Tensor:\n",
        "    return self.linear_layer(x)\n",
        "\n",
        "torch.manual_seed(42)\n",
        "model_1 = LinearRegressionModelv2()\n",
        "model_1.state_dict()"
      ],
      "metadata": {
        "colab": {
          "base_uri": "https://localhost:8080/"
        },
        "id": "8ior5_RkmiRG",
        "outputId": "676ee462-c674-4fdc-b8e5-11621180d2ca"
      },
      "execution_count": 34,
      "outputs": [
        {
          "output_type": "execute_result",
          "data": {
            "text/plain": [
              "OrderedDict([('linear_layer.weight', tensor([[0.7645]])),\n",
              "             ('linear_layer.bias', tensor([0.8300]))])"
            ]
          },
          "metadata": {},
          "execution_count": 34
        }
      ]
    },
    {
      "cell_type": "code",
      "source": [
        "next(model_1.parameters()).device"
      ],
      "metadata": {
        "id": "x28Ur0orpxa7",
        "outputId": "c2d0b340-f450-4680-a158-367807c8de63",
        "colab": {
          "base_uri": "https://localhost:8080/"
        }
      },
      "execution_count": 35,
      "outputs": [
        {
          "output_type": "execute_result",
          "data": {
            "text/plain": [
              "device(type='cpu')"
            ]
          },
          "metadata": {},
          "execution_count": 35
        }
      ]
    },
    {
      "cell_type": "code",
      "source": [
        "loss_fn_v1 = nn.L1Loss()\n",
        "optimizer_v1 = torch.optim.SGD(params=model_1.parameters(),lr=0.01)"
      ],
      "metadata": {
        "id": "GJz1NzkErBhM"
      },
      "execution_count": 36,
      "outputs": []
    },
    {
      "cell_type": "code",
      "source": [
        "# Training Loop\n",
        "torch.manual_seed(42)\n",
        "epochs = 200\n",
        "\n",
        "for epoch in range(epochs):\n",
        "  model_1.train()\n",
        "\n",
        "  #forward pass\n",
        "  y_pred = model_1(X_train)\n",
        "\n",
        "  loss = loss_fn_v1(y_pred,y_train)\n",
        "\n",
        "  optimizer_v1.zero_grad()\n",
        "\n",
        "  loss.backward()\n",
        "\n",
        "  optimizer_v1.step()\n",
        "\n",
        "  model_1.eval()\n",
        "\n",
        "  with torch.inference_mode():\n",
        "    y_pred_test = model_1(X_test)\n",
        "    test_loss = loss_fn_v1(y_pred_test,y_test)\n",
        "\n",
        "  if epoch %10 ==0:\n",
        "    print(f\"Epoch:{epoch}| Loss: {loss}| Test Loss:{test_loss}\")\n"
      ],
      "metadata": {
        "id": "U0AUwckaqxqG",
        "outputId": "c5b107de-7540-45eb-92ec-b7cb4a9aff31",
        "colab": {
          "base_uri": "https://localhost:8080/"
        }
      },
      "execution_count": 37,
      "outputs": [
        {
          "output_type": "stream",
          "name": "stdout",
          "text": [
            "Epoch:0| Loss: 0.31617793440818787| Test Loss:0.28497621417045593\n",
            "Epoch:10| Loss: 0.20096805691719055| Test Loss:0.1502663493156433\n",
            "Epoch:20| Loss: 0.08575817942619324| Test Loss:0.015556538477540016\n",
            "Epoch:30| Loss: 0.027397025376558304| Test Loss:0.05476578325033188\n",
            "Epoch:40| Loss: 0.023395901545882225| Test Loss:0.054102517664432526\n",
            "Epoch:50| Loss: 0.019962213933467865| Test Loss:0.04583015292882919\n",
            "Epoch:60| Loss: 0.016523398458957672| Test Loss:0.03755779191851616\n",
            "Epoch:70| Loss: 0.013093927875161171| Test Loss:0.029972266405820847\n",
            "Epoch:80| Loss: 0.00965857319533825| Test Loss:0.021699905395507812\n",
            "Epoch:90| Loss: 0.006220391485840082| Test Loss:0.01411440409719944\n",
            "Epoch:100| Loss: 0.0027919381391257048| Test Loss:0.005842042155563831\n",
            "Epoch:110| Loss: 0.007090920116752386| Test Loss:0.007555508520454168\n",
            "Epoch:120| Loss: 0.007090920116752386| Test Loss:0.007555508520454168\n",
            "Epoch:130| Loss: 0.007090920116752386| Test Loss:0.007555508520454168\n",
            "Epoch:140| Loss: 0.007090920116752386| Test Loss:0.007555508520454168\n",
            "Epoch:150| Loss: 0.007090920116752386| Test Loss:0.007555508520454168\n",
            "Epoch:160| Loss: 0.007090920116752386| Test Loss:0.007555508520454168\n",
            "Epoch:170| Loss: 0.007090920116752386| Test Loss:0.007555508520454168\n",
            "Epoch:180| Loss: 0.007090920116752386| Test Loss:0.007555508520454168\n",
            "Epoch:190| Loss: 0.007090920116752386| Test Loss:0.007555508520454168\n"
          ]
        }
      ]
    },
    {
      "cell_type": "code",
      "source": [
        "model_1.state_dict()"
      ],
      "metadata": {
        "id": "BjuXR3h90dzd",
        "outputId": "6c754051-3759-4b91-df6f-1c84bb5a08e2",
        "colab": {
          "base_uri": "https://localhost:8080/"
        }
      },
      "execution_count": 38,
      "outputs": [
        {
          "output_type": "execute_result",
          "data": {
            "text/plain": [
              "OrderedDict([('linear_layer.weight', tensor([[0.7976]])),\n",
              "             ('linear_layer.bias', tensor([0.5080]))])"
            ]
          },
          "metadata": {},
          "execution_count": 38
        }
      ]
    },
    {
      "cell_type": "code",
      "source": [
        "with torch.inference_mode():\n",
        "  y_pred = model_1(X_train)"
      ],
      "metadata": {
        "id": "cU-XFy4vsfl8"
      },
      "execution_count": 39,
      "outputs": []
    },
    {
      "cell_type": "code",
      "source": [
        "plot_prediction(X_train, y_train, X_test, y_test,predictions=y_pred_test)"
      ],
      "metadata": {
        "id": "xW-lvN1a0JNv",
        "outputId": "eb97ce5f-e3ab-4d3a-e5c8-59890fd0e902",
        "colab": {
          "base_uri": "https://localhost:8080/",
          "height": 599
        }
      },
      "execution_count": 40,
      "outputs": [
        {
          "output_type": "display_data",
          "data": {
            "text/plain": [
              "<Figure size 1000x700 with 1 Axes>"
            ],
            "image/png": "[encoded data removed]"
          },
          "metadata": {}
        }
      ]
    },
    {
      "cell_type": "code",
      "source": [
        "model_1.state_dict()"
      ],
      "metadata": {
        "id": "AY4ZYp9S0M5H",
        "outputId": "cf3a0945-1e98-4fec-8191-2690f7565f3c",
        "colab": {
          "base_uri": "https://localhost:8080/"
        }
      },
      "execution_count": 41,
      "outputs": [
        {
          "output_type": "execute_result",
          "data": {
            "text/plain": [
              "OrderedDict([('linear_layer.weight', tensor([[0.7976]])),\n",
              "             ('linear_layer.bias', tensor([0.5080]))])"
            ]
          },
          "metadata": {},
          "execution_count": 41
        }
      ]
    },
    {
      "cell_type": "code",
      "source": [],
      "metadata": {
        "id": "Kr2DhRHeW67w"
      },
      "execution_count": null,
      "outputs": []
    }
  ]
}