{
  "nbformat": 4,
  "nbformat_minor": 0,
  "metadata": {
    "colab": {
      "provenance": [],
      "gpuType": "T4",
      "authorship_tag": "ABX9TyOetw6MOiexhKyfA1TZro/+",
      "include_colab_link": true
    },
    "kernelspec": {
      "name": "python3",
      "display_name": "Python 3"
    },
    "language_info": {
      "name": "python"
    },
    "accelerator": "GPU",
    "widgets": {
      "application/vnd.jupyter.widget-state+json": {
        "58cbe246db2b4d4eb6bd7c8d0f331885": {
          "model_module": "@jupyter-widgets/controls",
          "model_name": "HBoxModel",
          "model_module_version": "1.5.0",
          "state": {
            "_dom_classes": [],
            "_model_module": "@jupyter-widgets/controls",
            "_model_module_version": "1.5.0",
            "_model_name": "HBoxModel",
            "_view_count": null,
            "_view_module": "@jupyter-widgets/controls",
            "_view_module_version": "1.5.0",
            "_view_name": "HBoxView",
            "box_style": "",
            "children": [
              "IPY_MODEL_710af807386b44a5902f33fb1d0a3902",
              "IPY_MODEL_f8ef087bcf604e83a6955e4ab8e9fbe4",
              "IPY_MODEL_561725a0d1e9411d90911c9da6792506"
            ],
            "layout": "IPY_MODEL_991ea31179f94d379250a0015a1df3ac"
          }
        },
        "710af807386b44a5902f33fb1d0a3902": {
          "model_module": "@jupyter-widgets/controls",
          "model_name": "HTMLModel",
          "model_module_version": "1.5.0",
          "state": {
            "_dom_classes": [],
            "_model_module": "@jupyter-widgets/controls",
            "_model_module_version": "1.5.0",
            "_model_name": "HTMLModel",
            "_view_count": null,
            "_view_module": "@jupyter-widgets/controls",
            "_view_module_version": "1.5.0",
            "_view_name": "HTMLView",
            "description": "",
            "description_tooltip": null,
            "layout": "IPY_MODEL_1b282c4d52bb41c2b48ff9d97bc816eb",
            "placeholder": "​",
            "style": "IPY_MODEL_8a6b55edfbe34da39c688e8752cf4083",
            "value": "100%"
          }
        },
        "f8ef087bcf604e83a6955e4ab8e9fbe4": {
          "model_module": "@jupyter-widgets/controls",
          "model_name": "FloatProgressModel",
          "model_module_version": "1.5.0",
          "state": {
            "_dom_classes": [],
            "_model_module": "@jupyter-widgets/controls",
            "_model_module_version": "1.5.0",
            "_model_name": "FloatProgressModel",
            "_view_count": null,
            "_view_module": "@jupyter-widgets/controls",
            "_view_module_version": "1.5.0",
            "_view_name": "ProgressView",
            "bar_style": "success",
            "description": "",
            "description_tooltip": null,
            "layout": "IPY_MODEL_824219df47f747a88a066540552e2e31",
            "max": 3,
            "min": 0,
            "orientation": "horizontal",
            "style": "IPY_MODEL_6db2eab0d1de434f80fa5ecad13877fe",
            "value": 3
          }
        },
        "561725a0d1e9411d90911c9da6792506": {
          "model_module": "@jupyter-widgets/controls",
          "model_name": "HTMLModel",
          "model_module_version": "1.5.0",
          "state": {
            "_dom_classes": [],
            "_model_module": "@jupyter-widgets/controls",
            "_model_module_version": "1.5.0",
            "_model_name": "HTMLModel",
            "_view_count": null,
            "_view_module": "@jupyter-widgets/controls",
            "_view_module_version": "1.5.0",
            "_view_name": "HTMLView",
            "description": "",
            "description_tooltip": null,
            "layout": "IPY_MODEL_275ce6f1b5604f1c81494a09acbbe0ca",
            "placeholder": "​",
            "style": "IPY_MODEL_a9776d38fd6a4fbe8f6cf7c30997b90d",
            "value": " 3/3 [00:31&lt;00:00, 10.42s/it]"
          }
        },
        "991ea31179f94d379250a0015a1df3ac": {
          "model_module": "@jupyter-widgets/base",
          "model_name": "LayoutModel",
          "model_module_version": "1.2.0",
          "state": {
            "_model_module": "@jupyter-widgets/base",
            "_model_module_version": "1.2.0",
            "_model_name": "LayoutModel",
            "_view_count": null,
            "_view_module": "@jupyter-widgets/base",
            "_view_module_version": "1.2.0",
            "_view_name": "LayoutView",
            "align_content": null,
            "align_items": null,
            "align_self": null,
            "border": null,
            "bottom": null,
            "display": null,
            "flex": null,
            "flex_flow": null,
            "grid_area": null,
            "grid_auto_columns": null,
            "grid_auto_flow": null,
            "grid_auto_rows": null,
            "grid_column": null,
            "grid_gap": null,
            "grid_row": null,
            "grid_template_areas": null,
            "grid_template_columns": null,
            "grid_template_rows": null,
            "height": null,
            "justify_content": null,
            "justify_items": null,
            "left": null,
            "margin": null,
            "max_height": null,
            "max_width": null,
            "min_height": null,
            "min_width": null,
            "object_fit": null,
            "object_position": null,
            "order": null,
            "overflow": null,
            "overflow_x": null,
            "overflow_y": null,
            "padding": null,
            "right": null,
            "top": null,
            "visibility": null,
            "width": null
          }
        },
        "1b282c4d52bb41c2b48ff9d97bc816eb": {
          "model_module": "@jupyter-widgets/base",
          "model_name": "LayoutModel",
          "model_module_version": "1.2.0",
          "state": {
            "_model_module": "@jupyter-widgets/base",
            "_model_module_version": "1.2.0",
            "_model_name": "LayoutModel",
            "_view_count": null,
            "_view_module": "@jupyter-widgets/base",
            "_view_module_version": "1.2.0",
            "_view_name": "LayoutView",
            "align_content": null,
            "align_items": null,
            "align_self": null,
            "border": null,
            "bottom": null,
            "display": null,
            "flex": null,
            "flex_flow": null,
            "grid_area": null,
            "grid_auto_columns": null,
            "grid_auto_flow": null,
            "grid_auto_rows": null,
            "grid_column": null,
            "grid_gap": null,
            "grid_row": null,
            "grid_template_areas": null,
            "grid_template_columns": null,
            "grid_template_rows": null,
            "height": null,
            "justify_content": null,
            "justify_items": null,
            "left": null,
            "margin": null,
            "max_height": null,
            "max_width": null,
            "min_height": null,
            "min_width": null,
            "object_fit": null,
            "object_position": null,
            "order": null,
            "overflow": null,
            "overflow_x": null,
            "overflow_y": null,
            "padding": null,
            "right": null,
            "top": null,
            "visibility": null,
            "width": null
          }
        },
        "8a6b55edfbe34da39c688e8752cf4083": {
          "model_module": "@jupyter-widgets/controls",
          "model_name": "DescriptionStyleModel",
          "model_module_version": "1.5.0",
          "state": {
            "_model_module": "@jupyter-widgets/controls",
            "_model_module_version": "1.5.0",
            "_model_name": "DescriptionStyleModel",
            "_view_count": null,
            "_view_module": "@jupyter-widgets/base",
            "_view_module_version": "1.2.0",
            "_view_name": "StyleView",
            "description_width": ""
          }
        },
        "824219df47f747a88a066540552e2e31": {
          "model_module": "@jupyter-widgets/base",
          "model_name": "LayoutModel",
          "model_module_version": "1.2.0",
          "state": {
            "_model_module": "@jupyter-widgets/base",
            "_model_module_version": "1.2.0",
            "_model_name": "LayoutModel",
            "_view_count": null,
            "_view_module": "@jupyter-widgets/base",
            "_view_module_version": "1.2.0",
            "_view_name": "LayoutView",
            "align_content": null,
            "align_items": null,
            "align_self": null,
            "border": null,
            "bottom": null,
            "display": null,
            "flex": null,
            "flex_flow": null,
            "grid_area": null,
            "grid_auto_columns": null,
            "grid_auto_flow": null,
            "grid_auto_rows": null,
            "grid_column": null,
            "grid_gap": null,
            "grid_row": null,
            "grid_template_areas": null,
            "grid_template_columns": null,
            "grid_template_rows": null,
            "height": null,
            "justify_content": null,
            "justify_items": null,
            "left": null,
            "margin": null,
            "max_height": null,
            "max_width": null,
            "min_height": null,
            "min_width": null,
            "object_fit": null,
            "object_position": null,
            "order": null,
            "overflow": null,
            "overflow_x": null,
            "overflow_y": null,
            "padding": null,
            "right": null,
            "top": null,
            "visibility": null,
            "width": null
          }
        },
        "6db2eab0d1de434f80fa5ecad13877fe": {
          "model_module": "@jupyter-widgets/controls",
          "model_name": "ProgressStyleModel",
          "model_module_version": "1.5.0",
          "state": {
            "_model_module": "@jupyter-widgets/controls",
            "_model_module_version": "1.5.0",
            "_model_name": "ProgressStyleModel",
            "_view_count": null,
            "_view_module": "@jupyter-widgets/base",
            "_view_module_version": "1.2.0",
            "_view_name": "StyleView",
            "bar_color": null,
            "description_width": ""
          }
        },
        "275ce6f1b5604f1c81494a09acbbe0ca": {
          "model_module": "@jupyter-widgets/base",
          "model_name": "LayoutModel",
          "model_module_version": "1.2.0",
          "state": {
            "_model_module": "@jupyter-widgets/base",
            "_model_module_version": "1.2.0",
            "_model_name": "LayoutModel",
            "_view_count": null,
            "_view_module": "@jupyter-widgets/base",
            "_view_module_version": "1.2.0",
            "_view_name": "LayoutView",
            "align_content": null,
            "align_items": null,
            "align_self": null,
            "border": null,
            "bottom": null,
            "display": null,
            "flex": null,
            "flex_flow": null,
            "grid_area": null,
            "grid_auto_columns": null,
            "grid_auto_flow": null,
            "grid_auto_rows": null,
            "grid_column": null,
            "grid_gap": null,
            "grid_row": null,
            "grid_template_areas": null,
            "grid_template_columns": null,
            "grid_template_rows": null,
            "height": null,
            "justify_content": null,
            "justify_items": null,
            "left": null,
            "margin": null,
            "max_height": null,
            "max_width": null,
            "min_height": null,
            "min_width": null,
            "object_fit": null,
            "object_position": null,
            "order": null,
            "overflow": null,
            "overflow_x": null,
            "overflow_y": null,
            "padding": null,
            "right": null,
            "top": null,
            "visibility": null,
            "width": null
          }
        },
        "a9776d38fd6a4fbe8f6cf7c30997b90d": {
          "model_module": "@jupyter-widgets/controls",
          "model_name": "DescriptionStyleModel",
          "model_module_version": "1.5.0",
          "state": {
            "_model_module": "@jupyter-widgets/controls",
            "_model_module_version": "1.5.0",
            "_model_name": "DescriptionStyleModel",
            "_view_count": null,
            "_view_module": "@jupyter-widgets/base",
            "_view_module_version": "1.2.0",
            "_view_name": "StyleView",
            "description_width": ""
          }
        },
        "8b5b71074bf94d778b773f725389b462": {
          "model_module": "@jupyter-widgets/controls",
          "model_name": "HBoxModel",
          "model_module_version": "1.5.0",
          "state": {
            "_dom_classes": [],
            "_model_module": "@jupyter-widgets/controls",
            "_model_module_version": "1.5.0",
            "_model_name": "HBoxModel",
            "_view_count": null,
            "_view_module": "@jupyter-widgets/controls",
            "_view_module_version": "1.5.0",
            "_view_name": "HBoxView",
            "box_style": "",
            "children": [
              "IPY_MODEL_89846e5016cb4e5d97646f3dd93b08d1",
              "IPY_MODEL_3964da164a4242a3baf750ec65607acf",
              "IPY_MODEL_2d1035b74b814daa96871c411f0f114f"
            ],
            "layout": "IPY_MODEL_473ee6c2d0424f348ac17546ec8c443d"
          }
        },
        "89846e5016cb4e5d97646f3dd93b08d1": {
          "model_module": "@jupyter-widgets/controls",
          "model_name": "HTMLModel",
          "model_module_version": "1.5.0",
          "state": {
            "_dom_classes": [],
            "_model_module": "@jupyter-widgets/controls",
            "_model_module_version": "1.5.0",
            "_model_name": "HTMLModel",
            "_view_count": null,
            "_view_module": "@jupyter-widgets/controls",
            "_view_module_version": "1.5.0",
            "_view_name": "HTMLView",
            "description": "",
            "description_tooltip": null,
            "layout": "IPY_MODEL_705c173a338a44d5ac4c4ac3527d1591",
            "placeholder": "​",
            "style": "IPY_MODEL_5edd2863b5484fe9b6ee1a2e1c647311",
            "value": "100%"
          }
        },
        "3964da164a4242a3baf750ec65607acf": {
          "model_module": "@jupyter-widgets/controls",
          "model_name": "FloatProgressModel",
          "model_module_version": "1.5.0",
          "state": {
            "_dom_classes": [],
            "_model_module": "@jupyter-widgets/controls",
            "_model_module_version": "1.5.0",
            "_model_name": "FloatProgressModel",
            "_view_count": null,
            "_view_module": "@jupyter-widgets/controls",
            "_view_module_version": "1.5.0",
            "_view_name": "ProgressView",
            "bar_style": "success",
            "description": "",
            "description_tooltip": null,
            "layout": "IPY_MODEL_c279d0c38bac4d838c2560c742707fc0",
            "max": 313,
            "min": 0,
            "orientation": "horizontal",
            "style": "IPY_MODEL_5bb2c1c22da74a34a3e206f947594a85",
            "value": 313
          }
        },
        "2d1035b74b814daa96871c411f0f114f": {
          "model_module": "@jupyter-widgets/controls",
          "model_name": "HTMLModel",
          "model_module_version": "1.5.0",
          "state": {
            "_dom_classes": [],
            "_model_module": "@jupyter-widgets/controls",
            "_model_module_version": "1.5.0",
            "_model_name": "HTMLModel",
            "_view_count": null,
            "_view_module": "@jupyter-widgets/controls",
            "_view_module_version": "1.5.0",
            "_view_name": "HTMLView",
            "description": "",
            "description_tooltip": null,
            "layout": "IPY_MODEL_9d0c56c603f844c9a3d6df6ac290e258",
            "placeholder": "​",
            "style": "IPY_MODEL_4955e55c9c344c33b9b39f22601ca591",
            "value": " 313/313 [00:01&lt;00:00, 259.26it/s]"
          }
        },
        "473ee6c2d0424f348ac17546ec8c443d": {
          "model_module": "@jupyter-widgets/base",
          "model_name": "LayoutModel",
          "model_module_version": "1.2.0",
          "state": {
            "_model_module": "@jupyter-widgets/base",
            "_model_module_version": "1.2.0",
            "_model_name": "LayoutModel",
            "_view_count": null,
            "_view_module": "@jupyter-widgets/base",
            "_view_module_version": "1.2.0",
            "_view_name": "LayoutView",
            "align_content": null,
            "align_items": null,
            "align_self": null,
            "border": null,
            "bottom": null,
            "display": null,
            "flex": null,
            "flex_flow": null,
            "grid_area": null,
            "grid_auto_columns": null,
            "grid_auto_flow": null,
            "grid_auto_rows": null,
            "grid_column": null,
            "grid_gap": null,
            "grid_row": null,
            "grid_template_areas": null,
            "grid_template_columns": null,
            "grid_template_rows": null,
            "height": null,
            "justify_content": null,
            "justify_items": null,
            "left": null,
            "margin": null,
            "max_height": null,
            "max_width": null,
            "min_height": null,
            "min_width": null,
            "object_fit": null,
            "object_position": null,
            "order": null,
            "overflow": null,
            "overflow_x": null,
            "overflow_y": null,
            "padding": null,
            "right": null,
            "top": null,
            "visibility": null,
            "width": null
          }
        },
        "705c173a338a44d5ac4c4ac3527d1591": {
          "model_module": "@jupyter-widgets/base",
          "model_name": "LayoutModel",
          "model_module_version": "1.2.0",
          "state": {
            "_model_module": "@jupyter-widgets/base",
            "_model_module_version": "1.2.0",
            "_model_name": "LayoutModel",
            "_view_count": null,
            "_view_module": "@jupyter-widgets/base",
            "_view_module_version": "1.2.0",
            "_view_name": "LayoutView",
            "align_content": null,
            "align_items": null,
            "align_self": null,
            "border": null,
            "bottom": null,
            "display": null,
            "flex": null,
            "flex_flow": null,
            "grid_area": null,
            "grid_auto_columns": null,
            "grid_auto_flow": null,
            "grid_auto_rows": null,
            "grid_column": null,
            "grid_gap": null,
            "grid_row": null,
            "grid_template_areas": null,
            "grid_template_columns": null,
            "grid_template_rows": null,
            "height": null,
            "justify_content": null,
            "justify_items": null,
            "left": null,
            "margin": null,
            "max_height": null,
            "max_width": null,
            "min_height": null,
            "min_width": null,
            "object_fit": null,
            "object_position": null,
            "order": null,
            "overflow": null,
            "overflow_x": null,
            "overflow_y": null,
            "padding": null,
            "right": null,
            "top": null,
            "visibility": null,
            "width": null
          }
        },
        "5edd2863b5484fe9b6ee1a2e1c647311": {
          "model_module": "@jupyter-widgets/controls",
          "model_name": "DescriptionStyleModel",
          "model_module_version": "1.5.0",
          "state": {
            "_model_module": "@jupyter-widgets/controls",
            "_model_module_version": "1.5.0",
            "_model_name": "DescriptionStyleModel",
            "_view_count": null,
            "_view_module": "@jupyter-widgets/base",
            "_view_module_version": "1.2.0",
            "_view_name": "StyleView",
            "description_width": ""
          }
        },
        "c279d0c38bac4d838c2560c742707fc0": {
          "model_module": "@jupyter-widgets/base",
          "model_name": "LayoutModel",
          "model_module_version": "1.2.0",
          "state": {
            "_model_module": "@jupyter-widgets/base",
            "_model_module_version": "1.2.0",
            "_model_name": "LayoutModel",
            "_view_count": null,
            "_view_module": "@jupyter-widgets/base",
            "_view_module_version": "1.2.0",
            "_view_name": "LayoutView",
            "align_content": null,
            "align_items": null,
            "align_self": null,
            "border": null,
            "bottom": null,
            "display": null,
            "flex": null,
            "flex_flow": null,
            "grid_area": null,
            "grid_auto_columns": null,
            "grid_auto_flow": null,
            "grid_auto_rows": null,
            "grid_column": null,
            "grid_gap": null,
            "grid_row": null,
            "grid_template_areas": null,
            "grid_template_columns": null,
            "grid_template_rows": null,
            "height": null,
            "justify_content": null,
            "justify_items": null,
            "left": null,
            "margin": null,
            "max_height": null,
            "max_width": null,
            "min_height": null,
            "min_width": null,
            "object_fit": null,
            "object_position": null,
            "order": null,
            "overflow": null,
            "overflow_x": null,
            "overflow_y": null,
            "padding": null,
            "right": null,
            "top": null,
            "visibility": null,
            "width": null
          }
        },
        "5bb2c1c22da74a34a3e206f947594a85": {
          "model_module": "@jupyter-widgets/controls",
          "model_name": "ProgressStyleModel",
          "model_module_version": "1.5.0",
          "state": {
            "_model_module": "@jupyter-widgets/controls",
            "_model_module_version": "1.5.0",
            "_model_name": "ProgressStyleModel",
            "_view_count": null,
            "_view_module": "@jupyter-widgets/base",
            "_view_module_version": "1.2.0",
            "_view_name": "StyleView",
            "bar_color": null,
            "description_width": ""
          }
        },
        "9d0c56c603f844c9a3d6df6ac290e258": {
          "model_module": "@jupyter-widgets/base",
          "model_name": "LayoutModel",
          "model_module_version": "1.2.0",
          "state": {
            "_model_module": "@jupyter-widgets/base",
            "_model_module_version": "1.2.0",
            "_model_name": "LayoutModel",
            "_view_count": null,
            "_view_module": "@jupyter-widgets/base",
            "_view_module_version": "1.2.0",
            "_view_name": "LayoutView",
            "align_content": null,
            "align_items": null,
            "align_self": null,
            "border": null,
            "bottom": null,
            "display": null,
            "flex": null,
            "flex_flow": null,
            "grid_area": null,
            "grid_auto_columns": null,
            "grid_auto_flow": null,
            "grid_auto_rows": null,
            "grid_column": null,
            "grid_gap": null,
            "grid_row": null,
            "grid_template_areas": null,
            "grid_template_columns": null,
            "grid_template_rows": null,
            "height": null,
            "justify_content": null,
            "justify_items": null,
            "left": null,
            "margin": null,
            "max_height": null,
            "max_width": null,
            "min_height": null,
            "min_width": null,
            "object_fit": null,
            "object_position": null,
            "order": null,
            "overflow": null,
            "overflow_x": null,
            "overflow_y": null,
            "padding": null,
            "right": null,
            "top": null,
            "visibility": null,
            "width": null
          }
        },
        "4955e55c9c344c33b9b39f22601ca591": {
          "model_module": "@jupyter-widgets/controls",
          "model_name": "DescriptionStyleModel",
          "model_module_version": "1.5.0",
          "state": {
            "_model_module": "@jupyter-widgets/controls",
            "_model_module_version": "1.5.0",
            "_model_name": "DescriptionStyleModel",
            "_view_count": null,
            "_view_module": "@jupyter-widgets/base",
            "_view_module_version": "1.2.0",
            "_view_name": "StyleView",
            "description_width": ""
          }
        },
        "74257e9efbb246378fddb8b699e52be0": {
          "model_module": "@jupyter-widgets/controls",
          "model_name": "HBoxModel",
          "model_module_version": "1.5.0",
          "state": {
            "_dom_classes": [],
            "_model_module": "@jupyter-widgets/controls",
            "_model_module_version": "1.5.0",
            "_model_name": "HBoxModel",
            "_view_count": null,
            "_view_module": "@jupyter-widgets/controls",
            "_view_module_version": "1.5.0",
            "_view_name": "HBoxView",
            "box_style": "",
            "children": [
              "IPY_MODEL_b188d74a8bce410e99d1ac4549f52828",
              "IPY_MODEL_a670d3ccb40b408cb029d79b573dad23",
              "IPY_MODEL_10221b4f304f404bb0faaaad86146fb4"
            ],
            "layout": "IPY_MODEL_518a408ef06f41f5ae4f16bcc8bd24a0"
          }
        },
        "b188d74a8bce410e99d1ac4549f52828": {
          "model_module": "@jupyter-widgets/controls",
          "model_name": "HTMLModel",
          "model_module_version": "1.5.0",
          "state": {
            "_dom_classes": [],
            "_model_module": "@jupyter-widgets/controls",
            "_model_module_version": "1.5.0",
            "_model_name": "HTMLModel",
            "_view_count": null,
            "_view_module": "@jupyter-widgets/controls",
            "_view_module_version": "1.5.0",
            "_view_name": "HTMLView",
            "description": "",
            "description_tooltip": null,
            "layout": "IPY_MODEL_5a66b08c7cf94e6eaa90c0cf0f821f96",
            "placeholder": "​",
            "style": "IPY_MODEL_434772fd1ed64971bbca9b2933667a70",
            "value": "100%"
          }
        },
        "a670d3ccb40b408cb029d79b573dad23": {
          "model_module": "@jupyter-widgets/controls",
          "model_name": "FloatProgressModel",
          "model_module_version": "1.5.0",
          "state": {
            "_dom_classes": [],
            "_model_module": "@jupyter-widgets/controls",
            "_model_module_version": "1.5.0",
            "_model_name": "FloatProgressModel",
            "_view_count": null,
            "_view_module": "@jupyter-widgets/controls",
            "_view_module_version": "1.5.0",
            "_view_name": "ProgressView",
            "bar_style": "success",
            "description": "",
            "description_tooltip": null,
            "layout": "IPY_MODEL_366e3849a52d4a05bf441a3e6274828c",
            "max": 3,
            "min": 0,
            "orientation": "horizontal",
            "style": "IPY_MODEL_ea52c10f36e04e56acb6a521edf23372",
            "value": 3
          }
        },
        "10221b4f304f404bb0faaaad86146fb4": {
          "model_module": "@jupyter-widgets/controls",
          "model_name": "HTMLModel",
          "model_module_version": "1.5.0",
          "state": {
            "_dom_classes": [],
            "_model_module": "@jupyter-widgets/controls",
            "_model_module_version": "1.5.0",
            "_model_name": "HTMLModel",
            "_view_count": null,
            "_view_module": "@jupyter-widgets/controls",
            "_view_module_version": "1.5.0",
            "_view_name": "HTMLView",
            "description": "",
            "description_tooltip": null,
            "layout": "IPY_MODEL_dc054ff0da57477ab9c065664dd921c8",
            "placeholder": "​",
            "style": "IPY_MODEL_56ba518c8c114928bc371365827186d1",
            "value": " 3/3 [00:30&lt;00:00,  9.95s/it]"
          }
        },
        "518a408ef06f41f5ae4f16bcc8bd24a0": {
          "model_module": "@jupyter-widgets/base",
          "model_name": "LayoutModel",
          "model_module_version": "1.2.0",
          "state": {
            "_model_module": "@jupyter-widgets/base",
            "_model_module_version": "1.2.0",
            "_model_name": "LayoutModel",
            "_view_count": null,
            "_view_module": "@jupyter-widgets/base",
            "_view_module_version": "1.2.0",
            "_view_name": "LayoutView",
            "align_content": null,
            "align_items": null,
            "align_self": null,
            "border": null,
            "bottom": null,
            "display": null,
            "flex": null,
            "flex_flow": null,
            "grid_area": null,
            "grid_auto_columns": null,
            "grid_auto_flow": null,
            "grid_auto_rows": null,
            "grid_column": null,
            "grid_gap": null,
            "grid_row": null,
            "grid_template_areas": null,
            "grid_template_columns": null,
            "grid_template_rows": null,
            "height": null,
            "justify_content": null,
            "justify_items": null,
            "left": null,
            "margin": null,
            "max_height": null,
            "max_width": null,
            "min_height": null,
            "min_width": null,
            "object_fit": null,
            "object_position": null,
            "order": null,
            "overflow": null,
            "overflow_x": null,
            "overflow_y": null,
            "padding": null,
            "right": null,
            "top": null,
            "visibility": null,
            "width": null
          }
        },
        "5a66b08c7cf94e6eaa90c0cf0f821f96": {
          "model_module": "@jupyter-widgets/base",
          "model_name": "LayoutModel",
          "model_module_version": "1.2.0",
          "state": {
            "_model_module": "@jupyter-widgets/base",
            "_model_module_version": "1.2.0",
            "_model_name": "LayoutModel",
            "_view_count": null,
            "_view_module": "@jupyter-widgets/base",
            "_view_module_version": "1.2.0",
            "_view_name": "LayoutView",
            "align_content": null,
            "align_items": null,
            "align_self": null,
            "border": null,
            "bottom": null,
            "display": null,
            "flex": null,
            "flex_flow": null,
            "grid_area": null,
            "grid_auto_columns": null,
            "grid_auto_flow": null,
            "grid_auto_rows": null,
            "grid_column": null,
            "grid_gap": null,
            "grid_row": null,
            "grid_template_areas": null,
            "grid_template_columns": null,
            "grid_template_rows": null,
            "height": null,
            "justify_content": null,
            "justify_items": null,
            "left": null,
            "margin": null,
            "max_height": null,
            "max_width": null,
            "min_height": null,
            "min_width": null,
            "object_fit": null,
            "object_position": null,
            "order": null,
            "overflow": null,
            "overflow_x": null,
            "overflow_y": null,
            "padding": null,
            "right": null,
            "top": null,
            "visibility": null,
            "width": null
          }
        },
        "434772fd1ed64971bbca9b2933667a70": {
          "model_module": "@jupyter-widgets/controls",
          "model_name": "DescriptionStyleModel",
          "model_module_version": "1.5.0",
          "state": {
            "_model_module": "@jupyter-widgets/controls",
            "_model_module_version": "1.5.0",
            "_model_name": "DescriptionStyleModel",
            "_view_count": null,
            "_view_module": "@jupyter-widgets/base",
            "_view_module_version": "1.2.0",
            "_view_name": "StyleView",
            "description_width": ""
          }
        },
        "366e3849a52d4a05bf441a3e6274828c": {
          "model_module": "@jupyter-widgets/base",
          "model_name": "LayoutModel",
          "model_module_version": "1.2.0",
          "state": {
            "_model_module": "@jupyter-widgets/base",
            "_model_module_version": "1.2.0",
            "_model_name": "LayoutModel",
            "_view_count": null,
            "_view_module": "@jupyter-widgets/base",
            "_view_module_version": "1.2.0",
            "_view_name": "LayoutView",
            "align_content": null,
            "align_items": null,
            "align_self": null,
            "border": null,
            "bottom": null,
            "display": null,
            "flex": null,
            "flex_flow": null,
            "grid_area": null,
            "grid_auto_columns": null,
            "grid_auto_flow": null,
            "grid_auto_rows": null,
            "grid_column": null,
            "grid_gap": null,
            "grid_row": null,
            "grid_template_areas": null,
            "grid_template_columns": null,
            "grid_template_rows": null,
            "height": null,
            "justify_content": null,
            "justify_items": null,
            "left": null,
            "margin": null,
            "max_height": null,
            "max_width": null,
            "min_height": null,
            "min_width": null,
            "object_fit": null,
            "object_position": null,
            "order": null,
            "overflow": null,
            "overflow_x": null,
            "overflow_y": null,
            "padding": null,
            "right": null,
            "top": null,
            "visibility": null,
            "width": null
          }
        },
        "ea52c10f36e04e56acb6a521edf23372": {
          "model_module": "@jupyter-widgets/controls",
          "model_name": "ProgressStyleModel",
          "model_module_version": "1.5.0",
          "state": {
            "_model_module": "@jupyter-widgets/controls",
            "_model_module_version": "1.5.0",
            "_model_name": "ProgressStyleModel",
            "_view_count": null,
            "_view_module": "@jupyter-widgets/base",
            "_view_module_version": "1.2.0",
            "_view_name": "StyleView",
            "bar_color": null,
            "description_width": ""
          }
        },
        "dc054ff0da57477ab9c065664dd921c8": {
          "model_module": "@jupyter-widgets/base",
          "model_name": "LayoutModel",
          "model_module_version": "1.2.0",
          "state": {
            "_model_module": "@jupyter-widgets/base",
            "_model_module_version": "1.2.0",
            "_model_name": "LayoutModel",
            "_view_count": null,
            "_view_module": "@jupyter-widgets/base",
            "_view_module_version": "1.2.0",
            "_view_name": "LayoutView",
            "align_content": null,
            "align_items": null,
            "align_self": null,
            "border": null,
            "bottom": null,
            "display": null,
            "flex": null,
            "flex_flow": null,
            "grid_area": null,
            "grid_auto_columns": null,
            "grid_auto_flow": null,
            "grid_auto_rows": null,
            "grid_column": null,
            "grid_gap": null,
            "grid_row": null,
            "grid_template_areas": null,
            "grid_template_columns": null,
            "grid_template_rows": null,
            "height": null,
            "justify_content": null,
            "justify_items": null,
            "left": null,
            "margin": null,
            "max_height": null,
            "max_width": null,
            "min_height": null,
            "min_width": null,
            "object_fit": null,
            "object_position": null,
            "order": null,
            "overflow": null,
            "overflow_x": null,
            "overflow_y": null,
            "padding": null,
            "right": null,
            "top": null,
            "visibility": null,
            "width": null
          }
        },
        "56ba518c8c114928bc371365827186d1": {
          "model_module": "@jupyter-widgets/controls",
          "model_name": "DescriptionStyleModel",
          "model_module_version": "1.5.0",
          "state": {
            "_model_module": "@jupyter-widgets/controls",
            "_model_module_version": "1.5.0",
            "_model_name": "DescriptionStyleModel",
            "_view_count": null,
            "_view_module": "@jupyter-widgets/base",
            "_view_module_version": "1.2.0",
            "_view_name": "StyleView",
            "description_width": ""
          }
        },
        "3788655ea14849c98a005b56fd75bbb6": {
          "model_module": "@jupyter-widgets/controls",
          "model_name": "HBoxModel",
          "model_module_version": "1.5.0",
          "state": {
            "_dom_classes": [],
            "_model_module": "@jupyter-widgets/controls",
            "_model_module_version": "1.5.0",
            "_model_name": "HBoxModel",
            "_view_count": null,
            "_view_module": "@jupyter-widgets/controls",
            "_view_module_version": "1.5.0",
            "_view_name": "HBoxView",
            "box_style": "",
            "children": [
              "IPY_MODEL_c640c9db61214b74b5badf27396189bf",
              "IPY_MODEL_b9defdfb6a7a4eef8cb937e4d0093a29",
              "IPY_MODEL_007efead8a884250a7d5fcbe18aa944d"
            ],
            "layout": "IPY_MODEL_28fcbb5f90384a459b02cd8d47bf5319"
          }
        },
        "c640c9db61214b74b5badf27396189bf": {
          "model_module": "@jupyter-widgets/controls",
          "model_name": "HTMLModel",
          "model_module_version": "1.5.0",
          "state": {
            "_dom_classes": [],
            "_model_module": "@jupyter-widgets/controls",
            "_model_module_version": "1.5.0",
            "_model_name": "HTMLModel",
            "_view_count": null,
            "_view_module": "@jupyter-widgets/controls",
            "_view_module_version": "1.5.0",
            "_view_name": "HTMLView",
            "description": "",
            "description_tooltip": null,
            "layout": "IPY_MODEL_f78c27f6ecb54055929751ca59b476e3",
            "placeholder": "​",
            "style": "IPY_MODEL_2db3464f32164e199e4c1631e6f8da3c",
            "value": "100%"
          }
        },
        "b9defdfb6a7a4eef8cb937e4d0093a29": {
          "model_module": "@jupyter-widgets/controls",
          "model_name": "FloatProgressModel",
          "model_module_version": "1.5.0",
          "state": {
            "_dom_classes": [],
            "_model_module": "@jupyter-widgets/controls",
            "_model_module_version": "1.5.0",
            "_model_name": "FloatProgressModel",
            "_view_count": null,
            "_view_module": "@jupyter-widgets/controls",
            "_view_module_version": "1.5.0",
            "_view_name": "ProgressView",
            "bar_style": "success",
            "description": "",
            "description_tooltip": null,
            "layout": "IPY_MODEL_1bc066d3e794479bbb09696e12e3ada0",
            "max": 313,
            "min": 0,
            "orientation": "horizontal",
            "style": "IPY_MODEL_989face4b42a446aa40707ff2ddc0e87",
            "value": 313
          }
        },
        "007efead8a884250a7d5fcbe18aa944d": {
          "model_module": "@jupyter-widgets/controls",
          "model_name": "HTMLModel",
          "model_module_version": "1.5.0",
          "state": {
            "_dom_classes": [],
            "_model_module": "@jupyter-widgets/controls",
            "_model_module_version": "1.5.0",
            "_model_name": "HTMLModel",
            "_view_count": null,
            "_view_module": "@jupyter-widgets/controls",
            "_view_module_version": "1.5.0",
            "_view_name": "HTMLView",
            "description": "",
            "description_tooltip": null,
            "layout": "IPY_MODEL_658a5fae6cc84c9f9758c8a5f9947320",
            "placeholder": "​",
            "style": "IPY_MODEL_25c602940aea45b884a812756325d582",
            "value": " 313/313 [00:01&lt;00:00, 264.90it/s]"
          }
        },
        "28fcbb5f90384a459b02cd8d47bf5319": {
          "model_module": "@jupyter-widgets/base",
          "model_name": "LayoutModel",
          "model_module_version": "1.2.0",
          "state": {
            "_model_module": "@jupyter-widgets/base",
            "_model_module_version": "1.2.0",
            "_model_name": "LayoutModel",
            "_view_count": null,
            "_view_module": "@jupyter-widgets/base",
            "_view_module_version": "1.2.0",
            "_view_name": "LayoutView",
            "align_content": null,
            "align_items": null,
            "align_self": null,
            "border": null,
            "bottom": null,
            "display": null,
            "flex": null,
            "flex_flow": null,
            "grid_area": null,
            "grid_auto_columns": null,
            "grid_auto_flow": null,
            "grid_auto_rows": null,
            "grid_column": null,
            "grid_gap": null,
            "grid_row": null,
            "grid_template_areas": null,
            "grid_template_columns": null,
            "grid_template_rows": null,
            "height": null,
            "justify_content": null,
            "justify_items": null,
            "left": null,
            "margin": null,
            "max_height": null,
            "max_width": null,
            "min_height": null,
            "min_width": null,
            "object_fit": null,
            "object_position": null,
            "order": null,
            "overflow": null,
            "overflow_x": null,
            "overflow_y": null,
            "padding": null,
            "right": null,
            "top": null,
            "visibility": null,
            "width": null
          }
        },
        "f78c27f6ecb54055929751ca59b476e3": {
          "model_module": "@jupyter-widgets/base",
          "model_name": "LayoutModel",
          "model_module_version": "1.2.0",
          "state": {
            "_model_module": "@jupyter-widgets/base",
            "_model_module_version": "1.2.0",
            "_model_name": "LayoutModel",
            "_view_count": null,
            "_view_module": "@jupyter-widgets/base",
            "_view_module_version": "1.2.0",
            "_view_name": "LayoutView",
            "align_content": null,
            "align_items": null,
            "align_self": null,
            "border": null,
            "bottom": null,
            "display": null,
            "flex": null,
            "flex_flow": null,
            "grid_area": null,
            "grid_auto_columns": null,
            "grid_auto_flow": null,
            "grid_auto_rows": null,
            "grid_column": null,
            "grid_gap": null,
            "grid_row": null,
            "grid_template_areas": null,
            "grid_template_columns": null,
            "grid_template_rows": null,
            "height": null,
            "justify_content": null,
            "justify_items": null,
            "left": null,
            "margin": null,
            "max_height": null,
            "max_width": null,
            "min_height": null,
            "min_width": null,
            "object_fit": null,
            "object_position": null,
            "order": null,
            "overflow": null,
            "overflow_x": null,
            "overflow_y": null,
            "padding": null,
            "right": null,
            "top": null,
            "visibility": null,
            "width": null
          }
        },
        "2db3464f32164e199e4c1631e6f8da3c": {
          "model_module": "@jupyter-widgets/controls",
          "model_name": "DescriptionStyleModel",
          "model_module_version": "1.5.0",
          "state": {
            "_model_module": "@jupyter-widgets/controls",
            "_model_module_version": "1.5.0",
            "_model_name": "DescriptionStyleModel",
            "_view_count": null,
            "_view_module": "@jupyter-widgets/base",
            "_view_module_version": "1.2.0",
            "_view_name": "StyleView",
            "description_width": ""
          }
        },
        "1bc066d3e794479bbb09696e12e3ada0": {
          "model_module": "@jupyter-widgets/base",
          "model_name": "LayoutModel",
          "model_module_version": "1.2.0",
          "state": {
            "_model_module": "@jupyter-widgets/base",
            "_model_module_version": "1.2.0",
            "_model_name": "LayoutModel",
            "_view_count": null,
            "_view_module": "@jupyter-widgets/base",
            "_view_module_version": "1.2.0",
            "_view_name": "LayoutView",
            "align_content": null,
            "align_items": null,
            "align_self": null,
            "border": null,
            "bottom": null,
            "display": null,
            "flex": null,
            "flex_flow": null,
            "grid_area": null,
            "grid_auto_columns": null,
            "grid_auto_flow": null,
            "grid_auto_rows": null,
            "grid_column": null,
            "grid_gap": null,
            "grid_row": null,
            "grid_template_areas": null,
            "grid_template_columns": null,
            "grid_template_rows": null,
            "height": null,
            "justify_content": null,
            "justify_items": null,
            "left": null,
            "margin": null,
            "max_height": null,
            "max_width": null,
            "min_height": null,
            "min_width": null,
            "object_fit": null,
            "object_position": null,
            "order": null,
            "overflow": null,
            "overflow_x": null,
            "overflow_y": null,
            "padding": null,
            "right": null,
            "top": null,
            "visibility": null,
            "width": null
          }
        },
        "989face4b42a446aa40707ff2ddc0e87": {
          "model_module": "@jupyter-widgets/controls",
          "model_name": "ProgressStyleModel",
          "model_module_version": "1.5.0",
          "state": {
            "_model_module": "@jupyter-widgets/controls",
            "_model_module_version": "1.5.0",
            "_model_name": "ProgressStyleModel",
            "_view_count": null,
            "_view_module": "@jupyter-widgets/base",
            "_view_module_version": "1.2.0",
            "_view_name": "StyleView",
            "bar_color": null,
            "description_width": ""
          }
        },
        "658a5fae6cc84c9f9758c8a5f9947320": {
          "model_module": "@jupyter-widgets/base",
          "model_name": "LayoutModel",
          "model_module_version": "1.2.0",
          "state": {
            "_model_module": "@jupyter-widgets/base",
            "_model_module_version": "1.2.0",
            "_model_name": "LayoutModel",
            "_view_count": null,
            "_view_module": "@jupyter-widgets/base",
            "_view_module_version": "1.2.0",
            "_view_name": "LayoutView",
            "align_content": null,
            "align_items": null,
            "align_self": null,
            "border": null,
            "bottom": null,
            "display": null,
            "flex": null,
            "flex_flow": null,
            "grid_area": null,
            "grid_auto_columns": null,
            "grid_auto_flow": null,
            "grid_auto_rows": null,
            "grid_column": null,
            "grid_gap": null,
            "grid_row": null,
            "grid_template_areas": null,
            "grid_template_columns": null,
            "grid_template_rows": null,
            "height": null,
            "justify_content": null,
            "justify_items": null,
            "left": null,
            "margin": null,
            "max_height": null,
            "max_width": null,
            "min_height": null,
            "min_width": null,
            "object_fit": null,
            "object_position": null,
            "order": null,
            "overflow": null,
            "overflow_x": null,
            "overflow_y": null,
            "padding": null,
            "right": null,
            "top": null,
            "visibility": null,
            "width": null
          }
        },
        "25c602940aea45b884a812756325d582": {
          "model_module": "@jupyter-widgets/controls",
          "model_name": "DescriptionStyleModel",
          "model_module_version": "1.5.0",
          "state": {
            "_model_module": "@jupyter-widgets/controls",
            "_model_module_version": "1.5.0",
            "_model_name": "DescriptionStyleModel",
            "_view_count": null,
            "_view_module": "@jupyter-widgets/base",
            "_view_module_version": "1.2.0",
            "_view_name": "StyleView",
            "description_width": ""
          }
        },
        "defb688df796473ea346219d44c0dfb2": {
          "model_module": "@jupyter-widgets/controls",
          "model_name": "HBoxModel",
          "model_module_version": "1.5.0",
          "state": {
            "_dom_classes": [],
            "_model_module": "@jupyter-widgets/controls",
            "_model_module_version": "1.5.0",
            "_model_name": "HBoxModel",
            "_view_count": null,
            "_view_module": "@jupyter-widgets/controls",
            "_view_module_version": "1.5.0",
            "_view_name": "HBoxView",
            "box_style": "",
            "children": [
              "IPY_MODEL_bce818e81d774506bcf951bde56181eb",
              "IPY_MODEL_da2becc698e044e49cafd1dc0a2e9eb6",
              "IPY_MODEL_52a8818ed8ef4bd6b4ceb52d307210cf"
            ],
            "layout": "IPY_MODEL_fe4694bdfb164ac5b4a40a2484c5e6ff"
          }
        },
        "bce818e81d774506bcf951bde56181eb": {
          "model_module": "@jupyter-widgets/controls",
          "model_name": "HTMLModel",
          "model_module_version": "1.5.0",
          "state": {
            "_dom_classes": [],
            "_model_module": "@jupyter-widgets/controls",
            "_model_module_version": "1.5.0",
            "_model_name": "HTMLModel",
            "_view_count": null,
            "_view_module": "@jupyter-widgets/controls",
            "_view_module_version": "1.5.0",
            "_view_name": "HTMLView",
            "description": "",
            "description_tooltip": null,
            "layout": "IPY_MODEL_d0daa288c6e541daa399f56795636f04",
            "placeholder": "​",
            "style": "IPY_MODEL_890c9be8237f41a499f6d1f66495cc7d",
            "value": "100%"
          }
        },
        "da2becc698e044e49cafd1dc0a2e9eb6": {
          "model_module": "@jupyter-widgets/controls",
          "model_name": "FloatProgressModel",
          "model_module_version": "1.5.0",
          "state": {
            "_dom_classes": [],
            "_model_module": "@jupyter-widgets/controls",
            "_model_module_version": "1.5.0",
            "_model_name": "FloatProgressModel",
            "_view_count": null,
            "_view_module": "@jupyter-widgets/controls",
            "_view_module_version": "1.5.0",
            "_view_name": "ProgressView",
            "bar_style": "success",
            "description": "",
            "description_tooltip": null,
            "layout": "IPY_MODEL_022d9ab2b51e4d749eedf134ab224e76",
            "max": 3,
            "min": 0,
            "orientation": "horizontal",
            "style": "IPY_MODEL_3b2764eefe9d47c391178d8d5074259e",
            "value": 3
          }
        },
        "52a8818ed8ef4bd6b4ceb52d307210cf": {
          "model_module": "@jupyter-widgets/controls",
          "model_name": "HTMLModel",
          "model_module_version": "1.5.0",
          "state": {
            "_dom_classes": [],
            "_model_module": "@jupyter-widgets/controls",
            "_model_module_version": "1.5.0",
            "_model_name": "HTMLModel",
            "_view_count": null,
            "_view_module": "@jupyter-widgets/controls",
            "_view_module_version": "1.5.0",
            "_view_name": "HTMLView",
            "description": "",
            "description_tooltip": null,
            "layout": "IPY_MODEL_b81fd0f256b44aaca82cbdf9e11c067f",
            "placeholder": "​",
            "style": "IPY_MODEL_1915a91c32c041d9ba5e6ac2ca6dbf44",
            "value": " 3/3 [02:29&lt;00:00, 49.74s/it]"
          }
        },
        "fe4694bdfb164ac5b4a40a2484c5e6ff": {
          "model_module": "@jupyter-widgets/base",
          "model_name": "LayoutModel",
          "model_module_version": "1.2.0",
          "state": {
            "_model_module": "@jupyter-widgets/base",
            "_model_module_version": "1.2.0",
            "_model_name": "LayoutModel",
            "_view_count": null,
            "_view_module": "@jupyter-widgets/base",
            "_view_module_version": "1.2.0",
            "_view_name": "LayoutView",
            "align_content": null,
            "align_items": null,
            "align_self": null,
            "border": null,
            "bottom": null,
            "display": null,
            "flex": null,
            "flex_flow": null,
            "grid_area": null,
            "grid_auto_columns": null,
            "grid_auto_flow": null,
            "grid_auto_rows": null,
            "grid_column": null,
            "grid_gap": null,
            "grid_row": null,
            "grid_template_areas": null,
            "grid_template_columns": null,
            "grid_template_rows": null,
            "height": null,
            "justify_content": null,
            "justify_items": null,
            "left": null,
            "margin": null,
            "max_height": null,
            "max_width": null,
            "min_height": null,
            "min_width": null,
            "object_fit": null,
            "object_position": null,
            "order": null,
            "overflow": null,
            "overflow_x": null,
            "overflow_y": null,
            "padding": null,
            "right": null,
            "top": null,
            "visibility": null,
            "width": null
          }
        },
        "d0daa288c6e541daa399f56795636f04": {
          "model_module": "@jupyter-widgets/base",
          "model_name": "LayoutModel",
          "model_module_version": "1.2.0",
          "state": {
            "_model_module": "@jupyter-widgets/base",
            "_model_module_version": "1.2.0",
            "_model_name": "LayoutModel",
            "_view_count": null,
            "_view_module": "@jupyter-widgets/base",
            "_view_module_version": "1.2.0",
            "_view_name": "LayoutView",
            "align_content": null,
            "align_items": null,
            "align_self": null,
            "border": null,
            "bottom": null,
            "display": null,
            "flex": null,
            "flex_flow": null,
            "grid_area": null,
            "grid_auto_columns": null,
            "grid_auto_flow": null,
            "grid_auto_rows": null,
            "grid_column": null,
            "grid_gap": null,
            "grid_row": null,
            "grid_template_areas": null,
            "grid_template_columns": null,
            "grid_template_rows": null,
            "height": null,
            "justify_content": null,
            "justify_items": null,
            "left": null,
            "margin": null,
            "max_height": null,
            "max_width": null,
            "min_height": null,
            "min_width": null,
            "object_fit": null,
            "object_position": null,
            "order": null,
            "overflow": null,
            "overflow_x": null,
            "overflow_y": null,
            "padding": null,
            "right": null,
            "top": null,
            "visibility": null,
            "width": null
          }
        },
        "890c9be8237f41a499f6d1f66495cc7d": {
          "model_module": "@jupyter-widgets/controls",
          "model_name": "DescriptionStyleModel",
          "model_module_version": "1.5.0",
          "state": {
            "_model_module": "@jupyter-widgets/controls",
            "_model_module_version": "1.5.0",
            "_model_name": "DescriptionStyleModel",
            "_view_count": null,
            "_view_module": "@jupyter-widgets/base",
            "_view_module_version": "1.2.0",
            "_view_name": "StyleView",
            "description_width": ""
          }
        },
        "022d9ab2b51e4d749eedf134ab224e76": {
          "model_module": "@jupyter-widgets/base",
          "model_name": "LayoutModel",
          "model_module_version": "1.2.0",
          "state": {
            "_model_module": "@jupyter-widgets/base",
            "_model_module_version": "1.2.0",
            "_model_name": "LayoutModel",
            "_view_count": null,
            "_view_module": "@jupyter-widgets/base",
            "_view_module_version": "1.2.0",
            "_view_name": "LayoutView",
            "align_content": null,
            "align_items": null,
            "align_self": null,
            "border": null,
            "bottom": null,
            "display": null,
            "flex": null,
            "flex_flow": null,
            "grid_area": null,
            "grid_auto_columns": null,
            "grid_auto_flow": null,
            "grid_auto_rows": null,
            "grid_column": null,
            "grid_gap": null,
            "grid_row": null,
            "grid_template_areas": null,
            "grid_template_columns": null,
            "grid_template_rows": null,
            "height": null,
            "justify_content": null,
            "justify_items": null,
            "left": null,
            "margin": null,
            "max_height": null,
            "max_width": null,
            "min_height": null,
            "min_width": null,
            "object_fit": null,
            "object_position": null,
            "order": null,
            "overflow": null,
            "overflow_x": null,
            "overflow_y": null,
            "padding": null,
            "right": null,
            "top": null,
            "visibility": null,
            "width": null
          }
        },
        "3b2764eefe9d47c391178d8d5074259e": {
          "model_module": "@jupyter-widgets/controls",
          "model_name": "ProgressStyleModel",
          "model_module_version": "1.5.0",
          "state": {
            "_model_module": "@jupyter-widgets/controls",
            "_model_module_version": "1.5.0",
            "_model_name": "ProgressStyleModel",
            "_view_count": null,
            "_view_module": "@jupyter-widgets/base",
            "_view_module_version": "1.2.0",
            "_view_name": "StyleView",
            "bar_color": null,
            "description_width": ""
          }
        },
        "b81fd0f256b44aaca82cbdf9e11c067f": {
          "model_module": "@jupyter-widgets/base",
          "model_name": "LayoutModel",
          "model_module_version": "1.2.0",
          "state": {
            "_model_module": "@jupyter-widgets/base",
            "_model_module_version": "1.2.0",
            "_model_name": "LayoutModel",
            "_view_count": null,
            "_view_module": "@jupyter-widgets/base",
            "_view_module_version": "1.2.0",
            "_view_name": "LayoutView",
            "align_content": null,
            "align_items": null,
            "align_self": null,
            "border": null,
            "bottom": null,
            "display": null,
            "flex": null,
            "flex_flow": null,
            "grid_area": null,
            "grid_auto_columns": null,
            "grid_auto_flow": null,
            "grid_auto_rows": null,
            "grid_column": null,
            "grid_gap": null,
            "grid_row": null,
            "grid_template_areas": null,
            "grid_template_columns": null,
            "grid_template_rows": null,
            "height": null,
            "justify_content": null,
            "justify_items": null,
            "left": null,
            "margin": null,
            "max_height": null,
            "max_width": null,
            "min_height": null,
            "min_width": null,
            "object_fit": null,
            "object_position": null,
            "order": null,
            "overflow": null,
            "overflow_x": null,
            "overflow_y": null,
            "padding": null,
            "right": null,
            "top": null,
            "visibility": null,
            "width": null
          }
        },
        "1915a91c32c041d9ba5e6ac2ca6dbf44": {
          "model_module": "@jupyter-widgets/controls",
          "model_name": "DescriptionStyleModel",
          "model_module_version": "1.5.0",
          "state": {
            "_model_module": "@jupyter-widgets/controls",
            "_model_module_version": "1.5.0",
            "_model_name": "DescriptionStyleModel",
            "_view_count": null,
            "_view_module": "@jupyter-widgets/base",
            "_view_module_version": "1.2.0",
            "_view_name": "StyleView",
            "description_width": ""
          }
        },
        "43dab4cfb49141afba30b91dfeb08e50": {
          "model_module": "@jupyter-widgets/controls",
          "model_name": "HBoxModel",
          "model_module_version": "1.5.0",
          "state": {
            "_dom_classes": [],
            "_model_module": "@jupyter-widgets/controls",
            "_model_module_version": "1.5.0",
            "_model_name": "HBoxModel",
            "_view_count": null,
            "_view_module": "@jupyter-widgets/controls",
            "_view_module_version": "1.5.0",
            "_view_name": "HBoxView",
            "box_style": "",
            "children": [
              "IPY_MODEL_8bdfc1e0abf44d74968bf04073a18b74",
              "IPY_MODEL_6c7507cde2d74ceba2b419241bf1d046",
              "IPY_MODEL_3c2d525d90294c2798465605edaea4e2"
            ],
            "layout": "IPY_MODEL_99a4a9ad2da7459884810390a9f505d2"
          }
        },
        "8bdfc1e0abf44d74968bf04073a18b74": {
          "model_module": "@jupyter-widgets/controls",
          "model_name": "HTMLModel",
          "model_module_version": "1.5.0",
          "state": {
            "_dom_classes": [],
            "_model_module": "@jupyter-widgets/controls",
            "_model_module_version": "1.5.0",
            "_model_name": "HTMLModel",
            "_view_count": null,
            "_view_module": "@jupyter-widgets/controls",
            "_view_module_version": "1.5.0",
            "_view_name": "HTMLView",
            "description": "",
            "description_tooltip": null,
            "layout": "IPY_MODEL_83eb8c608ae947ac913cd33fffdb973c",
            "placeholder": "​",
            "style": "IPY_MODEL_2f06ee91299b4c5fb8edceffd2929592",
            "value": "100%"
          }
        },
        "6c7507cde2d74ceba2b419241bf1d046": {
          "model_module": "@jupyter-widgets/controls",
          "model_name": "FloatProgressModel",
          "model_module_version": "1.5.0",
          "state": {
            "_dom_classes": [],
            "_model_module": "@jupyter-widgets/controls",
            "_model_module_version": "1.5.0",
            "_model_name": "FloatProgressModel",
            "_view_count": null,
            "_view_module": "@jupyter-widgets/controls",
            "_view_module_version": "1.5.0",
            "_view_name": "ProgressView",
            "bar_style": "success",
            "description": "",
            "description_tooltip": null,
            "layout": "IPY_MODEL_eeb15a5692e9483a945815485871941c",
            "max": 313,
            "min": 0,
            "orientation": "horizontal",
            "style": "IPY_MODEL_ccd280e34458484b9a2d1a1d91b8474d",
            "value": 313
          }
        },
        "3c2d525d90294c2798465605edaea4e2": {
          "model_module": "@jupyter-widgets/controls",
          "model_name": "HTMLModel",
          "model_module_version": "1.5.0",
          "state": {
            "_dom_classes": [],
            "_model_module": "@jupyter-widgets/controls",
            "_model_module_version": "1.5.0",
            "_model_name": "HTMLModel",
            "_view_count": null,
            "_view_module": "@jupyter-widgets/controls",
            "_view_module_version": "1.5.0",
            "_view_name": "HTMLView",
            "description": "",
            "description_tooltip": null,
            "layout": "IPY_MODEL_298edbb4dd3f4868892c319197a49d99",
            "placeholder": "​",
            "style": "IPY_MODEL_cd4a4399b0c24b48a9171c206f043eae",
            "value": " 313/313 [00:03&lt;00:00, 83.78it/s]"
          }
        },
        "99a4a9ad2da7459884810390a9f505d2": {
          "model_module": "@jupyter-widgets/base",
          "model_name": "LayoutModel",
          "model_module_version": "1.2.0",
          "state": {
            "_model_module": "@jupyter-widgets/base",
            "_model_module_version": "1.2.0",
            "_model_name": "LayoutModel",
            "_view_count": null,
            "_view_module": "@jupyter-widgets/base",
            "_view_module_version": "1.2.0",
            "_view_name": "LayoutView",
            "align_content": null,
            "align_items": null,
            "align_self": null,
            "border": null,
            "bottom": null,
            "display": null,
            "flex": null,
            "flex_flow": null,
            "grid_area": null,
            "grid_auto_columns": null,
            "grid_auto_flow": null,
            "grid_auto_rows": null,
            "grid_column": null,
            "grid_gap": null,
            "grid_row": null,
            "grid_template_areas": null,
            "grid_template_columns": null,
            "grid_template_rows": null,
            "height": null,
            "justify_content": null,
            "justify_items": null,
            "left": null,
            "margin": null,
            "max_height": null,
            "max_width": null,
            "min_height": null,
            "min_width": null,
            "object_fit": null,
            "object_position": null,
            "order": null,
            "overflow": null,
            "overflow_x": null,
            "overflow_y": null,
            "padding": null,
            "right": null,
            "top": null,
            "visibility": null,
            "width": null
          }
        },
        "83eb8c608ae947ac913cd33fffdb973c": {
          "model_module": "@jupyter-widgets/base",
          "model_name": "LayoutModel",
          "model_module_version": "1.2.0",
          "state": {
            "_model_module": "@jupyter-widgets/base",
            "_model_module_version": "1.2.0",
            "_model_name": "LayoutModel",
            "_view_count": null,
            "_view_module": "@jupyter-widgets/base",
            "_view_module_version": "1.2.0",
            "_view_name": "LayoutView",
            "align_content": null,
            "align_items": null,
            "align_self": null,
            "border": null,
            "bottom": null,
            "display": null,
            "flex": null,
            "flex_flow": null,
            "grid_area": null,
            "grid_auto_columns": null,
            "grid_auto_flow": null,
            "grid_auto_rows": null,
            "grid_column": null,
            "grid_gap": null,
            "grid_row": null,
            "grid_template_areas": null,
            "grid_template_columns": null,
            "grid_template_rows": null,
            "height": null,
            "justify_content": null,
            "justify_items": null,
            "left": null,
            "margin": null,
            "max_height": null,
            "max_width": null,
            "min_height": null,
            "min_width": null,
            "object_fit": null,
            "object_position": null,
            "order": null,
            "overflow": null,
            "overflow_x": null,
            "overflow_y": null,
            "padding": null,
            "right": null,
            "top": null,
            "visibility": null,
            "width": null
          }
        },
        "2f06ee91299b4c5fb8edceffd2929592": {
          "model_module": "@jupyter-widgets/controls",
          "model_name": "DescriptionStyleModel",
          "model_module_version": "1.5.0",
          "state": {
            "_model_module": "@jupyter-widgets/controls",
            "_model_module_version": "1.5.0",
            "_model_name": "DescriptionStyleModel",
            "_view_count": null,
            "_view_module": "@jupyter-widgets/base",
            "_view_module_version": "1.2.0",
            "_view_name": "StyleView",
            "description_width": ""
          }
        },
        "eeb15a5692e9483a945815485871941c": {
          "model_module": "@jupyter-widgets/base",
          "model_name": "LayoutModel",
          "model_module_version": "1.2.0",
          "state": {
            "_model_module": "@jupyter-widgets/base",
            "_model_module_version": "1.2.0",
            "_model_name": "LayoutModel",
            "_view_count": null,
            "_view_module": "@jupyter-widgets/base",
            "_view_module_version": "1.2.0",
            "_view_name": "LayoutView",
            "align_content": null,
            "align_items": null,
            "align_self": null,
            "border": null,
            "bottom": null,
            "display": null,
            "flex": null,
            "flex_flow": null,
            "grid_area": null,
            "grid_auto_columns": null,
            "grid_auto_flow": null,
            "grid_auto_rows": null,
            "grid_column": null,
            "grid_gap": null,
            "grid_row": null,
            "grid_template_areas": null,
            "grid_template_columns": null,
            "grid_template_rows": null,
            "height": null,
            "justify_content": null,
            "justify_items": null,
            "left": null,
            "margin": null,
            "max_height": null,
            "max_width": null,
            "min_height": null,
            "min_width": null,
            "object_fit": null,
            "object_position": null,
            "order": null,
            "overflow": null,
            "overflow_x": null,
            "overflow_y": null,
            "padding": null,
            "right": null,
            "top": null,
            "visibility": null,
            "width": null
          }
        },
        "ccd280e34458484b9a2d1a1d91b8474d": {
          "model_module": "@jupyter-widgets/controls",
          "model_name": "ProgressStyleModel",
          "model_module_version": "1.5.0",
          "state": {
            "_model_module": "@jupyter-widgets/controls",
            "_model_module_version": "1.5.0",
            "_model_name": "ProgressStyleModel",
            "_view_count": null,
            "_view_module": "@jupyter-widgets/base",
            "_view_module_version": "1.2.0",
            "_view_name": "StyleView",
            "bar_color": null,
            "description_width": ""
          }
        },
        "298edbb4dd3f4868892c319197a49d99": {
          "model_module": "@jupyter-widgets/base",
          "model_name": "LayoutModel",
          "model_module_version": "1.2.0",
          "state": {
            "_model_module": "@jupyter-widgets/base",
            "_model_module_version": "1.2.0",
            "_model_name": "LayoutModel",
            "_view_count": null,
            "_view_module": "@jupyter-widgets/base",
            "_view_module_version": "1.2.0",
            "_view_name": "LayoutView",
            "align_content": null,
            "align_items": null,
            "align_self": null,
            "border": null,
            "bottom": null,
            "display": null,
            "flex": null,
            "flex_flow": null,
            "grid_area": null,
            "grid_auto_columns": null,
            "grid_auto_flow": null,
            "grid_auto_rows": null,
            "grid_column": null,
            "grid_gap": null,
            "grid_row": null,
            "grid_template_areas": null,
            "grid_template_columns": null,
            "grid_template_rows": null,
            "height": null,
            "justify_content": null,
            "justify_items": null,
            "left": null,
            "margin": null,
            "max_height": null,
            "max_width": null,
            "min_height": null,
            "min_width": null,
            "object_fit": null,
            "object_position": null,
            "order": null,
            "overflow": null,
            "overflow_x": null,
            "overflow_y": null,
            "padding": null,
            "right": null,
            "top": null,
            "visibility": null,
            "width": null
          }
        },
        "cd4a4399b0c24b48a9171c206f043eae": {
          "model_module": "@jupyter-widgets/controls",
          "model_name": "DescriptionStyleModel",
          "model_module_version": "1.5.0",
          "state": {
            "_model_module": "@jupyter-widgets/controls",
            "_model_module_version": "1.5.0",
            "_model_name": "DescriptionStyleModel",
            "_view_count": null,
            "_view_module": "@jupyter-widgets/base",
            "_view_module_version": "1.2.0",
            "_view_name": "StyleView",
            "description_width": ""
          }
        },
        "31e7807bb8324f34bf6b95c1a7b0c2c5": {
          "model_module": "@jupyter-widgets/controls",
          "model_name": "HBoxModel",
          "model_module_version": "1.5.0",
          "state": {
            "_dom_classes": [],
            "_model_module": "@jupyter-widgets/controls",
            "_model_module_version": "1.5.0",
            "_model_name": "HBoxModel",
            "_view_count": null,
            "_view_module": "@jupyter-widgets/controls",
            "_view_module_version": "1.5.0",
            "_view_name": "HBoxView",
            "box_style": "",
            "children": [
              "IPY_MODEL_fafeec3473634eee951a6f2678e4de88",
              "IPY_MODEL_6c502080119346de9b3015cbdfa1ca21",
              "IPY_MODEL_2b866f74c7b84f648e685ef56d2da64d"
            ],
            "layout": "IPY_MODEL_f365802204d14a409b3b183f14457a61"
          }
        },
        "fafeec3473634eee951a6f2678e4de88": {
          "model_module": "@jupyter-widgets/controls",
          "model_name": "HTMLModel",
          "model_module_version": "1.5.0",
          "state": {
            "_dom_classes": [],
            "_model_module": "@jupyter-widgets/controls",
            "_model_module_version": "1.5.0",
            "_model_name": "HTMLModel",
            "_view_count": null,
            "_view_module": "@jupyter-widgets/controls",
            "_view_module_version": "1.5.0",
            "_view_name": "HTMLView",
            "description": "",
            "description_tooltip": null,
            "layout": "IPY_MODEL_e832c93d321f4ad7b86fed48683004cd",
            "placeholder": "​",
            "style": "IPY_MODEL_251ac8618e7a4e5d896dc918e3362916",
            "value": "Making Predictions: 100%"
          }
        },
        "6c502080119346de9b3015cbdfa1ca21": {
          "model_module": "@jupyter-widgets/controls",
          "model_name": "FloatProgressModel",
          "model_module_version": "1.5.0",
          "state": {
            "_dom_classes": [],
            "_model_module": "@jupyter-widgets/controls",
            "_model_module_version": "1.5.0",
            "_model_name": "FloatProgressModel",
            "_view_count": null,
            "_view_module": "@jupyter-widgets/controls",
            "_view_module_version": "1.5.0",
            "_view_name": "ProgressView",
            "bar_style": "success",
            "description": "",
            "description_tooltip": null,
            "layout": "IPY_MODEL_6fd0ef2a3c984407a345f66c7e816c45",
            "max": 313,
            "min": 0,
            "orientation": "horizontal",
            "style": "IPY_MODEL_7e7b86ea4d664731a200e8bded95f84e",
            "value": 313
          }
        },
        "2b866f74c7b84f648e685ef56d2da64d": {
          "model_module": "@jupyter-widgets/controls",
          "model_name": "HTMLModel",
          "model_module_version": "1.5.0",
          "state": {
            "_dom_classes": [],
            "_model_module": "@jupyter-widgets/controls",
            "_model_module_version": "1.5.0",
            "_model_name": "HTMLModel",
            "_view_count": null,
            "_view_module": "@jupyter-widgets/controls",
            "_view_module_version": "1.5.0",
            "_view_name": "HTMLView",
            "description": "",
            "description_tooltip": null,
            "layout": "IPY_MODEL_a580ae87b537468bbf7a32e2f6288d71",
            "placeholder": "​",
            "style": "IPY_MODEL_1a6c379470d746739b25f5c93051fa7c",
            "value": " 313/313 [00:03&lt;00:00, 81.04it/s]"
          }
        },
        "f365802204d14a409b3b183f14457a61": {
          "model_module": "@jupyter-widgets/base",
          "model_name": "LayoutModel",
          "model_module_version": "1.2.0",
          "state": {
            "_model_module": "@jupyter-widgets/base",
            "_model_module_version": "1.2.0",
            "_model_name": "LayoutModel",
            "_view_count": null,
            "_view_module": "@jupyter-widgets/base",
            "_view_module_version": "1.2.0",
            "_view_name": "LayoutView",
            "align_content": null,
            "align_items": null,
            "align_self": null,
            "border": null,
            "bottom": null,
            "display": null,
            "flex": null,
            "flex_flow": null,
            "grid_area": null,
            "grid_auto_columns": null,
            "grid_auto_flow": null,
            "grid_auto_rows": null,
            "grid_column": null,
            "grid_gap": null,
            "grid_row": null,
            "grid_template_areas": null,
            "grid_template_columns": null,
            "grid_template_rows": null,
            "height": null,
            "justify_content": null,
            "justify_items": null,
            "left": null,
            "margin": null,
            "max_height": null,
            "max_width": null,
            "min_height": null,
            "min_width": null,
            "object_fit": null,
            "object_position": null,
            "order": null,
            "overflow": null,
            "overflow_x": null,
            "overflow_y": null,
            "padding": null,
            "right": null,
            "top": null,
            "visibility": null,
            "width": null
          }
        },
        "e832c93d321f4ad7b86fed48683004cd": {
          "model_module": "@jupyter-widgets/base",
          "model_name": "LayoutModel",
          "model_module_version": "1.2.0",
          "state": {
            "_model_module": "@jupyter-widgets/base",
            "_model_module_version": "1.2.0",
            "_model_name": "LayoutModel",
            "_view_count": null,
            "_view_module": "@jupyter-widgets/base",
            "_view_module_version": "1.2.0",
            "_view_name": "LayoutView",
            "align_content": null,
            "align_items": null,
            "align_self": null,
            "border": null,
            "bottom": null,
            "display": null,
            "flex": null,
            "flex_flow": null,
            "grid_area": null,
            "grid_auto_columns": null,
            "grid_auto_flow": null,
            "grid_auto_rows": null,
            "grid_column": null,
            "grid_gap": null,
            "grid_row": null,
            "grid_template_areas": null,
            "grid_template_columns": null,
            "grid_template_rows": null,
            "height": null,
            "justify_content": null,
            "justify_items": null,
            "left": null,
            "margin": null,
            "max_height": null,
            "max_width": null,
            "min_height": null,
            "min_width": null,
            "object_fit": null,
            "object_position": null,
            "order": null,
            "overflow": null,
            "overflow_x": null,
            "overflow_y": null,
            "padding": null,
            "right": null,
            "top": null,
            "visibility": null,
            "width": null
          }
        },
        "251ac8618e7a4e5d896dc918e3362916": {
          "model_module": "@jupyter-widgets/controls",
          "model_name": "DescriptionStyleModel",
          "model_module_version": "1.5.0",
          "state": {
            "_model_module": "@jupyter-widgets/controls",
            "_model_module_version": "1.5.0",
            "_model_name": "DescriptionStyleModel",
            "_view_count": null,
            "_view_module": "@jupyter-widgets/base",
            "_view_module_version": "1.2.0",
            "_view_name": "StyleView",
            "description_width": ""
          }
        },
        "6fd0ef2a3c984407a345f66c7e816c45": {
          "model_module": "@jupyter-widgets/base",
          "model_name": "LayoutModel",
          "model_module_version": "1.2.0",
          "state": {
            "_model_module": "@jupyter-widgets/base",
            "_model_module_version": "1.2.0",
            "_model_name": "LayoutModel",
            "_view_count": null,
            "_view_module": "@jupyter-widgets/base",
            "_view_module_version": "1.2.0",
            "_view_name": "LayoutView",
            "align_content": null,
            "align_items": null,
            "align_self": null,
            "border": null,
            "bottom": null,
            "display": null,
            "flex": null,
            "flex_flow": null,
            "grid_area": null,
            "grid_auto_columns": null,
            "grid_auto_flow": null,
            "grid_auto_rows": null,
            "grid_column": null,
            "grid_gap": null,
            "grid_row": null,
            "grid_template_areas": null,
            "grid_template_columns": null,
            "grid_template_rows": null,
            "height": null,
            "justify_content": null,
            "justify_items": null,
            "left": null,
            "margin": null,
            "max_height": null,
            "max_width": null,
            "min_height": null,
            "min_width": null,
            "object_fit": null,
            "object_position": null,
            "order": null,
            "overflow": null,
            "overflow_x": null,
            "overflow_y": null,
            "padding": null,
            "right": null,
            "top": null,
            "visibility": null,
            "width": null
          }
        },
        "7e7b86ea4d664731a200e8bded95f84e": {
          "model_module": "@jupyter-widgets/controls",
          "model_name": "ProgressStyleModel",
          "model_module_version": "1.5.0",
          "state": {
            "_model_module": "@jupyter-widgets/controls",
            "_model_module_version": "1.5.0",
            "_model_name": "ProgressStyleModel",
            "_view_count": null,
            "_view_module": "@jupyter-widgets/base",
            "_view_module_version": "1.2.0",
            "_view_name": "StyleView",
            "bar_color": null,
            "description_width": ""
          }
        },
        "a580ae87b537468bbf7a32e2f6288d71": {
          "model_module": "@jupyter-widgets/base",
          "model_name": "LayoutModel",
          "model_module_version": "1.2.0",
          "state": {
            "_model_module": "@jupyter-widgets/base",
            "_model_module_version": "1.2.0",
            "_model_name": "LayoutModel",
            "_view_count": null,
            "_view_module": "@jupyter-widgets/base",
            "_view_module_version": "1.2.0",
            "_view_name": "LayoutView",
            "align_content": null,
            "align_items": null,
            "align_self": null,
            "border": null,
            "bottom": null,
            "display": null,
            "flex": null,
            "flex_flow": null,
            "grid_area": null,
            "grid_auto_columns": null,
            "grid_auto_flow": null,
            "grid_auto_rows": null,
            "grid_column": null,
            "grid_gap": null,
            "grid_row": null,
            "grid_template_areas": null,
            "grid_template_columns": null,
            "grid_template_rows": null,
            "height": null,
            "justify_content": null,
            "justify_items": null,
            "left": null,
            "margin": null,
            "max_height": null,
            "max_width": null,
            "min_height": null,
            "min_width": null,
            "object_fit": null,
            "object_position": null,
            "order": null,
            "overflow": null,
            "overflow_x": null,
            "overflow_y": null,
            "padding": null,
            "right": null,
            "top": null,
            "visibility": null,
            "width": null
          }
        },
        "1a6c379470d746739b25f5c93051fa7c": {
          "model_module": "@jupyter-widgets/controls",
          "model_name": "DescriptionStyleModel",
          "model_module_version": "1.5.0",
          "state": {
            "_model_module": "@jupyter-widgets/controls",
            "_model_module_version": "1.5.0",
            "_model_name": "DescriptionStyleModel",
            "_view_count": null,
            "_view_module": "@jupyter-widgets/base",
            "_view_module_version": "1.2.0",
            "_view_name": "StyleView",
            "description_width": ""
          }
        },
        "901c1cc54fef44af83b4a18e94633f33": {
          "model_module": "@jupyter-widgets/controls",
          "model_name": "HBoxModel",
          "model_module_version": "1.5.0",
          "state": {
            "_dom_classes": [],
            "_model_module": "@jupyter-widgets/controls",
            "_model_module_version": "1.5.0",
            "_model_name": "HBoxModel",
            "_view_count": null,
            "_view_module": "@jupyter-widgets/controls",
            "_view_module_version": "1.5.0",
            "_view_name": "HBoxView",
            "box_style": "",
            "children": [
              "IPY_MODEL_2614cf6097a341608cde434de05ecbdd",
              "IPY_MODEL_fe7b6c835ca4457b8e07c2c2394929ad",
              "IPY_MODEL_028631af5ce345feacc12991e4625fa6"
            ],
            "layout": "IPY_MODEL_e494d8f91dec48e3be7accbf5941b62d"
          }
        },
        "2614cf6097a341608cde434de05ecbdd": {
          "model_module": "@jupyter-widgets/controls",
          "model_name": "HTMLModel",
          "model_module_version": "1.5.0",
          "state": {
            "_dom_classes": [],
            "_model_module": "@jupyter-widgets/controls",
            "_model_module_version": "1.5.0",
            "_model_name": "HTMLModel",
            "_view_count": null,
            "_view_module": "@jupyter-widgets/controls",
            "_view_module_version": "1.5.0",
            "_view_name": "HTMLView",
            "description": "",
            "description_tooltip": null,
            "layout": "IPY_MODEL_11fad830ae9444d89de9ce236db61717",
            "placeholder": "​",
            "style": "IPY_MODEL_98d5275b923e49ab8dd522f338cfd10d",
            "value": "100%"
          }
        },
        "fe7b6c835ca4457b8e07c2c2394929ad": {
          "model_module": "@jupyter-widgets/controls",
          "model_name": "FloatProgressModel",
          "model_module_version": "1.5.0",
          "state": {
            "_dom_classes": [],
            "_model_module": "@jupyter-widgets/controls",
            "_model_module_version": "1.5.0",
            "_model_name": "FloatProgressModel",
            "_view_count": null,
            "_view_module": "@jupyter-widgets/controls",
            "_view_module_version": "1.5.0",
            "_view_name": "ProgressView",
            "bar_style": "success",
            "description": "",
            "description_tooltip": null,
            "layout": "IPY_MODEL_c48237d607d8488f9905972551f506ec",
            "max": 313,
            "min": 0,
            "orientation": "horizontal",
            "style": "IPY_MODEL_c1b554984ea948eea2fd7571d97313f0",
            "value": 313
          }
        },
        "028631af5ce345feacc12991e4625fa6": {
          "model_module": "@jupyter-widgets/controls",
          "model_name": "HTMLModel",
          "model_module_version": "1.5.0",
          "state": {
            "_dom_classes": [],
            "_model_module": "@jupyter-widgets/controls",
            "_model_module_version": "1.5.0",
            "_model_name": "HTMLModel",
            "_view_count": null,
            "_view_module": "@jupyter-widgets/controls",
            "_view_module_version": "1.5.0",
            "_view_name": "HTMLView",
            "description": "",
            "description_tooltip": null,
            "layout": "IPY_MODEL_d020ec8c85054cff87a4a74de6b3232f",
            "placeholder": "​",
            "style": "IPY_MODEL_4b6edbfccf0148d59306fef040f1c19e",
            "value": " 313/313 [00:04&lt;00:00, 82.05it/s]"
          }
        },
        "e494d8f91dec48e3be7accbf5941b62d": {
          "model_module": "@jupyter-widgets/base",
          "model_name": "LayoutModel",
          "model_module_version": "1.2.0",
          "state": {
            "_model_module": "@jupyter-widgets/base",
            "_model_module_version": "1.2.0",
            "_model_name": "LayoutModel",
            "_view_count": null,
            "_view_module": "@jupyter-widgets/base",
            "_view_module_version": "1.2.0",
            "_view_name": "LayoutView",
            "align_content": null,
            "align_items": null,
            "align_self": null,
            "border": null,
            "bottom": null,
            "display": null,
            "flex": null,
            "flex_flow": null,
            "grid_area": null,
            "grid_auto_columns": null,
            "grid_auto_flow": null,
            "grid_auto_rows": null,
            "grid_column": null,
            "grid_gap": null,
            "grid_row": null,
            "grid_template_areas": null,
            "grid_template_columns": null,
            "grid_template_rows": null,
            "height": null,
            "justify_content": null,
            "justify_items": null,
            "left": null,
            "margin": null,
            "max_height": null,
            "max_width": null,
            "min_height": null,
            "min_width": null,
            "object_fit": null,
            "object_position": null,
            "order": null,
            "overflow": null,
            "overflow_x": null,
            "overflow_y": null,
            "padding": null,
            "right": null,
            "top": null,
            "visibility": null,
            "width": null
          }
        },
        "11fad830ae9444d89de9ce236db61717": {
          "model_module": "@jupyter-widgets/base",
          "model_name": "LayoutModel",
          "model_module_version": "1.2.0",
          "state": {
            "_model_module": "@jupyter-widgets/base",
            "_model_module_version": "1.2.0",
            "_model_name": "LayoutModel",
            "_view_count": null,
            "_view_module": "@jupyter-widgets/base",
            "_view_module_version": "1.2.0",
            "_view_name": "LayoutView",
            "align_content": null,
            "align_items": null,
            "align_self": null,
            "border": null,
            "bottom": null,
            "display": null,
            "flex": null,
            "flex_flow": null,
            "grid_area": null,
            "grid_auto_columns": null,
            "grid_auto_flow": null,
            "grid_auto_rows": null,
            "grid_column": null,
            "grid_gap": null,
            "grid_row": null,
            "grid_template_areas": null,
            "grid_template_columns": null,
            "grid_template_rows": null,
            "height": null,
            "justify_content": null,
            "justify_items": null,
            "left": null,
            "margin": null,
            "max_height": null,
            "max_width": null,
            "min_height": null,
            "min_width": null,
            "object_fit": null,
            "object_position": null,
            "order": null,
            "overflow": null,
            "overflow_x": null,
            "overflow_y": null,
            "padding": null,
            "right": null,
            "top": null,
            "visibility": null,
            "width": null
          }
        },
        "98d5275b923e49ab8dd522f338cfd10d": {
          "model_module": "@jupyter-widgets/controls",
          "model_name": "DescriptionStyleModel",
          "model_module_version": "1.5.0",
          "state": {
            "_model_module": "@jupyter-widgets/controls",
            "_model_module_version": "1.5.0",
            "_model_name": "DescriptionStyleModel",
            "_view_count": null,
            "_view_module": "@jupyter-widgets/base",
            "_view_module_version": "1.2.0",
            "_view_name": "StyleView",
            "description_width": ""
          }
        },
        "c48237d607d8488f9905972551f506ec": {
          "model_module": "@jupyter-widgets/base",
          "model_name": "LayoutModel",
          "model_module_version": "1.2.0",
          "state": {
            "_model_module": "@jupyter-widgets/base",
            "_model_module_version": "1.2.0",
            "_model_name": "LayoutModel",
            "_view_count": null,
            "_view_module": "@jupyter-widgets/base",
            "_view_module_version": "1.2.0",
            "_view_name": "LayoutView",
            "align_content": null,
            "align_items": null,
            "align_self": null,
            "border": null,
            "bottom": null,
            "display": null,
            "flex": null,
            "flex_flow": null,
            "grid_area": null,
            "grid_auto_columns": null,
            "grid_auto_flow": null,
            "grid_auto_rows": null,
            "grid_column": null,
            "grid_gap": null,
            "grid_row": null,
            "grid_template_areas": null,
            "grid_template_columns": null,
            "grid_template_rows": null,
            "height": null,
            "justify_content": null,
            "justify_items": null,
            "left": null,
            "margin": null,
            "max_height": null,
            "max_width": null,
            "min_height": null,
            "min_width": null,
            "object_fit": null,
            "object_position": null,
            "order": null,
            "overflow": null,
            "overflow_x": null,
            "overflow_y": null,
            "padding": null,
            "right": null,
            "top": null,
            "visibility": null,
            "width": null
          }
        },
        "c1b554984ea948eea2fd7571d97313f0": {
          "model_module": "@jupyter-widgets/controls",
          "model_name": "ProgressStyleModel",
          "model_module_version": "1.5.0",
          "state": {
            "_model_module": "@jupyter-widgets/controls",
            "_model_module_version": "1.5.0",
            "_model_name": "ProgressStyleModel",
            "_view_count": null,
            "_view_module": "@jupyter-widgets/base",
            "_view_module_version": "1.2.0",
            "_view_name": "StyleView",
            "bar_color": null,
            "description_width": ""
          }
        },
        "d020ec8c85054cff87a4a74de6b3232f": {
          "model_module": "@jupyter-widgets/base",
          "model_name": "LayoutModel",
          "model_module_version": "1.2.0",
          "state": {
            "_model_module": "@jupyter-widgets/base",
            "_model_module_version": "1.2.0",
            "_model_name": "LayoutModel",
            "_view_count": null,
            "_view_module": "@jupyter-widgets/base",
            "_view_module_version": "1.2.0",
            "_view_name": "LayoutView",
            "align_content": null,
            "align_items": null,
            "align_self": null,
            "border": null,
            "bottom": null,
            "display": null,
            "flex": null,
            "flex_flow": null,
            "grid_area": null,
            "grid_auto_columns": null,
            "grid_auto_flow": null,
            "grid_auto_rows": null,
            "grid_column": null,
            "grid_gap": null,
            "grid_row": null,
            "grid_template_areas": null,
            "grid_template_columns": null,
            "grid_template_rows": null,
            "height": null,
            "justify_content": null,
            "justify_items": null,
            "left": null,
            "margin": null,
            "max_height": null,
            "max_width": null,
            "min_height": null,
            "min_width": null,
            "object_fit": null,
            "object_position": null,
            "order": null,
            "overflow": null,
            "overflow_x": null,
            "overflow_y": null,
            "padding": null,
            "right": null,
            "top": null,
            "visibility": null,
            "width": null
          }
        },
        "4b6edbfccf0148d59306fef040f1c19e": {
          "model_module": "@jupyter-widgets/controls",
          "model_name": "DescriptionStyleModel",
          "model_module_version": "1.5.0",
          "state": {
            "_model_module": "@jupyter-widgets/controls",
            "_model_module_version": "1.5.0",
            "_model_name": "DescriptionStyleModel",
            "_view_count": null,
            "_view_module": "@jupyter-widgets/base",
            "_view_module_version": "1.2.0",
            "_view_name": "StyleView",
            "description_width": ""
          }
        }
      }
    }
  },
  "cells": [
    {
      "cell_type": "markdown",
      "metadata": {
        "id": "view-in-github",
        "colab_type": "text"
      },
      "source": [
        "<a href=\"https://colab.research.google.com/github/SanjaySaatyaki/pytorch_4_ml_dl/blob/main/03_python__computer_vision.ipynb\" target=\"_parent\"><img src=\"https://colab.research.google.com/assets/colab-badge.svg\" alt=\"Open In Colab\"/></a>"
      ]
    },
    {
      "cell_type": "markdown",
      "source": [
        "- torchvision - base domain lib for Pytorch\n",
        "- torchvision.datasets - get datasets and data loading functions for computer vision\n",
        "- torchvision.models - get pretrained computer vision models\n",
        "- torchvision.transforms - functions for manipulating vision data to suitable ML use\n",
        "torch.utils.data.Dataset - Base dataset class for Pytorch\n",
        "troch.utils.data.DataLoder - Create a Python iterable over dataset"
      ],
      "metadata": {
        "id": "NA5oxeaPoG7C"
      }
    },
    {
      "cell_type": "code",
      "execution_count": 1,
      "metadata": {
        "id": "IX--NZ8Ynz8t"
      },
      "outputs": [],
      "source": [
        "import torch\n",
        "from torch import nn\n",
        "\n",
        "import torchvision\n",
        "from torchvision import datasets\n",
        "from torchvision import transforms\n",
        "from torchvision.transforms import ToTensor\n",
        "\n",
        "import matplotlib.pyplot as plt\n",
        "\n"
      ]
    },
    {
      "cell_type": "markdown",
      "source": [
        "## Getting a dataset\n",
        "FashionMNIST"
      ],
      "metadata": {
        "id": "V0Mio3yfrdaY"
      }
    },
    {
      "cell_type": "code",
      "source": [
        "#Setup training data\n",
        "train_data = datasets.FashionMNIST(root=\"data\",#where to download data to\n",
        "                                   train=True,#do we want training data\n",
        "                                   download=True,#do we wanna download\n",
        "                                   transform=torchvision.transforms.ToTensor(),#how to transform the data\n",
        "                                   target_transform=None#how do we want to tranform the labels\n",
        "                                   )\n",
        "\n",
        "test_data = datasets.FashionMNIST(root=\"data\",\n",
        "                                  train=False,\n",
        "                                  download=True,\n",
        "                                  transform=torchvision.transforms.ToTensor(),\n",
        "                                  target_transform=None)"
      ],
      "metadata": {
        "colab": {
          "base_uri": "https://localhost:8080/"
        },
        "id": "hGTl48dDpJdV",
        "outputId": "a8c06105-f2d5-4f8d-8dde-e6983005aac2"
      },
      "execution_count": 2,
      "outputs": [
        {
          "output_type": "stream",
          "name": "stderr",
          "text": [
            "100%|██████████| 26.4M/26.4M [00:00<00:00, 113MB/s]\n",
            "100%|██████████| 29.5k/29.5k [00:00<00:00, 4.31MB/s]\n",
            "100%|██████████| 4.42M/4.42M [00:00<00:00, 59.8MB/s]\n",
            "100%|██████████| 5.15k/5.15k [00:00<00:00, 13.0MB/s]\n"
          ]
        }
      ]
    },
    {
      "cell_type": "code",
      "source": [
        "len(train_data),len(test_data)"
      ],
      "metadata": {
        "colab": {
          "base_uri": "https://localhost:8080/"
        },
        "id": "nNSs-wvcu81V",
        "outputId": "865e6467-f6ec-4127-b247-a4508433f148"
      },
      "execution_count": 3,
      "outputs": [
        {
          "output_type": "execute_result",
          "data": {
            "text/plain": [
              "(60000, 10000)"
            ]
          },
          "metadata": {},
          "execution_count": 3
        }
      ]
    },
    {
      "cell_type": "code",
      "source": [
        "# See 1st training example\n",
        "image,label = train_data[0]"
      ],
      "metadata": {
        "id": "TXPjLqISvRRS"
      },
      "execution_count": 4,
      "outputs": []
    },
    {
      "cell_type": "code",
      "source": [
        "image,label"
      ],
      "metadata": {
        "colab": {
          "base_uri": "https://localhost:8080/"
        },
        "id": "1I1E0h8MvXFA",
        "outputId": "fa91e491-a95a-49f2-b5b3-f5a538b66740"
      },
      "execution_count": 5,
      "outputs": [
        {
          "output_type": "execute_result",
          "data": {
            "text/plain": [
              "(tensor([[[0.0000, 0.0000, 0.0000, 0.0000, 0.0000, 0.0000, 0.0000, 0.0000,\n",
              "           0.0000, 0.0000, 0.0000, 0.0000, 0.0000, 0.0000, 0.0000, 0.0000,\n",
              "           0.0000, 0.0000, 0.0000, 0.0000, 0.0000, 0.0000, 0.0000, 0.0000,\n",
              "           0.0000, 0.0000, 0.0000, 0.0000],\n",
              "          [0.0000, 0.0000, 0.0000, 0.0000, 0.0000, 0.0000, 0.0000, 0.0000,\n",
              "           0.0000, 0.0000, 0.0000, 0.0000, 0.0000, 0.0000, 0.0000, 0.0000,\n",
              "           0.0000, 0.0000, 0.0000, 0.0000, 0.0000, 0.0000, 0.0000, 0.0000,\n",
              "           0.0000, 0.0000, 0.0000, 0.0000],\n",
              "          [0.0000, 0.0000, 0.0000, 0.0000, 0.0000, 0.0000, 0.0000, 0.0000,\n",
              "           0.0000, 0.0000, 0.0000, 0.0000, 0.0000, 0.0000, 0.0000, 0.0000,\n",
              "           0.0000, 0.0000, 0.0000, 0.0000, 0.0000, 0.0000, 0.0000, 0.0000,\n",
              "           0.0000, 0.0000, 0.0000, 0.0000],\n",
              "          [0.0000, 0.0000, 0.0000, 0.0000, 0.0000, 0.0000, 0.0000, 0.0000,\n",
              "           0.0000, 0.0000, 0.0000, 0.0000, 0.0039, 0.0000, 0.0000, 0.0510,\n",
              "           0.2863, 0.0000, 0.0000, 0.0039, 0.0157, 0.0000, 0.0000, 0.0000,\n",
              "           0.0000, 0.0039, 0.0039, 0.0000],\n",
              "          [0.0000, 0.0000, 0.0000, 0.0000, 0.0000, 0.0000, 0.0000, 0.0000,\n",
              "           0.0000, 0.0000, 0.0000, 0.0000, 0.0118, 0.0000, 0.1412, 0.5333,\n",
              "           0.4980, 0.2431, 0.2118, 0.0000, 0.0000, 0.0000, 0.0039, 0.0118,\n",
              "           0.0157, 0.0000, 0.0000, 0.0118],\n",
              "          [0.0000, 0.0000, 0.0000, 0.0000, 0.0000, 0.0000, 0.0000, 0.0000,\n",
              "           0.0000, 0.0000, 0.0000, 0.0000, 0.0235, 0.0000, 0.4000, 0.8000,\n",
              "           0.6902, 0.5255, 0.5647, 0.4824, 0.0902, 0.0000, 0.0000, 0.0000,\n",
              "           0.0000, 0.0471, 0.0392, 0.0000],\n",
              "          [0.0000, 0.0000, 0.0000, 0.0000, 0.0000, 0.0000, 0.0000, 0.0000,\n",
              "           0.0000, 0.0000, 0.0000, 0.0000, 0.0000, 0.0000, 0.6078, 0.9255,\n",
              "           0.8118, 0.6980, 0.4196, 0.6118, 0.6314, 0.4275, 0.2510, 0.0902,\n",
              "           0.3020, 0.5098, 0.2824, 0.0588],\n",
              "          [0.0000, 0.0000, 0.0000, 0.0000, 0.0000, 0.0000, 0.0000, 0.0000,\n",
              "           0.0000, 0.0000, 0.0000, 0.0039, 0.0000, 0.2706, 0.8118, 0.8745,\n",
              "           0.8549, 0.8471, 0.8471, 0.6392, 0.4980, 0.4745, 0.4784, 0.5725,\n",
              "           0.5529, 0.3451, 0.6745, 0.2588],\n",
              "          [0.0000, 0.0000, 0.0000, 0.0000, 0.0000, 0.0000, 0.0000, 0.0000,\n",
              "           0.0000, 0.0039, 0.0039, 0.0039, 0.0000, 0.7843, 0.9098, 0.9098,\n",
              "           0.9137, 0.8980, 0.8745, 0.8745, 0.8431, 0.8353, 0.6431, 0.4980,\n",
              "           0.4824, 0.7686, 0.8980, 0.0000],\n",
              "          [0.0000, 0.0000, 0.0000, 0.0000, 0.0000, 0.0000, 0.0000, 0.0000,\n",
              "           0.0000, 0.0000, 0.0000, 0.0000, 0.0000, 0.7176, 0.8824, 0.8471,\n",
              "           0.8745, 0.8941, 0.9216, 0.8902, 0.8784, 0.8706, 0.8784, 0.8667,\n",
              "           0.8745, 0.9608, 0.6784, 0.0000],\n",
              "          [0.0000, 0.0000, 0.0000, 0.0000, 0.0000, 0.0000, 0.0000, 0.0000,\n",
              "           0.0000, 0.0000, 0.0000, 0.0000, 0.0000, 0.7569, 0.8941, 0.8549,\n",
              "           0.8353, 0.7765, 0.7059, 0.8314, 0.8235, 0.8275, 0.8353, 0.8745,\n",
              "           0.8627, 0.9529, 0.7922, 0.0000],\n",
              "          [0.0000, 0.0000, 0.0000, 0.0000, 0.0000, 0.0000, 0.0000, 0.0000,\n",
              "           0.0000, 0.0039, 0.0118, 0.0000, 0.0471, 0.8588, 0.8627, 0.8314,\n",
              "           0.8549, 0.7529, 0.6627, 0.8902, 0.8157, 0.8549, 0.8784, 0.8314,\n",
              "           0.8863, 0.7725, 0.8196, 0.2039],\n",
              "          [0.0000, 0.0000, 0.0000, 0.0000, 0.0000, 0.0000, 0.0000, 0.0000,\n",
              "           0.0000, 0.0000, 0.0235, 0.0000, 0.3882, 0.9569, 0.8706, 0.8627,\n",
              "           0.8549, 0.7961, 0.7765, 0.8667, 0.8431, 0.8353, 0.8706, 0.8627,\n",
              "           0.9608, 0.4667, 0.6549, 0.2196],\n",
              "          [0.0000, 0.0000, 0.0000, 0.0000, 0.0000, 0.0000, 0.0000, 0.0000,\n",
              "           0.0000, 0.0157, 0.0000, 0.0000, 0.2157, 0.9255, 0.8941, 0.9020,\n",
              "           0.8941, 0.9412, 0.9098, 0.8353, 0.8549, 0.8745, 0.9176, 0.8510,\n",
              "           0.8510, 0.8196, 0.3608, 0.0000],\n",
              "          [0.0000, 0.0000, 0.0039, 0.0157, 0.0235, 0.0275, 0.0078, 0.0000,\n",
              "           0.0000, 0.0000, 0.0000, 0.0000, 0.9294, 0.8863, 0.8510, 0.8745,\n",
              "           0.8706, 0.8588, 0.8706, 0.8667, 0.8471, 0.8745, 0.8980, 0.8431,\n",
              "           0.8549, 1.0000, 0.3020, 0.0000],\n",
              "          [0.0000, 0.0118, 0.0000, 0.0000, 0.0000, 0.0000, 0.0000, 0.0000,\n",
              "           0.0000, 0.2431, 0.5686, 0.8000, 0.8941, 0.8118, 0.8353, 0.8667,\n",
              "           0.8549, 0.8157, 0.8275, 0.8549, 0.8784, 0.8745, 0.8588, 0.8431,\n",
              "           0.8784, 0.9569, 0.6235, 0.0000],\n",
              "          [0.0000, 0.0000, 0.0000, 0.0000, 0.0706, 0.1725, 0.3216, 0.4196,\n",
              "           0.7412, 0.8941, 0.8627, 0.8706, 0.8510, 0.8863, 0.7843, 0.8039,\n",
              "           0.8275, 0.9020, 0.8784, 0.9176, 0.6902, 0.7373, 0.9804, 0.9725,\n",
              "           0.9137, 0.9333, 0.8431, 0.0000],\n",
              "          [0.0000, 0.2235, 0.7333, 0.8157, 0.8784, 0.8667, 0.8784, 0.8157,\n",
              "           0.8000, 0.8392, 0.8157, 0.8196, 0.7843, 0.6235, 0.9608, 0.7569,\n",
              "           0.8078, 0.8745, 1.0000, 1.0000, 0.8667, 0.9176, 0.8667, 0.8275,\n",
              "           0.8627, 0.9098, 0.9647, 0.0000],\n",
              "          [0.0118, 0.7922, 0.8941, 0.8784, 0.8667, 0.8275, 0.8275, 0.8392,\n",
              "           0.8039, 0.8039, 0.8039, 0.8627, 0.9412, 0.3137, 0.5882, 1.0000,\n",
              "           0.8980, 0.8667, 0.7373, 0.6039, 0.7490, 0.8235, 0.8000, 0.8196,\n",
              "           0.8706, 0.8941, 0.8824, 0.0000],\n",
              "          [0.3843, 0.9137, 0.7765, 0.8235, 0.8706, 0.8980, 0.8980, 0.9176,\n",
              "           0.9765, 0.8627, 0.7608, 0.8431, 0.8510, 0.9451, 0.2549, 0.2863,\n",
              "           0.4157, 0.4588, 0.6588, 0.8588, 0.8667, 0.8431, 0.8510, 0.8745,\n",
              "           0.8745, 0.8784, 0.8980, 0.1137],\n",
              "          [0.2941, 0.8000, 0.8314, 0.8000, 0.7569, 0.8039, 0.8275, 0.8824,\n",
              "           0.8471, 0.7255, 0.7725, 0.8078, 0.7765, 0.8353, 0.9412, 0.7647,\n",
              "           0.8902, 0.9608, 0.9373, 0.8745, 0.8549, 0.8314, 0.8196, 0.8706,\n",
              "           0.8627, 0.8667, 0.9020, 0.2627],\n",
              "          [0.1882, 0.7961, 0.7176, 0.7608, 0.8353, 0.7725, 0.7255, 0.7451,\n",
              "           0.7608, 0.7529, 0.7922, 0.8392, 0.8588, 0.8667, 0.8627, 0.9255,\n",
              "           0.8824, 0.8471, 0.7804, 0.8078, 0.7294, 0.7098, 0.6941, 0.6745,\n",
              "           0.7098, 0.8039, 0.8078, 0.4510],\n",
              "          [0.0000, 0.4784, 0.8588, 0.7569, 0.7020, 0.6706, 0.7176, 0.7686,\n",
              "           0.8000, 0.8235, 0.8353, 0.8118, 0.8275, 0.8235, 0.7843, 0.7686,\n",
              "           0.7608, 0.7490, 0.7647, 0.7490, 0.7765, 0.7529, 0.6902, 0.6118,\n",
              "           0.6549, 0.6941, 0.8235, 0.3608],\n",
              "          [0.0000, 0.0000, 0.2902, 0.7412, 0.8314, 0.7490, 0.6863, 0.6745,\n",
              "           0.6863, 0.7098, 0.7255, 0.7373, 0.7412, 0.7373, 0.7569, 0.7765,\n",
              "           0.8000, 0.8196, 0.8235, 0.8235, 0.8275, 0.7373, 0.7373, 0.7608,\n",
              "           0.7529, 0.8471, 0.6667, 0.0000],\n",
              "          [0.0078, 0.0000, 0.0000, 0.0000, 0.2588, 0.7843, 0.8706, 0.9294,\n",
              "           0.9373, 0.9490, 0.9647, 0.9529, 0.9569, 0.8667, 0.8627, 0.7569,\n",
              "           0.7490, 0.7020, 0.7137, 0.7137, 0.7098, 0.6902, 0.6510, 0.6588,\n",
              "           0.3882, 0.2275, 0.0000, 0.0000],\n",
              "          [0.0000, 0.0000, 0.0000, 0.0000, 0.0000, 0.0000, 0.0000, 0.1569,\n",
              "           0.2392, 0.1725, 0.2824, 0.1608, 0.1373, 0.0000, 0.0000, 0.0000,\n",
              "           0.0000, 0.0000, 0.0000, 0.0000, 0.0000, 0.0000, 0.0000, 0.0000,\n",
              "           0.0000, 0.0000, 0.0000, 0.0000],\n",
              "          [0.0000, 0.0000, 0.0000, 0.0000, 0.0000, 0.0000, 0.0000, 0.0000,\n",
              "           0.0000, 0.0000, 0.0000, 0.0000, 0.0000, 0.0000, 0.0000, 0.0000,\n",
              "           0.0000, 0.0000, 0.0000, 0.0000, 0.0000, 0.0000, 0.0000, 0.0000,\n",
              "           0.0000, 0.0000, 0.0000, 0.0000],\n",
              "          [0.0000, 0.0000, 0.0000, 0.0000, 0.0000, 0.0000, 0.0000, 0.0000,\n",
              "           0.0000, 0.0000, 0.0000, 0.0000, 0.0000, 0.0000, 0.0000, 0.0000,\n",
              "           0.0000, 0.0000, 0.0000, 0.0000, 0.0000, 0.0000, 0.0000, 0.0000,\n",
              "           0.0000, 0.0000, 0.0000, 0.0000]]]),\n",
              " 9)"
            ]
          },
          "metadata": {},
          "execution_count": 5
        }
      ]
    },
    {
      "cell_type": "code",
      "source": [
        "class_names = train_data.classes\n",
        "class_names"
      ],
      "metadata": {
        "colab": {
          "base_uri": "https://localhost:8080/"
        },
        "id": "7JCp7rNxvYpb",
        "outputId": "f26e7a4f-5335-4933-a6a4-cdbcba9c64b6"
      },
      "execution_count": 6,
      "outputs": [
        {
          "output_type": "execute_result",
          "data": {
            "text/plain": [
              "['T-shirt/top',\n",
              " 'Trouser',\n",
              " 'Pullover',\n",
              " 'Dress',\n",
              " 'Coat',\n",
              " 'Sandal',\n",
              " 'Shirt',\n",
              " 'Sneaker',\n",
              " 'Bag',\n",
              " 'Ankle boot']"
            ]
          },
          "metadata": {},
          "execution_count": 6
        }
      ]
    },
    {
      "cell_type": "code",
      "source": [
        "class_to_idx = train_data.class_to_idx\n",
        "class_to_idx"
      ],
      "metadata": {
        "colab": {
          "base_uri": "https://localhost:8080/"
        },
        "id": "m7UySpFTvpkV",
        "outputId": "b6ee0fa2-1c84-4f0e-ff2d-2e476e8c18c3"
      },
      "execution_count": 7,
      "outputs": [
        {
          "output_type": "execute_result",
          "data": {
            "text/plain": [
              "{'T-shirt/top': 0,\n",
              " 'Trouser': 1,\n",
              " 'Pullover': 2,\n",
              " 'Dress': 3,\n",
              " 'Coat': 4,\n",
              " 'Sandal': 5,\n",
              " 'Shirt': 6,\n",
              " 'Sneaker': 7,\n",
              " 'Bag': 8,\n",
              " 'Ankle boot': 9}"
            ]
          },
          "metadata": {},
          "execution_count": 7
        }
      ]
    },
    {
      "cell_type": "code",
      "source": [
        "train_data.targets"
      ],
      "metadata": {
        "colab": {
          "base_uri": "https://localhost:8080/"
        },
        "id": "OTBAsvI7vvNJ",
        "outputId": "d935e4ad-e0f0-4123-cda4-011525d41af1"
      },
      "execution_count": 8,
      "outputs": [
        {
          "output_type": "execute_result",
          "data": {
            "text/plain": [
              "tensor([9, 0, 0,  ..., 3, 0, 5])"
            ]
          },
          "metadata": {},
          "execution_count": 8
        }
      ]
    },
    {
      "cell_type": "code",
      "source": [
        "image.shape, label # print image shape and label"
      ],
      "metadata": {
        "colab": {
          "base_uri": "https://localhost:8080/"
        },
        "id": "0gHhXeAmv21y",
        "outputId": "5e2a722b-9828-4a17-b56c-bbf95f61f004"
      },
      "execution_count": 9,
      "outputs": [
        {
          "output_type": "execute_result",
          "data": {
            "text/plain": [
              "(torch.Size([1, 28, 28]), 9)"
            ]
          },
          "metadata": {},
          "execution_count": 9
        }
      ]
    },
    {
      "cell_type": "code",
      "source": [
        "print(f\"Image Label:{class_names[label]}\")"
      ],
      "metadata": {
        "colab": {
          "base_uri": "https://localhost:8080/"
        },
        "id": "eARAWPr4v5Jo",
        "outputId": "37b329b7-2074-485b-809e-ce885eda3edc"
      },
      "execution_count": 10,
      "outputs": [
        {
          "output_type": "stream",
          "name": "stdout",
          "text": [
            "Image Label:Ankle boot\n"
          ]
        }
      ]
    },
    {
      "cell_type": "code",
      "source": [
        "image, label = train_data[0]\n",
        "print(f\"Image Shape: {image.shape}\")\n",
        "plt.imshow(image.squeeze())\n",
        "plt.title(label)"
      ],
      "metadata": {
        "colab": {
          "base_uri": "https://localhost:8080/",
          "height": 488
        },
        "id": "fJoIF9D_zfRD",
        "outputId": "aeb1bbe0-0496-44b9-8b75-3208cbed5d90"
      },
      "execution_count": 11,
      "outputs": [
        {
          "output_type": "stream",
          "name": "stdout",
          "text": [
            "Image Shape: torch.Size([1, 28, 28])\n"
          ]
        },
        {
          "output_type": "execute_result",
          "data": {
            "text/plain": [
              "Text(0.5, 1.0, '9')"
            ]
          },
          "metadata": {},
          "execution_count": 11
        },
        {
          "output_type": "display_data",
          "data": {
            "text/plain": [
              "<Figure size 640x480 with 1 Axes>"
            ],
            "image/png": "[encoded data removed]"
          },
          "metadata": {}
        }
      ]
    },
    {
      "cell_type": "code",
      "source": [
        "plt.imshow(image.squeeze(),cmap=\"gray\")\n",
        "plt.title(label)"
      ],
      "metadata": {
        "colab": {
          "base_uri": "https://localhost:8080/",
          "height": 470
        },
        "id": "agmUcoEl6z0g",
        "outputId": "0de16fcd-8c2c-45b9-d953-704b05dc3b1d"
      },
      "execution_count": 12,
      "outputs": [
        {
          "output_type": "execute_result",
          "data": {
            "text/plain": [
              "Text(0.5, 1.0, '9')"
            ]
          },
          "metadata": {},
          "execution_count": 12
        },
        {
          "output_type": "display_data",
          "data": {
            "text/plain": [
              "<Figure size 640x480 with 1 Axes>"
            ],
            "image/png": "[encoded data removed]"
          },
          "metadata": {}
        }
      ]
    },
    {
      "cell_type": "code",
      "source": [
        "torch.manual_seed(42)\n",
        "fig = plt.figure(figsize=(9,9))\n",
        "rows, cols =4,4\n",
        "for i in range(1,rows*cols+1):\n",
        "  random_idx = torch.randint(0,len(train_data),size = [1]).item()\n",
        "  img, label = train_data[random_idx]\n",
        "  fig.add_subplot(rows,cols,i)\n",
        "  plt.imshow(img.squeeze(),cmap=\"gray\")\n",
        "  plt.title(class_names[label])\n",
        "  plt.axis(False)\n"
      ],
      "metadata": {
        "colab": {
          "base_uri": "https://localhost:8080/",
          "height": 752
        },
        "id": "sk9OLxoh6-GM",
        "outputId": "cc048c2c-98ba-4b35-96db-e2394ad43fba"
      },
      "execution_count": 13,
      "outputs": [
        {
          "output_type": "display_data",
          "data": {
            "text/plain": [
              "<Figure size 900x900 with 16 Axes>"
            ],
            "image/png": "[encoded data removed]"
          },
          "metadata": {}
        }
      ]
    },
    {
      "cell_type": "markdown",
      "source": [
        "# Prepare DataLoader\n",
        "\n",
        "DataLoader turns our dataset into Python iterable\n",
        "Turn data into batches(or mini batches)"
      ],
      "metadata": {
        "id": "SEVmvgJa7kZS"
      }
    },
    {
      "cell_type": "code",
      "source": [
        "from torch.utils.data import DataLoader\n",
        "\n",
        "BATCH_SIZE = 32\n",
        "train_data_loader = DataLoader(train_data,batch_size=BATCH_SIZE,shuffle=True)\n",
        "test_data_loader = DataLoader(dataset=test_data,\n",
        "                              batch_size=BATCH_SIZE,\n",
        "                              shuffle=False)"
      ],
      "metadata": {
        "id": "guW3cPRD_bvL"
      },
      "execution_count": 14,
      "outputs": []
    },
    {
      "cell_type": "code",
      "source": [
        "train_data_loader,test_data_loader"
      ],
      "metadata": {
        "colab": {
          "base_uri": "https://localhost:8080/"
        },
        "id": "gZRfEZTZAZus",
        "outputId": "bba2dd9e-4189-4471-91e8-adc61b545574"
      },
      "execution_count": 15,
      "outputs": [
        {
          "output_type": "execute_result",
          "data": {
            "text/plain": [
              "(<torch.utils.data.dataloader.DataLoader at 0x78c18bcdf490>,\n",
              " <torch.utils.data.dataloader.DataLoader at 0x78c18bc70a10>)"
            ]
          },
          "metadata": {},
          "execution_count": 15
        }
      ]
    },
    {
      "cell_type": "code",
      "source": [
        "print(f\"DataLoaders: {train_data_loader,test_data_loader}\")\n",
        "print(f\"Length of train_dataloader,{len(train_data_loader)} batches of {BATCH_SIZE}\")\n",
        "print(f\"Length of test_dataloader,{len(test_data_loader)},batches of {BATCH_SIZE}\")"
      ],
      "metadata": {
        "colab": {
          "base_uri": "https://localhost:8080/"
        },
        "id": "DyZCpHJnAewl",
        "outputId": "cb9ddda3-c1c6-45c3-ebdc-adaa988a2a7c"
      },
      "execution_count": 16,
      "outputs": [
        {
          "output_type": "stream",
          "name": "stdout",
          "text": [
            "DataLoaders: (<torch.utils.data.dataloader.DataLoader object at 0x78c18bcdf490>, <torch.utils.data.dataloader.DataLoader object at 0x78c18bc70a10>)\n",
            "Length of train_dataloader,1875 batches of 32\n",
            "Length of test_dataloader,313,batches of 32\n"
          ]
        }
      ]
    },
    {
      "cell_type": "code",
      "source": [
        "train_features_batch, train_labels_batch = next(iter(train_data_loader))\n",
        "train_features_batch.shape, train_labels_batch.shape"
      ],
      "metadata": {
        "colab": {
          "base_uri": "https://localhost:8080/"
        },
        "id": "pSf7TyplBcKP",
        "outputId": "dbc81875-742c-4fc8-88ee-eb293b548d85"
      },
      "execution_count": 17,
      "outputs": [
        {
          "output_type": "execute_result",
          "data": {
            "text/plain": [
              "(torch.Size([32, 1, 28, 28]), torch.Size([32]))"
            ]
          },
          "metadata": {},
          "execution_count": 17
        }
      ]
    },
    {
      "cell_type": "code",
      "source": [
        "torch.manual_seed(42)\n",
        "random_idx = torch.randint(0,len(train_features_batch),size=[1]).item()\n",
        "img, label = train_features_batch[random_idx], train_labels_batch[random_idx]\n",
        "\n",
        "plt.imshow(img.squeeze(),cmap=\"gray\")\n",
        "plt.title(class_names[label])\n",
        "plt.axis(False)\n",
        "print(f\"Image size: {img.shape}\")\n",
        "print(f\"Label: {label}, label sie:{label.shape}\")"
      ],
      "metadata": {
        "colab": {
          "base_uri": "https://localhost:8080/",
          "height": 464
        },
        "id": "0eMVm3WLBoZz",
        "outputId": "d8cfdda4-286c-4e70-857c-76431703a0dc"
      },
      "execution_count": 18,
      "outputs": [
        {
          "output_type": "stream",
          "name": "stdout",
          "text": [
            "Image size: torch.Size([1, 28, 28])\n",
            "Label: 6, label sie:torch.Size([])\n"
          ]
        },
        {
          "output_type": "display_data",
          "data": {
            "text/plain": [
              "<Figure size 640x480 with 1 Axes>"
            ],
            "image/png": "[encoded data removed]"
          },
          "metadata": {}
        }
      ]
    },
    {
      "cell_type": "markdown",
      "source": [
        "Model 0: Build a Baseline model\n",
        "\n",
        "when starting to build a series of machine learning modelling experiments its best practice to start with a baseline model\n",
        "\n",
        "A baseline model is a simple model you will try and imporve upon with subsequent models/experiments\n",
        "\n",
        "In other words: start simply and add complexity when necessary"
      ],
      "metadata": {
        "id": "jkqWOzcNDjux"
      }
    },
    {
      "cell_type": "code",
      "source": [
        "flatten_model = nn.Flatten()\n",
        "\n",
        "x= train_features_batch[0]\n",
        "output = flatten_model(x)\n",
        "\n",
        "print(f\"Shape before flattening:{x.shape}\") # [colour_channels,height,widths]\n",
        "print(f\"Shape after flatterning:{output.shape}\")#[colour_channels,height*widths]"
      ],
      "metadata": {
        "colab": {
          "base_uri": "https://localhost:8080/"
        },
        "id": "L6LXf_5lCcgv",
        "outputId": "f347dc2c-3cc5-4102-b789-7310a3037d64"
      },
      "execution_count": 19,
      "outputs": [
        {
          "output_type": "stream",
          "name": "stdout",
          "text": [
            "Shape before flattening:torch.Size([1, 28, 28])\n",
            "Shape after flatterning:torch.Size([1, 784])\n"
          ]
        }
      ]
    },
    {
      "cell_type": "code",
      "source": [
        "from torch import nn\n",
        "class FashionMNISTModelV0(nn.Module):\n",
        "  def __init__(self, input_shape,hidden_units,output_shape) -> None:\n",
        "    super().__init__()\n",
        "    self.layer_stack = nn.Sequential(nn.Flatten(),\n",
        "                                     nn.Linear(in_features=input_shape,out_features=hidden_units),\n",
        "                                     nn.Linear(in_features=hidden_units,out_features=output_shape))\n",
        "\n",
        "  def forward(self,x):\n",
        "    return self.layer_stack(x)"
      ],
      "metadata": {
        "id": "r6NDe5N_EhrD"
      },
      "execution_count": 20,
      "outputs": []
    },
    {
      "cell_type": "code",
      "source": [
        "torch.manual_seed(42)\n",
        "model_0 = FashionMNISTModelV0(\n",
        "    input_shape=784, # 28*28\n",
        "    hidden_units=10,\n",
        "    output_shape=len(class_names)\n",
        ").to(\"cpu\")"
      ],
      "metadata": {
        "id": "YBCmELRFFTVW"
      },
      "execution_count": 21,
      "outputs": []
    },
    {
      "cell_type": "code",
      "source": [
        "dummy_x = torch.rand([1,1,28,28])\n",
        "model_0(dummy_x)"
      ],
      "metadata": {
        "colab": {
          "base_uri": "https://localhost:8080/"
        },
        "id": "zYQuV4nHF3IK",
        "outputId": "6d9c588f-80a2-4a96-d514-b8c091d2b7e9"
      },
      "execution_count": 22,
      "outputs": [
        {
          "output_type": "execute_result",
          "data": {
            "text/plain": [
              "tensor([[-0.0315,  0.3171,  0.0531, -0.2525,  0.5959,  0.2112,  0.3233,  0.2694,\n",
              "         -0.1004,  0.0157]], grad_fn=<AddmmBackward0>)"
            ]
          },
          "metadata": {},
          "execution_count": 22
        }
      ]
    },
    {
      "cell_type": "code",
      "source": [
        "model_0.state_dict()"
      ],
      "metadata": {
        "colab": {
          "base_uri": "https://localhost:8080/"
        },
        "id": "1sb5fUU7GFl3",
        "outputId": "a0792f9c-279b-42bd-cde0-6380a937da26"
      },
      "execution_count": 23,
      "outputs": [
        {
          "output_type": "execute_result",
          "data": {
            "text/plain": [
              "OrderedDict([('layer_stack.1.weight',\n",
              "              tensor([[ 0.0273,  0.0296, -0.0084,  ..., -0.0142,  0.0093,  0.0135],\n",
              "                      [-0.0188, -0.0354,  0.0187,  ..., -0.0106, -0.0001,  0.0115],\n",
              "                      [-0.0008,  0.0017,  0.0045,  ..., -0.0127, -0.0188,  0.0059],\n",
              "                      ...,\n",
              "                      [-0.0116,  0.0273, -0.0344,  ...,  0.0176,  0.0283, -0.0011],\n",
              "                      [-0.0230,  0.0257,  0.0291,  ..., -0.0187, -0.0087,  0.0001],\n",
              "                      [ 0.0176, -0.0147,  0.0053,  ..., -0.0336, -0.0221,  0.0205]])),\n",
              "             ('layer_stack.1.bias',\n",
              "              tensor([-0.0093,  0.0283, -0.0033,  0.0255,  0.0017,  0.0037, -0.0302, -0.0123,\n",
              "                       0.0018,  0.0163])),\n",
              "             ('layer_stack.2.weight',\n",
              "              tensor([[ 0.0614, -0.0687,  0.0021,  0.2718,  0.2109,  0.1079, -0.2279, -0.1063,\n",
              "                        0.2019,  0.2847],\n",
              "                      [-0.1495,  0.1344, -0.0740,  0.2006, -0.0475, -0.2514, -0.3130, -0.0118,\n",
              "                        0.0932, -0.1864],\n",
              "                      [ 0.2488,  0.1500,  0.1907,  0.1457, -0.3050, -0.0580,  0.1643,  0.1565,\n",
              "                       -0.2877, -0.1792],\n",
              "                      [ 0.2305, -0.2618,  0.2397, -0.0610,  0.0232,  0.1542,  0.0851, -0.2027,\n",
              "                        0.1030, -0.2715],\n",
              "                      [-0.1596, -0.0555, -0.0633,  0.2302, -0.1726,  0.2654,  0.1473,  0.1029,\n",
              "                        0.2252, -0.2160],\n",
              "                      [-0.2725,  0.0118,  0.1559,  0.1596,  0.0132,  0.3024,  0.1124,  0.1366,\n",
              "                       -0.1533,  0.0965],\n",
              "                      [-0.1184, -0.2555, -0.2057, -0.1909, -0.0477, -0.1324,  0.2905,  0.1307,\n",
              "                       -0.2629,  0.0133],\n",
              "                      [ 0.2727, -0.0127,  0.0513,  0.0863, -0.1043, -0.2047, -0.1185, -0.0825,\n",
              "                        0.2488, -0.2571],\n",
              "                      [ 0.0425, -0.1209, -0.0336, -0.0281, -0.1227,  0.0730,  0.0747, -0.1816,\n",
              "                        0.1943,  0.2853],\n",
              "                      [-0.1310,  0.0645, -0.1171,  0.2168, -0.0245, -0.2820,  0.0736,  0.2621,\n",
              "                        0.0012, -0.0810]])),\n",
              "             ('layer_stack.2.bias',\n",
              "              tensor([-0.0087,  0.1791,  0.2712, -0.0791,  0.1685,  0.1762,  0.2825,  0.2266,\n",
              "                      -0.2612, -0.2613]))])"
            ]
          },
          "metadata": {},
          "execution_count": 23
        }
      ]
    },
    {
      "cell_type": "markdown",
      "source": [
        "### Setup loss, optimizer, eval metrics\n",
        "\n",
        "- Loss fn - nn.CrossEntorpyLoss\n",
        "- Optimizer = torch.optim.SGD\n",
        "- Evaluation metrci = Accuracy"
      ],
      "metadata": {
        "id": "T-33f5pZGitA"
      }
    },
    {
      "cell_type": "code",
      "source": [
        "import requests\n",
        "from pathlib import Path\n",
        "\n",
        "if Path(\"helper_functions.py\").is_file():\n",
        "  print(\"Already Exists\")\n",
        "else:\n",
        "  print(\"Downloading\")\n",
        "  request = requests.get(\"https://raw.githubusercontent.com/mrdbourke/pytorch-deep-learning/main/helper_functions.py\")\n",
        "  with open(\"helper_function.py\",\"wb\") as f:\n",
        "    f.write(request.content)"
      ],
      "metadata": {
        "colab": {
          "base_uri": "https://localhost:8080/"
        },
        "id": "jpjkJTNMHT9y",
        "outputId": "edc42560-7a0e-4846-fb9a-cf31229025a3"
      },
      "execution_count": 24,
      "outputs": [
        {
          "output_type": "stream",
          "name": "stdout",
          "text": [
            "Downloading\n"
          ]
        }
      ]
    },
    {
      "cell_type": "code",
      "source": [
        "from helper_function import accuracy_fn"
      ],
      "metadata": {
        "id": "O5DWkNudgstU"
      },
      "execution_count": 25,
      "outputs": []
    },
    {
      "cell_type": "code",
      "source": [
        "loss_fn = nn.CrossEntropyLoss()\n",
        "optimizer = torch.optim.SGD(params=model_0.parameters(),lr=0.1)"
      ],
      "metadata": {
        "id": "KgcYmaQjg1xs"
      },
      "execution_count": 26,
      "outputs": []
    },
    {
      "cell_type": "markdown",
      "source": [
        "### Create a funcion to time our experiments\n",
        "\n",
        "Main Things to Track:\n",
        "1. Model's performance (loss and accuracy values etc)\n",
        "2. How fast it runs\n"
      ],
      "metadata": {
        "id": "VQdbkxVehSpD"
      }
    },
    {
      "cell_type": "code",
      "source": [
        "from timeit import default_timer as timer\n",
        "\n",
        "def print_train_time(start: float,end: float, device:torch.device=None):\n",
        "  total_time = end - start\n",
        "  print(f\"Train time on {device}: {total_time:.3f} seconds\")\n",
        "  return total_time"
      ],
      "metadata": {
        "id": "jnALUiZPhxCP"
      },
      "execution_count": 27,
      "outputs": []
    },
    {
      "cell_type": "markdown",
      "source": [
        "Training Loop\n",
        "\n",
        "1. Loop through epochs\n",
        "2. Loop through training batches, perform training steps, calcuate train loss *per batch*.\n",
        "3. Loop through test batches. perform testing setps. Calculate test loss *per batch*."
      ],
      "metadata": {
        "id": "rpV4lCn3kQbX"
      }
    },
    {
      "cell_type": "code",
      "source": [
        "from tqdm.auto import tqdm\n",
        "\n",
        "#Set sedd and start timer\n",
        "torch.manual_seed(42)\n",
        "train_time_start_on_cpu = timer()\n",
        "\n",
        "epochs = 3\n",
        "\n",
        "for epoch in tqdm(range(epochs)):\n",
        "  print(f\"Epoch :{epoch}\")\n",
        "  train_loss = 0\n",
        "  for batch, (X,y) in enumerate(train_data_loader):\n",
        "    model_0.train()\n",
        "\n",
        "    y_pred = model_0(X)\n",
        "\n",
        "    loss = loss_fn(y_pred,y)\n",
        "    train_loss += loss #accumlate train loss\n",
        "\n",
        "    optimizer.zero_grad()\n",
        "\n",
        "    loss.backward()\n",
        "\n",
        "    optimizer.step()\n",
        "\n",
        "    if batch % 400 == 0:\n",
        "      print(f\"Looked at {batch * len(X)}/{len(train_data_loader.dataset)} samples\")\n",
        "\n",
        "  train_loss /= len(train_data_loader)\n",
        "\n",
        "  # Testing\n",
        "  test_loss, test_acc = 0,0\n",
        "  model_0.eval()\n",
        "  with torch.inference_mode():\n",
        "    for X_test,y_test in test_data_loader:\n",
        "      test_pred = model_0(X_test)\n",
        "      test_loss += loss_fn(test_pred, y_test)\n",
        "\n",
        "      test_acc += accuracy_fn(y_true=y_test,y_pred=test_pred.argmax(dim=1))\n",
        "\n",
        "    # Class test loss and avg per batch\n",
        "    test_loss /= len(test_data_loader)\n",
        "    test_acc /= len(test_data_loader)\n",
        "\n",
        "  print(f\"Train Loss: {train_loss:4f} | Test Loss: {test_loss:4f} | Test acc:{test_acc}\")\n",
        "train_time_end_on_cpu = timer()\n",
        "total_train_time_model_0 = print_train_time(start=train_time_start_on_cpu,\n",
        "                                            end=train_time_end_on_cpu,\n",
        "                                            device=str(next(model_0.parameters()).device))\n",
        "print(total_train_time_model_0)"
      ],
      "metadata": {
        "colab": {
          "base_uri": "https://localhost:8080/",
          "height": 466,
          "referenced_widgets": [
            "58cbe246db2b4d4eb6bd7c8d0f331885",
            "710af807386b44a5902f33fb1d0a3902",
            "f8ef087bcf604e83a6955e4ab8e9fbe4",
            "561725a0d1e9411d90911c9da6792506",
            "991ea31179f94d379250a0015a1df3ac",
            "1b282c4d52bb41c2b48ff9d97bc816eb",
            "8a6b55edfbe34da39c688e8752cf4083",
            "824219df47f747a88a066540552e2e31",
            "6db2eab0d1de434f80fa5ecad13877fe",
            "275ce6f1b5604f1c81494a09acbbe0ca",
            "a9776d38fd6a4fbe8f6cf7c30997b90d"
          ]
        },
        "id": "djM39jHGiFws",
        "outputId": "6bff3348-0884-4a0b-840a-747ec577c960"
      },
      "execution_count": 28,
      "outputs": [
        {
          "output_type": "display_data",
          "data": {
            "text/plain": [
              "  0%|          | 0/3 [00:00<?, ?it/s]"
            ],
            "application/vnd.jupyter.widget-view+json": {
              "version_major": 2,
              "version_minor": 0,
              "model_id": "58cbe246db2b4d4eb6bd7c8d0f331885"
            }
          },
          "metadata": {}
        },
        {
          "output_type": "stream",
          "name": "stdout",
          "text": [
            "Epoch :0\n",
            "Looked at 0/60000 samples\n",
            "Looked at 12800/60000 samples\n",
            "Looked at 25600/60000 samples\n",
            "Looked at 38400/60000 samples\n",
            "Looked at 51200/60000 samples\n",
            "Train Loss: 0.590389 | Test Loss: 0.509535 | Test acc:82.03873801916933\n",
            "Epoch :1\n",
            "Looked at 0/60000 samples\n",
            "Looked at 12800/60000 samples\n",
            "Looked at 25600/60000 samples\n",
            "Looked at 38400/60000 samples\n",
            "Looked at 51200/60000 samples\n",
            "Train Loss: 0.476332 | Test Loss: 0.479890 | Test acc:83.19688498402556\n",
            "Epoch :2\n",
            "Looked at 0/60000 samples\n",
            "Looked at 12800/60000 samples\n",
            "Looked at 25600/60000 samples\n",
            "Looked at 38400/60000 samples\n",
            "Looked at 51200/60000 samples\n",
            "Train Loss: 0.455033 | Test Loss: 0.476639 | Test acc:83.42651757188499\n",
            "Train time on cpu: 31.197 seconds\n",
            "31.196561249999988\n"
          ]
        }
      ]
    },
    {
      "cell_type": "code",
      "source": [
        "device = \"cuda\" if torch.cuda.is_available() else \"cpu\""
      ],
      "metadata": {
        "id": "OCunetaGp0ZA"
      },
      "execution_count": 29,
      "outputs": []
    },
    {
      "cell_type": "markdown",
      "source": [
        "# Make Pedictions and get Model results"
      ],
      "metadata": {
        "id": "NeVYFg4dkrXc"
      }
    },
    {
      "cell_type": "code",
      "source": [
        "torch.manual_seed(42)\n",
        "\n",
        "def eval_model(model: torch.nn.Module,\n",
        "               data_loader: torch.utils.data.DataLoader,\n",
        "               loss_fn: torch.nn.Module,\n",
        "               accuracy_fn,\n",
        "               device):\n",
        "\n",
        "  # Returns dict results of model predictions\n",
        "  loss, acc = 0 , 0\n",
        "  model.to(device)\n",
        "  model.eval()\n",
        "  with torch.inference_mode():\n",
        "    for X, y in tqdm(data_loader):\n",
        "      X,y = X.to(device),y.to(device)\n",
        "      y_pred = model(X)\n",
        "\n",
        "      loss+=loss_fn(y_pred,y)\n",
        "      acc+= accuracy_fn(y_true=y,y_pred=y_pred.argmax(dim=1))\n",
        "    #Scale loss and acc\n",
        "    loss /= len(data_loader)\n",
        "    acc /= len(data_loader)\n",
        "\n",
        "  return {\"model_name\":model.__class__.__name__,\n",
        "          \"model_loss\":loss.item(),\n",
        "          \"model_acc\":acc}\n",
        "model_0_results = eval_model(model=model_0, data_loader=test_data_loader, loss_fn=loss_fn, accuracy_fn=accuracy_fn,device=device)\n",
        "model_0_results"
      ],
      "metadata": {
        "colab": {
          "base_uri": "https://localhost:8080/",
          "height": 103,
          "referenced_widgets": [
            "8b5b71074bf94d778b773f725389b462",
            "89846e5016cb4e5d97646f3dd93b08d1",
            "3964da164a4242a3baf750ec65607acf",
            "2d1035b74b814daa96871c411f0f114f",
            "473ee6c2d0424f348ac17546ec8c443d",
            "705c173a338a44d5ac4c4ac3527d1591",
            "5edd2863b5484fe9b6ee1a2e1c647311",
            "c279d0c38bac4d838c2560c742707fc0",
            "5bb2c1c22da74a34a3e206f947594a85",
            "9d0c56c603f844c9a3d6df6ac290e258",
            "4955e55c9c344c33b9b39f22601ca591"
          ]
        },
        "id": "SAgBgzjTppvW",
        "outputId": "45c6de74-12c0-4824-8e6a-66ae34dbe92f"
      },
      "execution_count": 30,
      "outputs": [
        {
          "output_type": "display_data",
          "data": {
            "text/plain": [
              "  0%|          | 0/313 [00:00<?, ?it/s]"
            ],
            "application/vnd.jupyter.widget-view+json": {
              "version_major": 2,
              "version_minor": 0,
              "model_id": "8b5b71074bf94d778b773f725389b462"
            }
          },
          "metadata": {}
        },
        {
          "output_type": "execute_result",
          "data": {
            "text/plain": [
              "{'model_name': 'FashionMNISTModelV0',\n",
              " 'model_loss': 0.47663894295692444,\n",
              " 'model_acc': 83.42651757188499}"
            ]
          },
          "metadata": {},
          "execution_count": 30
        }
      ]
    },
    {
      "cell_type": "markdown",
      "source": [
        "## Setup Device agnoistic code"
      ],
      "metadata": {
        "id": "96VA37Gpq1Ad"
      }
    },
    {
      "cell_type": "code",
      "source": [
        "device = \"cuda\" if torch.cuda.is_available() else \"cpu\""
      ],
      "metadata": {
        "id": "SfQjCl9PrItC"
      },
      "execution_count": 31,
      "outputs": []
    },
    {
      "cell_type": "code",
      "source": [
        "device"
      ],
      "metadata": {
        "colab": {
          "base_uri": "https://localhost:8080/",
          "height": 36
        },
        "id": "4WyA_V4VrPy5",
        "outputId": "14fd013f-02d5-466f-f176-45ffe70a1a0d"
      },
      "execution_count": 32,
      "outputs": [
        {
          "output_type": "execute_result",
          "data": {
            "text/plain": [
              "'cpu'"
            ],
            "application/vnd.google.colaboratory.intrinsic+json": {
              "type": "string"
            }
          },
          "metadata": {},
          "execution_count": 32
        }
      ]
    },
    {
      "cell_type": "code",
      "source": [
        "class FashionMNISTModelV1(nn.Module):\n",
        "  def __init__(self, input_feature,hidden_units,output_features) -> None:\n",
        "    super().__init__()\n",
        "    self.layer_stack = nn.Sequential(nn.Flatten(),\n",
        "                                     nn.Linear(in_features=input_feature,out_features=hidden_units),\n",
        "                                     nn.ReLU(),\n",
        "                                     nn.Linear(in_features=hidden_units,out_features= output_features),\n",
        "                                    #  nn.ReLU()\n",
        "                                    )\n",
        "\n",
        "  def forward(self, x):\n",
        "    return self.layer_stack(x)"
      ],
      "metadata": {
        "id": "aXV-JP5QrQgR"
      },
      "execution_count": 33,
      "outputs": []
    },
    {
      "cell_type": "code",
      "source": [
        "torch.manual_seed(42)\n",
        "model_1 = FashionMNISTModelV1(input_feature=784,output_features=len(class_names),hidden_units=10).to(device)"
      ],
      "metadata": {
        "id": "3CXCv4_6uCOr"
      },
      "execution_count": 34,
      "outputs": []
    },
    {
      "cell_type": "code",
      "source": [
        "next(model_1.parameters())"
      ],
      "metadata": {
        "colab": {
          "base_uri": "https://localhost:8080/"
        },
        "id": "QzBD8N35uVq5",
        "outputId": "5e3604fb-9d1c-4839-d723-94180e41ca70"
      },
      "execution_count": 35,
      "outputs": [
        {
          "output_type": "execute_result",
          "data": {
            "text/plain": [
              "Parameter containing:\n",
              "tensor([[ 0.0273,  0.0296, -0.0084,  ..., -0.0142,  0.0093,  0.0135],\n",
              "        [-0.0188, -0.0354,  0.0187,  ..., -0.0106, -0.0001,  0.0115],\n",
              "        [-0.0008,  0.0017,  0.0045,  ..., -0.0127, -0.0188,  0.0059],\n",
              "        ...,\n",
              "        [-0.0116,  0.0273, -0.0344,  ...,  0.0176,  0.0283, -0.0011],\n",
              "        [-0.0230,  0.0257,  0.0291,  ..., -0.0187, -0.0087,  0.0001],\n",
              "        [ 0.0176, -0.0147,  0.0053,  ..., -0.0336, -0.0221,  0.0205]],\n",
              "       requires_grad=True)"
            ]
          },
          "metadata": {},
          "execution_count": 35
        }
      ]
    },
    {
      "cell_type": "code",
      "source": [
        "from helper_function import accuracy_fn\n",
        "\n",
        "loss_fn = nn.CrossEntropyLoss()\n",
        "optimizer = torch.optim.SGD(params= model_1.parameters(),\n",
        "                            lr=0.1)"
      ],
      "metadata": {
        "id": "YTuF5BGXuboV"
      },
      "execution_count": 36,
      "outputs": []
    },
    {
      "cell_type": "markdown",
      "source": [
        "## Functionizing trian and eval Loops"
      ],
      "metadata": {
        "id": "JrxzuVzDvWY2"
      }
    },
    {
      "cell_type": "code",
      "source": [
        "def train_step(model, data_loader, loss_fn, optimizer, accuracy_fn,target_device):\n",
        "  train_loss, train_acc=0,0\n",
        "\n",
        "  model.train()\n",
        "  for batch, (X,y) in enumerate(data_loader):\n",
        "    X, y = X.to(device),y.to(device)\n",
        "    y_pred = model(X)\n",
        "    loss = loss_fn(y_pred,y)\n",
        "\n",
        "    train_loss += loss\n",
        "    train_acc = accuracy_fn(y_true=y, y_pred=y_pred.argmax(dim=1))\n",
        "\n",
        "    optimizer.zero_grad()\n",
        "\n",
        "    loss.backward()\n",
        "\n",
        "    optimizer.step()\n",
        "\n",
        "  train_loss /= len(data_loader)\n",
        "  train_acc /= len(data_loader)\n",
        "\n",
        "  print(f\"Train Loss: {train_loss} | Train Acc: {train_acc}\")\n"
      ],
      "metadata": {
        "id": "QKF0Igt-vmL-"
      },
      "execution_count": 37,
      "outputs": []
    },
    {
      "cell_type": "code",
      "source": [
        "def test_step(model, data_loader, loss_fn,accuracy_fn, target_device):\n",
        "  test_loss,test_acc =0,0\n",
        "\n",
        "  model.eval()\n",
        "  with torch.inference_mode():\n",
        "    for X_test, y_test in data_loader:\n",
        "      X_test, y_test = X_test.to(device),y_test.to(device)\n",
        "\n",
        "      test_pred = model(X_test)\n",
        "      test_loss += loss_fn(test_pred, y_test)\n",
        "      test_acc += accuracy_fn(y_true=y_test, y_pred=test_pred.argmax(dim=1))\n",
        "\n",
        "    test_loss /= len(data_loader)\n",
        "    test_acc /= len(data_loader)\n",
        "\n",
        "  print(f\"Test Loss:{test_loss:.5f} | Test acc: {test_acc:.2f}\")\n",
        "\n",
        "\n"
      ],
      "metadata": {
        "id": "Sn9IVJwu9VIm"
      },
      "execution_count": 38,
      "outputs": []
    },
    {
      "cell_type": "code",
      "source": [
        "from timeit import default_timer as timer\n",
        "train_time_start_on_gpu = timer()\n",
        "\n",
        "epochs = 3\n",
        "\n",
        "for epoch in tqdm(range(epochs)):\n",
        "  print(f\"Epoch: {epoch}\")\n",
        "  train_step(model_1,\n",
        "             data_loader=train_data_loader,\n",
        "             loss_fn=loss_fn,\n",
        "             optimizer=optimizer,\n",
        "             accuracy_fn=accuracy_fn,\n",
        "             target_device=device)\n",
        "  test_step(model=model_1,\n",
        "            data_loader=test_data_loader,\n",
        "            loss_fn=loss_fn,\n",
        "            accuracy_fn=accuracy_fn,\n",
        "            target_device=device)\n",
        "\n",
        "train_time_end_on_gpu = timer()\n",
        "\n",
        "total_train_time_model_1 = print_train_time(start= train_time_start_on_gpu,\n",
        "                                            end=train_time_end_on_gpu,\n",
        "                                            device=device)"
      ],
      "metadata": {
        "colab": {
          "base_uri": "https://localhost:8080/",
          "height": 231,
          "referenced_widgets": [
            "74257e9efbb246378fddb8b699e52be0",
            "b188d74a8bce410e99d1ac4549f52828",
            "a670d3ccb40b408cb029d79b573dad23",
            "10221b4f304f404bb0faaaad86146fb4",
            "518a408ef06f41f5ae4f16bcc8bd24a0",
            "5a66b08c7cf94e6eaa90c0cf0f821f96",
            "434772fd1ed64971bbca9b2933667a70",
            "366e3849a52d4a05bf441a3e6274828c",
            "ea52c10f36e04e56acb6a521edf23372",
            "dc054ff0da57477ab9c065664dd921c8",
            "56ba518c8c114928bc371365827186d1"
          ]
        },
        "id": "hRt43KIV-V3r",
        "outputId": "765a3ae0-6a5b-4944-9b5c-5f192c0c2973"
      },
      "execution_count": 39,
      "outputs": [
        {
          "output_type": "display_data",
          "data": {
            "text/plain": [
              "  0%|          | 0/3 [00:00<?, ?it/s]"
            ],
            "application/vnd.jupyter.widget-view+json": {
              "version_major": 2,
              "version_minor": 0,
              "model_id": "74257e9efbb246378fddb8b699e52be0"
            }
          },
          "metadata": {}
        },
        {
          "output_type": "stream",
          "name": "stdout",
          "text": [
            "Epoch: 0\n",
            "Train Loss: 0.6442940831184387 | Train Acc: 0.045\n",
            "Test Loss:0.54185 | Test acc: 80.68\n",
            "Epoch: 1\n",
            "Train Loss: 0.47848835587501526 | Train Acc: 0.04833333333333333\n",
            "Test Loss:0.46595 | Test acc: 83.53\n",
            "Epoch: 2\n",
            "Train Loss: 0.44442135095596313 | Train Acc: 0.041666666666666664\n",
            "Test Loss:0.49056 | Test acc: 83.20\n",
            "Train time on cpu: 30.130 seconds\n"
          ]
        }
      ]
    },
    {
      "cell_type": "code",
      "source": [
        "model_1_results = eval_model(model=model_1,data_loader=test_data_loader,loss_fn=loss_fn, accuracy_fn=accuracy_fn, device=device)"
      ],
      "metadata": {
        "colab": {
          "base_uri": "https://localhost:8080/",
          "height": 49,
          "referenced_widgets": [
            "3788655ea14849c98a005b56fd75bbb6",
            "c640c9db61214b74b5badf27396189bf",
            "b9defdfb6a7a4eef8cb937e4d0093a29",
            "007efead8a884250a7d5fcbe18aa944d",
            "28fcbb5f90384a459b02cd8d47bf5319",
            "f78c27f6ecb54055929751ca59b476e3",
            "2db3464f32164e199e4c1631e6f8da3c",
            "1bc066d3e794479bbb09696e12e3ada0",
            "989face4b42a446aa40707ff2ddc0e87",
            "658a5fae6cc84c9f9758c8a5f9947320",
            "25c602940aea45b884a812756325d582"
          ]
        },
        "id": "wJBAtNOd_y3I",
        "outputId": "7c221de3-8d3e-456c-ee2a-acb53632aaae"
      },
      "execution_count": 40,
      "outputs": [
        {
          "output_type": "display_data",
          "data": {
            "text/plain": [
              "  0%|          | 0/313 [00:00<?, ?it/s]"
            ],
            "application/vnd.jupyter.widget-view+json": {
              "version_major": 2,
              "version_minor": 0,
              "model_id": "3788655ea14849c98a005b56fd75bbb6"
            }
          },
          "metadata": {}
        }
      ]
    },
    {
      "cell_type": "code",
      "source": [
        "model_1_results"
      ],
      "metadata": {
        "colab": {
          "base_uri": "https://localhost:8080/"
        },
        "id": "BvML1A49CMrF",
        "outputId": "4d2bb6de-2f71-405f-b683-2a0dbf54b97f"
      },
      "execution_count": 41,
      "outputs": [
        {
          "output_type": "execute_result",
          "data": {
            "text/plain": [
              "{'model_name': 'FashionMNISTModelV1',\n",
              " 'model_loss': 0.4905567467212677,\n",
              " 'model_acc': 83.19688498402556}"
            ]
          },
          "metadata": {},
          "execution_count": 41
        }
      ]
    },
    {
      "cell_type": "code",
      "source": [
        "model_0_results"
      ],
      "metadata": {
        "colab": {
          "base_uri": "https://localhost:8080/"
        },
        "id": "oyTsAablCRGY",
        "outputId": "7046b35e-851f-4495-cab2-a46a9c29d71c"
      },
      "execution_count": 42,
      "outputs": [
        {
          "output_type": "execute_result",
          "data": {
            "text/plain": [
              "{'model_name': 'FashionMNISTModelV0',\n",
              " 'model_loss': 0.47663894295692444,\n",
              " 'model_acc': 83.42651757188499}"
            ]
          },
          "metadata": {},
          "execution_count": 42
        }
      ]
    },
    {
      "cell_type": "markdown",
      "source": [
        "## Model2 : Building a Conventional Neural Network\n",
        "\n",
        "- https://poloclub.github.io/cnn-explainer/"
      ],
      "metadata": {
        "id": "jMGOkcE2CTCS"
      }
    },
    {
      "cell_type": "code",
      "source": [
        "class FashionMNISTModelV2(nn.Module):\n",
        "  \"\"\"\n",
        "  Model Achitecture that replicate TinyVGG\n",
        "  \"\"\"\n",
        "  def __init__(self, input_shape, hidden_units, output_shape) -> None:\n",
        "    super().__init__()\n",
        "    self.conv_block_1 = nn.Sequential(\n",
        "        nn.Conv2d(in_channels=input_shape,\n",
        "                  out_channels=hidden_units,\n",
        "                  kernel_size=3,\n",
        "                  stride=1,\n",
        "                  padding=1),\n",
        "        nn.ReLU(),\n",
        "        nn.Conv2d(in_channels=hidden_units,\n",
        "                  out_channels=hidden_units,\n",
        "                  kernel_size=3,\n",
        "                  stride=1,\n",
        "                  padding=1),\n",
        "        nn.ReLU(),\n",
        "        nn.MaxPool2d(kernel_size=2,stride=2))\n",
        "\n",
        "    self.conv_block_2 = nn.Sequential(\n",
        "        nn.Conv2d(in_channels=hidden_units,\n",
        "                  out_channels=hidden_units,\n",
        "                  kernel_size=3,\n",
        "                  stride=1,\n",
        "                  padding=1),\n",
        "        nn.ReLU(),\n",
        "        nn.MaxPool2d(kernel_size=2)\n",
        "    )\n",
        "    self.classifier = nn.Sequential(\n",
        "        nn.Flatten(),\n",
        "        nn.Linear(in_features=hidden_units*7*7,\n",
        "                  out_features=output_shape)\n",
        "    )\n",
        "\n",
        "  def forward(self, x):\n",
        "    x = self.conv_block_1(x)\n",
        "    # print(x.shape)\n",
        "    x = self.conv_block_2(x)\n",
        "    # print(x.shape)\n",
        "    x = self.classifier(x)\n",
        "    # print(x)\n",
        "    return x\n",
        "\n"
      ],
      "metadata": {
        "id": "3ddHyUdgDIZZ"
      },
      "execution_count": 43,
      "outputs": []
    },
    {
      "cell_type": "code",
      "source": [
        "torch.manual_seed(42)\n",
        "model_2 = FashionMNISTModelV2(input_shape=1,\n",
        "                              hidden_units=10,\n",
        "                              output_shape=len(class_names)).to(device=device)"
      ],
      "metadata": {
        "id": "jv8h3UqPInH1"
      },
      "execution_count": 44,
      "outputs": []
    },
    {
      "cell_type": "code",
      "source": [
        "list(model_2.parameters())"
      ],
      "metadata": {
        "collapsed": true,
        "colab": {
          "base_uri": "https://localhost:8080/"
        },
        "id": "orS469oCI81P",
        "outputId": "dba8ec05-c60d-4347-b8ba-34d875784529"
      },
      "execution_count": 45,
      "outputs": [
        {
          "output_type": "execute_result",
          "data": {
            "text/plain": [
              "[Parameter containing:\n",
              " tensor([[[[ 0.2548,  0.2767, -0.0781],\n",
              "           [ 0.3062, -0.0730,  0.0673],\n",
              "           [-0.1623,  0.1958,  0.2938]]],\n",
              " \n",
              " \n",
              "         [[[-0.2445,  0.2897,  0.0624],\n",
              "           [ 0.2463,  0.0451,  0.1607],\n",
              "           [-0.0471,  0.2570,  0.0493]]],\n",
              " \n",
              " \n",
              "         [[[-0.1556,  0.0850, -0.1536],\n",
              "           [-0.0391, -0.1354,  0.2211],\n",
              "           [-0.2631, -0.1537, -0.0941]]],\n",
              " \n",
              " \n",
              "         [[[-0.2004,  0.0315, -0.3292],\n",
              "           [ 0.3010, -0.2832,  0.2573],\n",
              "           [ 0.0555, -0.1082,  0.2060]]],\n",
              " \n",
              " \n",
              "         [[[ 0.0520,  0.2693,  0.0364],\n",
              "           [-0.1051,  0.0896, -0.0904],\n",
              "           [ 0.1403,  0.2976,  0.1927]]],\n",
              " \n",
              " \n",
              "         [[[-0.1457,  0.1924,  0.0596],\n",
              "           [ 0.1693, -0.2032, -0.3300],\n",
              "           [-0.1288, -0.2557,  0.2735]]],\n",
              " \n",
              " \n",
              "         [[[ 0.0960,  0.1381,  0.1054],\n",
              "           [-0.0058,  0.2609, -0.2368],\n",
              "           [ 0.0210, -0.2275,  0.1028]]],\n",
              " \n",
              " \n",
              "         [[[-0.1148,  0.1021, -0.0694],\n",
              "           [ 0.2765, -0.1976, -0.1988],\n",
              "           [-0.1988,  0.2998,  0.1111]]],\n",
              " \n",
              " \n",
              "         [[[ 0.3208, -0.2751, -0.3306],\n",
              "           [-0.2608, -0.2242,  0.1350],\n",
              "           [ 0.1194,  0.2770, -0.1721]]],\n",
              " \n",
              " \n",
              "         [[[-0.2272,  0.1769, -0.1347],\n",
              "           [ 0.2023, -0.0791,  0.1907],\n",
              "           [-0.2590, -0.1682,  0.1016]]]], requires_grad=True),\n",
              " Parameter containing:\n",
              " tensor([ 0.0705, -0.0850,  0.1987,  0.2266, -0.2417, -0.1780,  0.3052, -0.1125,\n",
              "         -0.1182, -0.3225], requires_grad=True),\n",
              " Parameter containing:\n",
              " tensor([[[[-0.0604,  0.0263, -0.0139],\n",
              "           [-0.0765,  0.0025, -0.0720],\n",
              "           [-0.0894, -0.0580, -0.0923]],\n",
              " \n",
              "          [[-0.0671,  0.1054,  0.0199],\n",
              "           [ 0.0325, -0.0983, -0.0692],\n",
              "           [-0.0351,  0.0165, -0.0928]],\n",
              " \n",
              "          [[-0.0454, -0.0631,  0.0003],\n",
              "           [-0.0392, -0.0073, -0.0714],\n",
              "           [-0.0724, -0.0615, -0.0361]],\n",
              " \n",
              "          [[-0.0832,  0.0884, -0.0209],\n",
              "           [ 0.0907,  0.0328, -0.0893],\n",
              "           [ 0.0729, -0.0290, -0.0404]],\n",
              " \n",
              "          [[-0.0875, -0.1048,  0.0302],\n",
              "           [-0.0230,  0.0410, -0.0865],\n",
              "           [ 0.0783, -0.0774, -0.0182]],\n",
              " \n",
              "          [[ 0.0220,  0.0544,  0.0851],\n",
              "           [ 0.0960, -0.0836,  0.0265],\n",
              "           [-0.0453, -0.0116, -0.0789]],\n",
              " \n",
              "          [[ 0.0960, -0.0774,  0.0563],\n",
              "           [ 0.0370,  0.0343, -0.0570],\n",
              "           [ 0.0958,  0.0232,  0.0136]],\n",
              " \n",
              "          [[-0.0929,  0.0442, -0.0158],\n",
              "           [-0.0483,  0.0905,  0.0235],\n",
              "           [-0.0583, -0.0534, -0.0050]],\n",
              " \n",
              "          [[ 0.0589, -0.0269, -0.0601],\n",
              "           [-0.0361, -0.0787,  0.0376],\n",
              "           [ 0.0816, -0.0992,  0.0245]],\n",
              " \n",
              "          [[ 0.0545,  0.0191, -0.0375],\n",
              "           [ 0.0550,  0.0554,  0.0394],\n",
              "           [-0.0185, -0.0279,  0.0113]]],\n",
              " \n",
              " \n",
              "         [[[-0.0186, -0.0314,  0.0674],\n",
              "           [ 0.0906, -0.0104, -0.0236],\n",
              "           [ 0.0015, -0.0063,  0.0253]],\n",
              " \n",
              "          [[ 0.0295, -0.0957, -0.0389],\n",
              "           [ 0.0888,  0.0411, -0.0052],\n",
              "           [-0.0636, -0.0645, -0.0944]],\n",
              " \n",
              "          [[-0.0344,  0.0356,  0.0672],\n",
              "           [ 0.0487, -0.0932, -0.0634],\n",
              "           [-0.0166,  0.1020,  0.0152]],\n",
              " \n",
              "          [[-0.0273,  0.0436, -0.0401],\n",
              "           [-0.0682,  0.0769, -0.0479],\n",
              "           [-0.0211, -0.1049,  0.0705]],\n",
              " \n",
              "          [[ 0.0799,  0.0384, -0.0735],\n",
              "           [-0.1040, -0.0856,  0.0786],\n",
              "           [ 0.0506,  0.0887,  0.0552]],\n",
              " \n",
              "          [[ 0.0267, -0.0010, -0.0802],\n",
              "           [-0.0903, -0.0986,  0.0432],\n",
              "           [-0.0518, -0.0212, -0.0607]],\n",
              " \n",
              "          [[-0.0192, -0.0742, -0.0689],\n",
              "           [ 0.0350, -0.0313,  0.0651],\n",
              "           [-0.0338, -0.0773, -0.0186]],\n",
              " \n",
              "          [[-0.0511, -0.0322, -0.1003],\n",
              "           [ 0.0590, -0.0734,  0.0530],\n",
              "           [ 0.0478,  0.0753, -0.0809]],\n",
              " \n",
              "          [[ 0.0758, -0.0498,  0.0391],\n",
              "           [ 0.0990, -0.0149, -0.0008],\n",
              "           [-0.0243, -0.0880,  0.0506]],\n",
              " \n",
              "          [[-0.1046,  0.0654,  0.0789],\n",
              "           [ 0.0997, -0.0249, -0.0866],\n",
              "           [ 0.0237,  0.0582, -0.1049]]],\n",
              " \n",
              " \n",
              "         [[[-0.0239, -0.0632, -0.0092],\n",
              "           [-0.0519, -0.0431, -0.0335],\n",
              "           [-0.1002,  0.0865,  0.0884]],\n",
              " \n",
              "          [[-0.0165, -0.0120, -0.0430],\n",
              "           [-0.0952, -0.1026,  0.0392],\n",
              "           [-0.0579, -0.0678, -0.0082]],\n",
              " \n",
              "          [[-0.0351, -0.0341,  0.0034],\n",
              "           [-0.0224, -0.0363, -0.0505],\n",
              "           [-0.0858,  0.0884, -0.0422]],\n",
              " \n",
              "          [[ 0.0279, -0.0366,  0.0086],\n",
              "           [ 0.0983,  0.0486, -0.0913],\n",
              "           [ 0.0418,  0.1001,  0.0277]],\n",
              " \n",
              "          [[ 0.0707,  0.1039, -0.0162],\n",
              "           [ 0.0219, -0.0733, -0.0217],\n",
              "           [ 0.0781,  0.0540, -0.0667]],\n",
              " \n",
              "          [[-0.0845, -0.0720, -0.1040],\n",
              "           [-0.0813, -0.0261,  0.0711],\n",
              "           [ 0.0176, -0.0802, -0.0846]],\n",
              " \n",
              "          [[ 0.0524, -0.0784, -0.0130],\n",
              "           [ 0.0506, -0.0488, -0.0115],\n",
              "           [-0.0092, -0.0249, -0.0534]],\n",
              " \n",
              "          [[-0.0940, -0.0852, -0.0564],\n",
              "           [ 0.1018, -0.0509, -0.0708],\n",
              "           [ 0.0256,  0.0291,  0.0578]],\n",
              " \n",
              "          [[ 0.0801,  0.0587, -0.1045],\n",
              "           [ 0.0093,  0.0639, -0.0097],\n",
              "           [-0.0621,  0.1005, -0.0394]],\n",
              " \n",
              "          [[-0.0600, -0.0950,  0.0047],\n",
              "           [ 0.0467,  0.0233,  0.0208],\n",
              "           [-0.0799, -0.0984,  0.0019]]],\n",
              " \n",
              " \n",
              "         [[[ 0.0961,  0.0608, -0.0614],\n",
              "           [-0.0137, -0.0777, -0.0509],\n",
              "           [ 0.0191,  0.0574,  0.0873]],\n",
              " \n",
              "          [[-0.0968,  0.0705, -0.0743],\n",
              "           [ 0.0395,  0.0892,  0.0015],\n",
              "           [ 0.0959, -0.0898, -0.0403]],\n",
              " \n",
              "          [[ 0.0615, -0.0230, -0.0216],\n",
              "           [-0.0439,  0.0727,  0.0517],\n",
              "           [ 0.0338, -0.0592, -0.0856]],\n",
              " \n",
              "          [[ 0.0114,  0.0312, -0.0487],\n",
              "           [-0.0295,  0.0712,  0.0084],\n",
              "           [ 0.0048, -0.0259, -0.0955]],\n",
              " \n",
              "          [[-0.0991, -0.0504, -0.0536],\n",
              "           [ 0.0328, -0.0307, -0.0412],\n",
              "           [ 0.1005,  0.0367,  0.0751]],\n",
              " \n",
              "          [[-0.0510, -0.0431,  0.0387],\n",
              "           [-0.0702, -0.0689, -0.0051],\n",
              "           [-0.0386, -0.0790,  0.0625]],\n",
              " \n",
              "          [[ 0.0848,  0.0171, -0.0184],\n",
              "           [-0.0976, -0.0384,  0.0268],\n",
              "           [ 0.0497, -0.0133, -0.0417]],\n",
              " \n",
              "          [[ 0.0587, -0.0839,  0.0666],\n",
              "           [-0.0409,  0.0016, -0.0208],\n",
              "           [ 0.0128, -0.0319,  0.0766]],\n",
              " \n",
              "          [[-0.0027,  0.0823,  0.1013],\n",
              "           [-0.0514, -0.0769,  0.0846],\n",
              "           [ 0.0826, -0.0805, -0.0081]],\n",
              " \n",
              "          [[-0.1039, -0.0863,  0.0204],\n",
              "           [ 0.0280,  0.0223, -0.0287],\n",
              "           [ 0.0972,  0.0151, -0.0622]]],\n",
              " \n",
              " \n",
              "         [[[-0.0060,  0.0253,  0.0369],\n",
              "           [-0.0745,  0.0395, -0.0539],\n",
              "           [-0.0876, -0.0576,  0.1017]],\n",
              " \n",
              "          [[ 0.0901,  0.0944,  0.0619],\n",
              "           [ 0.0796, -0.0141, -0.0580],\n",
              "           [ 0.0527, -0.0546, -0.0711]],\n",
              " \n",
              "          [[-0.0337,  0.0221,  0.0543],\n",
              "           [-0.0409, -0.0620,  0.0142],\n",
              "           [-0.0621, -0.0686,  0.0549]],\n",
              " \n",
              "          [[-0.0177,  0.0963,  0.1025],\n",
              "           [ 0.0315,  0.0363,  0.0243],\n",
              "           [ 0.0017, -0.0077,  0.0014]],\n",
              " \n",
              "          [[ 0.0394,  0.0980, -0.0273],\n",
              "           [-0.0446, -0.0255, -0.0509],\n",
              "           [ 0.0179,  0.0787,  0.0824]],\n",
              " \n",
              "          [[ 0.0484, -0.0776, -0.0566],\n",
              "           [-0.0232, -0.0194,  0.0087],\n",
              "           [-0.0968,  0.0328, -0.0804]],\n",
              " \n",
              "          [[-0.0667, -0.0876,  0.0918],\n",
              "           [-0.0998,  0.0795, -0.0035],\n",
              "           [-0.0123,  0.0659, -0.0097]],\n",
              " \n",
              "          [[ 0.0661,  0.0762, -0.0915],\n",
              "           [ 0.0406,  0.0199,  0.0227],\n",
              "           [ 0.0154,  0.0288, -0.0507]],\n",
              " \n",
              "          [[-0.0135,  0.1002,  0.0708],\n",
              "           [-0.0040, -0.0991,  0.0046],\n",
              "           [-0.0718,  0.0857, -0.0640]],\n",
              " \n",
              "          [[-0.0076, -0.0234,  0.0188],\n",
              "           [ 0.0992,  0.0100,  0.0610],\n",
              "           [ 0.0818,  0.0851, -0.0364]]],\n",
              " \n",
              " \n",
              "         [[[-0.0236,  0.0508, -0.0288],\n",
              "           [ 0.0494, -0.0230, -0.0715],\n",
              "           [ 0.0429,  0.0162,  0.0470]],\n",
              " \n",
              "          [[ 0.1047,  0.0720,  0.0999],\n",
              "           [ 0.0056, -0.0907, -0.0739],\n",
              "           [-0.0655, -0.0929, -0.0528]],\n",
              " \n",
              "          [[-0.0970, -0.0973, -0.0630],\n",
              "           [-0.1039, -0.0647,  0.0402],\n",
              "           [ 0.0879, -0.0314, -0.0307]],\n",
              " \n",
              "          [[ 0.0563, -0.0520, -0.0498],\n",
              "           [ 0.0649, -0.0918,  0.0129],\n",
              "           [ 0.0931,  0.0181,  0.0287]],\n",
              " \n",
              "          [[-0.0614, -0.0015,  0.0058],\n",
              "           [ 0.0259,  0.0410,  0.0916],\n",
              "           [-0.0805,  0.0032, -0.0527]],\n",
              " \n",
              "          [[-0.0834, -0.0084, -0.0928],\n",
              "           [ 0.0736,  0.0122, -0.0568],\n",
              "           [ 0.0551, -0.0998, -0.0408]],\n",
              " \n",
              "          [[-0.0205, -0.0896, -0.0670],\n",
              "           [-0.0172,  0.0800,  0.1018],\n",
              "           [ 0.0671, -0.0629, -0.0690]],\n",
              " \n",
              "          [[ 0.0920,  0.0373,  0.0028],\n",
              "           [ 0.0143, -0.0847, -0.0352],\n",
              "           [ 0.1015, -0.0260, -0.0053]],\n",
              " \n",
              "          [[-0.0875, -0.0590, -0.0022],\n",
              "           [-0.0655, -0.0131,  0.0429],\n",
              "           [-0.1031,  0.0313, -0.0697]],\n",
              " \n",
              "          [[-0.0514,  0.0405,  0.0838],\n",
              "           [-0.0288, -0.0433, -0.0953],\n",
              "           [-0.0544, -0.0923, -0.0241]]],\n",
              " \n",
              " \n",
              "         [[[ 0.0215, -0.0988,  0.0920],\n",
              "           [ 0.0661, -0.1032, -0.0503],\n",
              "           [ 0.0344, -0.0217, -0.0115]],\n",
              " \n",
              "          [[-0.0476,  0.0847, -0.0589],\n",
              "           [ 0.0874,  0.0068,  0.0212],\n",
              "           [ 0.0822, -0.0174, -0.0600]],\n",
              " \n",
              "          [[-0.0170,  0.0855, -0.0782],\n",
              "           [ 0.0239, -0.1036,  0.0553],\n",
              "           [ 0.0389,  0.0045,  0.0452]],\n",
              " \n",
              "          [[ 0.0001,  0.0583, -0.0834],\n",
              "           [-0.0155,  0.0468,  0.1050],\n",
              "           [ 0.0537, -0.0767,  0.0811]],\n",
              " \n",
              "          [[-0.0235, -0.0225, -0.0958],\n",
              "           [-0.0166,  0.0746,  0.0147],\n",
              "           [-0.0614,  0.0324, -0.0338]],\n",
              " \n",
              "          [[ 0.0962, -0.0915, -0.0333],\n",
              "           [-0.1018, -0.0415,  0.0332],\n",
              "           [ 0.1015,  0.0177,  0.1033]],\n",
              " \n",
              "          [[ 0.0206,  0.0609,  0.0845],\n",
              "           [ 0.0881, -0.0590,  0.0969],\n",
              "           [ 0.0639, -0.0493, -0.0503]],\n",
              " \n",
              "          [[-0.0884,  0.0265, -0.0854],\n",
              "           [ 0.0445,  0.0333, -0.0916],\n",
              "           [ 0.0287, -0.0086,  0.0482]],\n",
              " \n",
              "          [[ 0.0605, -0.1048,  0.0967],\n",
              "           [ 0.0884,  0.0419, -0.0963],\n",
              "           [-0.0377, -0.0305, -0.0271]],\n",
              " \n",
              "          [[ 0.0594,  0.0383,  0.0835],\n",
              "           [-0.0395,  0.0355,  0.0375],\n",
              "           [-0.0878, -0.1022, -0.0547]]],\n",
              " \n",
              " \n",
              "         [[[ 0.0722, -0.0992, -0.0918],\n",
              "           [ 0.0591,  0.0569,  0.0867],\n",
              "           [-0.0796, -0.0771,  0.0541]],\n",
              " \n",
              "          [[ 0.0917,  0.0631,  0.0165],\n",
              "           [ 0.0347,  0.1000, -0.0680],\n",
              "           [-0.0479,  0.0737, -0.0721]],\n",
              " \n",
              "          [[-0.0581,  0.0769,  0.0333],\n",
              "           [ 0.0341, -0.0447, -0.0015],\n",
              "           [ 0.0965, -0.0633,  0.0008]],\n",
              " \n",
              "          [[ 0.0501, -0.0728,  0.1024],\n",
              "           [-0.0527, -0.0253, -0.0285],\n",
              "           [-0.0687, -0.1034,  0.0594]],\n",
              " \n",
              "          [[ 0.0280, -0.0987, -0.0678],\n",
              "           [ 0.1042,  0.0403,  0.0423],\n",
              "           [-0.0631, -0.0462, -0.0159]],\n",
              " \n",
              "          [[-0.0193, -0.0722,  0.0087],\n",
              "           [ 0.0105, -0.0133,  0.0146],\n",
              "           [-0.0418,  0.0274,  0.0398]],\n",
              " \n",
              "          [[-0.0555, -0.1045,  0.0552],\n",
              "           [ 0.0251, -0.0536,  0.1016],\n",
              "           [-0.0477,  0.0712,  0.0535]],\n",
              " \n",
              "          [[-0.0884,  0.0680, -0.0969],\n",
              "           [-0.0584, -0.0176, -0.0711],\n",
              "           [ 0.1030, -0.0211,  0.0419]],\n",
              " \n",
              "          [[-0.0941,  0.0607, -0.0328],\n",
              "           [-0.0802,  0.0154,  0.0511],\n",
              "           [ 0.0912, -0.0644, -0.0519]],\n",
              " \n",
              "          [[ 0.0203,  0.0286,  0.0405],\n",
              "           [ 0.0579, -0.0239,  0.0586],\n",
              "           [ 0.0777, -0.0275,  0.0750]]],\n",
              " \n",
              " \n",
              "         [[[ 0.0515,  0.0930, -0.0599],\n",
              "           [-0.0521, -0.0305,  0.0053],\n",
              "           [ 0.0633, -0.0602,  0.0528]],\n",
              " \n",
              "          [[-0.0378,  0.0637, -0.0050],\n",
              "           [-0.0923, -0.0580, -0.0763],\n",
              "           [ 0.0523, -0.0707, -0.0088]],\n",
              " \n",
              "          [[ 0.0227, -0.0578,  0.0304],\n",
              "           [-0.1029, -0.0754, -0.0955],\n",
              "           [-0.0319, -0.0384,  0.0151]],\n",
              " \n",
              "          [[-0.0195,  0.0496,  0.0966],\n",
              "           [ 0.0378, -0.0415, -0.0987],\n",
              "           [ 0.0382, -0.0522,  0.0536]],\n",
              " \n",
              "          [[ 0.0705,  0.0407,  0.0989],\n",
              "           [ 0.1001,  0.0223, -0.0768],\n",
              "           [ 0.0942, -0.0500, -0.0498]],\n",
              " \n",
              "          [[ 0.0882,  0.0817,  0.0318],\n",
              "           [ 0.0066, -0.0887, -0.0109],\n",
              "           [ 0.1011,  0.0268,  0.0090]],\n",
              " \n",
              "          [[-0.0219, -0.0368,  0.0628],\n",
              "           [ 0.0065,  0.0686, -0.0187],\n",
              "           [ 0.0461,  0.0435,  0.0168]],\n",
              " \n",
              "          [[ 0.0662,  0.0661,  0.0977],\n",
              "           [ 0.0810, -0.0270, -0.0892],\n",
              "           [ 0.0193, -0.0009, -0.0275]],\n",
              " \n",
              "          [[-0.0177,  0.0050,  0.0769],\n",
              "           [ 0.0329, -0.0374, -0.0433],\n",
              "           [-0.0261, -0.0407,  0.0948]],\n",
              " \n",
              "          [[ 0.0558,  0.0952,  0.0003],\n",
              "           [ 0.0213,  0.0366, -0.0998],\n",
              "           [ 0.0094, -0.0071, -0.0591]]],\n",
              " \n",
              " \n",
              "         [[[-0.0818,  0.0933,  0.0857],\n",
              "           [ 0.0489,  0.1006, -0.0428],\n",
              "           [-0.0182,  0.0399, -0.0174]],\n",
              " \n",
              "          [[-0.0207, -0.0871,  0.0283],\n",
              "           [-0.0637,  0.0038,  0.1028],\n",
              "           [-0.0324, -0.0332,  0.0636]],\n",
              " \n",
              "          [[-0.0388, -0.0091,  0.0984],\n",
              "           [-0.0432, -0.0754, -0.0590],\n",
              "           [-0.0292, -0.0500, -0.0547]],\n",
              " \n",
              "          [[ 0.0426,  0.0179, -0.0337],\n",
              "           [-0.0819, -0.0332, -0.0445],\n",
              "           [-0.0343, -0.0951,  0.0227]],\n",
              " \n",
              "          [[-0.0774, -0.0821, -0.0861],\n",
              "           [ 0.0440, -0.0635, -0.0435],\n",
              "           [ 0.0826,  0.0560,  0.0604]],\n",
              " \n",
              "          [[-0.1001, -0.0756, -0.0398],\n",
              "           [ 0.0871,  0.0108, -0.0788],\n",
              "           [ 0.0007, -0.0819, -0.0231]],\n",
              " \n",
              "          [[-0.0290,  0.0912,  0.0326],\n",
              "           [-0.0184,  0.0178, -0.0304],\n",
              "           [ 0.0414,  0.0417,  0.0283]],\n",
              " \n",
              "          [[-0.0411,  0.0899, -0.0152],\n",
              "           [-0.0410,  0.0660,  0.0859],\n",
              "           [ 0.1049,  0.0312, -0.0359]],\n",
              " \n",
              "          [[ 0.0535,  0.0904, -0.1034],\n",
              "           [-0.0131, -0.0719,  0.0196],\n",
              "           [ 0.0436, -0.0218, -0.0088]],\n",
              " \n",
              "          [[ 0.0474, -0.0177, -0.0885],\n",
              "           [ 0.0843, -0.0531, -0.0116],\n",
              "           [ 0.0099, -0.0063, -0.0992]]]], requires_grad=True),\n",
              " Parameter containing:\n",
              " tensor([ 0.0484, -0.0479, -0.0547,  0.0252, -0.0550, -0.0487, -0.0355, -0.0396,\n",
              "         -0.0440, -0.0284], requires_grad=True),\n",
              " Parameter containing:\n",
              " tensor([[[[ 2.7393e-02, -8.5299e-02, -6.3802e-02],\n",
              "           [ 1.5381e-03,  1.4659e-02,  5.8217e-02],\n",
              "           [-7.4044e-02,  3.3646e-02,  5.9914e-02]],\n",
              " \n",
              "          [[ 5.8530e-02, -9.8180e-02, -4.0225e-02],\n",
              "           [-9.0606e-02, -6.6704e-02,  5.8711e-02],\n",
              "           [-1.5740e-02,  4.4769e-02, -6.1876e-02]],\n",
              " \n",
              "          [[ 1.6018e-02, -6.3758e-02,  5.2693e-02],\n",
              "           [-4.6104e-02, -2.6432e-02, -9.1456e-02],\n",
              "           [ 3.4822e-04,  1.0008e-01,  5.1163e-02]],\n",
              " \n",
              "          [[-5.6240e-02,  1.4176e-03, -1.1558e-02],\n",
              "           [-8.4862e-02,  8.2650e-02,  1.6993e-03],\n",
              "           [ 2.2199e-02, -4.2567e-02, -4.9323e-02]],\n",
              " \n",
              "          [[ 1.7381e-02,  3.8971e-02,  2.3643e-02],\n",
              "           [-5.0801e-02,  1.0234e-01, -1.5517e-02],\n",
              "           [-6.4554e-02, -4.9301e-02,  1.0377e-01]],\n",
              " \n",
              "          [[ 5.0766e-06, -1.4309e-02, -4.3867e-02],\n",
              "           [-2.7633e-02, -8.8779e-02, -8.3767e-02],\n",
              "           [ 6.1695e-02,  9.0172e-02,  1.0059e-01]],\n",
              " \n",
              "          [[-7.6099e-02,  5.7012e-02, -6.5245e-02],\n",
              "           [ 6.2883e-02,  7.6058e-02,  8.1573e-02],\n",
              "           [ 7.5900e-02,  6.5941e-02,  2.0516e-03]],\n",
              " \n",
              "          [[ 4.8434e-02, -3.7712e-02,  4.5899e-02],\n",
              "           [-3.3879e-02, -1.7700e-03, -9.1746e-02],\n",
              "           [-2.7562e-02, -5.5432e-02, -3.5557e-02]],\n",
              " \n",
              "          [[-6.7313e-02, -9.4810e-02,  6.8639e-03],\n",
              "           [ 6.8408e-02,  9.6001e-02,  6.1512e-02],\n",
              "           [-5.4638e-02, -1.0425e-01,  3.9983e-02]],\n",
              " \n",
              "          [[ 5.9062e-02, -9.0495e-02,  3.7798e-02],\n",
              "           [ 8.9121e-02,  6.3853e-03, -6.3505e-02],\n",
              "           [ 8.6423e-02,  4.5011e-02,  6.9802e-02]]],\n",
              " \n",
              " \n",
              "         [[[-7.1287e-02,  6.1342e-02, -7.2002e-02],\n",
              "           [ 1.0430e-01, -4.4662e-02,  6.3516e-02],\n",
              "           [ 2.1107e-02,  2.7935e-02, -1.6165e-02]],\n",
              " \n",
              "          [[ 4.3295e-02, -4.3932e-02, -9.9357e-02],\n",
              "           [-4.0499e-02,  8.2592e-02, -2.7751e-02],\n",
              "           [ 3.3132e-02, -3.8973e-02,  7.9073e-02]],\n",
              " \n",
              "          [[ 6.3086e-02,  3.7211e-02, -5.3881e-02],\n",
              "           [-8.6133e-02,  3.9686e-03, -6.1839e-02],\n",
              "           [ 8.6667e-02, -1.0130e-01,  4.7104e-02]],\n",
              " \n",
              "          [[ 1.0508e-01,  5.2792e-02,  3.5942e-02],\n",
              "           [-1.0142e-01,  1.0139e-01, -1.8030e-02],\n",
              "           [-9.8495e-02,  1.0406e-01, -4.2894e-02]],\n",
              " \n",
              "          [[-7.4575e-03,  9.6479e-02, -7.3070e-02],\n",
              "           [-7.4576e-02,  1.7141e-02, -1.4109e-02],\n",
              "           [ 2.4280e-02, -8.8407e-02,  3.1524e-03]],\n",
              " \n",
              "          [[-4.6882e-02, -5.1820e-02, -9.6517e-02],\n",
              "           [ 5.5890e-02,  2.0306e-02, -8.9118e-02],\n",
              "           [ 8.3648e-02,  3.1794e-02,  1.9560e-02]],\n",
              " \n",
              "          [[-6.1890e-02,  1.5896e-02,  1.0157e-01],\n",
              "           [ 7.2299e-02, -8.2100e-02,  9.6220e-02],\n",
              "           [ 8.1702e-03,  5.0698e-02,  8.1869e-02]],\n",
              " \n",
              "          [[ 8.9862e-02, -8.2170e-02,  9.2303e-02],\n",
              "           [-7.1591e-02,  7.9021e-03, -7.3656e-02],\n",
              "           [-2.3109e-02, -4.7901e-03, -1.2611e-02]],\n",
              " \n",
              "          [[-1.6652e-02,  8.3137e-03,  1.0398e-01],\n",
              "           [ 6.1244e-02,  5.8973e-02,  4.2190e-02],\n",
              "           [ 8.1606e-02, -4.8645e-03,  8.3813e-03]],\n",
              " \n",
              "          [[ 2.1693e-02, -9.1931e-02, -8.4913e-02],\n",
              "           [ 1.2923e-02, -4.1241e-02, -1.9342e-03],\n",
              "           [-2.4187e-02,  1.6408e-02,  6.8581e-02]]],\n",
              " \n",
              " \n",
              "         [[[-3.4958e-02,  8.4418e-02,  8.3227e-02],\n",
              "           [-8.0901e-02, -8.1400e-02, -8.5284e-02],\n",
              "           [-5.7766e-02, -4.1033e-02, -7.9341e-03]],\n",
              " \n",
              "          [[-2.5635e-02, -5.3258e-02, -3.3488e-02],\n",
              "           [-3.8131e-02,  1.0341e-01, -3.9068e-02],\n",
              "           [-7.5473e-02,  4.3818e-02, -6.0886e-03]],\n",
              " \n",
              "          [[ 8.0698e-02,  6.5863e-02,  9.6843e-02],\n",
              "           [-7.7197e-02,  6.7764e-02,  8.8464e-02],\n",
              "           [-5.2054e-02,  9.6890e-02,  7.9019e-02]],\n",
              " \n",
              "          [[ 1.1544e-03,  5.0823e-02, -3.6853e-02],\n",
              "           [-9.1936e-02,  2.6645e-02,  3.1425e-02],\n",
              "           [-6.8891e-02,  5.1123e-02, -9.0043e-02]],\n",
              " \n",
              "          [[ 9.0718e-02,  1.0208e-01,  2.8699e-02],\n",
              "           [-6.6137e-02,  5.1300e-02,  1.7963e-02],\n",
              "           [ 2.8663e-02,  3.4643e-02,  8.0254e-02]],\n",
              " \n",
              "          [[-4.5309e-02, -2.3711e-02,  2.8746e-02],\n",
              "           [ 1.1486e-02,  8.5000e-02, -5.5365e-02],\n",
              "           [-3.8387e-03,  1.9696e-02, -2.7996e-02]],\n",
              " \n",
              "          [[ 7.1859e-02,  1.1530e-02, -9.7422e-02],\n",
              "           [-1.1420e-02, -4.7809e-02,  1.0243e-02],\n",
              "           [-1.2250e-02, -1.0456e-01, -1.9208e-02]],\n",
              " \n",
              "          [[-1.0096e-02, -3.1083e-02,  9.6848e-02],\n",
              "           [-2.3000e-02,  6.7717e-02,  2.6112e-02],\n",
              "           [-8.8979e-02,  2.4770e-02,  8.7356e-02]],\n",
              " \n",
              "          [[-6.8948e-02, -6.8134e-02,  1.0318e-01],\n",
              "           [ 8.4697e-02, -5.8807e-02,  6.3429e-02],\n",
              "           [-1.3485e-02, -1.0393e-01,  7.9198e-03]],\n",
              " \n",
              "          [[ 3.4057e-02, -3.1619e-02,  3.6670e-02],\n",
              "           [-9.0136e-02,  7.3050e-02,  8.9865e-02],\n",
              "           [ 5.8130e-02,  1.7866e-02,  3.4716e-02]]],\n",
              " \n",
              " \n",
              "         [[[-7.6269e-02, -2.6339e-02, -1.0063e-02],\n",
              "           [-5.8659e-02, -7.7857e-02,  7.0900e-02],\n",
              "           [ 7.1535e-02, -9.5731e-02,  3.3542e-02]],\n",
              " \n",
              "          [[ 4.2881e-02,  1.0014e-01,  6.0985e-02],\n",
              "           [ 9.6907e-02, -3.4510e-02,  7.3827e-02],\n",
              "           [ 8.5740e-02, -9.9541e-02, -8.4613e-02]],\n",
              " \n",
              "          [[ 2.1335e-02,  5.7557e-02, -5.2369e-02],\n",
              "           [ 1.1609e-02, -1.5303e-04,  2.6680e-02],\n",
              "           [-5.6642e-02,  5.9455e-02,  7.0098e-02]],\n",
              " \n",
              "          [[-7.3139e-02,  1.0211e-03,  2.9247e-04],\n",
              "           [ 3.3849e-02,  9.8198e-02,  3.0913e-02],\n",
              "           [-2.3951e-02,  9.4672e-02, -4.0112e-02]],\n",
              " \n",
              "          [[-3.0608e-02,  7.1969e-03, -8.0270e-02],\n",
              "           [ 1.1470e-02, -7.1518e-02,  1.0838e-02],\n",
              "           [ 1.0099e-02,  1.4591e-02, -8.8891e-02]],\n",
              " \n",
              "          [[-1.0012e-01,  4.8501e-02,  9.0399e-02],\n",
              "           [-9.3537e-02,  3.9043e-02, -7.7594e-02],\n",
              "           [ 6.6082e-03,  9.8068e-02,  7.9965e-02]],\n",
              " \n",
              "          [[-7.7069e-02,  6.5203e-02,  5.5057e-02],\n",
              "           [-1.6168e-04,  1.0211e-01, -4.1866e-02],\n",
              "           [-2.4530e-02, -5.3275e-02,  1.5168e-02]],\n",
              " \n",
              "          [[ 2.7911e-02,  8.3990e-03, -5.9307e-02],\n",
              "           [-4.7452e-02,  3.5855e-02, -9.2426e-02],\n",
              "           [-1.6416e-02, -2.3350e-03, -4.2708e-02]],\n",
              " \n",
              "          [[ 3.8360e-02,  6.7940e-03,  7.4004e-02],\n",
              "           [-9.3616e-03, -6.6528e-02,  7.4477e-02],\n",
              "           [ 1.4720e-02, -3.0189e-02, -6.9476e-02]],\n",
              " \n",
              "          [[ 2.4707e-02, -1.0053e-01,  2.7762e-02],\n",
              "           [ 5.2119e-02, -9.2465e-02, -6.9009e-02],\n",
              "           [-7.5781e-02,  8.8597e-02,  8.9611e-02]]],\n",
              " \n",
              " \n",
              "         [[[ 6.5987e-03,  9.8959e-02, -3.5239e-02],\n",
              "           [-1.0233e-01,  3.6819e-02,  3.7343e-02],\n",
              "           [ 1.0334e-01, -3.0510e-05,  8.0785e-02]],\n",
              " \n",
              "          [[ 6.4612e-02,  7.6292e-02, -1.0460e-01],\n",
              "           [ 8.6800e-02, -8.9856e-02,  9.4501e-02],\n",
              "           [-4.3682e-03, -9.3415e-02,  2.9314e-02]],\n",
              " \n",
              "          [[-2.1456e-02, -9.4678e-02, -3.8215e-02],\n",
              "           [ 1.0868e-02,  8.2098e-02, -3.2406e-02],\n",
              "           [ 6.2610e-02,  1.3200e-02,  3.5531e-03]],\n",
              " \n",
              "          [[ 2.0170e-02, -6.9177e-02, -8.7616e-02],\n",
              "           [-3.3121e-02, -9.8226e-02, -4.9158e-02],\n",
              "           [ 4.8494e-03, -6.9424e-02, -4.3723e-02]],\n",
              " \n",
              "          [[-1.8941e-02, -1.2144e-02, -5.8187e-02],\n",
              "           [ 5.0650e-03, -1.4795e-02,  3.0147e-02],\n",
              "           [ 4.7611e-03, -5.2638e-02, -3.6291e-02]],\n",
              " \n",
              "          [[-1.2149e-03, -6.5774e-02,  8.2520e-03],\n",
              "           [-7.4425e-03,  4.0897e-02,  2.4947e-02],\n",
              "           [ 7.8887e-02, -3.4749e-03, -7.7887e-02]],\n",
              " \n",
              "          [[ 4.7119e-02, -7.1240e-02, -1.4489e-02],\n",
              "           [-3.4132e-02, -3.9997e-02, -3.9000e-02],\n",
              "           [ 9.6863e-02,  6.0342e-02,  2.9213e-02]],\n",
              " \n",
              "          [[ 9.8975e-02, -9.5524e-02,  1.7010e-02],\n",
              "           [ 6.7481e-02,  7.0022e-02, -8.3890e-02],\n",
              "           [ 3.7514e-02, -6.0050e-02, -4.1187e-03]],\n",
              " \n",
              "          [[-2.1996e-02, -8.8013e-02, -1.0055e-01],\n",
              "           [-6.9349e-02,  4.7832e-02,  4.8218e-02],\n",
              "           [-9.1681e-02, -3.9586e-02,  1.7218e-03]],\n",
              " \n",
              "          [[-9.1135e-02,  5.9393e-02,  9.5473e-02],\n",
              "           [ 1.8643e-02, -7.8321e-02,  2.4580e-02],\n",
              "           [ 3.8265e-02,  8.3468e-02, -5.6085e-02]]],\n",
              " \n",
              " \n",
              "         [[[-9.4437e-02,  4.6312e-02,  6.5624e-03],\n",
              "           [-3.4345e-02, -4.4169e-02, -5.4351e-02],\n",
              "           [ 8.5328e-02, -1.8187e-02,  7.6022e-02]],\n",
              " \n",
              "          [[ 9.4094e-02,  1.3353e-02,  2.2454e-02],\n",
              "           [-7.1789e-03,  7.2397e-02, -9.4983e-02],\n",
              "           [ 4.1919e-02, -1.7174e-02,  4.8132e-02]],\n",
              " \n",
              "          [[-4.6949e-04, -3.9029e-02, -1.1379e-02],\n",
              "           [ 5.6920e-02, -7.3210e-02, -6.6629e-02],\n",
              "           [-2.3611e-02, -3.8235e-02,  4.1409e-02]],\n",
              " \n",
              "          [[ 7.0937e-02, -1.1289e-02,  9.9672e-02],\n",
              "           [-4.4042e-02, -5.9151e-02, -4.7191e-02],\n",
              "           [-7.2624e-02, -7.3885e-02, -9.3921e-02]],\n",
              " \n",
              "          [[-9.3422e-02,  2.7512e-02,  6.4284e-02],\n",
              "           [ 9.8963e-02,  8.9787e-02, -6.0709e-03],\n",
              "           [ 2.0454e-02, -6.3068e-02,  4.0743e-02]],\n",
              " \n",
              "          [[-1.0107e-01,  4.9719e-02,  1.9334e-02],\n",
              "           [ 3.2393e-02,  3.8595e-02, -4.8394e-02],\n",
              "           [ 9.0452e-02,  5.0307e-02,  6.9243e-02]],\n",
              " \n",
              "          [[ 1.3922e-02,  6.6196e-02,  7.0941e-02],\n",
              "           [ 4.7775e-02,  8.0297e-02, -1.9119e-02],\n",
              "           [ 6.9310e-02,  2.4286e-02,  6.3424e-02]],\n",
              " \n",
              "          [[ 1.0267e-01,  2.3869e-02, -3.9124e-02],\n",
              "           [-1.0488e-02,  2.9676e-02,  1.7773e-02],\n",
              "           [-2.8795e-02,  8.2590e-02,  6.3331e-02]],\n",
              " \n",
              "          [[-6.5475e-02, -8.5889e-03, -1.0119e-02],\n",
              "           [-6.6063e-02,  1.5374e-02, -3.2360e-02],\n",
              "           [-5.4419e-02, -3.3894e-02, -3.7584e-02]],\n",
              " \n",
              "          [[ 1.0084e-01,  4.0432e-02,  1.0373e-01],\n",
              "           [ 2.8903e-02,  2.3868e-02,  4.3333e-02],\n",
              "           [ 1.8092e-02, -8.2722e-02, -6.2334e-02]]],\n",
              " \n",
              " \n",
              "         [[[-2.5538e-02,  1.5846e-03,  3.9709e-02],\n",
              "           [ 4.0588e-02,  8.3623e-02,  2.1458e-02],\n",
              "           [-3.5975e-02, -7.9271e-02, -7.7203e-02]],\n",
              " \n",
              "          [[-6.2965e-02,  3.1792e-02,  5.6950e-02],\n",
              "           [ 9.2224e-02, -3.3342e-02, -8.3150e-03],\n",
              "           [-3.1303e-02, -3.8517e-04,  3.3837e-02]],\n",
              " \n",
              "          [[-2.3160e-03,  4.8799e-03,  1.3354e-02],\n",
              "           [ 3.9256e-02, -3.1981e-02, -6.2855e-02],\n",
              "           [ 2.4869e-02, -1.2481e-02, -4.7753e-02]],\n",
              " \n",
              "          [[ 4.4268e-02,  9.5597e-04, -1.5333e-02],\n",
              "           [-5.1027e-02, -1.3868e-02, -8.9632e-02],\n",
              "           [ 2.3980e-02,  1.5818e-03,  6.3966e-02]],\n",
              " \n",
              "          [[ 6.8063e-03,  8.4277e-03,  2.8715e-02],\n",
              "           [ 8.0210e-02, -4.9812e-02,  6.2930e-02],\n",
              "           [ 2.5779e-02, -7.0320e-02,  3.6702e-02]],\n",
              " \n",
              "          [[-6.3217e-02, -3.3181e-02, -5.0245e-02],\n",
              "           [-7.1711e-02,  8.3017e-02, -9.4217e-02],\n",
              "           [ 5.2706e-02, -9.4870e-02, -1.2829e-02]],\n",
              " \n",
              "          [[ 6.2868e-03,  7.4937e-02, -3.8147e-02],\n",
              "           [ 3.0340e-02,  1.6329e-02,  6.2021e-02],\n",
              "           [ 6.2667e-03,  3.9470e-02, -6.3677e-02]],\n",
              " \n",
              "          [[-7.3250e-02,  9.3928e-02, -7.6808e-02],\n",
              "           [-1.7945e-02, -1.2742e-02,  1.0308e-01],\n",
              "           [-2.2780e-02, -8.0249e-02, -2.6721e-02]],\n",
              " \n",
              "          [[ 5.4372e-02,  4.1773e-02,  8.7204e-02],\n",
              "           [-2.1579e-02,  4.9653e-02, -9.9194e-02],\n",
              "           [ 4.0787e-02,  4.8432e-02,  6.7998e-02]],\n",
              " \n",
              "          [[-6.0446e-02, -2.8142e-02,  2.5502e-02],\n",
              "           [-7.4905e-02, -8.3851e-02, -1.0141e-01],\n",
              "           [ 5.8842e-03,  6.5458e-02,  2.7075e-02]]],\n",
              " \n",
              " \n",
              "         [[[ 6.4263e-03,  3.6727e-02, -6.6240e-02],\n",
              "           [ 1.1113e-02, -2.6186e-02, -5.2193e-02],\n",
              "           [ 9.0902e-02, -8.1550e-02,  1.5448e-02]],\n",
              " \n",
              "          [[-9.2624e-02, -3.5762e-03, -4.6840e-02],\n",
              "           [ 3.4695e-02, -5.9191e-02,  6.7466e-02],\n",
              "           [-8.5536e-02,  6.3313e-02, -7.9181e-02]],\n",
              " \n",
              "          [[ 5.6456e-02, -4.4384e-02, -2.4556e-04],\n",
              "           [-1.9238e-02,  6.8414e-02,  3.4546e-02],\n",
              "           [-9.2887e-02,  9.6914e-03, -7.2718e-02]],\n",
              " \n",
              "          [[ 7.8800e-02,  1.7319e-02, -2.7109e-02],\n",
              "           [-5.3777e-02,  3.6485e-02, -6.3129e-02],\n",
              "           [ 4.9992e-02,  5.7519e-02,  6.4701e-02]],\n",
              " \n",
              "          [[ 2.7537e-02, -9.2272e-02,  7.5823e-02],\n",
              "           [-3.2700e-02, -3.1163e-02, -1.1325e-02],\n",
              "           [ 7.7068e-02,  8.1052e-02,  1.6276e-02]],\n",
              " \n",
              "          [[ 5.0296e-02, -9.8241e-02,  2.4900e-04],\n",
              "           [-9.3254e-02,  3.5876e-02, -7.5099e-02],\n",
              "           [-3.7568e-02,  7.3684e-02,  1.0074e-01]],\n",
              " \n",
              "          [[-6.3286e-02, -5.8503e-02,  1.3055e-02],\n",
              "           [ 4.1437e-02, -1.7168e-02, -3.2918e-02],\n",
              "           [-6.9237e-02,  4.4997e-02,  1.0328e-01]],\n",
              " \n",
              "          [[-5.1026e-02,  4.9718e-02,  5.1481e-02],\n",
              "           [ 8.4728e-02, -1.2001e-02,  3.3202e-03],\n",
              "           [ 7.7444e-02,  6.6631e-02,  1.0411e-01]],\n",
              " \n",
              "          [[-3.0207e-02,  4.1709e-02,  7.3605e-02],\n",
              "           [-7.1553e-02,  2.0940e-02, -2.3586e-02],\n",
              "           [ 6.7760e-02, -4.7342e-02,  7.3933e-03]],\n",
              " \n",
              "          [[ 6.3067e-02, -9.6567e-02, -8.9004e-02],\n",
              "           [-5.3989e-02,  6.7611e-02,  7.0680e-02],\n",
              "           [-7.1991e-02,  2.0100e-02, -5.5854e-02]]],\n",
              " \n",
              " \n",
              "         [[[-4.8926e-02,  9.0907e-02,  5.0914e-02],\n",
              "           [-2.8828e-02,  1.5516e-02,  2.0424e-02],\n",
              "           [ 2.4691e-02, -3.6079e-02, -6.2074e-02]],\n",
              " \n",
              "          [[ 6.9788e-02,  1.4164e-02,  4.4119e-02],\n",
              "           [-3.9922e-02,  5.1057e-02,  7.6713e-02],\n",
              "           [ 6.4107e-02,  2.8660e-02,  1.0371e-01]],\n",
              " \n",
              "          [[-2.3053e-04,  2.2441e-02,  1.0015e-01],\n",
              "           [ 1.0245e-01, -4.4506e-02,  9.4953e-02],\n",
              "           [ 3.8902e-02, -1.1799e-02,  9.2038e-02]],\n",
              " \n",
              "          [[-5.4605e-02,  6.8490e-02,  1.0445e-01],\n",
              "           [-7.2701e-02, -6.2201e-02, -1.0445e-01],\n",
              "           [-1.8970e-02, -9.5733e-02, -3.5304e-02]],\n",
              " \n",
              "          [[ 3.2002e-02,  7.4511e-02,  5.8717e-02],\n",
              "           [ 5.8511e-02,  4.3730e-02, -6.5378e-02],\n",
              "           [-8.3694e-02,  4.3696e-03,  1.0009e-01]],\n",
              " \n",
              "          [[ 5.9351e-03, -9.0662e-03, -7.1545e-02],\n",
              "           [-5.2266e-02, -8.1256e-02,  8.4398e-02],\n",
              "           [-1.7174e-02, -9.3119e-02,  1.1308e-02]],\n",
              " \n",
              "          [[ 7.6494e-03, -1.3023e-02,  3.7733e-02],\n",
              "           [ 5.6687e-02, -9.9128e-02, -8.0753e-02],\n",
              "           [-5.0639e-03, -9.7729e-02, -9.5750e-02]],\n",
              " \n",
              "          [[ 9.3067e-02, -8.0174e-03, -5.2113e-02],\n",
              "           [-3.6157e-02, -8.2295e-02,  8.2258e-02],\n",
              "           [-2.2857e-02, -5.9265e-02, -7.9944e-02]],\n",
              " \n",
              "          [[ 6.1611e-02, -1.4571e-02, -1.1074e-02],\n",
              "           [-2.7473e-02, -5.0883e-02,  1.8751e-02],\n",
              "           [ 8.1099e-02, -6.1093e-02,  5.0504e-03]],\n",
              " \n",
              "          [[-8.0165e-02, -4.9426e-02,  9.2525e-02],\n",
              "           [ 1.1052e-03,  1.0154e-01, -1.8468e-02],\n",
              "           [-5.7453e-02, -6.2981e-02,  9.3426e-02]]],\n",
              " \n",
              " \n",
              "         [[[-8.1058e-02,  5.5318e-02,  2.6203e-02],\n",
              "           [ 3.1107e-02,  5.9476e-02, -2.7577e-02],\n",
              "           [ 6.5223e-02, -8.3982e-02, -3.7087e-02]],\n",
              " \n",
              "          [[ 7.7164e-02,  3.1283e-02, -1.4038e-02],\n",
              "           [-2.4616e-02, -6.4364e-02,  6.4098e-02],\n",
              "           [-3.3520e-03, -3.5664e-03,  2.4929e-02]],\n",
              " \n",
              "          [[ 7.7787e-02, -5.3778e-02, -3.6303e-02],\n",
              "           [ 7.1429e-02,  5.9532e-02, -5.1855e-02],\n",
              "           [-1.0428e-01,  1.9555e-02,  5.5434e-02]],\n",
              " \n",
              "          [[ 2.5178e-02,  7.4768e-02, -8.3640e-02],\n",
              "           [ 5.3156e-02, -6.5531e-02,  5.9325e-02],\n",
              "           [ 7.8394e-02,  3.3385e-02,  8.5284e-02]],\n",
              " \n",
              "          [[-6.9481e-02, -9.4275e-02, -1.0135e-01],\n",
              "           [ 6.6179e-02,  3.6926e-02, -7.7188e-02],\n",
              "           [ 5.1048e-02,  9.6177e-02, -1.0394e-01]],\n",
              " \n",
              "          [[ 7.6466e-02,  1.6167e-02,  9.8053e-03],\n",
              "           [ 9.4847e-02,  9.5458e-02,  4.4414e-02],\n",
              "           [ 8.3288e-02,  4.3853e-02,  1.7176e-02]],\n",
              " \n",
              "          [[-9.2656e-02,  1.9689e-02, -7.4993e-02],\n",
              "           [ 3.2452e-02,  1.8598e-02,  2.3681e-03],\n",
              "           [-7.2071e-02, -6.3899e-02,  7.7912e-02]],\n",
              " \n",
              "          [[ 5.1336e-02,  5.5576e-02, -3.1410e-02],\n",
              "           [-1.8151e-02, -2.7014e-02,  7.2489e-02],\n",
              "           [-4.5504e-02,  6.6394e-02,  7.2679e-02]],\n",
              " \n",
              "          [[-9.6403e-02,  6.4369e-04, -2.0076e-02],\n",
              "           [-5.8273e-02,  4.5507e-02, -1.2807e-02],\n",
              "           [ 9.2287e-02, -6.5976e-02,  4.8976e-02]],\n",
              " \n",
              "          [[-8.9998e-02, -5.2833e-02,  7.1903e-03],\n",
              "           [ 8.3283e-02,  5.5521e-02, -8.6550e-02],\n",
              "           [ 1.1676e-02, -6.2138e-02,  4.5674e-03]]]], requires_grad=True),\n",
              " Parameter containing:\n",
              " tensor([-0.0878, -0.0309,  0.0723, -0.0967, -0.1005,  0.0192,  0.0144, -0.0193,\n",
              "          0.0920, -0.0635], requires_grad=True),\n",
              " Parameter containing:\n",
              " tensor([[-0.0274, -0.0338, -0.0084,  ..., -0.0281, -0.0368,  0.0099],\n",
              "         [-0.0249,  0.0129,  0.0383,  ...,  0.0289,  0.0372, -0.0014],\n",
              "         [-0.0202,  0.0002, -0.0299,  ...,  0.0067, -0.0372, -0.0297],\n",
              "         ...,\n",
              "         [ 0.0069, -0.0443, -0.0313,  ..., -0.0393,  0.0045, -0.0103],\n",
              "         [-0.0203, -0.0077, -0.0062,  ..., -0.0132, -0.0107, -0.0272],\n",
              "         [ 0.0199, -0.0228, -0.0144,  ..., -0.0255, -0.0154,  0.0300]],\n",
              "        requires_grad=True),\n",
              " Parameter containing:\n",
              " tensor([-0.0212, -0.0059, -0.0180, -0.0400,  0.0218, -0.0201, -0.0208, -0.0100,\n",
              "          0.0124,  0.0397], requires_grad=True)]"
            ]
          },
          "metadata": {},
          "execution_count": 45
        }
      ]
    },
    {
      "cell_type": "markdown",
      "source": [
        "## Stepping through nn.Conv2D"
      ],
      "metadata": {
        "id": "LspEcI3OJK0c"
      }
    },
    {
      "cell_type": "code",
      "source": [
        "torch.manual_seed(42)"
      ],
      "metadata": {
        "colab": {
          "base_uri": "https://localhost:8080/"
        },
        "id": "HV1Q3I-iK6QV",
        "outputId": "ca0386ae-b3e3-4a22-c675-95737cc945b7"
      },
      "execution_count": 46,
      "outputs": [
        {
          "output_type": "execute_result",
          "data": {
            "text/plain": [
              "<torch._C.Generator at 0x78c2841ba730>"
            ]
          },
          "metadata": {},
          "execution_count": 46
        }
      ]
    },
    {
      "cell_type": "code",
      "source": [
        "# Create a batch of images\n",
        "images = torch.rand(size=(32,3,64,64))\n",
        "test_image = images[0]\n",
        "\n",
        "print(f\"Image batch shape: {images.shape}\")\n",
        "print(f\"Single Image shape:{test_image.shape}\")\n",
        "# print(f\"Test image:\\n{test_image}\")"
      ],
      "metadata": {
        "collapsed": true,
        "colab": {
          "base_uri": "https://localhost:8080/"
        },
        "id": "NVddt5VXK9N-",
        "outputId": "a9cabdca-1d2d-43d3-b14d-40e94a386420"
      },
      "execution_count": 47,
      "outputs": [
        {
          "output_type": "stream",
          "name": "stdout",
          "text": [
            "Image batch shape: torch.Size([32, 3, 64, 64])\n",
            "Single Image shape:torch.Size([3, 64, 64])\n"
          ]
        }
      ]
    },
    {
      "cell_type": "code",
      "source": [
        "# Create Single conv2d Layer\n",
        "conv_layer = nn.Conv2d(in_channels=3,out_channels=10,\n",
        "                       kernel_size=3,\n",
        "                       stride=1,\n",
        "                       padding=0)\n",
        "\n",
        "conv_output = conv_layer(test_image)"
      ],
      "metadata": {
        "id": "GjvqWpAnLgwz"
      },
      "execution_count": 48,
      "outputs": []
    },
    {
      "cell_type": "code",
      "source": [
        "conv_output.shape"
      ],
      "metadata": {
        "colab": {
          "base_uri": "https://localhost:8080/"
        },
        "id": "MotB38tHM45f",
        "outputId": "352be323-f272-4b03-f537-0adfeb405ba0"
      },
      "execution_count": 49,
      "outputs": [
        {
          "output_type": "execute_result",
          "data": {
            "text/plain": [
              "torch.Size([10, 62, 62])"
            ]
          },
          "metadata": {},
          "execution_count": 49
        }
      ]
    },
    {
      "cell_type": "code",
      "source": [
        "test_image.shape"
      ],
      "metadata": {
        "colab": {
          "base_uri": "https://localhost:8080/"
        },
        "id": "14gK_Z-LM9eb",
        "outputId": "02e71fca-e080-4fc6-fe11-3aeb79f0b426"
      },
      "execution_count": 50,
      "outputs": [
        {
          "output_type": "execute_result",
          "data": {
            "text/plain": [
              "torch.Size([3, 64, 64])"
            ]
          },
          "metadata": {},
          "execution_count": 50
        }
      ]
    },
    {
      "cell_type": "code",
      "source": [
        "max_pool_layer = nn.MaxPool2d(kernel_size=2)\n",
        "\n",
        "max_pool_output = max_pool_layer(test_image)\n",
        "max_pool_output.shape"
      ],
      "metadata": {
        "colab": {
          "base_uri": "https://localhost:8080/"
        },
        "id": "C-ddcdiPpLzT",
        "outputId": "2eed14df-8cc5-4d6b-f760-2109195b5647"
      },
      "execution_count": 51,
      "outputs": [
        {
          "output_type": "execute_result",
          "data": {
            "text/plain": [
              "torch.Size([3, 32, 32])"
            ]
          },
          "metadata": {},
          "execution_count": 51
        }
      ]
    },
    {
      "cell_type": "code",
      "source": [
        "plt.imshow(image.squeeze(),cmap=\"gray\")"
      ],
      "metadata": {
        "colab": {
          "base_uri": "https://localhost:8080/",
          "height": 448
        },
        "id": "zkoIupjGqATo",
        "outputId": "3a8dfa0d-d17a-4d2c-d785-2dca5ce60a7d"
      },
      "execution_count": 52,
      "outputs": [
        {
          "output_type": "execute_result",
          "data": {
            "text/plain": [
              "<matplotlib.image.AxesImage at 0x78c18b3e4050>"
            ]
          },
          "metadata": {},
          "execution_count": 52
        },
        {
          "output_type": "display_data",
          "data": {
            "text/plain": [
              "<Figure size 640x480 with 1 Axes>"
            ],
            "image/png": "[encoded data removed]"
          },
          "metadata": {}
        }
      ]
    },
    {
      "cell_type": "code",
      "source": [
        "rand_image = torch.rand(size=(1,28,28)).to(device)"
      ],
      "metadata": {
        "id": "t5i7N-FMu8kl"
      },
      "execution_count": 53,
      "outputs": []
    },
    {
      "cell_type": "code",
      "source": [
        "rand_image.shape"
      ],
      "metadata": {
        "colab": {
          "base_uri": "https://localhost:8080/"
        },
        "id": "I0gKfnO2vL0U",
        "outputId": "a178429b-34df-470a-da34-d8beb4b03475"
      },
      "execution_count": 54,
      "outputs": [
        {
          "output_type": "execute_result",
          "data": {
            "text/plain": [
              "torch.Size([1, 28, 28])"
            ]
          },
          "metadata": {},
          "execution_count": 54
        }
      ]
    },
    {
      "cell_type": "code",
      "source": [
        "model_2(rand_image.unsqueeze(0))"
      ],
      "metadata": {
        "colab": {
          "base_uri": "https://localhost:8080/"
        },
        "id": "LLvv-qFWtco8",
        "outputId": "7662b458-4415-4078-d335-8de77515f9d5"
      },
      "execution_count": 55,
      "outputs": [
        {
          "output_type": "execute_result",
          "data": {
            "text/plain": [
              "tensor([[-0.0733, -0.0047, -0.0477, -0.0864,  0.0288, -0.0473,  0.0153, -0.0118,\n",
              "         -0.0132,  0.1064]], grad_fn=<AddmmBackward0>)"
            ]
          },
          "metadata": {},
          "execution_count": 55
        }
      ]
    },
    {
      "cell_type": "code",
      "source": [
        "model_2(image.unsqueeze(0).to(device))"
      ],
      "metadata": {
        "colab": {
          "base_uri": "https://localhost:8080/"
        },
        "id": "8hM_oMZqtf7m",
        "outputId": "d7473467-c98a-4fd1-918c-156924db4779"
      },
      "execution_count": 56,
      "outputs": [
        {
          "output_type": "execute_result",
          "data": {
            "text/plain": [
              "tensor([[-0.0546,  0.0080, -0.0390, -0.0824,  0.0148, -0.0413,  0.0218, -0.0270,\n",
              "         -0.0338,  0.0921]], grad_fn=<AddmmBackward0>)"
            ]
          },
          "metadata": {},
          "execution_count": 56
        }
      ]
    },
    {
      "cell_type": "code",
      "source": [
        "loss_fn = nn.CrossEntropyLoss()\n",
        "optimizer_2 = torch.optim.SGD(params=model_2.parameters(),lr=0.1)"
      ],
      "metadata": {
        "id": "dqg_TlUGvXt5"
      },
      "execution_count": 57,
      "outputs": []
    },
    {
      "cell_type": "code",
      "source": [
        "from timeit import default_timer as timer"
      ],
      "metadata": {
        "id": "Im6T4pCowKnr"
      },
      "execution_count": 58,
      "outputs": []
    },
    {
      "cell_type": "code",
      "source": [
        "torch.manual_seed(42)\n",
        "# torch.cuda.random_seed(42)\n",
        "epochs = 3\n",
        "\n",
        "train_time_start_model_2 = timer()\n",
        "for epoch in tqdm(range(epochs)):\n",
        "  train_step(model=model_2, data_loader=train_data_loader, loss_fn= loss_fn, optimizer=optimizer_2, accuracy_fn=accuracy_fn, target_device=device)\n",
        "  test_step(model=model_2,data_loader=test_data_loader,loss_fn=loss_fn, accuracy_fn=accuracy_fn,target_device=device)\n",
        "\n",
        "train_time_end_model_2 = timer()\n",
        "total_train_time_model_2 = print_train_time(start=train_time_start_model_2,\n",
        "                                            end=train_time_end_model_2,\n",
        "                                            device=device)"
      ],
      "metadata": {
        "id": "4n4E3Q9nv7VT",
        "outputId": "366962a2-85e4-4e8e-9dfb-90fbd5d3d07a",
        "colab": {
          "base_uri": "https://localhost:8080/",
          "height": 176,
          "referenced_widgets": [
            "defb688df796473ea346219d44c0dfb2",
            "bce818e81d774506bcf951bde56181eb",
            "da2becc698e044e49cafd1dc0a2e9eb6",
            "52a8818ed8ef4bd6b4ceb52d307210cf",
            "fe4694bdfb164ac5b4a40a2484c5e6ff",
            "d0daa288c6e541daa399f56795636f04",
            "890c9be8237f41a499f6d1f66495cc7d",
            "022d9ab2b51e4d749eedf134ab224e76",
            "3b2764eefe9d47c391178d8d5074259e",
            "b81fd0f256b44aaca82cbdf9e11c067f",
            "1915a91c32c041d9ba5e6ac2ca6dbf44"
          ]
        }
      },
      "execution_count": 59,
      "outputs": [
        {
          "output_type": "display_data",
          "data": {
            "text/plain": [
              "  0%|          | 0/3 [00:00<?, ?it/s]"
            ],
            "application/vnd.jupyter.widget-view+json": {
              "version_major": 2,
              "version_minor": 0,
              "model_id": "defb688df796473ea346219d44c0dfb2"
            }
          },
          "metadata": {}
        },
        {
          "output_type": "stream",
          "name": "stdout",
          "text": [
            "Train Loss: 0.6339727640151978 | Train Acc: 0.04833333333333333\n",
            "Test Loss:0.39545 | Test acc: 85.77\n",
            "Train Loss: 0.36956989765167236 | Train Acc: 0.041666666666666664\n",
            "Test Loss:0.36046 | Test acc: 87.22\n",
            "Train Loss: 0.33448901772499084 | Train Acc: 0.04833333333333333\n",
            "Test Loss:0.33884 | Test acc: 87.92\n",
            "Train time on cpu: 149.546 seconds\n"
          ]
        }
      ]
    },
    {
      "cell_type": "code",
      "source": [
        "model_2_results = eval_model(model=model_2,\n",
        "                             data_loader=test_data_loader,\n",
        "                             loss_fn=loss_fn,\n",
        "                             accuracy_fn=accuracy_fn,\n",
        "                             device=device)"
      ],
      "metadata": {
        "id": "3qvAg9zrw7Jm",
        "outputId": "caf82a0b-8263-455c-f9d1-7b41cda92cc5",
        "colab": {
          "base_uri": "https://localhost:8080/",
          "height": 49,
          "referenced_widgets": [
            "43dab4cfb49141afba30b91dfeb08e50",
            "8bdfc1e0abf44d74968bf04073a18b74",
            "6c7507cde2d74ceba2b419241bf1d046",
            "3c2d525d90294c2798465605edaea4e2",
            "99a4a9ad2da7459884810390a9f505d2",
            "83eb8c608ae947ac913cd33fffdb973c",
            "2f06ee91299b4c5fb8edceffd2929592",
            "eeb15a5692e9483a945815485871941c",
            "ccd280e34458484b9a2d1a1d91b8474d",
            "298edbb4dd3f4868892c319197a49d99",
            "cd4a4399b0c24b48a9171c206f043eae"
          ]
        }
      },
      "execution_count": 60,
      "outputs": [
        {
          "output_type": "display_data",
          "data": {
            "text/plain": [
              "  0%|          | 0/313 [00:00<?, ?it/s]"
            ],
            "application/vnd.jupyter.widget-view+json": {
              "version_major": 2,
              "version_minor": 0,
              "model_id": "43dab4cfb49141afba30b91dfeb08e50"
            }
          },
          "metadata": {}
        }
      ]
    },
    {
      "cell_type": "code",
      "source": [
        "model_2_results"
      ],
      "metadata": {
        "id": "-5U6emsOzywY",
        "outputId": "816dedd1-1d2d-4e9d-cab7-4322b905b0eb",
        "colab": {
          "base_uri": "https://localhost:8080/"
        }
      },
      "execution_count": 61,
      "outputs": [
        {
          "output_type": "execute_result",
          "data": {
            "text/plain": [
              "{'model_name': 'FashionMNISTModelV2',\n",
              " 'model_loss': 0.33884355425834656,\n",
              " 'model_acc': 87.91932907348243}"
            ]
          },
          "metadata": {},
          "execution_count": 61
        }
      ]
    },
    {
      "cell_type": "code",
      "source": [
        "import pandas as pd"
      ],
      "metadata": {
        "id": "vQ3q1ZCHz0XQ"
      },
      "execution_count": 62,
      "outputs": []
    },
    {
      "cell_type": "code",
      "source": [
        "compare_results = pd.DataFrame([model_0_results,model_1_results,model_2_results])"
      ],
      "metadata": {
        "id": "tdv2-qF7z333"
      },
      "execution_count": 63,
      "outputs": []
    },
    {
      "cell_type": "code",
      "source": [
        "compare_results[\"training_time\"] = [total_train_time_model_0,total_train_time_model_0,total_train_time_model_2]"
      ],
      "metadata": {
        "id": "wrrFR6Piz9AH"
      },
      "execution_count": 64,
      "outputs": []
    },
    {
      "cell_type": "code",
      "source": [
        "compare_results"
      ],
      "metadata": {
        "id": "u8HjS6ojz921",
        "outputId": "ed8236d6-1714-49cf-bdb4-4c7b3e68e2bb",
        "colab": {
          "base_uri": "https://localhost:8080/",
          "height": 143
        }
      },
      "execution_count": 65,
      "outputs": [
        {
          "output_type": "execute_result",
          "data": {
            "text/plain": [
              "            model_name  model_loss  model_acc  training_time\n",
              "0  FashionMNISTModelV0    0.476639  83.426518      31.196561\n",
              "1  FashionMNISTModelV1    0.490557  83.196885      31.196561\n",
              "2  FashionMNISTModelV2    0.338844  87.919329     149.546258"
            ],
            "text/html": [
              "\n",
              "  <div id=\"df-c209db48-1cd8-4b2a-b191-f4eab98a87f0\" class=\"colab-df-container\">\n",
              "    <div>\n",
              "<style scoped>\n",
              "    .dataframe tbody tr th:only-of-type {\n",
              "        vertical-align: middle;\n",
              "    }\n",
              "\n",
              "    .dataframe tbody tr th {\n",
              "        vertical-align: top;\n",
              "    }\n",
              "\n",
              "    .dataframe thead th {\n",
              "        text-align: right;\n",
              "    }\n",
              "</style>\n",
              "<table border=\"1\" class=\"dataframe\">\n",
              "  <thead>\n",
              "    <tr style=\"text-align: right;\">\n",
              "      <th></th>\n",
              "      <th>model_name</th>\n",
              "      <th>model_loss</th>\n",
              "      <th>model_acc</th>\n",
              "      <th>training_time</th>\n",
              "    </tr>\n",
              "  </thead>\n",
              "  <tbody>\n",
              "    <tr>\n",
              "      <th>0</th>\n",
              "      <td>FashionMNISTModelV0</td>\n",
              "      <td>0.476639</td>\n",
              "      <td>83.426518</td>\n",
              "      <td>31.196561</td>\n",
              "    </tr>\n",
              "    <tr>\n",
              "      <th>1</th>\n",
              "      <td>FashionMNISTModelV1</td>\n",
              "      <td>0.490557</td>\n",
              "      <td>83.196885</td>\n",
              "      <td>31.196561</td>\n",
              "    </tr>\n",
              "    <tr>\n",
              "      <th>2</th>\n",
              "      <td>FashionMNISTModelV2</td>\n",
              "      <td>0.338844</td>\n",
              "      <td>87.919329</td>\n",
              "      <td>149.546258</td>\n",
              "    </tr>\n",
              "  </tbody>\n",
              "</table>\n",
              "</div>\n",
              "    <div class=\"colab-df-buttons\">\n",
              "\n",
              "  <div class=\"colab-df-container\">\n",
              "    <button class=\"colab-df-convert\" onclick=\"convertToInteractive('df-c209db48-1cd8-4b2a-b191-f4eab98a87f0')\"\n",
              "            title=\"Convert this dataframe to an interactive table.\"\n",
              "            style=\"display:none;\">\n",
              "\n",
              "  <svg xmlns=\"http://www.w3.org/2000/svg\" height=\"24px\" viewBox=\"0 -960 960 960\">\n",
              "    <path d=\"M120-120v-720h720v720H120Zm60-500h600v-160H180v160Zm220 220h160v-160H400v160Zm0 220h160v-160H400v160ZM180-400h160v-160H180v160Zm440 0h160v-160H620v160ZM180-180h160v-160H180v160Zm440 0h160v-160H620v160Z\"/>\n",
              "  </svg>\n",
              "    </button>\n",
              "\n",
              "  <style>\n",
              "    .colab-df-container {\n",
              "      display:flex;\n",
              "      gap: 12px;\n",
              "    }\n",
              "\n",
              "    .colab-df-convert {\n",
              "      background-color: #E8F0FE;\n",
              "      border: none;\n",
              "      border-radius: 50%;\n",
              "      cursor: pointer;\n",
              "      display: none;\n",
              "      fill: #1967D2;\n",
              "      height: 32px;\n",
              "      padding: 0 0 0 0;\n",
              "      width: 32px;\n",
              "    }\n",
              "\n",
              "    .colab-df-convert:hover {\n",
              "      background-color: #E2EBFA;\n",
              "      box-shadow: 0px 1px 2px rgba(60, 64, 67, 0.3), 0px 1px 3px 1px rgba(60, 64, 67, 0.15);\n",
              "      fill: #174EA6;\n",
              "    }\n",
              "\n",
              "    .colab-df-buttons div {\n",
              "      margin-bottom: 4px;\n",
              "    }\n",
              "\n",
              "    [theme=dark] .colab-df-convert {\n",
              "      background-color: #3B4455;\n",
              "      fill: #D2E3FC;\n",
              "    }\n",
              "\n",
              "    [theme=dark] .colab-df-convert:hover {\n",
              "      background-color: #434B5C;\n",
              "      box-shadow: 0px 1px 3px 1px rgba(0, 0, 0, 0.15);\n",
              "      filter: drop-shadow(0px 1px 2px rgba(0, 0, 0, 0.3));\n",
              "      fill: #FFFFFF;\n",
              "    }\n",
              "  </style>\n",
              "\n",
              "    <script>\n",
              "      const buttonEl =\n",
              "        document.querySelector('#df-c209db48-1cd8-4b2a-b191-f4eab98a87f0 button.colab-df-convert');\n",
              "      buttonEl.style.display =\n",
              "        google.colab.kernel.accessAllowed ? 'block' : 'none';\n",
              "\n",
              "      async function convertToInteractive(key) {\n",
              "        const element = document.querySelector('#df-c209db48-1cd8-4b2a-b191-f4eab98a87f0');\n",
              "        const dataTable =\n",
              "          await google.colab.kernel.invokeFunction('convertToInteractive',\n",
              "                                                    [key], {});\n",
              "        if (!dataTable) return;\n",
              "\n",
              "        const docLinkHtml = 'Like what you see? Visit the ' +\n",
              "          '<a target=\"_blank\" href=https://colab.research.google.com/notebooks/data_table.ipynb>data table notebook</a>'\n",
              "          + ' to learn more about interactive tables.';\n",
              "        element.innerHTML = '';\n",
              "        dataTable['output_type'] = 'display_data';\n",
              "        await google.colab.output.renderOutput(dataTable, element);\n",
              "        const docLink = document.createElement('div');\n",
              "        docLink.innerHTML = docLinkHtml;\n",
              "        element.appendChild(docLink);\n",
              "      }\n",
              "    </script>\n",
              "  </div>\n",
              "\n",
              "\n",
              "    <div id=\"df-9e829549-4f68-488c-9c7f-0770e20ff58c\">\n",
              "      <button class=\"colab-df-quickchart\" onclick=\"quickchart('df-9e829549-4f68-488c-9c7f-0770e20ff58c')\"\n",
              "                title=\"Suggest charts\"\n",
              "                style=\"display:none;\">\n",
              "\n",
              "<svg xmlns=\"http://www.w3.org/2000/svg\" height=\"24px\"viewBox=\"0 0 24 24\"\n",
              "     width=\"24px\">\n",
              "    <g>\n",
              "        <path d=\"M19 3H5c-1.1 0-2 .9-2 2v14c0 1.1.9 2 2 2h14c1.1 0 2-.9 2-2V5c0-1.1-.9-2-2-2zM9 17H7v-7h2v7zm4 0h-2V7h2v10zm4 0h-2v-4h2v4z\"/>\n",
              "    </g>\n",
              "</svg>\n",
              "      </button>\n",
              "\n",
              "<style>\n",
              "  .colab-df-quickchart {\n",
              "      --bg-color: #E8F0FE;\n",
              "      --fill-color: #1967D2;\n",
              "      --hover-bg-color: #E2EBFA;\n",
              "      --hover-fill-color: #174EA6;\n",
              "      --disabled-fill-color: #AAA;\n",
              "      --disabled-bg-color: #DDD;\n",
              "  }\n",
              "\n",
              "  [theme=dark] .colab-df-quickchart {\n",
              "      --bg-color: #3B4455;\n",
              "      --fill-color: #D2E3FC;\n",
              "      --hover-bg-color: #434B5C;\n",
              "      --hover-fill-color: #FFFFFF;\n",
              "      --disabled-bg-color: #3B4455;\n",
              "      --disabled-fill-color: #666;\n",
              "  }\n",
              "\n",
              "  .colab-df-quickchart {\n",
              "    background-color: var(--bg-color);\n",
              "    border: none;\n",
              "    border-radius: 50%;\n",
              "    cursor: pointer;\n",
              "    display: none;\n",
              "    fill: var(--fill-color);\n",
              "    height: 32px;\n",
              "    padding: 0;\n",
              "    width: 32px;\n",
              "  }\n",
              "\n",
              "  .colab-df-quickchart:hover {\n",
              "    background-color: var(--hover-bg-color);\n",
              "    box-shadow: 0 1px 2px rgba(60, 64, 67, 0.3), 0 1px 3px 1px rgba(60, 64, 67, 0.15);\n",
              "    fill: var(--button-hover-fill-color);\n",
              "  }\n",
              "\n",
              "  .colab-df-quickchart-complete:disabled,\n",
              "  .colab-df-quickchart-complete:disabled:hover {\n",
              "    background-color: var(--disabled-bg-color);\n",
              "    fill: var(--disabled-fill-color);\n",
              "    box-shadow: none;\n",
              "  }\n",
              "\n",
              "  .colab-df-spinner {\n",
              "    border: 2px solid var(--fill-color);\n",
              "    border-color: transparent;\n",
              "    border-bottom-color: var(--fill-color);\n",
              "    animation:\n",
              "      spin 1s steps(1) infinite;\n",
              "  }\n",
              "\n",
              "  @keyframes spin {\n",
              "    0% {\n",
              "      border-color: transparent;\n",
              "      border-bottom-color: var(--fill-color);\n",
              "      border-left-color: var(--fill-color);\n",
              "    }\n",
              "    20% {\n",
              "      border-color: transparent;\n",
              "      border-left-color: var(--fill-color);\n",
              "      border-top-color: var(--fill-color);\n",
              "    }\n",
              "    30% {\n",
              "      border-color: transparent;\n",
              "      border-left-color: var(--fill-color);\n",
              "      border-top-color: var(--fill-color);\n",
              "      border-right-color: var(--fill-color);\n",
              "    }\n",
              "    40% {\n",
              "      border-color: transparent;\n",
              "      border-right-color: var(--fill-color);\n",
              "      border-top-color: var(--fill-color);\n",
              "    }\n",
              "    60% {\n",
              "      border-color: transparent;\n",
              "      border-right-color: var(--fill-color);\n",
              "    }\n",
              "    80% {\n",
              "      border-color: transparent;\n",
              "      border-right-color: var(--fill-color);\n",
              "      border-bottom-color: var(--fill-color);\n",
              "    }\n",
              "    90% {\n",
              "      border-color: transparent;\n",
              "      border-bottom-color: var(--fill-color);\n",
              "    }\n",
              "  }\n",
              "</style>\n",
              "\n",
              "      <script>\n",
              "        async function quickchart(key) {\n",
              "          const quickchartButtonEl =\n",
              "            document.querySelector('#' + key + ' button');\n",
              "          quickchartButtonEl.disabled = true;  // To prevent multiple clicks.\n",
              "          quickchartButtonEl.classList.add('colab-df-spinner');\n",
              "          try {\n",
              "            const charts = await google.colab.kernel.invokeFunction(\n",
              "                'suggestCharts', [key], {});\n",
              "          } catch (error) {\n",
              "            console.error('Error during call to suggestCharts:', error);\n",
              "          }\n",
              "          quickchartButtonEl.classList.remove('colab-df-spinner');\n",
              "          quickchartButtonEl.classList.add('colab-df-quickchart-complete');\n",
              "        }\n",
              "        (() => {\n",
              "          let quickchartButtonEl =\n",
              "            document.querySelector('#df-9e829549-4f68-488c-9c7f-0770e20ff58c button');\n",
              "          quickchartButtonEl.style.display =\n",
              "            google.colab.kernel.accessAllowed ? 'block' : 'none';\n",
              "        })();\n",
              "      </script>\n",
              "    </div>\n",
              "\n",
              "  <div id=\"id_85ec23b5-a341-4208-994d-5c60e144bb1c\">\n",
              "    <style>\n",
              "      .colab-df-generate {\n",
              "        background-color: #E8F0FE;\n",
              "        border: none;\n",
              "        border-radius: 50%;\n",
              "        cursor: pointer;\n",
              "        display: none;\n",
              "        fill: #1967D2;\n",
              "        height: 32px;\n",
              "        padding: 0 0 0 0;\n",
              "        width: 32px;\n",
              "      }\n",
              "\n",
              "      .colab-df-generate:hover {\n",
              "        background-color: #E2EBFA;\n",
              "        box-shadow: 0px 1px 2px rgba(60, 64, 67, 0.3), 0px 1px 3px 1px rgba(60, 64, 67, 0.15);\n",
              "        fill: #174EA6;\n",
              "      }\n",
              "\n",
              "      [theme=dark] .colab-df-generate {\n",
              "        background-color: #3B4455;\n",
              "        fill: #D2E3FC;\n",
              "      }\n",
              "\n",
              "      [theme=dark] .colab-df-generate:hover {\n",
              "        background-color: #434B5C;\n",
              "        box-shadow: 0px 1px 3px 1px rgba(0, 0, 0, 0.15);\n",
              "        filter: drop-shadow(0px 1px 2px rgba(0, 0, 0, 0.3));\n",
              "        fill: #FFFFFF;\n",
              "      }\n",
              "    </style>\n",
              "    <button class=\"colab-df-generate\" onclick=\"generateWithVariable('compare_results')\"\n",
              "            title=\"Generate code using this dataframe.\"\n",
              "            style=\"display:none;\">\n",
              "\n",
              "  <svg xmlns=\"http://www.w3.org/2000/svg\" height=\"24px\"viewBox=\"0 0 24 24\"\n",
              "       width=\"24px\">\n",
              "    <path d=\"M7,19H8.4L18.45,9,17,7.55,7,17.6ZM5,21V16.75L18.45,3.32a2,2,0,0,1,2.83,0l1.4,1.43a1.91,1.91,0,0,1,.58,1.4,1.91,1.91,0,0,1-.58,1.4L9.25,21ZM18.45,9,17,7.55Zm-12,3A5.31,5.31,0,0,0,4.9,8.1,5.31,5.31,0,0,0,1,6.5,5.31,5.31,0,0,0,4.9,4.9,5.31,5.31,0,0,0,6.5,1,5.31,5.31,0,0,0,8.1,4.9,5.31,5.31,0,0,0,12,6.5,5.46,5.46,0,0,0,6.5,12Z\"/>\n",
              "  </svg>\n",
              "    </button>\n",
              "    <script>\n",
              "      (() => {\n",
              "      const buttonEl =\n",
              "        document.querySelector('#id_85ec23b5-a341-4208-994d-5c60e144bb1c button.colab-df-generate');\n",
              "      buttonEl.style.display =\n",
              "        google.colab.kernel.accessAllowed ? 'block' : 'none';\n",
              "\n",
              "      buttonEl.onclick = () => {\n",
              "        google.colab.notebook.generateWithVariable('compare_results');\n",
              "      }\n",
              "      })();\n",
              "    </script>\n",
              "  </div>\n",
              "\n",
              "    </div>\n",
              "  </div>\n"
            ],
            "application/vnd.google.colaboratory.intrinsic+json": {
              "type": "dataframe",
              "variable_name": "compare_results",
              "summary": "{\n  \"name\": \"compare_results\",\n  \"rows\": 3,\n  \"fields\": [\n    {\n      \"column\": \"model_name\",\n      \"properties\": {\n        \"dtype\": \"string\",\n        \"num_unique_values\": 3,\n        \"samples\": [\n          \"FashionMNISTModelV0\",\n          \"FashionMNISTModelV1\",\n          \"FashionMNISTModelV2\"\n        ],\n        \"semantic_type\": \"\",\n        \"description\": \"\"\n      }\n    },\n    {\n      \"column\": \"model_loss\",\n      \"properties\": {\n        \"dtype\": \"number\",\n        \"std\": 0.08386314961044798,\n        \"min\": 0.33884355425834656,\n        \"max\": 0.4905567467212677,\n        \"num_unique_values\": 3,\n        \"samples\": [\n          0.47663894295692444,\n          0.4905567467212677,\n          0.33884355425834656\n        ],\n        \"semantic_type\": \"\",\n        \"description\": \"\"\n      }\n    },\n    {\n      \"column\": \"model_acc\",\n      \"properties\": {\n        \"dtype\": \"number\",\n        \"std\": 2.662691761242729,\n        \"min\": 83.19688498402556,\n        \"max\": 87.91932907348243,\n        \"num_unique_values\": 3,\n        \"samples\": [\n          83.42651757188499,\n          83.19688498402556,\n          87.91932907348243\n        ],\n        \"semantic_type\": \"\",\n        \"description\": \"\"\n      }\n    },\n    {\n      \"column\": \"training_time\",\n      \"properties\": {\n        \"dtype\": \"number\",\n        \"std\": 68.32922942030595,\n        \"min\": 31.196561249999988,\n        \"max\": 149.546258248,\n        \"num_unique_values\": 2,\n        \"samples\": [\n          149.546258248,\n          31.196561249999988\n        ],\n        \"semantic_type\": \"\",\n        \"description\": \"\"\n      }\n    }\n  ]\n}"
            }
          },
          "metadata": {},
          "execution_count": 65
        }
      ]
    },
    {
      "cell_type": "code",
      "source": [
        "#Visualize our models\n",
        "compare_results.set_index(\"model_name\")[\"model_acc\"].plot(kind=\"barh\")\n",
        "plt.xlabel(\"Accuracy( % )\")\n",
        "plt.ylabel(\"model\")"
      ],
      "metadata": {
        "id": "b3WC0EOf0sN-",
        "outputId": "31753be1-c907-4c07-b2dd-40d522161536",
        "colab": {
          "base_uri": "https://localhost:8080/",
          "height": 467
        }
      },
      "execution_count": 66,
      "outputs": [
        {
          "output_type": "execute_result",
          "data": {
            "text/plain": [
              "Text(0, 0.5, 'model')"
            ]
          },
          "metadata": {},
          "execution_count": 66
        },
        {
          "output_type": "display_data",
          "data": {
            "text/plain": [
              "<Figure size 640x480 with 1 Axes>"
            ],
            "image/png": "[encoded data removed]"
          },
          "metadata": {}
        }
      ]
    },
    {
      "cell_type": "code",
      "source": [
        "def make_predictions(model,data, device):\n",
        "  pred_probs = []\n",
        "  model.eval()\n",
        "  with torch.inference_mode():\n",
        "    for sample in data:\n",
        "      sample = torch.unsqueeze(sample, dim=0).to(device)\n",
        "\n",
        "      pred_logit = model(sample)\n",
        "\n",
        "      pred_prob = torch.softmax(pred_logit.squeeze(),dim=0)\n",
        "\n",
        "      pred_probs.append(pred_prob.cpu())\n",
        "  return torch.stack(pred_probs)\n"
      ],
      "metadata": {
        "id": "Qit-G5H426wE"
      },
      "execution_count": 67,
      "outputs": []
    },
    {
      "cell_type": "code",
      "source": [
        "import random\n",
        "random.seed(42)\n",
        "\n",
        "test_samples = []\n",
        "test_labels = []\n",
        "\n",
        "for sample, label in random.sample(list(test_data),k=9):\n",
        "  test_samples.append(sample)\n",
        "  test_labels.append(label)\n",
        "\n",
        "test_samples[0].shape"
      ],
      "metadata": {
        "id": "uJxDVB520dyT",
        "outputId": "a4c0dab5-4b6c-42f2-941c-bc3379e35fe9",
        "colab": {
          "base_uri": "https://localhost:8080/"
        }
      },
      "execution_count": 68,
      "outputs": [
        {
          "output_type": "execute_result",
          "data": {
            "text/plain": [
              "torch.Size([1, 28, 28])"
            ]
          },
          "metadata": {},
          "execution_count": 68
        }
      ]
    },
    {
      "cell_type": "code",
      "source": [
        "plt.imshow(test_samples[0].squeeze(), cmap=\"gray\")\n",
        "plt.title(class_names[test_labels[0]])"
      ],
      "metadata": {
        "id": "MdqcFOOJ1bwO",
        "outputId": "61efc01c-9be9-423d-ab11-97614bb4bdb4",
        "colab": {
          "base_uri": "https://localhost:8080/",
          "height": 470
        }
      },
      "execution_count": 69,
      "outputs": [
        {
          "output_type": "execute_result",
          "data": {
            "text/plain": [
              "Text(0.5, 1.0, 'Sandal')"
            ]
          },
          "metadata": {},
          "execution_count": 69
        },
        {
          "output_type": "display_data",
          "data": {
            "text/plain": [
              "<Figure size 640x480 with 1 Axes>"
            ],
            "image/png": "[encoded data removed]"
          },
          "metadata": {}
        }
      ]
    },
    {
      "cell_type": "code",
      "source": [
        "pred_probs = make_predictions(model=model_2,data=test_samples,device=device)"
      ],
      "metadata": {
        "id": "E-KvsXR21jLB"
      },
      "execution_count": 71,
      "outputs": []
    },
    {
      "cell_type": "code",
      "source": [
        "pred_probs[:2]"
      ],
      "metadata": {
        "id": "XlT8ZWJr1o2C",
        "outputId": "09f86ef7-590e-49d9-da86-5ebbba1d2b1e",
        "colab": {
          "base_uri": "https://localhost:8080/"
        }
      },
      "execution_count": 72,
      "outputs": [
        {
          "output_type": "execute_result",
          "data": {
            "text/plain": [
              "tensor([[8.8538e-08, 3.3563e-08, 3.2275e-07, 1.7823e-07, 5.8803e-08, 9.8906e-01,\n",
              "         6.3303e-06, 9.2256e-05, 2.7754e-04, 1.0566e-02],\n",
              "        [2.2464e-01, 2.6818e-01, 1.2278e-02, 4.4495e-01, 1.8662e-02, 1.0302e-03,\n",
              "         2.6112e-02, 4.5780e-04, 2.7778e-03, 9.1777e-04]])"
            ]
          },
          "metadata": {},
          "execution_count": 72
        }
      ]
    },
    {
      "cell_type": "code",
      "source": [
        "pred_classes = pred_probs.argmax(dim=1)\n",
        "pred_classes"
      ],
      "metadata": {
        "id": "dZS-XbBE1uOK",
        "outputId": "5c5a8efe-f366-4181-99ad-2c7af6629d50",
        "colab": {
          "base_uri": "https://localhost:8080/"
        }
      },
      "execution_count": 73,
      "outputs": [
        {
          "output_type": "execute_result",
          "data": {
            "text/plain": [
              "tensor([5, 3, 7, 4, 3, 0, 4, 7, 1])"
            ]
          },
          "metadata": {},
          "execution_count": 73
        }
      ]
    },
    {
      "cell_type": "code",
      "source": [
        "test_labels"
      ],
      "metadata": {
        "id": "fyRvbc_v166c",
        "outputId": "f40d3d5a-b12b-4c31-e93f-a2c26f7dc7de",
        "colab": {
          "base_uri": "https://localhost:8080/"
        }
      },
      "execution_count": 74,
      "outputs": [
        {
          "output_type": "execute_result",
          "data": {
            "text/plain": [
              "[5, 1, 7, 4, 3, 0, 4, 7, 1]"
            ]
          },
          "metadata": {},
          "execution_count": 74
        }
      ]
    },
    {
      "cell_type": "code",
      "source": [
        "plt.figure(figsize=(9,9))\n",
        "nrows=3\n",
        "ncols=3\n",
        "for i, sample in enumerate(test_samples):\n",
        "  plt.subplot(nrows,ncols,i+1)\n",
        "  plt.imshow(sample.squeeze(),cmap=\"gray\")\n",
        "  pred_label = class_names[pred_classes[i]]\n",
        "\n",
        "  truth_label = class_names[test_labels[i]]\n",
        "\n",
        "  title = f\"Pred: {pred_label} | Truth: {truth_label}\"\n",
        "\n",
        "  if pred_label==truth_label:\n",
        "    plt.title(title, fontsize=10, c=\"g\")\n",
        "  else:\n",
        "    plt.title(title, fontsize=10, c=\"r\")\n",
        "\n",
        "  plt.axis(False)"
      ],
      "metadata": {
        "id": "F55j_GMY18TO",
        "outputId": "9f2f1128-7c98-4895-dbb5-4e07c1403da1",
        "colab": {
          "base_uri": "https://localhost:8080/",
          "height": 749
        }
      },
      "execution_count": 76,
      "outputs": [
        {
          "output_type": "display_data",
          "data": {
            "text/plain": [
              "<Figure size 900x900 with 9 Axes>"
            ],
            "image/png": "[encoded data removed]"
          },
          "metadata": {}
        }
      ]
    },
    {
      "cell_type": "code",
      "source": [
        "from tqdm.auto import tqdm\n",
        "\n",
        "y_preds = []\n",
        "model_2.eval()\n",
        "with torch.inference_mode():\n",
        "  for X, y in tqdm(test_data_loader, desc=\"Making Predictions\"):\n",
        "    X, y =X.to(device), y.to(device)\n",
        "    y_logit = model_2(X)\n",
        "    y_pred = torch.softmax(y_logit.squeeze(),dim=0).argmax(dim=1)\n",
        "    y_preds.append(y_pred.cpu())\n",
        "\n",
        "print(y_preds)\n",
        "y_pred_tensor = torch.cat(y_preds)\n",
        "y_pred_tensor[:10]"
      ],
      "metadata": {
        "id": "GzTiwQXJ3wff",
        "outputId": "36d1f175-c637-4a3d-b5e3-2c62b9cfbb28",
        "colab": {
          "base_uri": "https://localhost:8080/",
          "height": 1000,
          "referenced_widgets": [
            "31e7807bb8324f34bf6b95c1a7b0c2c5",
            "fafeec3473634eee951a6f2678e4de88",
            "6c502080119346de9b3015cbdfa1ca21",
            "2b866f74c7b84f648e685ef56d2da64d",
            "f365802204d14a409b3b183f14457a61",
            "e832c93d321f4ad7b86fed48683004cd",
            "251ac8618e7a4e5d896dc918e3362916",
            "6fd0ef2a3c984407a345f66c7e816c45",
            "7e7b86ea4d664731a200e8bded95f84e",
            "a580ae87b537468bbf7a32e2f6288d71",
            "1a6c379470d746739b25f5c93051fa7c"
          ]
        }
      },
      "execution_count": 77,
      "outputs": [
        {
          "output_type": "display_data",
          "data": {
            "text/plain": [
              "Making Predictions:   0%|          | 0/313 [00:00<?, ?it/s]"
            ],
            "application/vnd.jupyter.widget-view+json": {
              "version_major": 2,
              "version_minor": 0,
              "model_id": "31e7807bb8324f34bf6b95c1a7b0c2c5"
            }
          },
          "metadata": {}
        },
        {
          "output_type": "stream",
          "name": "stdout",
          "text": [
            "[tensor([9, 2, 1, 1, 6, 1, 4, 6, 5, 7, 4, 5, 8, 3, 4, 3, 2, 4, 8, 0, 2, 5, 7, 5,\n",
            "        1, 6, 6, 3, 9, 3, 8, 8]), tensor([3, 3, 8, 0, 7, 5, 7, 9, 0, 1, 3, 7, 6, 7, 2, 1, 2, 6, 6, 6, 5, 8, 2, 2,\n",
            "        8, 4, 8, 0, 7, 7, 8, 5]), tensor([1, 1, 3, 3, 7, 8, 7, 0, 2, 6, 4, 3, 1, 2, 8, 4, 1, 8, 5, 9, 5, 0, 3, 2,\n",
            "        0, 6, 5, 3, 6, 7, 1, 8]), tensor([0, 1, 4, 2, 3, 6, 7, 6, 7, 8, 5, 7, 9, 4, 2, 5, 7, 0, 5, 2, 8, 4, 7, 8,\n",
            "        0, 0, 9, 9, 3, 0, 8, 4]), tensor([1, 5, 4, 1, 9, 1, 8, 6, 6, 1, 2, 5, 1, 6, 0, 0, 4, 6, 1, 3, 2, 6, 3, 4,\n",
            "        3, 3, 5, 0, 4, 7, 9, 3]), tensor([7, 6, 3, 8, 0, 9, 4, 7, 4, 2, 6, 5, 2, 1, 2, 1, 3, 0, 8, 1, 0, 9, 3, 6,\n",
            "        7, 9, 8, 4, 4, 7, 3, 2]), tensor([3, 6, 3, 2, 8, 3, 6, 1, 1, 0, 2, 9, 2, 6, 0, 7, 9, 3, 4, 1, 8, 4, 1, 3,\n",
            "        3, 6, 7, 2, 8, 5, 6, 0]), tensor([7, 7, 6, 3, 7, 0, 7, 8, 9, 2, 9, 0, 8, 1, 3, 2, 5, 4, 9, 2, 2, 8, 6, 4,\n",
            "        6, 4, 9, 7, 3, 5, 8, 4]), tensor([8, 5, 2, 3, 0, 4, 8, 6, 0, 6, 3, 8, 9, 6, 1, 3, 0, 4, 3, 0, 8, 3, 7, 4,\n",
            "        0, 1, 2, 3, 6, 2, 6, 7]), tensor([8, 3, 8, 9, 5, 6, 5, 8, 1, 9, 8, 3, 3, 3, 6, 8, 0, 0, 2, 9, 7, 7, 1, 3,\n",
            "        8, 6, 2, 4, 7, 1, 6, 4]), tensor([8, 2, 6, 5, 6, 2, 7, 7, 7, 3, 3, 7, 0, 7, 1, 3, 7, 8, 2, 3, 4, 0, 3, 1,\n",
            "        0, 1, 9, 4, 9, 9, 1, 5]), tensor([8, 3, 6, 0, 2, 4, 8, 6, 1, 2, 2, 4, 4, 7, 3, 2, 2, 8, 0, 7, 9, 4, 0, 9,\n",
            "        3, 9, 3, 2, 5, 6, 0, 3]), tensor([5, 8, 1, 6, 2, 2, 6, 4, 9, 5, 2, 0, 6, 6, 1, 2, 0, 9, 7, 3, 3, 4, 3, 3,\n",
            "        2, 3, 3, 6, 7, 3, 9, 4]), tensor([2, 3, 5, 4, 5, 3, 8, 5, 8, 6, 4, 8, 9, 8, 6, 2, 4, 4, 4, 4, 3, 6, 1, 3,\n",
            "        0, 7, 8, 8, 6, 5, 3, 1]), tensor([7, 5, 3, 3, 6, 1, 6, 2, 9, 4, 0, 6, 3, 4, 2, 0, 0, 3, 3, 8, 2, 8, 9, 4,\n",
            "        0, 7, 6, 6, 6, 9, 2, 9]), tensor([5, 9, 3, 7, 5, 9, 8, 1, 6, 0, 6, 6, 8, 9, 7, 9, 1, 2, 9, 3, 2, 0, 5, 9,\n",
            "        1, 8, 2, 2, 2, 2, 4, 4]), tensor([6, 1, 9, 6, 7, 1, 9, 1, 2, 8, 3, 8, 9, 2, 6, 6, 8, 0, 2, 0, 5, 8, 8, 5,\n",
            "        0, 9, 4, 3, 4, 2, 7, 1]), tensor([3, 1, 2, 6, 2, 9, 6, 1, 7, 3, 3, 1, 9, 3, 3, 5, 3, 6, 2, 6, 4, 0, 0, 8,\n",
            "        8, 2, 3, 4, 6, 7, 7, 8]), tensor([8, 3, 3, 8, 7, 6, 7, 9, 3, 4, 6, 3, 8, 4, 1, 1, 5, 8, 3, 2, 5, 7, 8, 1,\n",
            "        2, 9, 7, 7, 1, 0, 9, 6]), tensor([4, 9, 0, 5, 6, 8, 2, 7, 1, 2, 1, 8, 2, 4, 6, 5, 3, 0, 7, 8, 0, 2, 9, 4,\n",
            "        1, 6, 4, 1, 0, 1, 4, 2]), tensor([7, 5, 8, 3, 9, 1, 0, 5, 4, 4, 4, 0, 0, 2, 7, 6, 0, 3, 5, 2, 1, 3, 3, 3,\n",
            "        6, 4, 3, 8, 2, 8, 6, 7]), tensor([0, 4, 1, 8, 5, 0, 8, 2, 9, 1, 8, 7, 6, 3, 4, 9, 1, 6, 5, 0, 9, 5, 3, 6,\n",
            "        6, 0, 1, 3, 8, 1, 1, 0]), tensor([9, 7, 5, 3, 8, 9, 1, 3, 7, 3, 0, 2, 6, 7, 3, 0, 0, 8, 7, 2, 6, 4, 6, 4,\n",
            "        1, 5, 9, 3, 0, 3, 6, 5]), tensor([6, 3, 4, 3, 3, 8, 1, 1, 8, 5, 7, 9, 8, 7, 2, 0, 7, 3, 8, 0, 9, 7, 6, 1,\n",
            "        3, 2, 2, 8, 6, 6, 3, 6]), tensor([8, 6, 0, 8, 9, 2, 4, 5, 9, 3, 4, 4, 9, 2, 3, 7, 9, 8, 8, 3, 7, 7, 3, 1,\n",
            "        1, 6, 7, 5, 3, 8, 6, 2]), tensor([7, 0, 8, 3, 2, 2, 4, 7, 1, 4, 9, 3, 5, 8, 5, 4, 7, 2, 8, 5, 9, 3, 3, 6,\n",
            "        7, 1, 7, 0, 7, 4, 6, 5]), tensor([8, 3, 7, 1, 2, 6, 3, 9, 8, 2, 7, 4, 3, 7, 5, 9, 9, 3, 8, 4, 5, 7, 1, 9,\n",
            "        8, 1, 0, 0, 6, 1, 7, 3]), tensor([1, 8, 7, 1, 5, 2, 2, 3, 3, 1, 1, 4, 9, 4, 3, 7, 7, 8, 8, 9, 9, 6, 1, 3,\n",
            "        4, 0, 3, 5, 8, 2, 0, 5]), tensor([9, 1, 9, 7, 8, 7, 9, 3, 6, 4, 0, 4, 0, 2, 0, 2, 5, 5, 1, 2, 0, 9, 3, 7,\n",
            "        8, 4, 8, 3, 4, 7, 0, 7]), tensor([4, 8, 8, 3, 4, 4, 3, 6, 9, 2, 2, 4, 9, 1, 8, 1, 7, 5, 5, 6, 0, 2, 1, 0,\n",
            "        5, 4, 0, 0, 2, 7, 5, 0]), tensor([2, 5, 9, 6, 8, 6, 0, 4, 6, 2, 9, 0, 7, 7, 1, 4, 4, 0, 5, 0, 9, 9, 8, 8,\n",
            "        0, 0, 2, 4, 6, 6, 3, 2]), tensor([3, 7, 4, 9, 3, 4, 7, 7, 0, 3, 5, 5, 4, 4, 8, 9, 6, 3, 7, 5, 1, 9, 8, 8,\n",
            "        9, 9, 2, 7, 2, 2, 3, 8]), tensor([7, 4, 4, 5, 4, 3, 6, 1, 4, 9, 3, 1, 6, 8, 0, 5, 7, 8, 2, 3, 3, 9, 6, 3,\n",
            "        6, 0, 4, 8, 0, 2, 9, 6]), tensor([0, 3, 2, 7, 0, 2, 1, 3, 3, 6, 8, 5, 9, 0, 1, 6, 5, 1, 4, 4, 8, 4, 7, 7,\n",
            "        3, 8, 3, 1, 9, 8, 1, 3]), tensor([3, 7, 5, 0, 5, 7, 8, 9, 6, 0, 5, 8, 4, 6, 3, 8, 6, 5, 5, 2, 7, 1, 5, 3,\n",
            "        5, 4, 8, 0, 2, 1, 1, 7]), tensor([9, 6, 1, 7, 0, 4, 8, 2, 2, 3, 1, 4, 4, 9, 6, 8, 4, 5, 5, 0, 3, 9, 4, 9,\n",
            "        8, 7, 3, 2, 2, 5, 1, 7]), tensor([0, 7, 2, 9, 3, 7, 0, 9, 3, 8, 4, 4, 7, 6, 3, 6, 2, 0, 7, 8, 4, 2, 4, 8,\n",
            "        5, 6, 3, 5, 5, 8, 1, 3]), tensor([7, 4, 3, 9, 6, 8, 7, 2, 2, 1, 2, 7, 8, 4, 9, 8, 5, 1, 3, 3, 2, 3, 8, 3,\n",
            "        1, 9, 3, 5, 5, 3, 0, 7]), tensor([0, 2, 3, 1, 3, 1, 3, 6, 7, 2, 4, 9, 8, 2, 9, 6, 3, 4, 4, 6, 0, 8, 2, 2,\n",
            "        5, 6, 1, 6, 2, 8, 4, 3]), tensor([8, 3, 2, 4, 0, 6, 3, 6, 8, 3, 8, 2, 0, 4, 4, 8, 8, 4, 5, 2, 2, 3, 0, 1,\n",
            "        7, 0, 9, 1, 9, 3, 5, 2]), tensor([2, 7, 3, 8, 7, 0, 6, 6, 7, 5, 7, 9, 5, 0, 6, 0, 3, 2, 4, 4, 6, 7, 1, 3,\n",
            "        4, 0, 6, 5, 1, 6, 7, 3]), tensor([4, 8, 8, 2, 8, 9, 3, 1, 6, 5, 2, 7, 8, 5, 3, 8, 5, 2, 2, 8, 9, 8, 3, 3,\n",
            "        3, 8, 8, 0, 0, 7, 2, 4]), tensor([8, 1, 3, 6, 1, 9, 2, 1, 6, 2, 7, 9, 2, 6, 0, 6, 4, 2, 4, 5, 0, 2, 8, 3,\n",
            "        7, 6, 4, 0, 0, 5, 4, 8]), tensor([2, 4, 3, 0, 2, 3, 7, 9, 5, 4, 7, 2, 6, 7, 3, 3, 1, 3, 3, 6, 6, 1, 9, 2,\n",
            "        4, 7, 1, 0, 6, 5, 8, 4]), tensor([2, 7, 9, 8, 0, 7, 9, 8, 1, 2, 9, 8, 8, 3, 9, 9, 1, 2, 7, 8, 0, 1, 7, 2,\n",
            "        7, 1, 1, 8, 5, 6, 4, 8]), tensor([9, 5, 5, 2, 3, 9, 3, 8, 5, 6, 0, 3, 6, 5, 7, 6, 3, 2, 6, 4, 6, 7, 6, 0,\n",
            "        5, 1, 7, 2, 3, 6, 8, 9]), tensor([8, 7, 1, 2, 3, 2, 9, 7, 5, 6, 3, 0, 7, 3, 2, 4, 9, 3, 6, 4, 4, 3, 0, 0,\n",
            "        6, 3, 6, 1, 3, 5, 6, 5]), tensor([3, 9, 1, 1, 8, 2, 9, 5, 0, 7, 4, 6, 7, 1, 3, 5, 3, 8, 7, 8, 3, 8, 9, 2,\n",
            "        2, 3, 1, 3, 8, 2, 7, 3]), tensor([9, 3, 2, 4, 7, 0, 1, 3, 9, 6, 3, 7, 2, 8, 1, 8, 0, 7, 9, 8, 5, 4, 2, 6,\n",
            "        4, 0, 4, 5, 8, 3, 8, 8]), tensor([8, 7, 3, 7, 0, 7, 0, 4, 2, 8, 3, 5, 1, 1, 7, 7, 6, 6, 6, 4, 6, 8, 6, 3,\n",
            "        1, 4, 9, 9, 4, 8, 2, 2]), tensor([7, 8, 0, 7, 9, 1, 2, 9, 4, 5, 3, 6, 3, 3, 1, 8, 8, 5, 3, 8, 2, 2, 6, 3,\n",
            "        2, 0, 2, 7, 3, 2, 8, 3]), tensor([9, 7, 3, 1, 7, 5, 8, 8, 6, 0, 0, 4, 4, 8, 5, 7, 0, 6, 2, 7, 7, 3, 9, 2,\n",
            "        5, 9, 7, 3, 7, 2, 4, 5]), tensor([1, 6, 7, 4, 5, 0, 4, 2, 1, 4, 4, 8, 4, 7, 9, 4, 3, 1, 7, 2, 3, 5, 6, 3,\n",
            "        9, 7, 7, 3, 8, 8, 8, 7]), tensor([1, 1, 6, 3, 1, 4, 3, 4, 9, 8, 0, 0, 8, 7, 4, 9, 0, 6, 3, 8, 9, 2, 8, 4,\n",
            "        8, 0, 7, 2, 3, 6, 2, 5]), tensor([6, 1, 9, 6, 4, 2, 5, 9, 0, 8, 3, 6, 6, 6, 0, 4, 2, 6, 6, 5, 0, 2, 7, 8,\n",
            "        7, 4, 3, 6, 6, 5, 2, 4]), tensor([2, 9, 5, 2, 6, 7, 0, 1, 7, 8, 5, 0, 7, 7, 5, 0, 5, 0, 3, 4, 7, 9, 8, 2,\n",
            "        6, 7, 3, 3, 7, 7, 7, 8]), tensor([4, 9, 5, 7, 6, 5, 7, 5, 1, 3, 0, 4, 9, 9, 8, 3, 7, 0, 3, 4, 9, 3, 3, 1,\n",
            "        9, 9, 1, 5, 7, 2, 8, 6]), tensor([5, 7, 3, 7, 5, 5, 4, 0, 7, 3, 3, 2, 6, 2, 9, 9, 0, 6, 0, 8, 3, 8, 8, 4,\n",
            "        4, 1, 8, 2, 6, 5, 0, 4]), tensor([4, 3, 0, 6, 1, 6, 8, 4, 9, 0, 7, 6, 7, 7, 1, 5, 8, 7, 2, 9, 9, 3, 2, 6,\n",
            "        1, 1, 3, 8, 8, 1, 3, 7]), tensor([5, 2, 0, 8, 4, 8, 9, 6, 1, 3, 3, 9, 8, 1, 3, 1, 8, 0, 9, 5, 7, 6, 0, 3,\n",
            "        2, 3, 1, 7, 9, 2, 2, 0]), tensor([3, 6, 4, 8, 1, 9, 2, 4, 4, 2, 3, 8, 7, 1, 8, 7, 5, 9, 9, 6, 6, 2, 9, 0,\n",
            "        4, 3, 9, 5, 3, 6, 1, 0]), tensor([3, 7, 7, 3, 7, 4, 5, 7, 9, 8, 9, 1, 4, 8, 3, 2, 6, 6, 0, 8, 3, 8, 6, 8,\n",
            "        6, 0, 8, 8, 4, 2, 9, 3]), tensor([2, 0, 8, 5, 9, 6, 3, 1, 3, 9, 5, 1, 3, 3, 6, 0, 8, 4, 1, 3, 8, 8, 6, 7,\n",
            "        7, 6, 2, 7, 3, 3, 2, 4]), tensor([6, 5, 5, 6, 4, 3, 9, 1, 1, 7, 3, 8, 7, 2, 2, 9, 3, 9, 9, 0, 1, 8, 1, 3,\n",
            "        8, 1, 2, 9, 3, 4, 0, 0]), tensor([5, 6, 9, 7, 5, 5, 7, 0, 9, 0, 3, 6, 9, 8, 3, 2, 6, 3, 9, 4, 3, 6, 7, 4,\n",
            "        0, 6, 8, 1, 8, 7, 3, 4]), tensor([5, 2, 2, 9, 1, 7, 4, 9, 1, 6, 2, 8, 8, 7, 7, 7, 7, 4, 6, 0, 7, 5, 8, 5,\n",
            "        3, 0, 3, 4, 9, 2, 4, 3]), tensor([1, 9, 3, 1, 2, 2, 2, 3, 8, 5, 7, 6, 4, 4, 1, 2, 3, 5, 4, 8, 8, 1, 8, 9,\n",
            "        3, 6, 6, 6, 0, 1, 7, 7]), tensor([6, 6, 7, 7, 3, 6, 4, 3, 4, 7, 8, 7, 2, 8, 0, 8, 7, 6, 4, 6, 7, 0, 9, 9,\n",
            "        3, 1, 5, 9, 3, 1, 0, 3]), tensor([3, 8, 9, 7, 9, 2, 3, 8, 9, 0, 7, 9, 3, 2, 0, 6, 5, 7, 7, 2, 4, 8, 3, 1,\n",
            "        1, 9, 4, 3, 9, 5, 8, 7]), tensor([2, 4, 9, 0, 2, 1, 9, 7, 1, 5, 0, 5, 5, 0, 3, 0, 0, 3, 3, 7, 4, 2, 6, 8,\n",
            "        5, 9, 2, 1, 3, 5, 5, 3]), tensor([5, 3, 7, 4, 4, 3, 9, 6, 0, 6, 9, 1, 4, 3, 3, 5, 3, 8, 5, 1, 1, 2, 9, 4,\n",
            "        6, 7, 6, 8, 6, 2, 9, 8]), tensor([2, 4, 8, 3, 8, 0, 4, 3, 0, 4, 8, 5, 4, 9, 0, 9, 5, 8, 0, 9, 1, 2, 7, 2,\n",
            "        1, 6, 0, 3, 6, 5, 2, 4]), tensor([8, 7, 5, 2, 3, 6, 8, 3, 3, 1, 9, 2, 7, 7, 2, 6, 4, 8, 3, 4, 8, 5, 2, 6,\n",
            "        3, 3, 1, 6, 2, 0, 4, 9]), tensor([0, 4, 1, 9, 9, 8, 1, 4, 4, 3, 3, 3, 8, 5, 9, 2, 2, 8, 7, 2, 3, 6, 0, 4,\n",
            "        5, 7, 5, 0, 7, 9, 1, 2]), tensor([4, 8, 9, 3, 5, 2, 0, 2, 6, 7, 8, 9, 1, 8, 2, 5, 5, 3, 1, 1, 8, 8, 3, 0,\n",
            "        7, 0, 1, 8, 2, 6, 2, 9]), tensor([8, 9, 8, 8, 6, 9, 1, 8, 4, 2, 7, 7, 0, 5, 1, 3, 0, 6, 4, 3, 0, 2, 3, 7,\n",
            "        1, 2, 3, 3, 4, 2, 5, 6]), tensor([9, 8, 3, 3, 1, 0, 2, 1, 2, 4, 2, 8, 4, 9, 0, 7, 7, 5, 2, 6, 0, 7, 3, 3,\n",
            "        9, 7, 3, 6, 1, 9, 4, 1]), tensor([0, 4, 5, 4, 1, 4, 8, 7, 9, 4, 5, 3, 3, 8, 3, 6, 6, 8, 9, 0, 7, 3, 2, 4,\n",
            "        7, 3, 2, 2, 8, 7, 9, 2]), tensor([3, 1, 3, 3, 6, 2, 7, 4, 1, 2, 6, 4, 3, 4, 8, 5, 3, 8, 5, 2, 7, 8, 1, 5,\n",
            "        9, 8, 6, 9, 0, 9, 3, 7]), tensor([5, 7, 9, 6, 0, 7, 1, 5, 5, 9, 5, 4, 4, 2, 6, 5, 9, 7, 4, 2, 6, 9, 9, 3,\n",
            "        2, 1, 3, 7, 1, 8, 7, 7]), tensor([1, 8, 9, 3, 7, 7, 7, 1, 7, 3, 4, 2, 2, 3, 5, 2, 8, 9, 6, 8, 0, 0, 7, 7,\n",
            "        5, 0, 1, 9, 3, 6, 4, 9]), tensor([6, 2, 6, 9, 1, 0, 5, 8, 9, 2, 8, 0, 3, 6, 3, 7, 3, 8, 7, 4, 1, 7, 8, 2,\n",
            "        3, 0, 4, 4, 1, 8, 6, 9]), tensor([2, 9, 6, 5, 2, 3, 3, 8, 8, 2, 0, 7, 2, 4, 0, 3, 3, 3, 8, 1, 7, 7, 2, 6,\n",
            "        3, 1, 2, 7, 2, 6, 0, 3]), tensor([2, 7, 2, 6, 3, 6, 3, 0, 9, 7, 3, 5, 4, 9, 2, 4, 5, 0, 6, 8, 4, 0, 4, 4,\n",
            "        0, 6, 1, 6, 4, 6, 7, 1]), tensor([3, 6, 3, 1, 1, 5, 4, 3, 8, 3, 3, 1, 7, 2, 9, 8, 8, 4, 5, 5, 6, 7, 3, 9,\n",
            "        1, 0, 8, 3, 7, 2, 1, 1]), tensor([8, 6, 2, 0, 5, 9, 6, 3, 8, 1, 3, 4, 6, 6, 2, 8, 3, 4, 2, 3, 9, 3, 7, 9,\n",
            "        5, 7, 6, 1, 8, 8, 8, 2]), tensor([6, 2, 6, 3, 1, 2, 4, 0, 3, 9, 8, 4, 6, 8, 4, 3, 9, 7, 1, 1, 7, 5, 1, 9,\n",
            "        2, 4, 2, 3, 8, 6, 7, 1]), tensor([3, 0, 7, 3, 5, 8, 1, 4, 2, 3, 4, 8, 8, 8, 3, 8, 1, 8, 9, 3, 0, 6, 0, 6,\n",
            "        9, 7, 3, 7, 0, 1, 3, 5]), tensor([9, 6, 0, 5, 0, 5, 4, 7, 3, 4, 2, 8, 6, 4, 9, 3, 0, 5, 8, 1, 1, 2, 6, 0,\n",
            "        0, 8, 6, 2, 3, 3, 7, 7]), tensor([4, 3, 3, 1, 8, 1, 5, 2, 0, 0, 7, 9, 3, 2, 7, 3, 7, 6, 1, 6, 2, 6, 6, 7,\n",
            "        6, 4, 9, 3, 2, 5, 6, 8]), tensor([6, 2, 6, 7, 4, 4, 1, 1, 0, 3, 5, 5, 2, 6, 4, 1, 8, 8, 3, 4, 3, 4, 2, 9,\n",
            "        6, 3, 7, 6, 3, 6, 8, 4]), tensor([5, 4, 9, 8, 1, 6, 3, 2, 2, 9, 4, 3, 5, 1, 2, 6, 0, 1, 1, 0, 2, 6, 7, 7,\n",
            "        0, 1, 2, 4, 3, 7, 2, 1]), tensor([1, 7, 7, 8, 7, 6, 5, 3, 7, 2, 0, 9, 6, 1, 6, 2, 2, 5, 8, 5, 2, 7, 8, 4,\n",
            "        6, 9, 0, 8, 1, 3, 8, 2]), tensor([8, 6, 0, 6, 3, 8, 7, 8, 2, 2, 6, 6, 0, 4, 5, 3, 4, 3, 1, 9, 7, 6, 4, 3,\n",
            "        1, 4, 2, 7, 5, 1, 8, 3]), tensor([3, 7, 9, 8, 7, 2, 7, 9, 7, 2, 2, 6, 6, 3, 3, 9, 1, 1, 4, 8, 0, 9, 7, 5,\n",
            "        4, 8, 8, 3, 6, 3, 0, 4]), tensor([6, 2, 5, 9, 2, 3, 8, 3, 6, 8, 3, 3, 6, 1, 3, 0, 1, 8, 4, 1, 5, 8, 1, 5,\n",
            "        8, 6, 7, 7, 7, 6, 6, 6]), tensor([5, 3, 6, 7, 8, 1, 5, 1, 6, 6, 2, 4, 3, 7, 7, 9, 9, 2, 5, 8, 7, 8, 5, 3,\n",
            "        0, 9, 7, 2, 0, 6, 8, 6]), tensor([0, 5, 3, 7, 6, 5, 4, 9, 0, 3, 4, 0, 2, 9, 8, 1, 3, 8, 1, 5, 3, 6, 1, 1,\n",
            "        6, 6, 9, 8, 2, 8, 2, 7]), tensor([7, 1, 3, 0, 3, 0, 7, 8, 7, 6, 5, 2, 6, 7, 5, 5, 8, 9, 7, 3, 2, 4, 8, 3,\n",
            "        9, 5, 7, 6, 2, 6, 7, 3]), tensor([8, 5, 1, 8, 9, 2, 2, 1, 6, 2, 7, 4, 0, 4, 4, 8, 9, 7, 9, 4, 2, 8, 2, 6,\n",
            "        0, 6, 3, 3, 1, 5, 2, 7]), tensor([5, 3, 7, 6, 2, 3, 5, 1, 1, 2, 7, 3, 8, 8, 7, 5, 6, 9, 5, 5, 4, 0, 7, 1,\n",
            "        4, 6, 0, 9, 9, 6, 3, 8]), tensor([0, 5, 7, 8, 8, 2, 9, 6, 6, 6, 8, 1, 6, 4, 2, 0, 7, 5, 8, 9, 9, 7, 5, 6,\n",
            "        7, 6, 3, 2, 0, 3, 4, 2]), tensor([0, 3, 9, 4, 5, 6, 3, 1, 2, 8, 9, 0, 5, 3, 2, 8, 6, 3, 6, 6, 6, 7, 2, 7,\n",
            "        2, 3, 2, 8, 1, 2, 3, 4]), tensor([2, 4, 3, 9, 9, 2, 8, 0, 4, 0, 6, 3, 9, 3, 9, 8, 8, 6, 9, 4, 7, 9, 1, 5,\n",
            "        8, 1, 3, 6, 2, 6, 8, 3]), tensor([3, 3, 0, 0, 4, 3, 3, 1, 4, 8, 4, 9, 3, 0, 6, 5, 8, 8, 8, 6, 1, 4, 8, 9,\n",
            "        8, 5, 8, 9, 0, 7, 2, 7]), tensor([3, 5, 5, 8, 3, 3, 8, 7, 9, 9, 4, 0, 6, 7, 1, 8, 8, 8, 7, 2, 0, 9, 7, 9,\n",
            "        6, 9, 4, 1, 4, 7, 2, 5]), tensor([2, 6, 2, 9, 0, 7, 1, 9, 7, 2, 5, 3, 8, 4, 9, 3, 9, 5, 7, 8, 1, 3, 3, 6,\n",
            "        0, 7, 7, 3, 8, 5, 8, 7]), tensor([9, 4, 6, 5, 5, 3, 4, 8, 3, 0, 9, 2, 3, 2, 6, 9, 6, 3, 9, 1, 4, 8, 1, 2,\n",
            "        9, 8, 4, 6, 7, 2, 0, 2]), tensor([6, 3, 2, 3, 0, 5, 2, 3, 2, 8, 8, 0, 7, 4, 6, 2, 8, 3, 5, 1, 3, 9, 1, 2,\n",
            "        9, 3, 7, 4, 0, 0, 2, 5]), tensor([6, 3, 6, 6, 3, 1, 7, 9, 4, 6, 7, 3, 0, 2, 8, 1, 0, 9, 9, 7, 8, 4, 6, 9,\n",
            "        7, 7, 5, 8, 8, 7, 5, 3]), tensor([5, 5, 0, 8, 9, 7, 2, 1, 2, 7, 1, 3, 2, 3, 2, 2, 9, 4, 7, 7, 0, 5, 0, 8,\n",
            "        8, 6, 8, 5, 6, 0, 7, 3]), tensor([6, 0, 4, 5, 2, 0, 7, 7, 8, 1, 8, 2, 1, 8, 5, 2, 4, 8, 7, 7, 6, 7, 1, 6,\n",
            "        9, 8, 3, 9, 3, 5, 0, 7]), tensor([4, 6, 3, 1, 6, 5, 9, 3, 2, 8, 5, 7, 3, 1, 2, 0, 8, 1, 8, 5, 6, 9, 3, 3,\n",
            "        8, 6, 4, 2, 0, 6, 4, 2]), tensor([3, 4, 5, 9, 1, 1, 9, 4, 7, 0, 3, 1, 0, 0, 7, 7, 0, 7, 8, 0, 5, 6, 4, 3,\n",
            "        8, 9, 7, 2, 9, 5, 3, 7]), tensor([2, 6, 1, 9, 7, 8, 1, 3, 9, 3, 4, 7, 8, 6, 5, 6, 7, 9, 9, 7, 0, 4, 2, 3,\n",
            "        4, 0, 7, 5, 3, 9, 0, 8]), tensor([8, 6, 0, 4, 3, 9, 3, 3, 5, 3, 7, 5, 9, 2, 8, 7, 5, 9, 5, 6, 0, 7, 3, 8,\n",
            "        4, 2, 0, 9, 6, 8, 1, 9]), tensor([2, 6, 6, 4, 8, 8, 7, 7, 3, 9, 3, 9, 6, 8, 2, 6, 9, 0, 3, 2, 5, 5, 0, 2,\n",
            "        6, 4, 1, 3, 1, 8, 7, 8]), tensor([8, 9, 7, 0, 5, 7, 3, 6, 0, 4, 0, 3, 6, 8, 8, 8, 0, 2, 3, 2, 8, 8, 1, 4,\n",
            "        1, 1, 6, 3, 2, 2, 8, 0]), tensor([0, 4, 1, 3, 2, 5, 0, 6, 7, 5, 9, 2, 5, 0, 5, 9, 8, 4, 8, 3, 4, 0, 9, 6,\n",
            "        2, 4, 3, 8, 2, 3, 6, 5]), tensor([6, 4, 7, 3, 7, 8, 8, 2, 4, 3, 8, 0, 1, 5, 8, 9, 8, 5, 1, 0, 3, 6, 3, 0,\n",
            "        7, 3, 5, 9, 1, 5, 9, 4]), tensor([1, 7, 6, 1, 0, 5, 3, 8, 6, 4, 1, 7, 0, 5, 0, 2, 1, 7, 1, 7, 9, 4, 3, 9,\n",
            "        2, 2, 9, 3, 7, 8, 8, 4]), tensor([4, 7, 7, 4, 6, 0, 7, 5, 3, 8, 2, 7, 2, 8, 5, 6, 9, 1, 3, 1, 4, 5, 9, 3,\n",
            "        7, 0, 3, 5, 6, 1, 3, 8]), tensor([5, 6, 6, 9, 1, 9, 1, 7, 3, 8, 0, 3, 4, 0, 2, 0, 3, 3, 8, 8, 0, 3, 4, 8,\n",
            "        1, 4, 3, 3, 2, 2, 1, 8]), tensor([3, 2, 0, 6, 4, 2, 3, 9, 2, 3, 0, 4, 5, 7, 1, 6, 1, 2, 0, 0, 8, 5, 1, 0,\n",
            "        5, 4, 8, 1, 7, 1, 6, 4]), tensor([9, 4, 6, 1, 5, 6, 3, 5, 8, 7, 7, 7, 2, 7, 5, 6, 6, 2, 0, 6, 6, 9, 9, 3,\n",
            "        8, 0, 4, 4, 1, 3, 7, 6]), tensor([0, 0, 9, 8, 5, 3, 0, 7, 1, 9, 7, 8, 4, 6, 9, 9, 1, 2, 0, 3, 2, 4, 5, 1,\n",
            "        0, 2, 8, 3, 4, 8, 3, 4]), tensor([0, 0, 3, 6, 7, 4, 4, 1, 7, 3, 6, 7, 9, 9, 3, 8, 8, 9, 1, 4, 6, 1, 2, 8,\n",
            "        3, 5, 7, 8, 0, 6, 2, 7]), tensor([2, 7, 5, 3, 8, 7, 8, 1, 4, 9, 1, 5, 5, 9, 9, 4, 4, 2, 1, 6, 3, 8, 7, 6,\n",
            "        2, 7, 5, 2, 7, 0, 3, 1]), tensor([4, 8, 4, 6, 6, 7, 3, 7, 3, 6, 3, 8, 3, 6, 2, 3, 2, 3, 5, 8, 0, 7, 0, 8,\n",
            "        9, 0, 2, 1, 2, 5, 1, 3]), tensor([4, 7, 6, 4, 8, 9, 3, 4, 3, 1, 6, 8, 0, 3, 0, 6, 2, 0, 4, 3, 6, 7, 2, 3,\n",
            "        4, 0, 8, 5, 4, 0, 1, 0]), tensor([2, 2, 6, 7, 9, 6, 2, 3, 3, 0, 8, 7, 4, 4, 0, 3, 3, 5, 2, 5, 1, 5, 8, 1,\n",
            "        7, 7, 2, 3, 8, 8, 0, 9]), tensor([0, 6, 0, 3, 2, 1, 8, 3, 4, 2, 1, 2, 0, 3, 0, 8, 5, 1, 7, 0, 2, 6, 3, 9,\n",
            "        8, 2, 8, 1, 0, 2, 6, 2]), tensor([0, 3, 7, 5, 3, 6, 2, 0, 8, 4, 2, 1, 8, 4, 8, 2, 9, 2, 6, 8, 5, 2, 7, 3,\n",
            "        2, 2, 0, 0, 6, 8, 5, 4]), tensor([1, 5, 2, 8, 2, 9, 3, 6, 3, 6, 4, 2, 7, 7, 9, 6, 4, 9, 8, 3, 5, 8, 7, 7,\n",
            "        0, 7, 7, 0, 7, 7, 2, 9]), tensor([5, 4, 2, 2, 3, 8, 0, 1, 9, 8, 0, 2, 6, 4, 3, 8, 0, 7, 6, 4, 3, 4, 1, 3,\n",
            "        4, 7, 3, 0, 3, 4, 8, 8]), tensor([9, 1, 3, 2, 1, 4, 8, 3, 4, 2, 7, 3, 9, 2, 9, 0, 6, 6, 5, 7, 0, 8, 1, 7,\n",
            "        5, 4, 9, 5, 7, 3, 6, 0]), tensor([9, 8, 7, 3, 7, 7, 4, 7, 8, 8, 8, 2, 4, 6, 2, 3, 8, 9, 7, 1, 3, 4, 2, 9,\n",
            "        7, 1, 2, 2, 6, 0, 8, 5]), tensor([4, 5, 2, 8, 9, 4, 9, 9, 0, 4, 0, 1, 5, 5, 5, 6, 8, 1, 5, 7, 7, 7, 9, 8,\n",
            "        3, 1, 1, 4, 6, 0, 9, 3]), tensor([2, 4, 4, 8, 6, 5, 4, 9, 0, 2, 8, 4, 8, 6, 3, 6, 1, 4, 3, 3, 8, 4, 9, 9,\n",
            "        0, 7, 9, 5, 3, 1, 7, 2]), tensor([8, 4, 9, 2, 1, 6, 0, 7, 8, 1, 7, 3, 6, 8, 3, 8, 4, 2, 5, 6, 9, 6, 1, 2,\n",
            "        0, 7, 9, 0, 1, 3, 7, 5]), tensor([1, 2, 1, 1, 3, 8, 3, 9, 5, 4, 6, 3, 7, 7, 7, 2, 3, 9, 3, 9, 6, 6, 0, 7,\n",
            "        6, 2, 7, 7, 0, 3, 4, 9]), tensor([0, 4, 0, 2, 7, 9, 6, 1, 3, 2, 0, 8, 8, 7, 3, 2, 7, 5, 7, 6, 1, 8, 1, 4,\n",
            "        9, 8, 9, 3, 1, 0, 3, 0]), tensor([3, 0, 6, 6, 1, 7, 7, 1, 2, 2, 5, 3, 4, 1, 7, 6, 7, 6, 2, 8, 8, 1, 4, 9,\n",
            "        7, 6, 3, 4, 9, 3, 9, 8]), tensor([5, 3, 8, 4, 7, 1, 4, 1, 9, 6, 8, 3, 2, 4, 8, 1, 1, 5, 8, 2, 1, 6, 2, 9,\n",
            "        0, 9, 5, 3, 5, 6, 6, 5]), tensor([6, 8, 3, 8, 0, 2, 9, 9, 1, 5, 3, 2, 6, 8, 3, 3, 3, 0, 7, 4, 0, 4, 1, 9,\n",
            "        9, 1, 7, 5, 7, 3, 9, 4]), tensor([8, 2, 8, 6, 4, 6, 2, 1, 1, 4, 2, 8, 6, 9, 0, 5, 8, 1, 6, 2, 3, 2, 3, 8,\n",
            "        6, 0, 9, 3, 2, 9, 7, 2]), tensor([6, 2, 6, 8, 9, 6, 6, 4, 7, 7, 9, 7, 3, 6, 7, 2, 7, 3, 0, 2, 0, 9, 4, 3,\n",
            "        3, 1, 9, 5, 8, 2, 3, 5]), tensor([3, 6, 4, 5, 2, 3, 5, 2, 7, 7, 6, 0, 9, 7, 1, 2, 2, 5, 3, 0, 6, 1, 3, 0,\n",
            "        5, 4, 8, 7, 7, 3, 0, 8]), tensor([3, 5, 2, 6, 9, 8, 9, 9, 0, 1, 7, 5, 0, 1, 5, 3, 3, 3, 3, 4, 6, 3, 6, 7,\n",
            "        8, 0, 9, 3, 3, 0, 4, 2]), tensor([9, 3, 5, 7, 3, 7, 8, 6, 6, 2, 2, 3, 1, 0, 7, 5, 0, 6, 4, 1, 1, 2, 7, 2,\n",
            "        3, 5, 9, 0, 4, 4, 3, 8]), tensor([7, 9, 2, 6, 9, 8, 3, 5, 3, 1, 4, 5, 0, 1, 8, 5, 8, 6, 0, 7, 8, 9, 2, 4,\n",
            "        6, 3, 2, 6, 6, 7, 9, 1]), tensor([9, 7, 4, 5, 6, 3, 2, 4, 5, 6, 1, 5, 8, 0, 4, 2, 9, 4, 7, 8, 1, 0, 2, 7,\n",
            "        7, 5, 9, 5, 7, 3, 8, 7]), tensor([7, 9, 7, 8, 6, 1, 0, 8, 0, 2, 6, 7, 9, 2, 6, 5, 2, 3, 2, 1, 1, 7, 0, 5,\n",
            "        5, 4, 7, 8, 9, 3, 5, 6]), tensor([6, 6, 5, 7, 8, 4, 8, 8, 7, 4, 5, 3, 9, 2, 9, 5, 3, 5, 7, 3, 2, 0, 2, 8,\n",
            "        7, 9, 2, 0, 2, 4, 1, 0]), tensor([3, 8, 4, 8, 6, 4, 6, 3, 5, 7, 7, 8, 5, 6, 3, 2, 1, 8, 3, 8, 5, 4, 2, 3,\n",
            "        0, 8, 3, 3, 4, 9, 0, 9]), tensor([7, 0, 1, 6, 3, 6, 3, 8, 6, 8, 5, 1, 3, 4, 1, 9, 3, 5, 0, 4, 2, 3, 1, 5,\n",
            "        3, 2, 8, 5, 7, 8, 0, 1]), tensor([1, 0, 6, 2, 5, 9, 6, 7, 2, 3, 6, 4, 6, 3, 3, 9, 4, 7, 0, 8, 3, 5, 6, 2,\n",
            "        0, 1, 3, 9, 4, 2, 5, 6]), tensor([8, 3, 2, 5, 2, 0, 6, 0, 6, 9, 1, 3, 3, 2, 5, 8, 2, 6, 1, 6, 9, 7, 2, 4,\n",
            "        7, 8, 7, 1, 4, 8, 7, 9]), tensor([7, 7, 0, 2, 9, 2, 5, 0, 7, 8, 4, 5, 6, 7, 3, 1, 4, 5, 9, 6, 5, 7, 7, 3,\n",
            "        8, 3, 9, 6, 7, 3, 6, 7]), tensor([6, 9, 5, 1, 3, 6, 9, 3, 4, 4, 5, 3, 4, 7, 9, 1, 2, 2, 2, 4, 3, 8, 7, 9,\n",
            "        9, 4, 8, 8, 9, 0, 7, 6]), tensor([4, 3, 8, 8, 4, 2, 0, 1, 4, 0, 2, 1, 5, 6, 6, 6, 0, 3, 4, 5, 6, 3, 7, 6,\n",
            "        0, 3, 1, 8, 4, 8, 9, 9]), tensor([5, 5, 8, 2, 5, 4, 4, 2, 5, 6, 9, 2, 7, 1, 0, 2, 4, 6, 9, 8, 3, 4, 9, 1,\n",
            "        9, 4, 7, 3, 5, 4, 3, 4]), tensor([2, 1, 0, 2, 4, 3, 7, 8, 4, 9, 5, 9, 0, 4, 3, 4, 5, 8, 5, 7, 6, 1, 3, 3,\n",
            "        7, 0, 7, 7, 6, 8, 3, 5]), tensor([5, 8, 1, 9, 4, 3, 4, 2, 1, 6, 3, 3, 2, 5, 3, 8, 1, 1, 7, 8, 2, 5, 9, 3,\n",
            "        8, 3, 6, 4, 2, 7, 0, 7]), tensor([3, 3, 2, 3, 7, 1, 2, 2, 3, 3, 0, 0, 2, 4, 8, 5, 0, 3, 3, 4, 7, 3, 3, 6,\n",
            "        0, 2, 4, 4, 1, 8, 1, 9]), tensor([3, 2, 6, 4, 2, 3, 3, 3, 8, 3, 5, 8, 3, 9, 7, 3, 0, 6, 1, 6, 1, 0, 7, 7,\n",
            "        6, 8, 9, 6, 1, 5, 6, 9]), tensor([4, 7, 9, 9, 9, 0, 1, 0, 9, 9, 5, 1, 7, 2, 9, 3, 5, 6, 8, 1, 7, 3, 3, 8,\n",
            "        4, 7, 8, 8, 9, 6, 4, 4]), tensor([9, 6, 4, 5, 9, 0, 0, 5, 3, 7, 7, 1, 4, 7, 1, 1, 8, 3, 7, 2, 7, 1, 8, 8,\n",
            "        8, 7, 8, 6, 0, 5, 7, 9]), tensor([8, 5, 6, 0, 6, 2, 3, 2, 3, 9, 9, 1, 9, 5, 8, 4, 4, 6, 4, 2, 7, 2, 8, 3,\n",
            "        0, 7, 8, 8, 3, 9, 9, 7]), tensor([9, 2, 6, 9, 7, 3, 7, 4, 7, 9, 2, 3, 9, 8, 3, 8, 3, 1, 4, 9, 1, 6, 8, 5,\n",
            "        1, 7, 9, 0, 3, 3, 6, 9]), tensor([3, 4, 3, 0, 0, 2, 9, 7, 1, 9, 8, 5, 6, 8, 8, 8, 5, 6, 4, 2, 5, 3, 2, 5,\n",
            "        4, 2, 7, 1, 6, 6, 3, 6]), tensor([5, 3, 4, 6, 8, 8, 5, 1, 8, 2, 3, 4, 6, 4, 1, 9, 0, 8, 2, 7, 3, 2, 9, 8,\n",
            "        4, 6, 3, 3, 8, 3, 4, 7]), tensor([6, 1, 7, 3, 0, 3, 8, 6, 8, 0, 4, 1, 7, 9, 6, 2, 9, 2, 6, 7, 1, 7, 5, 2,\n",
            "        9, 8, 6, 6, 0, 3, 3, 2]), tensor([2, 8, 3, 0, 8, 1, 8, 3, 0, 1, 4, 7, 3, 7, 7, 3, 3, 9, 9, 0, 2, 2, 5, 8,\n",
            "        9, 6, 3, 5, 4, 1, 0, 9]), tensor([4, 3, 2, 6, 1, 8, 1, 3, 4, 0, 2, 1, 9, 0, 5, 3, 5, 3, 6, 4, 1, 2, 0, 7,\n",
            "        3, 6, 2, 3, 4, 3, 5, 2]), tensor([9, 6, 8, 0, 4, 6, 0, 1, 7, 8, 3, 3, 3, 2, 0, 3, 8, 6, 6, 2, 5, 1, 4, 2,\n",
            "        2, 1, 9, 3, 4, 6, 9, 8]), tensor([8, 0, 6, 3, 4, 4, 8, 1, 2, 3, 3, 1, 9, 5, 3, 2, 4, 9, 1, 3, 2, 3, 0, 3,\n",
            "        2, 4, 8, 6, 8, 4, 7, 0]), tensor([3, 1, 3, 8, 3, 4, 1, 2, 0, 0, 0, 7, 7, 8, 3, 2, 9, 5, 6, 6, 9, 5, 2, 3,\n",
            "        8, 5, 3, 8, 3, 7, 9, 0]), tensor([2, 5, 1, 0, 5, 6, 3, 9, 7, 9, 6, 0, 7, 1, 2, 0, 8, 6, 2, 2, 7, 8, 6, 4,\n",
            "        4, 6, 9, 7, 3, 4, 5, 4]), tensor([5, 1, 9, 5, 0, 5, 6, 4, 1, 7, 9, 3, 3, 3, 4, 9, 1, 3, 3, 9, 5, 6, 8, 2,\n",
            "        4, 1, 4, 0, 6, 7, 9, 0]), tensor([6, 1, 2, 3, 0, 9, 8, 1, 3, 7, 3, 7, 9, 7, 4, 2, 3, 6, 8, 8, 5, 5, 1, 0,\n",
            "        8, 5, 7, 9, 7, 3, 6, 2]), tensor([6, 7, 9, 4, 8, 7, 5, 4, 7, 6, 1, 4, 6, 2, 0, 9, 0, 0, 5, 1, 1, 7, 8, 3,\n",
            "        2, 6, 2, 0, 6, 4, 5, 5]), tensor([2, 4, 4, 4, 0, 1, 5, 2, 7, 8, 6, 7, 7, 0, 8, 4, 3, 6, 9, 1, 2, 1, 7, 4,\n",
            "        3, 4, 9, 9, 6, 6, 4, 3]), tensor([3, 3, 7, 5, 2, 7, 8, 9, 9, 2, 7, 8, 7, 7, 3, 8, 7, 4, 4, 9, 0, 1, 8, 7,\n",
            "        5, 4, 5, 3, 7, 4, 6, 5]), tensor([5, 6, 7, 9, 0, 9, 5, 9, 4, 0, 1, 7, 8, 3, 5, 1, 8, 6, 5, 0, 2, 3, 7, 1,\n",
            "        0, 1, 8, 7, 7, 6, 0, 4]), tensor([7, 0, 0, 5, 3, 4, 8, 6, 5, 2, 7, 3, 2, 3, 2, 7, 8, 6, 7, 6, 9, 5, 8, 0,\n",
            "        7, 3, 5, 0, 9, 7, 1, 0]), tensor([6, 5, 7, 8, 4, 3, 1, 9, 0, 2, 9, 1, 3, 4, 0, 3, 0, 6, 2, 3, 8, 6, 2, 9,\n",
            "        5, 0, 1, 8, 2, 4, 3, 4]), tensor([2, 9, 4, 3, 7, 9, 6, 3, 5, 4, 5, 9, 8, 7, 3, 0, 1, 2, 4, 4, 1, 9, 6, 4,\n",
            "        6, 5, 5, 4, 6, 2, 0, 1]), tensor([4, 9, 9, 7, 0, 1, 2, 4, 0, 4, 4, 2, 5, 9, 4, 8, 4, 6, 1, 5, 6, 2, 1, 8,\n",
            "        9, 3, 1, 7, 1, 3, 3, 9]), tensor([1, 3, 8, 9, 9, 1, 9, 4, 0, 5, 8, 5, 5, 5, 3, 8, 9, 4, 7, 8, 4, 9, 2, 6,\n",
            "        1, 5, 0, 7, 3, 4, 0, 7]), tensor([1, 1, 8, 2, 8, 7, 2, 6, 7, 2, 0, 0, 5, 1, 6, 8, 2, 3, 7, 6, 3, 9, 7, 4,\n",
            "        1, 3, 9, 2, 4, 0, 3, 7]), tensor([8, 3, 1, 9, 5, 3, 5, 4, 6, 6, 1, 8, 2, 3, 6, 2, 5, 9, 9, 4, 3, 4, 3, 7,\n",
            "        9, 0, 8, 7, 3, 3, 8, 2]), tensor([1, 8, 2, 7, 6, 4, 8, 9, 2, 7, 3, 2, 4, 1, 1, 0, 4, 1, 6, 7, 8, 5, 9, 1,\n",
            "        5, 0, 9, 3, 2, 1, 7, 2]), tensor([9, 8, 8, 9, 8, 5, 3, 8, 2, 0, 3, 6, 1, 1, 9, 8, 9, 7, 5, 3, 2, 9, 6, 5,\n",
            "        4, 2, 9, 9, 3, 0, 6, 4]), tensor([1, 7, 4, 7, 2, 8, 5, 8, 6, 0, 1, 3, 2, 2, 3, 6, 6, 0, 2, 8, 3, 2, 4, 6,\n",
            "        1, 8, 4, 5, 4, 2, 3, 9]), tensor([6, 4, 3, 4, 5, 4, 2, 7, 3, 7, 3, 3, 6, 9, 4, 8, 5, 6, 0, 3, 6, 7, 4, 5,\n",
            "        3, 1, 1, 9, 7, 5, 4, 2]), tensor([1, 6, 4, 7, 7, 2, 5, 8, 3, 3, 0, 9, 6, 3, 6, 3, 8, 4, 7, 4, 3, 6, 8, 2,\n",
            "        0, 4, 1, 3, 7, 2, 6, 2]), tensor([2, 3, 6, 3, 0, 8, 3, 5, 1, 4, 3, 8, 2, 1, 2, 1, 1, 9, 6, 7, 9, 6, 8, 0,\n",
            "        3, 4, 3, 8, 3, 7, 5, 4]), tensor([1, 3, 2, 0, 5, 5, 0, 1, 0, 5, 2, 8, 9, 7, 9, 1, 1, 3, 3, 5, 6, 7, 5, 9,\n",
            "        4, 9, 3, 3, 6, 2, 8, 7]), tensor([2, 5, 9, 8, 3, 8, 3, 3, 3, 3, 5, 2, 5, 6, 4, 9, 2, 7, 1, 2, 8, 3, 7, 7,\n",
            "        6, 7, 9, 2, 7, 7, 0, 1]), tensor([2, 1, 2, 8, 2, 4, 7, 6, 7, 1, 8, 7, 8, 1, 3, 1, 6, 3, 6, 5, 3, 8, 6, 3,\n",
            "        4, 9, 0, 1, 7, 3, 0, 7]), tensor([0, 6, 4, 5, 1, 2, 6, 2, 3, 3, 9, 8, 3, 7, 2, 4, 2, 5, 1, 9, 4, 3, 8, 7,\n",
            "        1, 8, 1, 2, 0, 7, 2, 4]), tensor([3, 4, 6, 1, 3, 9, 2, 9, 7, 5, 3, 9, 9, 5, 6, 4, 8, 0, 7, 0, 8, 6, 2, 1,\n",
            "        9, 7, 7, 3, 8, 0, 3, 0]), tensor([9, 8, 5, 6, 4, 8, 1, 5, 5, 9, 0, 1, 6, 1, 3, 4, 4, 4, 6, 1, 7, 4, 2, 2,\n",
            "        6, 3, 8, 2, 4, 6, 3, 0]), tensor([8, 8, 4, 6, 2, 0, 7, 0, 8, 9, 1, 2, 6, 7, 6, 8, 1, 8, 2, 6, 6, 7, 5, 7,\n",
            "        9, 9, 3, 9, 4, 4, 2, 6]), tensor([1, 4, 8, 4, 4, 5, 6, 2, 2, 9, 1, 8, 0, 6, 4, 6, 0, 3, 6, 6, 1, 3, 6, 3,\n",
            "        4, 1, 7, 8, 1, 0, 7, 6]), tensor([7, 0, 3, 2, 8, 9, 8, 7, 8, 3, 5, 9, 3, 5, 1, 2, 4, 7, 2, 9, 7, 8, 0, 7,\n",
            "        4, 6, 3, 8, 8, 4, 5, 1]), tensor([8, 1, 1, 2, 2, 7, 8, 9, 0, 2, 7, 9, 1, 5, 7, 8, 4, 3, 9, 5, 9, 3, 0, 8,\n",
            "        6, 1, 6, 1, 5, 8, 0, 0]), tensor([1, 8, 6, 9, 0, 0, 7, 6, 6, 2, 7, 6, 8, 8, 2, 6, 3, 6, 7, 1, 3, 7, 4, 3,\n",
            "        7, 1, 6, 5, 2, 6, 7, 9]), tensor([6, 2, 8, 2, 1, 1, 8, 8, 3, 7, 7, 8, 6, 7, 4, 3, 7, 3, 8, 9, 6, 2, 2, 4,\n",
            "        5, 7, 0, 2, 3, 9, 7, 7]), tensor([2, 6, 5, 8, 3, 1, 3, 7, 4, 9, 4, 3, 9, 7, 2, 0, 8, 6, 9, 1, 9, 9, 6, 7,\n",
            "        1, 4, 7, 0, 3, 8, 7, 2]), tensor([8, 5, 9, 3, 2, 0, 6, 9, 4, 5, 6, 1, 3, 7, 9, 1, 8, 9, 4, 0, 8, 7, 2, 8,\n",
            "        2, 1, 2, 7, 5, 1, 0, 7]), tensor([3, 4, 7, 2, 4, 6, 8, 5, 7, 9, 5, 7, 4, 2, 3, 7, 3, 4, 1, 5, 6, 9, 7, 4,\n",
            "        0, 2, 5, 8, 0, 7, 7, 3]), tensor([4, 0, 4, 8, 2, 0, 6, 9, 8, 7, 6, 5, 0, 6, 0, 2, 6, 3, 1, 8, 7, 4, 1, 9,\n",
            "        1, 2, 6, 5, 2, 3, 6, 0]), tensor([2, 6, 0, 7, 2, 1, 8, 4, 8, 7, 9, 4, 1, 3, 5, 7, 7, 3, 6, 5, 9, 4, 6, 7,\n",
            "        3, 2, 0, 9, 6, 7, 3, 9]), tensor([1, 2, 1, 9, 7, 2, 3, 4, 8, 1, 8, 3, 5, 0, 5, 3, 8, 5, 7, 6, 9, 0, 6, 8,\n",
            "        4, 2, 4, 3, 4, 3, 7, 8]), tensor([7, 1, 3, 7, 6, 9, 5, 5, 2, 4, 4, 5, 0, 8, 6, 0, 4, 0, 8, 8, 9, 6, 9, 1,\n",
            "        5, 1, 6, 1, 3, 2, 4, 2]), tensor([4, 5, 7, 5, 9, 2, 0, 5, 7, 0, 5, 6, 5, 3, 3, 4, 0, 7, 1, 8, 2, 9, 8, 1,\n",
            "        7, 3, 2, 4, 0, 7, 1, 8]), tensor([5, 7, 8, 6, 5, 1, 8, 3, 7, 7, 7, 6, 5, 2, 2, 3, 2, 3, 4, 1, 0, 3, 9, 1,\n",
            "        8, 2, 3, 7, 4, 9, 5, 7]), tensor([4, 3, 9, 5, 6, 8, 2, 7, 3, 9, 3, 0, 5, 9, 0, 9, 4, 6, 2, 5, 7, 1, 6, 5,\n",
            "        4, 0, 2, 3, 3, 1, 1, 8]), tensor([6, 2, 2, 5, 9, 8, 9, 9, 3, 2, 7, 9, 2, 0, 1, 1, 1, 4, 8, 0, 8, 0, 9, 5,\n",
            "        6, 7, 3, 8, 2, 3, 6, 2]), tensor([2, 8, 5, 7, 2, 9, 8, 2, 2, 2, 0, 7, 4, 5, 2, 3, 3, 1, 9, 8, 1, 8, 6, 6,\n",
            "        3, 9, 1, 9, 7, 2, 9, 3]), tensor([9, 3, 0, 2, 8, 3, 4, 6, 6, 9, 2, 1, 1, 0, 5, 6, 7, 0, 4, 1, 1, 7, 0, 0,\n",
            "        1, 9, 8, 7, 3, 8, 4, 1]), tensor([6, 6, 4, 0, 3, 6, 2, 3, 5, 9, 5, 8, 9, 3, 3, 7, 8, 9, 4, 1, 1, 7, 0, 7,\n",
            "        0, 0, 9, 6, 0, 2, 9, 2]), tensor([8, 5, 5, 9, 3, 3, 2, 7, 1, 2, 3, 3, 5, 6, 6, 4, 1, 1, 9, 1, 6, 0, 6, 2,\n",
            "        2, 6, 6, 0, 3, 5, 0, 3]), tensor([0, 5, 1, 1, 8, 4, 5, 3, 8, 1, 6, 4, 3, 1, 6, 9, 9, 6, 3, 8, 7, 6, 4, 9,\n",
            "        1, 9, 7, 7, 6, 2, 2, 7]), tensor([5, 6, 3, 5, 7, 7, 8, 2, 8, 3, 7, 6, 6, 2, 9, 9, 0, 2, 7, 3, 1, 0, 8, 2,\n",
            "        4, 4, 4, 7, 1, 8, 4, 0]), tensor([3, 4, 6, 6, 7, 8, 0, 6, 8, 3, 9, 2, 1, 5, 6, 5, 6, 8, 4, 2, 5, 9, 3, 0,\n",
            "        4, 7, 8, 5, 9, 5, 0, 0]), tensor([6, 9, 8, 2, 9, 2, 2, 2, 4, 6, 1, 6, 3, 9, 4, 0, 3, 8, 2, 6, 9, 4, 7, 2,\n",
            "        5, 6, 3, 4, 8, 7, 0, 2]), tensor([1, 1, 8, 7, 3, 2, 0, 5, 2, 3, 8, 8, 6, 9, 3, 6, 9, 4, 0, 3, 6, 4, 6, 4,\n",
            "        0, 5, 9, 6, 7, 1, 9, 0]), tensor([3, 3, 0, 6, 3, 9, 9, 7, 3, 0, 4, 2, 6, 6, 4, 5, 3, 4, 7, 8, 5, 8, 3, 4,\n",
            "        1, 4, 8, 7, 2, 6, 2, 3]), tensor([5, 6, 3, 5, 2, 5, 3, 9, 1, 2, 7, 8, 7, 3, 8, 8, 7, 5, 8, 4, 4, 6, 8, 3,\n",
            "        6, 4, 9, 6, 1, 0, 5, 1]), tensor([2, 0, 9, 2, 6, 3, 6, 7, 4, 4, 4, 3, 8, 5, 1, 8, 3, 4, 4, 5, 0, 0, 7, 8,\n",
            "        7, 4, 2, 2, 2, 9, 3, 5]), tensor([0, 9, 9, 0, 1, 3, 7, 1, 9, 4, 5, 2, 4, 9, 5, 7, 7, 4, 2, 8, 3, 1, 7, 8,\n",
            "        4, 6, 8, 0, 5, 5, 7, 1]), tensor([7, 6, 2, 1, 7, 1, 9, 0, 1, 0, 3, 2, 7, 3, 9, 3, 5, 4, 0, 6, 7, 7, 4, 2,\n",
            "        3, 8, 5, 8, 4, 0, 4, 1]), tensor([4, 9, 5, 8, 9, 7, 3, 4, 9, 5, 9, 3, 1, 0, 8, 0, 3, 4, 6, 9, 9, 7, 7, 7,\n",
            "        2, 0, 1, 9, 7, 3, 9, 0]), tensor([2, 3, 7, 3, 1, 3, 6, 8, 3, 4, 3, 3, 8, 3, 7, 1, 0, 6, 8, 4, 7, 9, 8, 0,\n",
            "        3, 0, 4, 5, 7, 6, 7, 3]), tensor([7, 0, 2, 6, 3, 3, 0, 0, 4, 4, 4, 3, 6, 9, 9, 6, 7, 4, 3, 2, 2, 1, 9, 5,\n",
            "        9, 9, 0, 5, 8, 6, 7, 3]), tensor([9, 5, 2, 8, 9, 8, 8, 0, 0, 3, 0, 6, 3, 7, 8, 0, 1, 2, 2, 6, 1, 1, 3, 2,\n",
            "        6, 5, 4, 3, 9, 3, 3, 6]), tensor([3, 7, 2, 9, 2, 1, 6, 7, 5, 5, 9, 2, 6, 9, 7, 9, 7, 4, 1, 8, 3, 3, 8, 0,\n",
            "        3, 7, 6, 7, 7, 9, 4, 4]), tensor([0, 3, 7, 2, 1, 8, 2, 0, 5, 8, 6, 7, 0, 1, 0, 5, 6, 2, 1, 4, 1, 8, 7, 9,\n",
            "        9, 7, 3, 2, 2, 2, 7, 2]), tensor([3, 9, 6, 3, 9, 5, 1, 6, 9, 6, 7, 4, 3, 5, 7, 2, 7, 2, 8, 7, 5, 4, 5, 9,\n",
            "        4, 3, 5, 0, 2, 8, 5, 3]), tensor([1, 9, 3, 7, 1, 0, 3, 4, 6, 4, 5, 9, 2, 1, 1, 9, 7, 9, 0, 1, 6, 8, 9, 2,\n",
            "        8, 3, 7, 8, 7, 7, 0, 8]), tensor([5, 6, 3, 7, 5, 6, 7, 7, 9, 7, 1, 0, 0, 8, 6, 4, 0, 6, 4, 5, 5, 0, 8, 3,\n",
            "        3, 2, 5, 6, 7, 1, 8, 7]), tensor([1, 2, 2, 0, 6, 7, 3, 7, 6, 8, 6, 3, 8, 4, 6, 6, 0, 8, 7, 3, 3, 0, 5, 6,\n",
            "        1, 5, 0, 9, 9, 3, 3, 0]), tensor([6, 1, 6, 6, 3, 7, 2, 2, 0, 9, 2, 3, 8, 2, 8, 3, 7, 7, 3, 3, 9, 5, 7, 3,\n",
            "        0, 9, 4, 5, 0, 7, 2, 9]), tensor([5, 8, 8, 8, 4, 9, 6, 6, 3, 6, 3, 0, 2, 7, 6, 4, 2, 7, 4, 1, 5, 7, 9, 7,\n",
            "        3, 9, 8, 2, 5, 1, 9, 3]), tensor([1, 0, 4, 8, 0, 5, 6, 9, 8, 8, 4, 4, 4, 1, 7, 5, 1, 4, 6, 5, 0, 3, 2, 8,\n",
            "        7, 8, 7, 9, 1, 1, 3, 8]), tensor([9, 9, 9, 1, 0, 6, 3, 6, 3, 6, 7, 1, 3, 0, 1, 5, 3, 4, 9, 2, 4, 2, 2, 6,\n",
            "        7, 9, 6, 7, 1, 4, 0, 8]), tensor([3, 3, 5, 6, 0, 8, 3, 0, 6, 0, 1, 8, 6, 3, 2, 9, 7, 4, 3, 5, 2, 1, 6, 4,\n",
            "        4, 5, 8, 0, 7, 3, 0, 6]), tensor([7, 6, 2, 3, 6, 6, 4, 0, 3, 8, 8, 1, 7, 5, 2, 8, 7, 8, 9, 9, 9, 2, 0, 9,\n",
            "        4, 0, 8, 8, 8, 0, 5, 6]), tensor([6, 6, 0, 2, 9, 9, 2, 3, 5, 4, 0, 1, 3, 8, 9, 5, 7, 3, 3, 4, 4, 1, 2, 8,\n",
            "        1, 8, 2, 6, 6, 9, 8, 7]), tensor([1, 2, 6, 0, 7, 2, 5, 5, 0, 7, 3, 6, 5, 8, 9, 7, 4, 9, 2, 3, 3, 2, 5, 0,\n",
            "        8, 0, 4, 2, 3, 0, 0, 0]), tensor([3, 0, 5, 9, 6, 7, 1, 8, 0, 1, 6, 1, 7, 9, 2, 0, 4, 5, 2, 9, 4, 9, 8, 8,\n",
            "        7, 6, 2, 3, 9, 3, 6, 7]), tensor([6, 2, 7, 0, 4, 1, 0, 5, 7, 3, 5, 9, 2, 3, 4, 8, 5, 8, 1, 9, 6, 7, 6, 7,\n",
            "        3, 6, 2, 8, 6, 8, 8, 8]), tensor([7, 4, 0, 5, 1, 5, 9, 6, 0, 9, 5, 8, 5, 7, 3, 9, 8, 3, 4, 0, 5, 7, 5, 1,\n",
            "        1, 7, 4, 1, 4, 5, 8, 2]), tensor([9, 6, 3, 3, 4, 0, 2, 4, 1, 1, 4, 7, 6, 5, 0, 2, 6, 8, 8, 2, 7, 7, 1, 2,\n",
            "        6, 4, 1, 4, 0, 2, 5, 8]), tensor([2, 4, 2, 3, 1, 8, 8, 4, 4, 0, 8, 6, 8, 0, 3, 2, 5, 8, 7, 5, 7, 0, 1, 1,\n",
            "        9, 7, 8, 6, 1, 9, 6, 3]), tensor([6, 9, 4, 0, 4, 9, 9, 6, 2, 2, 0, 5, 6, 6, 3, 7, 8, 0, 2, 6, 1, 1, 9, 9,\n",
            "        4, 5, 3, 4, 8, 5, 8, 8]), tensor([6, 1, 2, 3, 7, 2, 9, 0, 4, 8, 2, 3, 6, 9, 5, 5, 8, 4, 0, 4, 1, 1, 8, 9,\n",
            "        6, 4, 2, 3, 3, 0, 7, 1]), tensor([8, 8, 5, 3, 3, 7, 7, 3, 0, 1, 4, 1, 9, 0, 4, 1, 3, 0, 7, 3, 7, 3, 3, 0,\n",
            "        1, 8, 9, 2, 6, 6, 0, 9]), tensor([3, 6, 1, 2, 7, 8, 0, 5, 0, 8, 2, 5, 5, 3, 5, 9, 1, 8, 5, 3, 1, 6, 4, 0,\n",
            "        7, 3, 5, 4, 8, 0, 7, 1]), tensor([2, 3, 9, 8, 3, 8, 7, 7, 9, 7, 0, 9, 6, 0, 9, 6, 1, 9, 8, 6, 3, 7, 6, 9,\n",
            "        5, 4, 7, 1, 2, 1, 6, 3]), tensor([9, 6, 0, 7, 0, 0, 5, 5, 4, 6, 9, 9, 1, 6, 7, 7, 7, 2, 5, 1, 2, 0, 6, 3,\n",
            "        8, 8, 8, 4, 1, 0, 8, 3]), tensor([9, 8, 8, 7, 8, 3, 0, 0, 7, 6, 8, 6, 9, 9, 6, 7, 7, 2, 2, 1, 5, 3, 4, 3,\n",
            "        5, 5, 0, 8, 4, 7, 8, 9]), tensor([4, 2, 1, 7, 6, 6, 4, 9, 4, 3, 6, 0, 7, 7, 8, 0, 9, 1, 2, 6, 2, 9, 7, 1,\n",
            "        9, 7, 3, 3, 1, 4, 3, 5]), tensor([3, 3, 9, 4, 1, 4, 4, 2, 7, 9, 4, 6, 9, 9, 8, 3, 8, 1, 2, 2, 3, 5, 3, 1,\n",
            "        4, 6, 0, 1, 2, 0, 7, 6]), tensor([8, 8, 2, 8, 4, 5, 0, 0, 1, 7, 9, 7, 3, 9, 4, 6, 2, 8, 7, 1, 3, 8, 7, 6,\n",
            "        8, 6, 3, 2, 8, 0, 1, 3]), tensor([3, 8, 1, 7, 4, 9, 3, 7, 9, 3, 1, 8, 3, 0, 9, 3, 6, 2, 4, 2, 7, 6, 0, 9,\n",
            "        8, 8, 1, 5, 7, 7, 3, 7]), tensor([5, 4, 2, 0, 7, 8, 7, 3, 7, 0, 2, 9, 5, 2, 6, 9, 2, 6, 3, 2, 0, 4, 7, 8,\n",
            "        6, 4, 3, 1, 9, 3, 8, 3]), tensor([9, 7, 1, 7, 1, 3, 3, 2, 5, 0, 0, 6, 4, 1, 1, 2, 9, 0, 3, 2, 1, 3, 2, 7,\n",
            "        0, 1, 8, 7, 7, 3, 0, 5]), tensor([0, 4, 6, 2, 6, 5, 2, 3, 8, 2, 1, 5, 3, 8, 8, 9, 9, 0, 1, 2, 1, 4, 9, 0,\n",
            "        3, 1, 1, 6, 7, 8, 3, 6]), tensor([9, 3, 6, 8, 3, 8, 6, 9, 4, 7, 7, 3, 3, 6, 4, 5, 7, 3, 7, 4, 6, 6, 9, 3,\n",
            "        0, 5, 4, 1, 2, 1, 8, 1]), tensor([9, 4, 8, 8, 9, 3, 3, 7, 0, 0, 6, 1, 0, 4, 6, 4, 2, 2, 7, 0, 6, 3, 4, 0,\n",
            "        0, 1, 3, 8, 6, 5, 7, 9]), tensor([6, 6, 3, 7, 5, 1, 2, 7, 7, 5, 8, 0, 9, 1, 6, 1, 4, 9, 1, 6, 5, 3, 3, 0,\n",
            "        7, 1, 2, 7, 9, 3, 7, 2]), tensor([4, 6, 6, 7, 2, 7, 3, 3, 9, 8, 8, 7, 0, 1, 6, 0, 9, 7, 9, 9, 1, 2, 3, 4,\n",
            "        7, 4, 3, 3, 1, 7, 5, 7]), tensor([2, 5, 2, 0, 3, 1, 4, 7, 5, 3, 2, 5, 8, 4, 7, 4, 0, 8, 3, 0, 1, 7, 9, 2,\n",
            "        9, 1, 6, 6, 5, 1, 0, 6]), tensor([3, 8, 3, 1, 8, 6, 5, 9, 8, 8, 1, 0, 9, 6, 3, 6, 1, 1, 4, 7, 3, 0, 7, 9,\n",
            "        8, 9, 5, 4, 0, 4, 7, 2]), tensor([3, 8, 3, 8, 3, 1, 2, 4, 8, 1, 0, 8, 1, 8, 5, 3, 2, 7, 0, 2, 4, 9, 4, 2,\n",
            "        4, 5, 9, 0, 9, 9, 6, 7]), tensor([3, 4, 3, 3, 9, 6, 7, 7, 8, 1, 1, 2, 6, 5, 7, 6, 4, 7, 4, 7, 0, 2, 2, 9,\n",
            "        7, 7, 7, 5, 0, 1, 2, 3]), tensor([4, 6, 2, 0, 9, 2, 7, 8, 2, 2, 8, 7, 7, 1, 6, 7, 9, 9, 0, 1, 5, 1, 1, 3,\n",
            "        6, 7, 9, 8, 3, 3, 8, 5]), tensor([2, 4, 3, 6, 8, 0, 9, 0, 6, 5, 0, 1, 2, 5, 3, 3, 2, 3, 8, 1, 7, 3, 9, 1,\n",
            "        8, 3, 5, 4, 1, 0, 2, 4]), tensor([6, 6, 8, 2, 2, 5, 7, 0, 6, 4, 9, 8, 6, 1, 0, 0, 4, 3, 3, 4, 7, 7, 7, 9,\n",
            "        2, 5, 3, 6, 9, 9, 4, 8]), tensor([5, 2, 9, 3, 4, 0, 4, 8, 3, 1, 9, 0, 3, 6, 7, 3, 8, 7, 0, 4, 6, 4, 1, 3,\n",
            "        9, 8, 8, 9, 3, 2, 6, 0]), tensor([5, 2, 7, 6, 8, 3, 2, 4, 8, 4, 4, 7, 0, 4, 3, 1, 9, 2, 8, 7, 8, 2, 3, 6,\n",
            "        2, 5, 2, 9, 0, 7, 1, 1]), tensor([7, 9, 0, 1, 4, 7, 5, 4, 6, 3, 3, 6, 1, 0, 0, 9, 9, 8, 2, 9, 6, 4, 5, 4,\n",
            "        7, 2, 6, 5, 6, 6, 9, 3]), tensor([7, 0, 6, 3, 5, 3, 4, 3, 4, 6, 9, 8, 8, 3, 2, 0, 0, 3, 9, 4, 2, 8, 1, 7,\n",
            "        2, 6, 9, 3, 6, 2, 0, 8]), tensor([7, 3, 5, 0, 6, 3, 1, 3, 0, 9, 5, 4, 3, 7, 0, 6, 2, 9, 0, 7, 3, 5, 6, 8,\n",
            "        2, 1, 3, 3, 6, 5, 9, 3]), tensor([5, 0, 2, 0, 7, 4, 4, 8, 3, 6, 8, 0, 3, 8, 9, 4, 0, 2, 8, 4, 8, 2, 5, 7,\n",
            "        0, 3, 6, 8, 1, 5, 9, 2]), tensor([2, 8, 9, 6, 1, 0, 5, 8, 6, 2, 8, 2, 2, 6, 7, 6, 7, 3, 7, 4, 9, 8, 8, 3,\n",
            "        9, 7, 0, 6, 4, 6, 3, 6]), tensor([4, 9, 2, 7, 6, 5, 0, 3, 1, 7, 8, 0, 2, 7, 3, 3, 8, 0, 0, 9, 2, 8, 5, 4,\n",
            "        9, 6, 3, 4, 2, 0, 1, 1]), tensor([9, 3, 8, 2, 1, 9, 7, 8, 4, 8, 2, 3, 7, 3, 6, 6, 9, 6, 6, 2, 9, 8, 0, 5,\n",
            "        7, 4, 6, 5, 4, 3, 0, 7]), tensor([2, 4, 2, 7, 3, 6, 3, 3, 1, 7, 6, 0, 1, 9, 7, 5, 6, 7, 6, 9, 2, 6, 3, 5,\n",
            "        4, 8, 9, 0, 9, 7, 5, 7]), tensor([7, 9, 3, 6, 8, 4, 3, 9, 3, 1, 0, 2, 5, 6, 8, 7, 9, 7, 7, 7, 9, 2, 6, 0,\n",
            "        6, 7, 6, 1, 8, 0, 3, 8]), tensor([5, 0, 5, 6, 9, 1, 1, 2, 0, 8, 9, 7, 7, 5, 8, 6, 3, 4, 0, 1, 8, 4, 3, 4,\n",
            "        7, 9, 3, 7, 7, 5, 3, 9]), tensor([1, 2, 1, 2, 7, 4, 6, 9, 3, 4, 6, 1, 7, 8, 1, 6, 5, 9, 0, 0, 9, 7, 3, 8,\n",
            "        8, 2, 8, 8, 7, 0, 7, 0]), tensor([9, 6, 9, 2, 9, 4, 8, 5, 2, 0, 1, 6, 6, 4, 7, 3, 1, 7, 7, 8, 5, 7, 0, 6,\n",
            "        4, 2, 1, 3, 8, 0, 3, 2]), tensor([7, 5, 9, 1, 0, 4, 3, 7, 0, 6, 3, 1, 8, 4, 7, 2, 5, 5, 3, 1, 5, 1, 9, 2,\n",
            "        9, 6, 2, 2, 1, 8, 3, 9]), tensor([8, 2, 0, 3, 8, 4, 5, 1, 2, 4, 6, 4, 2, 8, 5, 7, 7, 7, 3, 5, 5, 7, 9, 9,\n",
            "        8, 2, 8, 2, 1, 3, 3, 4]), tensor([8, 9, 4, 0, 7, 3, 6, 8, 3, 0, 6, 1, 0, 5, 2, 9, 7, 2, 8, 7, 3, 7, 0, 3,\n",
            "        2, 1, 7, 4, 8, 8, 7, 0]), tensor([2, 3, 0, 1, 6, 6, 5, 0, 1, 5, 8, 4, 8, 3, 7, 8, 7, 1, 2, 7, 3, 9, 3, 3,\n",
            "        9, 0, 4, 6, 6, 5, 9, 9]), tensor([2, 2, 7, 3, 0, 1, 4, 2, 3, 7, 8, 4, 0, 4, 5, 4, 2, 9, 3, 5, 8, 0, 1, 9,\n",
            "        6, 7, 3, 7, 3, 4, 6, 0]), tensor([2, 1, 3, 3, 6, 7, 0, 5, 9, 8, 9, 3, 7, 9, 9, 4, 8, 8, 0, 1, 4, 4, 0, 2,\n",
            "        8, 1, 2, 1, 3, 3, 2, 7]), tensor([8, 7, 0, 4, 3, 4, 4, 8, 7, 9, 2, 7, 2, 4, 8, 0, 3, 7, 6, 7, 6, 0, 0, 3,\n",
            "        5, 1, 1, 2, 3, 6, 9, 8]), tensor([1, 0, 1, 6, 8, 5, 4, 0, 4, 0, 4, 9, 3, 8, 7, 2, 8, 6, 2, 8, 6, 4, 6, 0,\n",
            "        8, 7, 5, 2, 8, 7, 2, 9]), tensor([5, 9, 2, 1, 0, 4, 1, 9, 7, 1, 7, 3, 5, 8, 7, 2, 9, 1, 5, 2, 0, 6, 0, 3,\n",
            "        6, 4, 4, 8, 0, 3, 2, 6]), tensor([3, 5, 1, 6, 3, 6, 5, 1, 8, 3, 1, 8, 7, 6, 4, 2, 0, 3, 7, 8, 1, 3, 9, 0,\n",
            "        6, 8, 1, 4, 8, 8, 3, 0]), tensor([8, 7, 7, 5, 4, 7, 7, 6, 1, 8, 1, 7, 7, 0, 3, 1, 6, 5, 5, 3, 8, 9, 3, 0,\n",
            "        9, 5, 1, 7, 2, 1, 3, 2]), tensor([0, 3, 2, 0, 7, 1, 3, 4, 4, 5, 7, 0, 6, 7, 3, 3, 7, 8, 8, 2, 8, 6, 9, 7,\n",
            "        0, 2, 9, 3, 0, 5, 5, 0]), tensor([9, 1, 4, 3, 5, 6, 4, 1, 2, 3, 3, 3, 6, 3, 0, 8, 4, 7, 5, 5, 7, 0, 7, 9,\n",
            "        4, 3, 2, 9, 4, 7, 1, 8]), tensor([8, 8, 9, 8, 3, 8, 9, 3, 0, 0, 2, 1, 8, 4, 4, 6, 6, 9, 7, 3, 1, 5, 1, 3,\n",
            "        5, 6, 2, 2, 3, 7, 3, 0]), tensor([8, 2, 9, 3, 9, 6, 0, 4, 1, 2, 6, 6, 3, 1, 4, 9, 7, 3, 2, 6, 2, 9, 7, 8,\n",
            "        5, 0, 9, 3, 0, 3, 8, 3]), tensor([3, 2, 7, 5, 8, 4, 6, 6, 8, 9, 1, 9, 1, 0, 1, 8])]\n"
          ]
        },
        {
          "output_type": "execute_result",
          "data": {
            "text/plain": [
              "tensor([9, 2, 1, 1, 6, 1, 4, 6, 5, 7])"
            ]
          },
          "metadata": {},
          "execution_count": 77
        }
      ]
    },
    {
      "cell_type": "code",
      "source": [
        "len(y_pred_tensor)"
      ],
      "metadata": {
        "id": "gDKVHm9I8N7y",
        "outputId": "0f6161d6-9344-4492-d5c2-e760bd76048c",
        "colab": {
          "base_uri": "https://localhost:8080/"
        }
      },
      "execution_count": 78,
      "outputs": [
        {
          "output_type": "execute_result",
          "data": {
            "text/plain": [
              "10000"
            ]
          },
          "metadata": {},
          "execution_count": 78
        }
      ]
    },
    {
      "cell_type": "code",
      "source": [
        "try:\n",
        "  import torchmetrics, mlxtend\n",
        "  print(\"mlxtend version:\",{mlxtend.__version__})\n",
        "  assert int(mlxtend.__version__.split(\".\" >=19))\n",
        "except:\n",
        "  !pip install torchmetrics -U mlxtend\n",
        "  import torchmetrics, mlxtend\n",
        "  print(\"mlxtend version:\",{mlxtend.__version__})"
      ],
      "metadata": {
        "id": "EKSdNW318V0J",
        "outputId": "1ffb94fd-a04e-4c46-d48f-631f335c7078",
        "colab": {
          "base_uri": "https://localhost:8080/"
        }
      },
      "execution_count": 82,
      "outputs": [
        {
          "output_type": "stream",
          "name": "stdout",
          "text": [
            "Collecting torchmetrics\n",
            "  Downloading torchmetrics-1.7.1-py3-none-any.whl.metadata (21 kB)\n",
            "Requirement already satisfied: mlxtend in /usr/local/lib/python3.11/dist-packages (0.23.4)\n",
            "Requirement already satisfied: numpy>1.20.0 in /usr/local/lib/python3.11/dist-packages (from torchmetrics) (2.0.2)\n",
            "Requirement already satisfied: packaging>17.1 in /usr/local/lib/python3.11/dist-packages (from torchmetrics) (24.2)\n",
            "Requirement already satisfied: torch>=2.0.0 in /usr/local/lib/python3.11/dist-packages (from torchmetrics) (2.6.0+cu124)\n",
            "Collecting lightning-utilities>=0.8.0 (from torchmetrics)\n",
            "  Downloading lightning_utilities-0.14.3-py3-none-any.whl.metadata (5.6 kB)\n",
            "Requirement already satisfied: scipy>=1.2.1 in /usr/local/lib/python3.11/dist-packages (from mlxtend) (1.15.2)\n",
            "Requirement already satisfied: pandas>=0.24.2 in /usr/local/lib/python3.11/dist-packages (from mlxtend) (2.2.2)\n",
            "Requirement already satisfied: scikit-learn>=1.3.1 in /usr/local/lib/python3.11/dist-packages (from mlxtend) (1.6.1)\n",
            "Requirement already satisfied: matplotlib>=3.0.0 in /usr/local/lib/python3.11/dist-packages (from mlxtend) (3.10.0)\n",
            "Requirement already satisfied: joblib>=0.13.2 in /usr/local/lib/python3.11/dist-packages (from mlxtend) (1.4.2)\n",
            "Requirement already satisfied: setuptools in /usr/local/lib/python3.11/dist-packages (from lightning-utilities>=0.8.0->torchmetrics) (75.2.0)\n",
            "Requirement already satisfied: typing_extensions in /usr/local/lib/python3.11/dist-packages (from lightning-utilities>=0.8.0->torchmetrics) (4.13.2)\n",
            "Requirement already satisfied: contourpy>=1.0.1 in /usr/local/lib/python3.11/dist-packages (from matplotlib>=3.0.0->mlxtend) (1.3.2)\n",
            "Requirement already satisfied: cycler>=0.10 in /usr/local/lib/python3.11/dist-packages (from matplotlib>=3.0.0->mlxtend) (0.12.1)\n",
            "Requirement already satisfied: fonttools>=4.22.0 in /usr/local/lib/python3.11/dist-packages (from matplotlib>=3.0.0->mlxtend) (4.57.0)\n",
            "Requirement already satisfied: kiwisolver>=1.3.1 in /usr/local/lib/python3.11/dist-packages (from matplotlib>=3.0.0->mlxtend) (1.4.8)\n",
            "Requirement already satisfied: pillow>=8 in /usr/local/lib/python3.11/dist-packages (from matplotlib>=3.0.0->mlxtend) (11.2.1)\n",
            "Requirement already satisfied: pyparsing>=2.3.1 in /usr/local/lib/python3.11/dist-packages (from matplotlib>=3.0.0->mlxtend) (3.2.3)\n",
            "Requirement already satisfied: python-dateutil>=2.7 in /usr/local/lib/python3.11/dist-packages (from matplotlib>=3.0.0->mlxtend) (2.9.0.post0)\n",
            "Requirement already satisfied: pytz>=2020.1 in /usr/local/lib/python3.11/dist-packages (from pandas>=0.24.2->mlxtend) (2025.2)\n",
            "Requirement already satisfied: tzdata>=2022.7 in /usr/local/lib/python3.11/dist-packages (from pandas>=0.24.2->mlxtend) (2025.2)\n",
            "Requirement already satisfied: threadpoolctl>=3.1.0 in /usr/local/lib/python3.11/dist-packages (from scikit-learn>=1.3.1->mlxtend) (3.6.0)\n",
            "Requirement already satisfied: filelock in /usr/local/lib/python3.11/dist-packages (from torch>=2.0.0->torchmetrics) (3.18.0)\n",
            "Requirement already satisfied: networkx in /usr/local/lib/python3.11/dist-packages (from torch>=2.0.0->torchmetrics) (3.4.2)\n",
            "Requirement already satisfied: jinja2 in /usr/local/lib/python3.11/dist-packages (from torch>=2.0.0->torchmetrics) (3.1.6)\n",
            "Requirement already satisfied: fsspec in /usr/local/lib/python3.11/dist-packages (from torch>=2.0.0->torchmetrics) (2025.3.2)\n",
            "Collecting nvidia-cuda-nvrtc-cu12==12.4.127 (from torch>=2.0.0->torchmetrics)\n",
            "  Downloading nvidia_cuda_nvrtc_cu12-12.4.127-py3-none-manylinux2014_x86_64.whl.metadata (1.5 kB)\n",
            "Collecting nvidia-cuda-runtime-cu12==12.4.127 (from torch>=2.0.0->torchmetrics)\n",
            "  Downloading nvidia_cuda_runtime_cu12-12.4.127-py3-none-manylinux2014_x86_64.whl.metadata (1.5 kB)\n",
            "Collecting nvidia-cuda-cupti-cu12==12.4.127 (from torch>=2.0.0->torchmetrics)\n",
            "  Downloading nvidia_cuda_cupti_cu12-12.4.127-py3-none-manylinux2014_x86_64.whl.metadata (1.6 kB)\n",
            "Collecting nvidia-cudnn-cu12==9.1.0.70 (from torch>=2.0.0->torchmetrics)\n",
            "  Downloading nvidia_cudnn_cu12-9.1.0.70-py3-none-manylinux2014_x86_64.whl.metadata (1.6 kB)\n",
            "Collecting nvidia-cublas-cu12==12.4.5.8 (from torch>=2.0.0->torchmetrics)\n",
            "  Downloading nvidia_cublas_cu12-12.4.5.8-py3-none-manylinux2014_x86_64.whl.metadata (1.5 kB)\n",
            "Collecting nvidia-cufft-cu12==11.2.1.3 (from torch>=2.0.0->torchmetrics)\n",
            "  Downloading nvidia_cufft_cu12-11.2.1.3-py3-none-manylinux2014_x86_64.whl.metadata (1.5 kB)\n",
            "Collecting nvidia-curand-cu12==10.3.5.147 (from torch>=2.0.0->torchmetrics)\n",
            "  Downloading nvidia_curand_cu12-10.3.5.147-py3-none-manylinux2014_x86_64.whl.metadata (1.5 kB)\n",
            "Collecting nvidia-cusolver-cu12==11.6.1.9 (from torch>=2.0.0->torchmetrics)\n",
            "  Downloading nvidia_cusolver_cu12-11.6.1.9-py3-none-manylinux2014_x86_64.whl.metadata (1.6 kB)\n",
            "Collecting nvidia-cusparse-cu12==12.3.1.170 (from torch>=2.0.0->torchmetrics)\n",
            "  Downloading nvidia_cusparse_cu12-12.3.1.170-py3-none-manylinux2014_x86_64.whl.metadata (1.6 kB)\n",
            "Requirement already satisfied: nvidia-cusparselt-cu12==0.6.2 in /usr/local/lib/python3.11/dist-packages (from torch>=2.0.0->torchmetrics) (0.6.2)\n",
            "Requirement already satisfied: nvidia-nccl-cu12==2.21.5 in /usr/local/lib/python3.11/dist-packages (from torch>=2.0.0->torchmetrics) (2.21.5)\n",
            "Requirement already satisfied: nvidia-nvtx-cu12==12.4.127 in /usr/local/lib/python3.11/dist-packages (from torch>=2.0.0->torchmetrics) (12.4.127)\n",
            "Collecting nvidia-nvjitlink-cu12==12.4.127 (from torch>=2.0.0->torchmetrics)\n",
            "  Downloading nvidia_nvjitlink_cu12-12.4.127-py3-none-manylinux2014_x86_64.whl.metadata (1.5 kB)\n",
            "Requirement already satisfied: triton==3.2.0 in /usr/local/lib/python3.11/dist-packages (from torch>=2.0.0->torchmetrics) (3.2.0)\n",
            "Requirement already satisfied: sympy==1.13.1 in /usr/local/lib/python3.11/dist-packages (from torch>=2.0.0->torchmetrics) (1.13.1)\n",
            "Requirement already satisfied: mpmath<1.4,>=1.1.0 in /usr/local/lib/python3.11/dist-packages (from sympy==1.13.1->torch>=2.0.0->torchmetrics) (1.3.0)\n",
            "Requirement already satisfied: six>=1.5 in /usr/local/lib/python3.11/dist-packages (from python-dateutil>=2.7->matplotlib>=3.0.0->mlxtend) (1.17.0)\n",
            "Requirement already satisfied: MarkupSafe>=2.0 in /usr/local/lib/python3.11/dist-packages (from jinja2->torch>=2.0.0->torchmetrics) (3.0.2)\n",
            "Downloading torchmetrics-1.7.1-py3-none-any.whl (961 kB)\n",
            "\u001b[2K   \u001b[90m━━━━━━━━━━━━━━━━━━━━━━━━━━━━━━━━━━━━━━━━\u001b[0m \u001b[32m961.5/961.5 kB\u001b[0m \u001b[31m36.9 MB/s\u001b[0m eta \u001b[36m0:00:00\u001b[0m\n",
            "\u001b[?25hDownloading lightning_utilities-0.14.3-py3-none-any.whl (28 kB)\n",
            "Downloading nvidia_cublas_cu12-12.4.5.8-py3-none-manylinux2014_x86_64.whl (363.4 MB)\n",
            "\u001b[2K   \u001b[90m━━━━━━━━━━━━━━━━━━━━━━━━━━━━━━━━━━━━━━━━\u001b[0m \u001b[32m363.4/363.4 MB\u001b[0m \u001b[31m1.6 MB/s\u001b[0m eta \u001b[36m0:00:00\u001b[0m\n",
            "\u001b[?25hDownloading nvidia_cuda_cupti_cu12-12.4.127-py3-none-manylinux2014_x86_64.whl (13.8 MB)\n",
            "\u001b[2K   \u001b[90m━━━━━━━━━━━━━━━━━━━━━━━━━━━━━━━━━━━━━━━━\u001b[0m \u001b[32m13.8/13.8 MB\u001b[0m \u001b[31m101.8 MB/s\u001b[0m eta \u001b[36m0:00:00\u001b[0m\n",
            "\u001b[?25hDownloading nvidia_cuda_nvrtc_cu12-12.4.127-py3-none-manylinux2014_x86_64.whl (24.6 MB)\n",
            "\u001b[2K   \u001b[90m━━━━━━━━━━━━━━━━━━━━━━━━━━━━━━━━━━━━━━━━\u001b[0m \u001b[32m24.6/24.6 MB\u001b[0m \u001b[31m86.0 MB/s\u001b[0m eta \u001b[36m0:00:00\u001b[0m\n",
            "\u001b[?25hDownloading nvidia_cuda_runtime_cu12-12.4.127-py3-none-manylinux2014_x86_64.whl (883 kB)\n",
            "\u001b[2K   \u001b[90m━━━━━━━━━━━━━━━━━━━━━━━━━━━━━━━━━━━━━━━━\u001b[0m \u001b[32m883.7/883.7 kB\u001b[0m \u001b[31m47.3 MB/s\u001b[0m eta \u001b[36m0:00:00\u001b[0m\n",
            "\u001b[?25hDownloading nvidia_cudnn_cu12-9.1.0.70-py3-none-manylinux2014_x86_64.whl (664.8 MB)\n",
            "\u001b[2K   \u001b[90m━━━━━━━━━━━━━━━━━━━━━━━━━━━━━━━━━━━━━━━━\u001b[0m \u001b[32m664.8/664.8 MB\u001b[0m \u001b[31m1.4 MB/s\u001b[0m eta \u001b[36m0:00:00\u001b[0m\n",
            "\u001b[?25hDownloading nvidia_cufft_cu12-11.2.1.3-py3-none-manylinux2014_x86_64.whl (211.5 MB)\n",
            "\u001b[2K   \u001b[90m━━━━━━━━━━━━━━━━━━━━━━━━━━━━━━━━━━━━━━━━\u001b[0m \u001b[32m211.5/211.5 MB\u001b[0m \u001b[31m5.5 MB/s\u001b[0m eta \u001b[36m0:00:00\u001b[0m\n",
            "\u001b[?25hDownloading nvidia_curand_cu12-10.3.5.147-py3-none-manylinux2014_x86_64.whl (56.3 MB)\n",
            "\u001b[2K   \u001b[90m━━━━━━━━━━━━━━━━━━━━━━━━━━━━━━━━━━━━━━━━\u001b[0m \u001b[32m56.3/56.3 MB\u001b[0m \u001b[31m11.1 MB/s\u001b[0m eta \u001b[36m0:00:00\u001b[0m\n",
            "\u001b[?25hDownloading nvidia_cusolver_cu12-11.6.1.9-py3-none-manylinux2014_x86_64.whl (127.9 MB)\n",
            "\u001b[2K   \u001b[90m━━━━━━━━━━━━━━━━━━━━━━━━━━━━━━━━━━━━━━━━\u001b[0m \u001b[32m127.9/127.9 MB\u001b[0m \u001b[31m8.4 MB/s\u001b[0m eta \u001b[36m0:00:00\u001b[0m\n",
            "\u001b[?25hDownloading nvidia_cusparse_cu12-12.3.1.170-py3-none-manylinux2014_x86_64.whl (207.5 MB)\n",
            "\u001b[2K   \u001b[90m━━━━━━━━━━━━━━━━━━━━━━━━━━━━━━━━━━━━━━━━\u001b[0m \u001b[32m207.5/207.5 MB\u001b[0m \u001b[31m3.9 MB/s\u001b[0m eta \u001b[36m0:00:00\u001b[0m\n",
            "\u001b[?25hDownloading nvidia_nvjitlink_cu12-12.4.127-py3-none-manylinux2014_x86_64.whl (21.1 MB)\n",
            "\u001b[2K   \u001b[90m━━━━━━━━━━━━━━━━━━━━━━━━━━━━━━━━━━━━━━━━\u001b[0m \u001b[32m21.1/21.1 MB\u001b[0m \u001b[31m41.1 MB/s\u001b[0m eta \u001b[36m0:00:00\u001b[0m\n",
            "\u001b[?25hInstalling collected packages: nvidia-nvjitlink-cu12, nvidia-curand-cu12, nvidia-cufft-cu12, nvidia-cuda-runtime-cu12, nvidia-cuda-nvrtc-cu12, nvidia-cuda-cupti-cu12, nvidia-cublas-cu12, lightning-utilities, nvidia-cusparse-cu12, nvidia-cudnn-cu12, nvidia-cusolver-cu12, torchmetrics\n",
            "  Attempting uninstall: nvidia-nvjitlink-cu12\n",
            "    Found existing installation: nvidia-nvjitlink-cu12 12.5.82\n",
            "    Uninstalling nvidia-nvjitlink-cu12-12.5.82:\n",
            "      Successfully uninstalled nvidia-nvjitlink-cu12-12.5.82\n",
            "  Attempting uninstall: nvidia-curand-cu12\n",
            "    Found existing installation: nvidia-curand-cu12 10.3.6.82\n",
            "    Uninstalling nvidia-curand-cu12-10.3.6.82:\n",
            "      Successfully uninstalled nvidia-curand-cu12-10.3.6.82\n",
            "  Attempting uninstall: nvidia-cufft-cu12\n",
            "    Found existing installation: nvidia-cufft-cu12 11.2.3.61\n",
            "    Uninstalling nvidia-cufft-cu12-11.2.3.61:\n",
            "      Successfully uninstalled nvidia-cufft-cu12-11.2.3.61\n",
            "  Attempting uninstall: nvidia-cuda-runtime-cu12\n",
            "    Found existing installation: nvidia-cuda-runtime-cu12 12.5.82\n",
            "    Uninstalling nvidia-cuda-runtime-cu12-12.5.82:\n",
            "      Successfully uninstalled nvidia-cuda-runtime-cu12-12.5.82\n",
            "  Attempting uninstall: nvidia-cuda-nvrtc-cu12\n",
            "    Found existing installation: nvidia-cuda-nvrtc-cu12 12.5.82\n",
            "    Uninstalling nvidia-cuda-nvrtc-cu12-12.5.82:\n",
            "      Successfully uninstalled nvidia-cuda-nvrtc-cu12-12.5.82\n",
            "  Attempting uninstall: nvidia-cuda-cupti-cu12\n",
            "    Found existing installation: nvidia-cuda-cupti-cu12 12.5.82\n",
            "    Uninstalling nvidia-cuda-cupti-cu12-12.5.82:\n",
            "      Successfully uninstalled nvidia-cuda-cupti-cu12-12.5.82\n",
            "  Attempting uninstall: nvidia-cublas-cu12\n",
            "    Found existing installation: nvidia-cublas-cu12 12.5.3.2\n",
            "    Uninstalling nvidia-cublas-cu12-12.5.3.2:\n",
            "      Successfully uninstalled nvidia-cublas-cu12-12.5.3.2\n",
            "  Attempting uninstall: nvidia-cusparse-cu12\n",
            "    Found existing installation: nvidia-cusparse-cu12 12.5.1.3\n",
            "    Uninstalling nvidia-cusparse-cu12-12.5.1.3:\n",
            "      Successfully uninstalled nvidia-cusparse-cu12-12.5.1.3\n",
            "  Attempting uninstall: nvidia-cudnn-cu12\n",
            "    Found existing installation: nvidia-cudnn-cu12 9.3.0.75\n",
            "    Uninstalling nvidia-cudnn-cu12-9.3.0.75:\n",
            "      Successfully uninstalled nvidia-cudnn-cu12-9.3.0.75\n",
            "  Attempting uninstall: nvidia-cusolver-cu12\n",
            "    Found existing installation: nvidia-cusolver-cu12 11.6.3.83\n",
            "    Uninstalling nvidia-cusolver-cu12-11.6.3.83:\n",
            "      Successfully uninstalled nvidia-cusolver-cu12-11.6.3.83\n",
            "Successfully installed lightning-utilities-0.14.3 nvidia-cublas-cu12-12.4.5.8 nvidia-cuda-cupti-cu12-12.4.127 nvidia-cuda-nvrtc-cu12-12.4.127 nvidia-cuda-runtime-cu12-12.4.127 nvidia-cudnn-cu12-9.1.0.70 nvidia-cufft-cu12-11.2.1.3 nvidia-curand-cu12-10.3.5.147 nvidia-cusolver-cu12-11.6.1.9 nvidia-cusparse-cu12-12.3.1.170 nvidia-nvjitlink-cu12-12.4.127 torchmetrics-1.7.1\n"
          ]
        }
      ]
    },
    {
      "cell_type": "code",
      "source": [
        "print(\"mlxtend version:\",{mlxtend.__version__})"
      ],
      "metadata": {
        "id": "ov0i-w9i8Upd",
        "outputId": "aa0734e0-5ab8-4c83-9461-76f52e6e558e",
        "colab": {
          "base_uri": "https://localhost:8080/"
        }
      },
      "execution_count": 83,
      "outputs": [
        {
          "output_type": "stream",
          "name": "stdout",
          "text": [
            "mlxtend version: {'0.23.4'}\n"
          ]
        }
      ]
    },
    {
      "cell_type": "code",
      "source": [
        "from torchmetrics import ConfusionMatrix\n",
        "from mlxtend.plotting import plot_confusion_matrix\n",
        "\n",
        "confmat = ConfusionMatrix(num_classes=len(class_names),task=\"multiclass\")\n",
        "confmat_tensor = confmat(preds=y_pred_tensor,\n",
        "                         target=test_data.targets)\n",
        "\n",
        "fig, ax = plot_confusion_matrix(\n",
        "    conf_mat=confmat_tensor.numpy(),\n",
        "    class_names= class_names,\n",
        "    figsize=(10,7)\n",
        ")\n"
      ],
      "metadata": {
        "id": "WrlQxCcf9zwR",
        "outputId": "37c74557-b60e-49d0-9f14-3787a5a10703",
        "colab": {
          "base_uri": "https://localhost:8080/",
          "height": 667
        }
      },
      "execution_count": 89,
      "outputs": [
        {
          "output_type": "display_data",
          "data": {
            "text/plain": [
              "<Figure size 1000x700 with 1 Axes>"
            ],
            "image/png": "[encoded data removed]"
          },
          "metadata": {}
        }
      ]
    },
    {
      "cell_type": "code",
      "source": [
        "confmat_tensor"
      ],
      "metadata": {
        "id": "efj7qhKi-Jtz",
        "outputId": "0d5993fe-e157-42c6-ac30-d056772b84c6",
        "colab": {
          "base_uri": "https://localhost:8080/"
        }
      },
      "execution_count": 87,
      "outputs": [
        {
          "output_type": "execute_result",
          "data": {
            "text/plain": [
              "tensor([[725,   4,  27,  84,  11,   0, 139,   0,  10,   0],\n",
              "        [  5, 848,   3, 127,  10,   0,   6,   0,   1,   0],\n",
              "        [ 13,   4, 767,  21,  95,   0,  93,   0,   7,   0],\n",
              "        [ 21,  10,  11, 911,  17,   0,  30,   0,   0,   0],\n",
              "        [  7,   6,  98,  73, 679,   0, 135,   0,   2,   0],\n",
              "        [  1,   1,   1,  17,   0, 733,   8, 103, 106,  30],\n",
              "        [102,   4, 103,  75,  96,   0, 606,   0,  14,   0],\n",
              "        [  0,   0,   0,   0,   0,  22,   0, 909,  16,  53],\n",
              "        [  9,   2,  12,  21,  15,   6,  17,   5, 913,   0],\n",
              "        [  0,   0,   0,   3,   0,  22,   5,  95,  21, 854]])"
            ]
          },
          "metadata": {},
          "execution_count": 87
        }
      ]
    },
    {
      "cell_type": "code",
      "source": [
        "from pathlib import Path\n",
        "\n",
        "MODEL_PATH = Path(\"models\")\n",
        "\n",
        "MODEL_PATH.mkdir(parents=True,exist_ok=True)\n",
        "\n",
        "MODEL_NAME = \"03_pytorch_computer_vision_model_2.pth\"\n",
        "\n",
        "MODEL_SAVE_PATH = MODEL_PATH / MODEL_NAME\n",
        "print(MODEL_SAVE_PATH)"
      ],
      "metadata": {
        "id": "fe-KAyEa-qT8",
        "outputId": "a8892c4f-5773-48e6-ea06-2b6adceff2b3",
        "colab": {
          "base_uri": "https://localhost:8080/"
        }
      },
      "execution_count": 93,
      "outputs": [
        {
          "output_type": "stream",
          "name": "stdout",
          "text": [
            "models/03_pytorch_computer_vision_model_2.pth\n"
          ]
        }
      ]
    },
    {
      "cell_type": "code",
      "source": [
        "torch.save(obj=model_2.state_dict(), f=MODEL_SAVE_PATH)"
      ],
      "metadata": {
        "id": "9Keldu1BAPT6"
      },
      "execution_count": 94,
      "outputs": []
    },
    {
      "cell_type": "code",
      "source": [
        "torch.manual_seed(42)\n",
        "loaded_model_2 = FashionMNISTModelV2(input_shape=1, hidden_units=10,output_shape=len(class_names))\n",
        "\n",
        "loaded_model_2.load_state_dict(torch.load(f=MODEL_SAVE_PATH))"
      ],
      "metadata": {
        "id": "-SrhxbWfAeb4",
        "outputId": "e17524d9-d3b4-471d-f655-fa58d19fb806",
        "colab": {
          "base_uri": "https://localhost:8080/"
        }
      },
      "execution_count": 95,
      "outputs": [
        {
          "output_type": "execute_result",
          "data": {
            "text/plain": [
              "<All keys matched successfully>"
            ]
          },
          "metadata": {},
          "execution_count": 95
        }
      ]
    },
    {
      "cell_type": "code",
      "source": [
        "loaded_model_2.to(device)"
      ],
      "metadata": {
        "id": "fPH7HGX0A6L8",
        "outputId": "a3265a09-e8f5-40e4-8587-29daab00de9f",
        "colab": {
          "base_uri": "https://localhost:8080/"
        }
      },
      "execution_count": 97,
      "outputs": [
        {
          "output_type": "execute_result",
          "data": {
            "text/plain": [
              "FashionMNISTModelV2(\n",
              "  (conv_block_1): Sequential(\n",
              "    (0): Conv2d(1, 10, kernel_size=(3, 3), stride=(1, 1), padding=(1, 1))\n",
              "    (1): ReLU()\n",
              "    (2): Conv2d(10, 10, kernel_size=(3, 3), stride=(1, 1), padding=(1, 1))\n",
              "    (3): ReLU()\n",
              "    (4): MaxPool2d(kernel_size=2, stride=2, padding=0, dilation=1, ceil_mode=False)\n",
              "  )\n",
              "  (conv_block_2): Sequential(\n",
              "    (0): Conv2d(10, 10, kernel_size=(3, 3), stride=(1, 1), padding=(1, 1))\n",
              "    (1): ReLU()\n",
              "    (2): MaxPool2d(kernel_size=2, stride=2, padding=0, dilation=1, ceil_mode=False)\n",
              "  )\n",
              "  (classifier): Sequential(\n",
              "    (0): Flatten(start_dim=1, end_dim=-1)\n",
              "    (1): Linear(in_features=490, out_features=10, bias=True)\n",
              "  )\n",
              ")"
            ]
          },
          "metadata": {},
          "execution_count": 97
        }
      ]
    },
    {
      "cell_type": "code",
      "source": [
        "eval_model(loaded_model_2,test_data_loader,loss_fn,accuracy_fn,device)"
      ],
      "metadata": {
        "id": "KsgwYw0ZA9kk",
        "outputId": "695e0397-cdb7-4c31-8c0f-8202d867a2de",
        "colab": {
          "base_uri": "https://localhost:8080/",
          "height": 103,
          "referenced_widgets": [
            "901c1cc54fef44af83b4a18e94633f33",
            "2614cf6097a341608cde434de05ecbdd",
            "fe7b6c835ca4457b8e07c2c2394929ad",
            "028631af5ce345feacc12991e4625fa6",
            "e494d8f91dec48e3be7accbf5941b62d",
            "11fad830ae9444d89de9ce236db61717",
            "98d5275b923e49ab8dd522f338cfd10d",
            "c48237d607d8488f9905972551f506ec",
            "c1b554984ea948eea2fd7571d97313f0",
            "d020ec8c85054cff87a4a74de6b3232f",
            "4b6edbfccf0148d59306fef040f1c19e"
          ]
        }
      },
      "execution_count": 98,
      "outputs": [
        {
          "output_type": "display_data",
          "data": {
            "text/plain": [
              "  0%|          | 0/313 [00:00<?, ?it/s]"
            ],
            "application/vnd.jupyter.widget-view+json": {
              "version_major": 2,
              "version_minor": 0,
              "model_id": "901c1cc54fef44af83b4a18e94633f33"
            }
          },
          "metadata": {}
        },
        {
          "output_type": "execute_result",
          "data": {
            "text/plain": [
              "{'model_name': 'FashionMNISTModelV2',\n",
              " 'model_loss': 0.33884355425834656,\n",
              " 'model_acc': 87.91932907348243}"
            ]
          },
          "metadata": {},
          "execution_count": 98
        }
      ]
    },
    {
      "cell_type": "code",
      "source": [
        "model_2_results"
      ],
      "metadata": {
        "id": "pFFv22qmBHXD",
        "outputId": "e0d23d56-4e29-4382-e19b-9c2f14d213ab",
        "colab": {
          "base_uri": "https://localhost:8080/"
        }
      },
      "execution_count": 99,
      "outputs": [
        {
          "output_type": "execute_result",
          "data": {
            "text/plain": [
              "{'model_name': 'FashionMNISTModelV2',\n",
              " 'model_loss': 0.33884355425834656,\n",
              " 'model_acc': 87.91932907348243}"
            ]
          },
          "metadata": {},
          "execution_count": 99
        }
      ]
    },
    {
      "cell_type": "code",
      "source": [],
      "metadata": {
        "id": "1yy9ulyeBKNQ"
      },
      "execution_count": null,
      "outputs": []
    }
  ]
}